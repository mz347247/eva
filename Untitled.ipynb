{
 "cells": [
  {
   "cell_type": "code",
   "execution_count": 1,
   "id": "4cc01fdb-4e36-4525-9347-712dc1034857",
   "metadata": {},
   "outputs": [],
   "source": [
    "import os\n",
    "import re\n",
    "from collections import defaultdict\n",
    "import pandas as pd\n",
    "import numpy as np\n",
    "from utils import *\n",
    "from AShareReader import AShareReader\n",
    "from CephClient import CephClient\n",
    "from multiprocessing import Pool\n",
    "from functools import partial\n",
    "from tqdm import tqdm\n",
    "from glob import glob"
   ]
  },
  {
   "cell_type": "code",
   "execution_count": 210,
   "id": "4ffce6e5-dd6f-4d25-99b9-bf765ea9287b",
   "metadata": {},
   "outputs": [],
   "source": [
    "cutoff_path = '/home/marlowe/Marlowe/HPC/sta_eval/IC/sta_90_1_1_1_mbd/sta_top240/'"
   ]
  },
  {
   "cell_type": "code",
   "execution_count": 270,
   "id": "689409bb-65af-429a-80b0-96eeadca8af2",
   "metadata": {},
   "outputs": [],
   "source": [
    "a = AShareReader(dll_path = '{0}/ceph_client/ceph-client.so'.format(os.environ['HOME']), \n",
    "                     config_path='{0}/dfs/ceph.conf'.format(os.environ['HOME']),\n",
    "                     KEYRING_LOC = '{0}/dfs/ceph.key.keyring'.format(os.environ['HOME']))\n",
    "\n",
    "daily_stat = pd.concat([pd.read_pickle(path) for path in glob(f\"{cutoff_path}/daily/*.pkl\")], \n",
    "                          ignore_index=True)\n",
    "daily_stat['datetime'] = pd.to_datetime(daily_stat['date'].astype('str'))\n",
    "daily_stat['month'] = daily_stat['date'].map(lambda x:str(x)[:6])\n",
    "daily_stat['year'] = daily_stat['date'].map(lambda x:str(x)[:4])\n",
    "\n",
    "stock_list = daily_stat.skey.unique()\n",
    "df_daily = a.Read_Stock_Daily('com_md_eq_cn', 'mdbar1d_jq', start_date=daily_stat.date.min(),\n",
    "                                   end_date=daily_stat.date.max(), stock_list=stock_list)\n",
    "df_daily['price_group'] = np.where(df_daily['close'] < 5, '0-5', np.where(df_daily['close'] < 10, '5-10', \n",
    "                               np.where(df_daily['close'] < 20, '10-20', np.where(df_daily['close'] < 50, '20-50', \n",
    "                               np.where(df_daily['close'] < 100, '50-100', '100-')))))\n",
    "\n",
    "daily_stat = daily_stat.merge(df_daily[['skey','date','price_group']], on = ['skey','date'], \n",
    "                                        how = 'left', validate = 'many_to_one')\n",
    "\n",
    "df_intraday = pd.concat([pd.read_pickle(path) for path in glob(f\"{cutoff_path}/intraday/*.pkl\")], \n",
    "                               ignore_index=True)\n",
    "\n",
    "intraday_stat = df_intraday.groupby(['exchange','side','sta_cat','mins_since_open'])[['countOppo']].mean()\n",
    "intraday_stat['vwActualRetAvg'] = (df_intraday.groupby(['exchange','side','sta_cat','mins_since_open'])\n",
    "                                                          .apply(lambda x: weighted_average(x['vwActualRetAvg'], weights=x['availNtlSum'])))\n",
    "intraday_stat['vwActualRetAvg'] = round(intraday_stat['vwActualRetAvg'] * 10000, 2)\n",
    "intraday_stat = intraday_stat.reset_index()"
   ]
  },
  {
   "cell_type": "code",
   "execution_count": 212,
   "id": "cfcab514-2a89-432f-9d4f-f47ad5e445ee",
   "metadata": {},
   "outputs": [],
   "source": [
    "import plotly.io as io\n",
    "import plotly.express as px\n",
    "import plotly.graph_objects as go"
   ]
  },
  {
   "cell_type": "markdown",
   "id": "5431381d-6ea4-4aa6-a838-a774e43abd97",
   "metadata": {},
   "source": [
    "### Hist Plot "
   ]
  },
  {
   "cell_type": "code",
   "execution_count": 393,
   "id": "c0686100-f7fa-4f9b-948a-c548edb19cb9",
   "metadata": {},
   "outputs": [],
   "source": [
    "df_hist = pd.DataFrame(daily_stat.hist_x.tolist()).sort_index(axis=1)"
   ]
  },
  {
   "cell_type": "code",
   "execution_count": 332,
   "id": "65eeb636-1132-42ee-9ad8-9fbc86477fd2",
   "metadata": {},
   "outputs": [
    {
     "data": {
      "text/html": [
       "<div>\n",
       "<style scoped>\n",
       "    .dataframe tbody tr th:only-of-type {\n",
       "        vertical-align: middle;\n",
       "    }\n",
       "\n",
       "    .dataframe tbody tr th {\n",
       "        vertical-align: top;\n",
       "    }\n",
       "\n",
       "    .dataframe thead th {\n",
       "        text-align: right;\n",
       "    }\n",
       "</style>\n",
       "<table border=\"1\" class=\"dataframe\">\n",
       "  <thead>\n",
       "    <tr style=\"text-align: right;\">\n",
       "      <th></th>\n",
       "      <th>-29.5</th>\n",
       "      <th>-28.5</th>\n",
       "      <th>-27.5</th>\n",
       "      <th>-26.5</th>\n",
       "      <th>-25.5</th>\n",
       "      <th>-24.5</th>\n",
       "      <th>-23.5</th>\n",
       "      <th>-22.5</th>\n",
       "      <th>-21.5</th>\n",
       "      <th>-20.5</th>\n",
       "      <th>...</th>\n",
       "      <th>20.5</th>\n",
       "      <th>21.5</th>\n",
       "      <th>22.5</th>\n",
       "      <th>23.5</th>\n",
       "      <th>24.5</th>\n",
       "      <th>25.5</th>\n",
       "      <th>26.5</th>\n",
       "      <th>27.5</th>\n",
       "      <th>28.5</th>\n",
       "      <th>29.5</th>\n",
       "    </tr>\n",
       "  </thead>\n",
       "  <tbody>\n",
       "    <tr>\n",
       "      <th>0</th>\n",
       "      <td>19</td>\n",
       "      <td>24</td>\n",
       "      <td>23</td>\n",
       "      <td>58</td>\n",
       "      <td>35</td>\n",
       "      <td>46</td>\n",
       "      <td>49</td>\n",
       "      <td>75</td>\n",
       "      <td>108</td>\n",
       "      <td>44</td>\n",
       "      <td>...</td>\n",
       "      <td>0</td>\n",
       "      <td>0</td>\n",
       "      <td>0</td>\n",
       "      <td>0</td>\n",
       "      <td>0</td>\n",
       "      <td>0</td>\n",
       "      <td>1</td>\n",
       "      <td>4</td>\n",
       "      <td>5</td>\n",
       "      <td>0</td>\n",
       "    </tr>\n",
       "    <tr>\n",
       "      <th>1</th>\n",
       "      <td>3</td>\n",
       "      <td>3</td>\n",
       "      <td>3</td>\n",
       "      <td>4</td>\n",
       "      <td>14</td>\n",
       "      <td>13</td>\n",
       "      <td>21</td>\n",
       "      <td>35</td>\n",
       "      <td>47</td>\n",
       "      <td>51</td>\n",
       "      <td>...</td>\n",
       "      <td>0</td>\n",
       "      <td>0</td>\n",
       "      <td>0</td>\n",
       "      <td>0</td>\n",
       "      <td>0</td>\n",
       "      <td>0</td>\n",
       "      <td>0</td>\n",
       "      <td>2</td>\n",
       "      <td>0</td>\n",
       "      <td>1</td>\n",
       "    </tr>\n",
       "    <tr>\n",
       "      <th>2</th>\n",
       "      <td>34</td>\n",
       "      <td>8</td>\n",
       "      <td>169</td>\n",
       "      <td>301</td>\n",
       "      <td>272</td>\n",
       "      <td>247</td>\n",
       "      <td>167</td>\n",
       "      <td>295</td>\n",
       "      <td>144</td>\n",
       "      <td>152</td>\n",
       "      <td>...</td>\n",
       "      <td>0</td>\n",
       "      <td>3</td>\n",
       "      <td>2</td>\n",
       "      <td>2</td>\n",
       "      <td>5</td>\n",
       "      <td>0</td>\n",
       "      <td>4</td>\n",
       "      <td>2</td>\n",
       "      <td>4</td>\n",
       "      <td>1</td>\n",
       "    </tr>\n",
       "    <tr>\n",
       "      <th>3</th>\n",
       "      <td>59</td>\n",
       "      <td>73</td>\n",
       "      <td>111</td>\n",
       "      <td>243</td>\n",
       "      <td>244</td>\n",
       "      <td>276</td>\n",
       "      <td>306</td>\n",
       "      <td>259</td>\n",
       "      <td>190</td>\n",
       "      <td>166</td>\n",
       "      <td>...</td>\n",
       "      <td>0</td>\n",
       "      <td>0</td>\n",
       "      <td>0</td>\n",
       "      <td>0</td>\n",
       "      <td>0</td>\n",
       "      <td>0</td>\n",
       "      <td>0</td>\n",
       "      <td>0</td>\n",
       "      <td>0</td>\n",
       "      <td>0</td>\n",
       "    </tr>\n",
       "    <tr>\n",
       "      <th>4</th>\n",
       "      <td>38</td>\n",
       "      <td>25</td>\n",
       "      <td>44</td>\n",
       "      <td>34</td>\n",
       "      <td>43</td>\n",
       "      <td>66</td>\n",
       "      <td>81</td>\n",
       "      <td>93</td>\n",
       "      <td>94</td>\n",
       "      <td>72</td>\n",
       "      <td>...</td>\n",
       "      <td>16</td>\n",
       "      <td>23</td>\n",
       "      <td>19</td>\n",
       "      <td>17</td>\n",
       "      <td>8</td>\n",
       "      <td>12</td>\n",
       "      <td>8</td>\n",
       "      <td>9</td>\n",
       "      <td>19</td>\n",
       "      <td>9</td>\n",
       "    </tr>\n",
       "  </tbody>\n",
       "</table>\n",
       "<p>5 rows × 60 columns</p>\n",
       "</div>"
      ],
      "text/plain": [
       "   -29.5  -28.5  -27.5  -26.5  -25.5  -24.5  -23.5  -22.5  -21.5  -20.5  ...  \\\n",
       "0     19     24     23     58     35     46     49     75    108     44  ...   \n",
       "1      3      3      3      4     14     13     21     35     47     51  ...   \n",
       "2     34      8    169    301    272    247    167    295    144    152  ...   \n",
       "3     59     73    111    243    244    276    306    259    190    166  ...   \n",
       "4     38     25     44     34     43     66     81     93     94     72  ...   \n",
       "\n",
       "    20.5   21.5   22.5   23.5   24.5   25.5   26.5   27.5   28.5   29.5  \n",
       "0      0      0      0      0      0      0      1      4      5      0  \n",
       "1      0      0      0      0      0      0      0      2      0      1  \n",
       "2      0      3      2      2      5      0      4      2      4      1  \n",
       "3      0      0      0      0      0      0      0      0      0      0  \n",
       "4     16     23     19     17      8     12      8      9     19      9  \n",
       "\n",
       "[5 rows x 60 columns]"
      ]
     },
     "execution_count": 332,
     "metadata": {},
     "output_type": "execute_result"
    }
   ],
   "source": [
    "df_hist.head()"
   ]
  },
  {
   "cell_type": "code",
   "execution_count": 394,
   "id": "ecd727f5-f850-49be-bddf-b8bc7bd4012d",
   "metadata": {},
   "outputs": [],
   "source": [
    "df_plot = pd.concat([daily_stat[['sta_cat', 'side']], df_hist],axis=1)\n",
    "df_plot = df_plot[df_plot.side=='sell'] \n",
    "df_plot = df_plot.groupby('sta_cat').sum().unstack().reset_index()"
   ]
  },
  {
   "cell_type": "code",
   "execution_count": 395,
   "id": "d71b4f10-80eb-412c-8471-56d8242f34a7",
   "metadata": {},
   "outputs": [],
   "source": [
    "df_plot.columns = ['index', 'sta_cat', 'value']"
   ]
  },
  {
   "cell_type": "code",
   "execution_count": 396,
   "id": "97fe2742-1291-4828-abda-fc7e15fe86c0",
   "metadata": {},
   "outputs": [
    {
     "data": {
      "text/html": [
       "<div>\n",
       "<style scoped>\n",
       "    .dataframe tbody tr th:only-of-type {\n",
       "        vertical-align: middle;\n",
       "    }\n",
       "\n",
       "    .dataframe tbody tr th {\n",
       "        vertical-align: top;\n",
       "    }\n",
       "\n",
       "    .dataframe thead th {\n",
       "        text-align: right;\n",
       "    }\n",
       "</style>\n",
       "<table border=\"1\" class=\"dataframe\">\n",
       "  <thead>\n",
       "    <tr style=\"text-align: right;\">\n",
       "      <th></th>\n",
       "      <th>index</th>\n",
       "      <th>sta_cat</th>\n",
       "      <th>value</th>\n",
       "    </tr>\n",
       "  </thead>\n",
       "  <tbody>\n",
       "    <tr>\n",
       "      <th>0</th>\n",
       "      <td>-29.5</td>\n",
       "      <td>actualRet90s_l2</td>\n",
       "      <td>1765231</td>\n",
       "    </tr>\n",
       "    <tr>\n",
       "      <th>1</th>\n",
       "      <td>-29.5</td>\n",
       "      <td>actualRet90s_mbd</td>\n",
       "      <td>17731761</td>\n",
       "    </tr>\n",
       "    <tr>\n",
       "      <th>2</th>\n",
       "      <td>-29.5</td>\n",
       "      <td>sta_90_1_1_1_l2</td>\n",
       "      <td>737189</td>\n",
       "    </tr>\n",
       "    <tr>\n",
       "      <th>3</th>\n",
       "      <td>-29.5</td>\n",
       "      <td>sta_90_1_1_1_mbd</td>\n",
       "      <td>10326083</td>\n",
       "    </tr>\n",
       "    <tr>\n",
       "      <th>4</th>\n",
       "      <td>-28.5</td>\n",
       "      <td>actualRet90s_l2</td>\n",
       "      <td>1912177</td>\n",
       "    </tr>\n",
       "    <tr>\n",
       "      <th>...</th>\n",
       "      <td>...</td>\n",
       "      <td>...</td>\n",
       "      <td>...</td>\n",
       "    </tr>\n",
       "    <tr>\n",
       "      <th>235</th>\n",
       "      <td>28.5</td>\n",
       "      <td>sta_90_1_1_1_mbd</td>\n",
       "      <td>1182526</td>\n",
       "    </tr>\n",
       "    <tr>\n",
       "      <th>236</th>\n",
       "      <td>29.5</td>\n",
       "      <td>actualRet90s_l2</td>\n",
       "      <td>611181</td>\n",
       "    </tr>\n",
       "    <tr>\n",
       "      <th>237</th>\n",
       "      <td>29.5</td>\n",
       "      <td>actualRet90s_mbd</td>\n",
       "      <td>9590400</td>\n",
       "    </tr>\n",
       "    <tr>\n",
       "      <th>238</th>\n",
       "      <td>29.5</td>\n",
       "      <td>sta_90_1_1_1_l2</td>\n",
       "      <td>27123</td>\n",
       "    </tr>\n",
       "    <tr>\n",
       "      <th>239</th>\n",
       "      <td>29.5</td>\n",
       "      <td>sta_90_1_1_1_mbd</td>\n",
       "      <td>1071319</td>\n",
       "    </tr>\n",
       "  </tbody>\n",
       "</table>\n",
       "<p>240 rows × 3 columns</p>\n",
       "</div>"
      ],
      "text/plain": [
       "     index           sta_cat     value\n",
       "0    -29.5   actualRet90s_l2   1765231\n",
       "1    -29.5  actualRet90s_mbd  17731761\n",
       "2    -29.5   sta_90_1_1_1_l2    737189\n",
       "3    -29.5  sta_90_1_1_1_mbd  10326083\n",
       "4    -28.5   actualRet90s_l2   1912177\n",
       "..     ...               ...       ...\n",
       "235   28.5  sta_90_1_1_1_mbd   1182526\n",
       "236   29.5   actualRet90s_l2    611181\n",
       "237   29.5  actualRet90s_mbd   9590400\n",
       "238   29.5   sta_90_1_1_1_l2     27123\n",
       "239   29.5  sta_90_1_1_1_mbd   1071319\n",
       "\n",
       "[240 rows x 3 columns]"
      ]
     },
     "execution_count": 396,
     "metadata": {},
     "output_type": "execute_result"
    }
   ],
   "source": [
    "df_plot"
   ]
  },
  {
   "cell_type": "code",
   "execution_count": 397,
   "id": "13db3c47-fcf8-4f97-b744-8e4cc14a51f4",
   "metadata": {},
   "outputs": [],
   "source": [
    "df_plot['value'] = df_plot['value'] / df_plot.groupby('sta_cat')['value'].transform('sum')"
   ]
  },
  {
   "cell_type": "code",
   "execution_count": 398,
   "id": "56201714-8508-4f27-ba43-6730d1a360d1",
   "metadata": {},
   "outputs": [],
   "source": [
    "df_plot['sta_cat_suffix'] = df_plot['sta_cat'].str.split('_').str[-1]"
   ]
  },
  {
   "cell_type": "code",
   "execution_count": 399,
   "id": "94d03709-d696-4a83-8757-efc4343a78ba",
   "metadata": {},
   "outputs": [],
   "source": [
    "df_plot['sta_cat_prefix'] = df_plot['sta_cat'].str.split('_').str[:-1].str.join(\"_\")\n",
    "df_plot = df_plot.sort_values(['sta_cat'], ascending=False).sort_values(['index'])"
   ]
  },
  {
   "cell_type": "code",
   "execution_count": 405,
   "id": "ab712ea0-445a-4f3c-92c5-04ab20511a4a",
   "metadata": {},
   "outputs": [
    {
     "data": {
      "application/vnd.plotly.v1+json": {
       "config": {
        "plotlyServerURL": "https://plot.ly"
       },
       "data": [
        {
         "customdata": [
          [
           "actualRet90s",
           "l2"
          ],
          [
           "actualRet90s",
           "l2"
          ],
          [
           "actualRet90s",
           "l2"
          ],
          [
           "actualRet90s",
           "l2"
          ],
          [
           "actualRet90s",
           "l2"
          ],
          [
           "actualRet90s",
           "l2"
          ],
          [
           "actualRet90s",
           "l2"
          ],
          [
           "actualRet90s",
           "l2"
          ],
          [
           "actualRet90s",
           "l2"
          ],
          [
           "actualRet90s",
           "l2"
          ],
          [
           "actualRet90s",
           "l2"
          ],
          [
           "actualRet90s",
           "l2"
          ],
          [
           "actualRet90s",
           "l2"
          ],
          [
           "actualRet90s",
           "l2"
          ],
          [
           "actualRet90s",
           "l2"
          ],
          [
           "actualRet90s",
           "l2"
          ],
          [
           "actualRet90s",
           "l2"
          ],
          [
           "actualRet90s",
           "l2"
          ],
          [
           "actualRet90s",
           "l2"
          ],
          [
           "actualRet90s",
           "l2"
          ],
          [
           "actualRet90s",
           "l2"
          ],
          [
           "actualRet90s",
           "l2"
          ],
          [
           "actualRet90s",
           "l2"
          ],
          [
           "actualRet90s",
           "l2"
          ],
          [
           "actualRet90s",
           "l2"
          ],
          [
           "actualRet90s",
           "l2"
          ],
          [
           "actualRet90s",
           "l2"
          ],
          [
           "actualRet90s",
           "l2"
          ],
          [
           "actualRet90s",
           "l2"
          ],
          [
           "actualRet90s",
           "l2"
          ],
          [
           "actualRet90s",
           "l2"
          ],
          [
           "actualRet90s",
           "l2"
          ],
          [
           "actualRet90s",
           "l2"
          ],
          [
           "actualRet90s",
           "l2"
          ],
          [
           "actualRet90s",
           "l2"
          ],
          [
           "actualRet90s",
           "l2"
          ],
          [
           "actualRet90s",
           "l2"
          ],
          [
           "actualRet90s",
           "l2"
          ],
          [
           "actualRet90s",
           "l2"
          ],
          [
           "actualRet90s",
           "l2"
          ],
          [
           "actualRet90s",
           "l2"
          ],
          [
           "actualRet90s",
           "l2"
          ],
          [
           "actualRet90s",
           "l2"
          ],
          [
           "actualRet90s",
           "l2"
          ],
          [
           "actualRet90s",
           "l2"
          ],
          [
           "actualRet90s",
           "l2"
          ],
          [
           "actualRet90s",
           "l2"
          ],
          [
           "actualRet90s",
           "l2"
          ],
          [
           "actualRet90s",
           "l2"
          ],
          [
           "actualRet90s",
           "l2"
          ],
          [
           "actualRet90s",
           "l2"
          ],
          [
           "actualRet90s",
           "l2"
          ],
          [
           "actualRet90s",
           "l2"
          ],
          [
           "actualRet90s",
           "l2"
          ],
          [
           "actualRet90s",
           "l2"
          ],
          [
           "actualRet90s",
           "l2"
          ],
          [
           "actualRet90s",
           "l2"
          ],
          [
           "actualRet90s",
           "l2"
          ],
          [
           "actualRet90s",
           "l2"
          ],
          [
           "actualRet90s",
           "l2"
          ]
         ],
         "hovertemplate": "return (bps)=%{x}<br>probability density=%{y:.2f}<extra></extra>",
         "legendgroup": "l2, actualRet90s",
         "line": {
          "color": "#636efa",
          "dash": "solid"
         },
         "mode": "lines",
         "name": "l2, actualRet90s",
         "orientation": "v",
         "showlegend": true,
         "type": "scatter",
         "x": [
          -29.5,
          -28.5,
          -27.5,
          -26.5,
          -25.5,
          -24.5,
          -23.5,
          -22.5,
          -21.5,
          -20.5,
          -19.5,
          -18.5,
          -17.5,
          -16.5,
          -15.5,
          -14.5,
          -13.5,
          -12.5,
          -11.5,
          -10.5,
          -9.5,
          -8.5,
          -7.5,
          -6.5,
          -5.5,
          -4.5,
          -3.5,
          -2.5,
          -1.5,
          -0.5,
          0.5,
          1.5,
          2.5,
          3.5,
          4.5,
          5.5,
          6.5,
          7.5,
          8.5,
          9.5,
          10.5,
          11.5,
          12.5,
          13.5,
          14.5,
          15.5,
          16.5,
          17.5,
          18.5,
          19.5,
          20.5,
          21.5,
          22.5,
          23.5,
          24.5,
          25.5,
          26.5,
          27.5,
          28.5,
          29.5
         ],
         "xaxis": "x",
         "y": [
          0.007885737650225644,
          0.008542182956675656,
          0.00928484182436026,
          0.010183970778360368,
          0.011141040034407874,
          0.012049572560945358,
          0.013020887894342834,
          0.013977474686811224,
          0.015223678111664713,
          0.01656270663568881,
          0.017970477285226043,
          0.019327727743872453,
          0.020537255002202492,
          0.021846536072769873,
          0.02320824485226773,
          0.024753883936792374,
          0.026242628057024372,
          0.02769611213068273,
          0.02912687574356907,
          0.03024080820440395,
          0.031027813516068856,
          0.031801689564224335,
          0.032341762868489714,
          0.03253277377326554,
          0.03233509325623399,
          0.03192337760028995,
          0.030834872756976564,
          0.029316497331927267,
          0.02900872130649493,
          0.03502289338822709,
          0.039731688780578395,
          0.02673087226457781,
          0.02273577452339813,
          0.020628547832783877,
          0.0189804254429956,
          0.0172364089496029,
          0.015926082541280768,
          0.014698918558780865,
          0.013591914811012717,
          0.01248281592047971,
          0.011568569774334004,
          0.01072067577208267,
          0.009925799156469612,
          0.009163725596981,
          0.008428352822792102,
          0.0077785771285978165,
          0.007188050642272045,
          0.006688057553116091,
          0.006215908866632566,
          0.005768982303923875,
          0.005338933031973478,
          0.004920427147878938,
          0.0045593567659758675,
          0.004239639766960442,
          0.003932113907828389,
          0.0036579048391874288,
          0.0033915224019409975,
          0.003144527852966401,
          0.002926985918594617,
          0.0027303015995088233
         ],
         "yaxis": "y"
        },
        {
         "customdata": [
          [
           "sta_90_1_1_1",
           "l2"
          ],
          [
           "sta_90_1_1_1",
           "l2"
          ],
          [
           "sta_90_1_1_1",
           "l2"
          ],
          [
           "sta_90_1_1_1",
           "l2"
          ],
          [
           "sta_90_1_1_1",
           "l2"
          ],
          [
           "sta_90_1_1_1",
           "l2"
          ],
          [
           "sta_90_1_1_1",
           "l2"
          ],
          [
           "sta_90_1_1_1",
           "l2"
          ],
          [
           "sta_90_1_1_1",
           "l2"
          ],
          [
           "sta_90_1_1_1",
           "l2"
          ],
          [
           "sta_90_1_1_1",
           "l2"
          ],
          [
           "sta_90_1_1_1",
           "l2"
          ],
          [
           "sta_90_1_1_1",
           "l2"
          ],
          [
           "sta_90_1_1_1",
           "l2"
          ],
          [
           "sta_90_1_1_1",
           "l2"
          ],
          [
           "sta_90_1_1_1",
           "l2"
          ],
          [
           "sta_90_1_1_1",
           "l2"
          ],
          [
           "sta_90_1_1_1",
           "l2"
          ],
          [
           "sta_90_1_1_1",
           "l2"
          ],
          [
           "sta_90_1_1_1",
           "l2"
          ],
          [
           "sta_90_1_1_1",
           "l2"
          ],
          [
           "sta_90_1_1_1",
           "l2"
          ],
          [
           "sta_90_1_1_1",
           "l2"
          ],
          [
           "sta_90_1_1_1",
           "l2"
          ],
          [
           "sta_90_1_1_1",
           "l2"
          ],
          [
           "sta_90_1_1_1",
           "l2"
          ],
          [
           "sta_90_1_1_1",
           "l2"
          ],
          [
           "sta_90_1_1_1",
           "l2"
          ],
          [
           "sta_90_1_1_1",
           "l2"
          ],
          [
           "sta_90_1_1_1",
           "l2"
          ],
          [
           "sta_90_1_1_1",
           "l2"
          ],
          [
           "sta_90_1_1_1",
           "l2"
          ],
          [
           "sta_90_1_1_1",
           "l2"
          ],
          [
           "sta_90_1_1_1",
           "l2"
          ],
          [
           "sta_90_1_1_1",
           "l2"
          ],
          [
           "sta_90_1_1_1",
           "l2"
          ],
          [
           "sta_90_1_1_1",
           "l2"
          ],
          [
           "sta_90_1_1_1",
           "l2"
          ],
          [
           "sta_90_1_1_1",
           "l2"
          ],
          [
           "sta_90_1_1_1",
           "l2"
          ],
          [
           "sta_90_1_1_1",
           "l2"
          ],
          [
           "sta_90_1_1_1",
           "l2"
          ],
          [
           "sta_90_1_1_1",
           "l2"
          ],
          [
           "sta_90_1_1_1",
           "l2"
          ],
          [
           "sta_90_1_1_1",
           "l2"
          ],
          [
           "sta_90_1_1_1",
           "l2"
          ],
          [
           "sta_90_1_1_1",
           "l2"
          ],
          [
           "sta_90_1_1_1",
           "l2"
          ],
          [
           "sta_90_1_1_1",
           "l2"
          ],
          [
           "sta_90_1_1_1",
           "l2"
          ],
          [
           "sta_90_1_1_1",
           "l2"
          ],
          [
           "sta_90_1_1_1",
           "l2"
          ],
          [
           "sta_90_1_1_1",
           "l2"
          ],
          [
           "sta_90_1_1_1",
           "l2"
          ],
          [
           "sta_90_1_1_1",
           "l2"
          ],
          [
           "sta_90_1_1_1",
           "l2"
          ],
          [
           "sta_90_1_1_1",
           "l2"
          ],
          [
           "sta_90_1_1_1",
           "l2"
          ],
          [
           "sta_90_1_1_1",
           "l2"
          ],
          [
           "sta_90_1_1_1",
           "l2"
          ]
         ],
         "hovertemplate": "return (bps)=%{x}<br>probability density=%{y:.2f}<extra></extra>",
         "legendgroup": "l2, sta_90_1_1_1",
         "line": {
          "color": "#636efa",
          "dash": "dot"
         },
         "mode": "lines",
         "name": "l2, sta_90_1_1_1",
         "orientation": "v",
         "showlegend": true,
         "type": "scatter",
         "x": [
          -29.5,
          -28.5,
          -27.5,
          -26.5,
          -25.5,
          -24.5,
          -23.5,
          -22.5,
          -21.5,
          -20.5,
          -19.5,
          -18.5,
          -17.5,
          -16.5,
          -15.5,
          -14.5,
          -13.5,
          -12.5,
          -11.5,
          -10.5,
          -9.5,
          -8.5,
          -7.5,
          -6.5,
          -5.5,
          -4.5,
          -3.5,
          -2.5,
          -1.5,
          -0.5,
          0.5,
          1.5,
          2.5,
          3.5,
          4.5,
          5.5,
          6.5,
          7.5,
          8.5,
          9.5,
          10.5,
          11.5,
          12.5,
          13.5,
          14.5,
          15.5,
          16.5,
          17.5,
          18.5,
          19.5,
          20.5,
          21.5,
          22.5,
          23.5,
          24.5,
          25.5,
          26.5,
          27.5,
          28.5,
          29.5
         ],
         "xaxis": "x",
         "y": [
          0.00286893257579774,
          0.00327833754255843,
          0.0037562250918540103,
          0.004302420096321062,
          0.004937824979713344,
          0.005649527017768154,
          0.006491948011597495,
          0.007458647165946763,
          0.008551488614306567,
          0.009824680113233617,
          0.011292558756213086,
          0.012963351637606441,
          0.014890145698844517,
          0.01709315063766578,
          0.019605099704152675,
          0.022511929841394114,
          0.0257809194744652,
          0.02945789748851288,
          0.033616522452590857,
          0.038098144542318975,
          0.042968884066685586,
          0.0480507221149165,
          0.05316195820988654,
          0.05787980765426988,
          0.061757088563156926,
          0.06408676117807897,
          0.0641230242174641,
          0.061311899238471114,
          0.05553338507996668,
          0.04738119463769198,
          0.038344891213936846,
          0.02973099109902722,
          0.022412636518055182,
          0.01667910284991491,
          0.012374094760334447,
          0.00921475431535909,
          0.006912537779301827,
          0.005243184834007688,
          0.004019363684687821,
          0.003120131374165617,
          0.0024414817071666014,
          0.0019346047416465288,
          0.0015495424784009683,
          0.001252269616577357,
          0.001027507266647254,
          0.0008435495923935913,
          0.0007008130077693854,
          0.0005854313173111021,
          0.0004909403754490163,
          0.00041607148172814295,
          0.0003547263121823416,
          0.00030300925590535406,
          0.00026112268229490804,
          0.0002236804519960972,
          0.00019577293370561053,
          0.00017120840219681787,
          0.0001515630037404831,
          0.00013516719080535264,
          0.00011981825033154431,
          0.00010555509951092882
         ],
         "yaxis": "y"
        },
        {
         "customdata": [
          [
           "actualRet90s",
           "mbd"
          ],
          [
           "actualRet90s",
           "mbd"
          ],
          [
           "actualRet90s",
           "mbd"
          ],
          [
           "actualRet90s",
           "mbd"
          ],
          [
           "actualRet90s",
           "mbd"
          ],
          [
           "actualRet90s",
           "mbd"
          ],
          [
           "actualRet90s",
           "mbd"
          ],
          [
           "actualRet90s",
           "mbd"
          ],
          [
           "actualRet90s",
           "mbd"
          ],
          [
           "actualRet90s",
           "mbd"
          ],
          [
           "actualRet90s",
           "mbd"
          ],
          [
           "actualRet90s",
           "mbd"
          ],
          [
           "actualRet90s",
           "mbd"
          ],
          [
           "actualRet90s",
           "mbd"
          ],
          [
           "actualRet90s",
           "mbd"
          ],
          [
           "actualRet90s",
           "mbd"
          ],
          [
           "actualRet90s",
           "mbd"
          ],
          [
           "actualRet90s",
           "mbd"
          ],
          [
           "actualRet90s",
           "mbd"
          ],
          [
           "actualRet90s",
           "mbd"
          ],
          [
           "actualRet90s",
           "mbd"
          ],
          [
           "actualRet90s",
           "mbd"
          ],
          [
           "actualRet90s",
           "mbd"
          ],
          [
           "actualRet90s",
           "mbd"
          ],
          [
           "actualRet90s",
           "mbd"
          ],
          [
           "actualRet90s",
           "mbd"
          ],
          [
           "actualRet90s",
           "mbd"
          ],
          [
           "actualRet90s",
           "mbd"
          ],
          [
           "actualRet90s",
           "mbd"
          ],
          [
           "actualRet90s",
           "mbd"
          ],
          [
           "actualRet90s",
           "mbd"
          ],
          [
           "actualRet90s",
           "mbd"
          ],
          [
           "actualRet90s",
           "mbd"
          ],
          [
           "actualRet90s",
           "mbd"
          ],
          [
           "actualRet90s",
           "mbd"
          ],
          [
           "actualRet90s",
           "mbd"
          ],
          [
           "actualRet90s",
           "mbd"
          ],
          [
           "actualRet90s",
           "mbd"
          ],
          [
           "actualRet90s",
           "mbd"
          ],
          [
           "actualRet90s",
           "mbd"
          ],
          [
           "actualRet90s",
           "mbd"
          ],
          [
           "actualRet90s",
           "mbd"
          ],
          [
           "actualRet90s",
           "mbd"
          ],
          [
           "actualRet90s",
           "mbd"
          ],
          [
           "actualRet90s",
           "mbd"
          ],
          [
           "actualRet90s",
           "mbd"
          ],
          [
           "actualRet90s",
           "mbd"
          ],
          [
           "actualRet90s",
           "mbd"
          ],
          [
           "actualRet90s",
           "mbd"
          ],
          [
           "actualRet90s",
           "mbd"
          ],
          [
           "actualRet90s",
           "mbd"
          ],
          [
           "actualRet90s",
           "mbd"
          ],
          [
           "actualRet90s",
           "mbd"
          ],
          [
           "actualRet90s",
           "mbd"
          ],
          [
           "actualRet90s",
           "mbd"
          ],
          [
           "actualRet90s",
           "mbd"
          ],
          [
           "actualRet90s",
           "mbd"
          ],
          [
           "actualRet90s",
           "mbd"
          ],
          [
           "actualRet90s",
           "mbd"
          ],
          [
           "actualRet90s",
           "mbd"
          ]
         ],
         "hovertemplate": "return (bps)=%{x}<br>probability density=%{y:.2f}<extra></extra>",
         "legendgroup": "mbd, actualRet90s",
         "line": {
          "color": "#EF553B",
          "dash": "solid"
         },
         "mode": "lines",
         "name": "mbd, actualRet90s",
         "orientation": "v",
         "showlegend": true,
         "type": "scatter",
         "x": [
          -29.5,
          -28.5,
          -27.5,
          -26.5,
          -25.5,
          -24.5,
          -23.5,
          -22.5,
          -21.5,
          -20.5,
          -19.5,
          -18.5,
          -17.5,
          -16.5,
          -15.5,
          -14.5,
          -13.5,
          -12.5,
          -11.5,
          -10.5,
          -9.5,
          -8.5,
          -7.5,
          -6.5,
          -5.5,
          -4.5,
          -3.5,
          -2.5,
          -1.5,
          -0.5,
          0.5,
          1.5,
          2.5,
          3.5,
          4.5,
          5.5,
          6.5,
          7.5,
          8.5,
          9.5,
          10.5,
          11.5,
          12.5,
          13.5,
          14.5,
          15.5,
          16.5,
          17.5,
          18.5,
          19.5,
          20.5,
          21.5,
          22.5,
          23.5,
          24.5,
          25.5,
          26.5,
          27.5,
          28.5,
          29.5
         ],
         "xaxis": "x",
         "y": [
          0.009834690217741611,
          0.01040824807473222,
          0.011037647891272286,
          0.011739329107192626,
          0.012481319119642795,
          0.013186905534478408,
          0.013863068457983905,
          0.014583478100515818,
          0.015481537964971127,
          0.016385891849777318,
          0.01738875702561286,
          0.018349825868561414,
          0.019140131971496794,
          0.019987010490872897,
          0.020856506551303684,
          0.021873614249926527,
          0.022824735124156944,
          0.02378089542990905,
          0.024601828031765405,
          0.02521817890428052,
          0.02578451538790415,
          0.026311876976914048,
          0.02666338370387681,
          0.026792380061399446,
          0.02657207326464649,
          0.02640453130152595,
          0.02570815296968869,
          0.02454084015039576,
          0.024788827214477876,
          0.0317591768799543,
          0.03595207098400145,
          0.02478041836335524,
          0.021957793166979225,
          0.020855036208692636,
          0.019872595539327055,
          0.018630370122861773,
          0.017783536529080348,
          0.016956244459710494,
          0.016133588600784156,
          0.015228835931995565,
          0.014465664888246512,
          0.01375999638713914,
          0.013094698247265417,
          0.012371763897239919,
          0.011671477038665555,
          0.011051143872696146,
          0.010482460720046733,
          0.009972025542128494,
          0.009530128518670885,
          0.009048613776349747,
          0.008546615736039685,
          0.008068784892482254,
          0.007637688869404714,
          0.007259433110587687,
          0.006922192201165019,
          0.006571468066968834,
          0.006237587702955575,
          0.005900790503109987,
          0.005588427835037223,
          0.005319190410034804
         ],
         "yaxis": "y"
        },
        {
         "customdata": [
          [
           "sta_90_1_1_1",
           "mbd"
          ],
          [
           "sta_90_1_1_1",
           "mbd"
          ],
          [
           "sta_90_1_1_1",
           "mbd"
          ],
          [
           "sta_90_1_1_1",
           "mbd"
          ],
          [
           "sta_90_1_1_1",
           "mbd"
          ],
          [
           "sta_90_1_1_1",
           "mbd"
          ],
          [
           "sta_90_1_1_1",
           "mbd"
          ],
          [
           "sta_90_1_1_1",
           "mbd"
          ],
          [
           "sta_90_1_1_1",
           "mbd"
          ],
          [
           "sta_90_1_1_1",
           "mbd"
          ],
          [
           "sta_90_1_1_1",
           "mbd"
          ],
          [
           "sta_90_1_1_1",
           "mbd"
          ],
          [
           "sta_90_1_1_1",
           "mbd"
          ],
          [
           "sta_90_1_1_1",
           "mbd"
          ],
          [
           "sta_90_1_1_1",
           "mbd"
          ],
          [
           "sta_90_1_1_1",
           "mbd"
          ],
          [
           "sta_90_1_1_1",
           "mbd"
          ],
          [
           "sta_90_1_1_1",
           "mbd"
          ],
          [
           "sta_90_1_1_1",
           "mbd"
          ],
          [
           "sta_90_1_1_1",
           "mbd"
          ],
          [
           "sta_90_1_1_1",
           "mbd"
          ],
          [
           "sta_90_1_1_1",
           "mbd"
          ],
          [
           "sta_90_1_1_1",
           "mbd"
          ],
          [
           "sta_90_1_1_1",
           "mbd"
          ],
          [
           "sta_90_1_1_1",
           "mbd"
          ],
          [
           "sta_90_1_1_1",
           "mbd"
          ],
          [
           "sta_90_1_1_1",
           "mbd"
          ],
          [
           "sta_90_1_1_1",
           "mbd"
          ],
          [
           "sta_90_1_1_1",
           "mbd"
          ],
          [
           "sta_90_1_1_1",
           "mbd"
          ],
          [
           "sta_90_1_1_1",
           "mbd"
          ],
          [
           "sta_90_1_1_1",
           "mbd"
          ],
          [
           "sta_90_1_1_1",
           "mbd"
          ],
          [
           "sta_90_1_1_1",
           "mbd"
          ],
          [
           "sta_90_1_1_1",
           "mbd"
          ],
          [
           "sta_90_1_1_1",
           "mbd"
          ],
          [
           "sta_90_1_1_1",
           "mbd"
          ],
          [
           "sta_90_1_1_1",
           "mbd"
          ],
          [
           "sta_90_1_1_1",
           "mbd"
          ],
          [
           "sta_90_1_1_1",
           "mbd"
          ],
          [
           "sta_90_1_1_1",
           "mbd"
          ],
          [
           "sta_90_1_1_1",
           "mbd"
          ],
          [
           "sta_90_1_1_1",
           "mbd"
          ],
          [
           "sta_90_1_1_1",
           "mbd"
          ],
          [
           "sta_90_1_1_1",
           "mbd"
          ],
          [
           "sta_90_1_1_1",
           "mbd"
          ],
          [
           "sta_90_1_1_1",
           "mbd"
          ],
          [
           "sta_90_1_1_1",
           "mbd"
          ],
          [
           "sta_90_1_1_1",
           "mbd"
          ],
          [
           "sta_90_1_1_1",
           "mbd"
          ],
          [
           "sta_90_1_1_1",
           "mbd"
          ],
          [
           "sta_90_1_1_1",
           "mbd"
          ],
          [
           "sta_90_1_1_1",
           "mbd"
          ],
          [
           "sta_90_1_1_1",
           "mbd"
          ],
          [
           "sta_90_1_1_1",
           "mbd"
          ],
          [
           "sta_90_1_1_1",
           "mbd"
          ],
          [
           "sta_90_1_1_1",
           "mbd"
          ],
          [
           "sta_90_1_1_1",
           "mbd"
          ],
          [
           "sta_90_1_1_1",
           "mbd"
          ],
          [
           "sta_90_1_1_1",
           "mbd"
          ]
         ],
         "hovertemplate": "return (bps)=%{x}<br>probability density=%{y:.2f}<extra></extra>",
         "legendgroup": "mbd, sta_90_1_1_1",
         "line": {
          "color": "#EF553B",
          "dash": "dot"
         },
         "mode": "lines",
         "name": "mbd, sta_90_1_1_1",
         "orientation": "v",
         "showlegend": true,
         "type": "scatter",
         "x": [
          -29.5,
          -28.5,
          -27.5,
          -26.5,
          -25.5,
          -24.5,
          -23.5,
          -22.5,
          -21.5,
          -20.5,
          -19.5,
          -18.5,
          -17.5,
          -16.5,
          -15.5,
          -14.5,
          -13.5,
          -12.5,
          -11.5,
          -10.5,
          -9.5,
          -8.5,
          -7.5,
          -6.5,
          -5.5,
          -4.5,
          -3.5,
          -2.5,
          -1.5,
          -0.5,
          0.5,
          1.5,
          2.5,
          3.5,
          4.5,
          5.5,
          6.5,
          7.5,
          8.5,
          9.5,
          10.5,
          11.5,
          12.5,
          13.5,
          14.5,
          15.5,
          16.5,
          17.5,
          18.5,
          19.5,
          20.5,
          21.5,
          22.5,
          23.5,
          24.5,
          25.5,
          26.5,
          27.5,
          28.5,
          29.5
         ],
         "xaxis": "x",
         "y": [
          0.004386312074798415,
          0.004877213590762756,
          0.005407057649807692,
          0.00600074102421522,
          0.00668134242847329,
          0.007423743355213807,
          0.008268296191867471,
          0.00922074226300072,
          0.010285449155117853,
          0.011484515615573438,
          0.012839253699424248,
          0.014355942077757623,
          0.01604523337986308,
          0.017943756797712252,
          0.020072268774307084,
          0.02245639585372635,
          0.025101993626318403,
          0.0280183023283435,
          0.031222176375024138,
          0.034675324835582534,
          0.03833785323527537,
          0.042100000582585576,
          0.04585990126922459,
          0.04932943094024319,
          0.05219644393969836,
          0.05405557837083574,
          0.054432453680724587,
          0.05295579230845036,
          0.0494996929022155,
          0.04439736297768319,
          0.0383068353852335,
          0.032072560164794366,
          0.026322677558548963,
          0.021358912098173626,
          0.0172638775192135,
          0.01397907993604438,
          0.011378850776231138,
          0.009297125752362386,
          0.007654726748387897,
          0.006344740921741326,
          0.005287744633614279,
          0.0044436977097719954,
          0.003761577292740206,
          0.0032000586739922843,
          0.002738774084096731,
          0.0023545381888211334,
          0.0020325503835584777,
          0.0017765330142081196,
          0.001551828292121372,
          0.0013580670836012658,
          0.0011988778581984458,
          0.0010567707300222257,
          0.0009414909985845337,
          0.0008401767545521963,
          0.0007498001670943786,
          0.0006749717967943975,
          0.0006120907847924061,
          0.000553105428872007,
          0.0005023132268608601,
          0.0004550747331452752
         ],
         "yaxis": "y"
        }
       ],
       "layout": {
        "font": {
         "family": "sans-serif"
        },
        "height": 500,
        "legend": {
         "bgcolor": "LightSteelBlue",
         "title": {
          "text": ""
         },
         "tracegroupgap": 0
        },
        "margin": {
         "t": 60
        },
        "template": {
         "data": {
          "bar": [
           {
            "error_x": {
             "color": "#2a3f5f"
            },
            "error_y": {
             "color": "#2a3f5f"
            },
            "marker": {
             "line": {
              "color": "#E5ECF6",
              "width": 0.5
             },
             "pattern": {
              "fillmode": "overlay",
              "size": 10,
              "solidity": 0.2
             }
            },
            "type": "bar"
           }
          ],
          "barpolar": [
           {
            "marker": {
             "line": {
              "color": "#E5ECF6",
              "width": 0.5
             },
             "pattern": {
              "fillmode": "overlay",
              "size": 10,
              "solidity": 0.2
             }
            },
            "type": "barpolar"
           }
          ],
          "carpet": [
           {
            "aaxis": {
             "endlinecolor": "#2a3f5f",
             "gridcolor": "white",
             "linecolor": "white",
             "minorgridcolor": "white",
             "startlinecolor": "#2a3f5f"
            },
            "baxis": {
             "endlinecolor": "#2a3f5f",
             "gridcolor": "white",
             "linecolor": "white",
             "minorgridcolor": "white",
             "startlinecolor": "#2a3f5f"
            },
            "type": "carpet"
           }
          ],
          "choropleth": [
           {
            "colorbar": {
             "outlinewidth": 0,
             "ticks": ""
            },
            "type": "choropleth"
           }
          ],
          "contour": [
           {
            "colorbar": {
             "outlinewidth": 0,
             "ticks": ""
            },
            "colorscale": [
             [
              0,
              "#0d0887"
             ],
             [
              0.1111111111111111,
              "#46039f"
             ],
             [
              0.2222222222222222,
              "#7201a8"
             ],
             [
              0.3333333333333333,
              "#9c179e"
             ],
             [
              0.4444444444444444,
              "#bd3786"
             ],
             [
              0.5555555555555556,
              "#d8576b"
             ],
             [
              0.6666666666666666,
              "#ed7953"
             ],
             [
              0.7777777777777778,
              "#fb9f3a"
             ],
             [
              0.8888888888888888,
              "#fdca26"
             ],
             [
              1,
              "#f0f921"
             ]
            ],
            "type": "contour"
           }
          ],
          "contourcarpet": [
           {
            "colorbar": {
             "outlinewidth": 0,
             "ticks": ""
            },
            "type": "contourcarpet"
           }
          ],
          "heatmap": [
           {
            "colorbar": {
             "outlinewidth": 0,
             "ticks": ""
            },
            "colorscale": [
             [
              0,
              "#0d0887"
             ],
             [
              0.1111111111111111,
              "#46039f"
             ],
             [
              0.2222222222222222,
              "#7201a8"
             ],
             [
              0.3333333333333333,
              "#9c179e"
             ],
             [
              0.4444444444444444,
              "#bd3786"
             ],
             [
              0.5555555555555556,
              "#d8576b"
             ],
             [
              0.6666666666666666,
              "#ed7953"
             ],
             [
              0.7777777777777778,
              "#fb9f3a"
             ],
             [
              0.8888888888888888,
              "#fdca26"
             ],
             [
              1,
              "#f0f921"
             ]
            ],
            "type": "heatmap"
           }
          ],
          "heatmapgl": [
           {
            "colorbar": {
             "outlinewidth": 0,
             "ticks": ""
            },
            "colorscale": [
             [
              0,
              "#0d0887"
             ],
             [
              0.1111111111111111,
              "#46039f"
             ],
             [
              0.2222222222222222,
              "#7201a8"
             ],
             [
              0.3333333333333333,
              "#9c179e"
             ],
             [
              0.4444444444444444,
              "#bd3786"
             ],
             [
              0.5555555555555556,
              "#d8576b"
             ],
             [
              0.6666666666666666,
              "#ed7953"
             ],
             [
              0.7777777777777778,
              "#fb9f3a"
             ],
             [
              0.8888888888888888,
              "#fdca26"
             ],
             [
              1,
              "#f0f921"
             ]
            ],
            "type": "heatmapgl"
           }
          ],
          "histogram": [
           {
            "marker": {
             "pattern": {
              "fillmode": "overlay",
              "size": 10,
              "solidity": 0.2
             }
            },
            "type": "histogram"
           }
          ],
          "histogram2d": [
           {
            "colorbar": {
             "outlinewidth": 0,
             "ticks": ""
            },
            "colorscale": [
             [
              0,
              "#0d0887"
             ],
             [
              0.1111111111111111,
              "#46039f"
             ],
             [
              0.2222222222222222,
              "#7201a8"
             ],
             [
              0.3333333333333333,
              "#9c179e"
             ],
             [
              0.4444444444444444,
              "#bd3786"
             ],
             [
              0.5555555555555556,
              "#d8576b"
             ],
             [
              0.6666666666666666,
              "#ed7953"
             ],
             [
              0.7777777777777778,
              "#fb9f3a"
             ],
             [
              0.8888888888888888,
              "#fdca26"
             ],
             [
              1,
              "#f0f921"
             ]
            ],
            "type": "histogram2d"
           }
          ],
          "histogram2dcontour": [
           {
            "colorbar": {
             "outlinewidth": 0,
             "ticks": ""
            },
            "colorscale": [
             [
              0,
              "#0d0887"
             ],
             [
              0.1111111111111111,
              "#46039f"
             ],
             [
              0.2222222222222222,
              "#7201a8"
             ],
             [
              0.3333333333333333,
              "#9c179e"
             ],
             [
              0.4444444444444444,
              "#bd3786"
             ],
             [
              0.5555555555555556,
              "#d8576b"
             ],
             [
              0.6666666666666666,
              "#ed7953"
             ],
             [
              0.7777777777777778,
              "#fb9f3a"
             ],
             [
              0.8888888888888888,
              "#fdca26"
             ],
             [
              1,
              "#f0f921"
             ]
            ],
            "type": "histogram2dcontour"
           }
          ],
          "mesh3d": [
           {
            "colorbar": {
             "outlinewidth": 0,
             "ticks": ""
            },
            "type": "mesh3d"
           }
          ],
          "parcoords": [
           {
            "line": {
             "colorbar": {
              "outlinewidth": 0,
              "ticks": ""
             }
            },
            "type": "parcoords"
           }
          ],
          "pie": [
           {
            "automargin": true,
            "type": "pie"
           }
          ],
          "scatter": [
           {
            "marker": {
             "colorbar": {
              "outlinewidth": 0,
              "ticks": ""
             }
            },
            "type": "scatter"
           }
          ],
          "scatter3d": [
           {
            "line": {
             "colorbar": {
              "outlinewidth": 0,
              "ticks": ""
             }
            },
            "marker": {
             "colorbar": {
              "outlinewidth": 0,
              "ticks": ""
             }
            },
            "type": "scatter3d"
           }
          ],
          "scattercarpet": [
           {
            "marker": {
             "colorbar": {
              "outlinewidth": 0,
              "ticks": ""
             }
            },
            "type": "scattercarpet"
           }
          ],
          "scattergeo": [
           {
            "marker": {
             "colorbar": {
              "outlinewidth": 0,
              "ticks": ""
             }
            },
            "type": "scattergeo"
           }
          ],
          "scattergl": [
           {
            "marker": {
             "colorbar": {
              "outlinewidth": 0,
              "ticks": ""
             }
            },
            "type": "scattergl"
           }
          ],
          "scattermapbox": [
           {
            "marker": {
             "colorbar": {
              "outlinewidth": 0,
              "ticks": ""
             }
            },
            "type": "scattermapbox"
           }
          ],
          "scatterpolar": [
           {
            "marker": {
             "colorbar": {
              "outlinewidth": 0,
              "ticks": ""
             }
            },
            "type": "scatterpolar"
           }
          ],
          "scatterpolargl": [
           {
            "marker": {
             "colorbar": {
              "outlinewidth": 0,
              "ticks": ""
             }
            },
            "type": "scatterpolargl"
           }
          ],
          "scatterternary": [
           {
            "marker": {
             "colorbar": {
              "outlinewidth": 0,
              "ticks": ""
             }
            },
            "type": "scatterternary"
           }
          ],
          "surface": [
           {
            "colorbar": {
             "outlinewidth": 0,
             "ticks": ""
            },
            "colorscale": [
             [
              0,
              "#0d0887"
             ],
             [
              0.1111111111111111,
              "#46039f"
             ],
             [
              0.2222222222222222,
              "#7201a8"
             ],
             [
              0.3333333333333333,
              "#9c179e"
             ],
             [
              0.4444444444444444,
              "#bd3786"
             ],
             [
              0.5555555555555556,
              "#d8576b"
             ],
             [
              0.6666666666666666,
              "#ed7953"
             ],
             [
              0.7777777777777778,
              "#fb9f3a"
             ],
             [
              0.8888888888888888,
              "#fdca26"
             ],
             [
              1,
              "#f0f921"
             ]
            ],
            "type": "surface"
           }
          ],
          "table": [
           {
            "cells": {
             "fill": {
              "color": "#EBF0F8"
             },
             "line": {
              "color": "white"
             }
            },
            "header": {
             "fill": {
              "color": "#C8D4E3"
             },
             "line": {
              "color": "white"
             }
            },
            "type": "table"
           }
          ]
         },
         "layout": {
          "annotationdefaults": {
           "arrowcolor": "#2a3f5f",
           "arrowhead": 0,
           "arrowwidth": 1
          },
          "autotypenumbers": "strict",
          "coloraxis": {
           "colorbar": {
            "outlinewidth": 0,
            "ticks": ""
           }
          },
          "colorscale": {
           "diverging": [
            [
             0,
             "#8e0152"
            ],
            [
             0.1,
             "#c51b7d"
            ],
            [
             0.2,
             "#de77ae"
            ],
            [
             0.3,
             "#f1b6da"
            ],
            [
             0.4,
             "#fde0ef"
            ],
            [
             0.5,
             "#f7f7f7"
            ],
            [
             0.6,
             "#e6f5d0"
            ],
            [
             0.7,
             "#b8e186"
            ],
            [
             0.8,
             "#7fbc41"
            ],
            [
             0.9,
             "#4d9221"
            ],
            [
             1,
             "#276419"
            ]
           ],
           "sequential": [
            [
             0,
             "#0d0887"
            ],
            [
             0.1111111111111111,
             "#46039f"
            ],
            [
             0.2222222222222222,
             "#7201a8"
            ],
            [
             0.3333333333333333,
             "#9c179e"
            ],
            [
             0.4444444444444444,
             "#bd3786"
            ],
            [
             0.5555555555555556,
             "#d8576b"
            ],
            [
             0.6666666666666666,
             "#ed7953"
            ],
            [
             0.7777777777777778,
             "#fb9f3a"
            ],
            [
             0.8888888888888888,
             "#fdca26"
            ],
            [
             1,
             "#f0f921"
            ]
           ],
           "sequentialminus": [
            [
             0,
             "#0d0887"
            ],
            [
             0.1111111111111111,
             "#46039f"
            ],
            [
             0.2222222222222222,
             "#7201a8"
            ],
            [
             0.3333333333333333,
             "#9c179e"
            ],
            [
             0.4444444444444444,
             "#bd3786"
            ],
            [
             0.5555555555555556,
             "#d8576b"
            ],
            [
             0.6666666666666666,
             "#ed7953"
            ],
            [
             0.7777777777777778,
             "#fb9f3a"
            ],
            [
             0.8888888888888888,
             "#fdca26"
            ],
            [
             1,
             "#f0f921"
            ]
           ]
          },
          "colorway": [
           "#636efa",
           "#EF553B",
           "#00cc96",
           "#ab63fa",
           "#FFA15A",
           "#19d3f3",
           "#FF6692",
           "#B6E880",
           "#FF97FF",
           "#FECB52"
          ],
          "font": {
           "color": "#2a3f5f"
          },
          "geo": {
           "bgcolor": "white",
           "lakecolor": "white",
           "landcolor": "#E5ECF6",
           "showlakes": true,
           "showland": true,
           "subunitcolor": "white"
          },
          "hoverlabel": {
           "align": "left"
          },
          "hovermode": "closest",
          "mapbox": {
           "style": "light"
          },
          "paper_bgcolor": "white",
          "plot_bgcolor": "#E5ECF6",
          "polar": {
           "angularaxis": {
            "gridcolor": "white",
            "linecolor": "white",
            "ticks": ""
           },
           "bgcolor": "#E5ECF6",
           "radialaxis": {
            "gridcolor": "white",
            "linecolor": "white",
            "ticks": ""
           }
          },
          "scene": {
           "xaxis": {
            "backgroundcolor": "#E5ECF6",
            "gridcolor": "white",
            "gridwidth": 2,
            "linecolor": "white",
            "showbackground": true,
            "ticks": "",
            "zerolinecolor": "white"
           },
           "yaxis": {
            "backgroundcolor": "#E5ECF6",
            "gridcolor": "white",
            "gridwidth": 2,
            "linecolor": "white",
            "showbackground": true,
            "ticks": "",
            "zerolinecolor": "white"
           },
           "zaxis": {
            "backgroundcolor": "#E5ECF6",
            "gridcolor": "white",
            "gridwidth": 2,
            "linecolor": "white",
            "showbackground": true,
            "ticks": "",
            "zerolinecolor": "white"
           }
          },
          "shapedefaults": {
           "line": {
            "color": "#2a3f5f"
           }
          },
          "ternary": {
           "aaxis": {
            "gridcolor": "white",
            "linecolor": "white",
            "ticks": ""
           },
           "baxis": {
            "gridcolor": "white",
            "linecolor": "white",
            "ticks": ""
           },
           "bgcolor": "#E5ECF6",
           "caxis": {
            "gridcolor": "white",
            "linecolor": "white",
            "ticks": ""
           }
          },
          "title": {
           "x": 0.05
          },
          "xaxis": {
           "automargin": true,
           "gridcolor": "white",
           "linecolor": "white",
           "ticks": "",
           "title": {
            "standoff": 15
           },
           "zerolinecolor": "white",
           "zerolinewidth": 2
          },
          "yaxis": {
           "automargin": true,
           "gridcolor": "white",
           "linecolor": "white",
           "ticks": "",
           "title": {
            "standoff": 15
           },
           "zerolinecolor": "white",
           "zerolinewidth": 2
          }
         }
        },
        "width": 1200,
        "xaxis": {
         "anchor": "y",
         "autorange": true,
         "domain": [
          0,
          1
         ],
         "range": [
          -29.5,
          29.5
         ],
         "title": {
          "text": "return (bps)"
         },
         "type": "linear"
        },
        "yaxis": {
         "anchor": "x",
         "autorange": true,
         "domain": [
          0,
          1
         ],
         "range": [
          -0.0034509709625975805,
          0.0676795502795726
         ],
         "title": {
          "text": "probability density"
         },
         "type": "linear"
        }
       }
      },
      "image/png": "[encoded data removed]",
      "text/html": [
       "<div>                            <div id=\"26a18202-45d6-4ec9-895c-a679ef56f52f\" class=\"plotly-graph-div\" style=\"height:500px; width:1200px;\"></div>            <script type=\"text/javascript\">                require([\"plotly\"], function(Plotly) {                    window.PLOTLYENV=window.PLOTLYENV || {};                                    if (document.getElementById(\"26a18202-45d6-4ec9-895c-a679ef56f52f\")) {                    Plotly.newPlot(                        \"26a18202-45d6-4ec9-895c-a679ef56f52f\",                        [{\"customdata\":[[\"actualRet90s\",\"l2\"],[\"actualRet90s\",\"l2\"],[\"actualRet90s\",\"l2\"],[\"actualRet90s\",\"l2\"],[\"actualRet90s\",\"l2\"],[\"actualRet90s\",\"l2\"],[\"actualRet90s\",\"l2\"],[\"actualRet90s\",\"l2\"],[\"actualRet90s\",\"l2\"],[\"actualRet90s\",\"l2\"],[\"actualRet90s\",\"l2\"],[\"actualRet90s\",\"l2\"],[\"actualRet90s\",\"l2\"],[\"actualRet90s\",\"l2\"],[\"actualRet90s\",\"l2\"],[\"actualRet90s\",\"l2\"],[\"actualRet90s\",\"l2\"],[\"actualRet90s\",\"l2\"],[\"actualRet90s\",\"l2\"],[\"actualRet90s\",\"l2\"],[\"actualRet90s\",\"l2\"],[\"actualRet90s\",\"l2\"],[\"actualRet90s\",\"l2\"],[\"actualRet90s\",\"l2\"],[\"actualRet90s\",\"l2\"],[\"actualRet90s\",\"l2\"],[\"actualRet90s\",\"l2\"],[\"actualRet90s\",\"l2\"],[\"actualRet90s\",\"l2\"],[\"actualRet90s\",\"l2\"],[\"actualRet90s\",\"l2\"],[\"actualRet90s\",\"l2\"],[\"actualRet90s\",\"l2\"],[\"actualRet90s\",\"l2\"],[\"actualRet90s\",\"l2\"],[\"actualRet90s\",\"l2\"],[\"actualRet90s\",\"l2\"],[\"actualRet90s\",\"l2\"],[\"actualRet90s\",\"l2\"],[\"actualRet90s\",\"l2\"],[\"actualRet90s\",\"l2\"],[\"actualRet90s\",\"l2\"],[\"actualRet90s\",\"l2\"],[\"actualRet90s\",\"l2\"],[\"actualRet90s\",\"l2\"],[\"actualRet90s\",\"l2\"],[\"actualRet90s\",\"l2\"],[\"actualRet90s\",\"l2\"],[\"actualRet90s\",\"l2\"],[\"actualRet90s\",\"l2\"],[\"actualRet90s\",\"l2\"],[\"actualRet90s\",\"l2\"],[\"actualRet90s\",\"l2\"],[\"actualRet90s\",\"l2\"],[\"actualRet90s\",\"l2\"],[\"actualRet90s\",\"l2\"],[\"actualRet90s\",\"l2\"],[\"actualRet90s\",\"l2\"],[\"actualRet90s\",\"l2\"],[\"actualRet90s\",\"l2\"]],\"hovertemplate\":\"return (bps)=%{x}<br>probability density=%{y:.2f}<extra></extra>\",\"legendgroup\":\"l2, actualRet90s\",\"line\":{\"color\":\"#636efa\",\"dash\":\"solid\"},\"mode\":\"lines\",\"name\":\"l2, actualRet90s\",\"orientation\":\"v\",\"showlegend\":true,\"type\":\"scatter\",\"x\":[-29.5,-28.5,-27.5,-26.5,-25.5,-24.5,-23.5,-22.5,-21.5,-20.5,-19.5,-18.5,-17.5,-16.5,-15.5,-14.5,-13.5,-12.5,-11.5,-10.5,-9.5,-8.5,-7.5,-6.5,-5.5,-4.5,-3.5,-2.5,-1.5,-0.5,0.5,1.5,2.5,3.5,4.5,5.5,6.5,7.5,8.5,9.5,10.5,11.5,12.5,13.5,14.5,15.5,16.5,17.5,18.5,19.5,20.5,21.5,22.5,23.5,24.5,25.5,26.5,27.5,28.5,29.5],\"xaxis\":\"x\",\"y\":[0.007885737650225644,0.008542182956675656,0.00928484182436026,0.010183970778360368,0.011141040034407874,0.012049572560945358,0.013020887894342834,0.013977474686811224,0.015223678111664713,0.01656270663568881,0.017970477285226043,0.019327727743872453,0.020537255002202492,0.021846536072769873,0.02320824485226773,0.024753883936792374,0.026242628057024372,0.02769611213068273,0.02912687574356907,0.03024080820440395,0.031027813516068856,0.031801689564224335,0.032341762868489714,0.03253277377326554,0.03233509325623399,0.03192337760028995,0.030834872756976564,0.029316497331927267,0.02900872130649493,0.03502289338822709,0.039731688780578395,0.02673087226457781,0.02273577452339813,0.020628547832783877,0.0189804254429956,0.0172364089496029,0.015926082541280768,0.014698918558780865,0.013591914811012717,0.01248281592047971,0.011568569774334004,0.01072067577208267,0.009925799156469612,0.009163725596981,0.008428352822792102,0.0077785771285978165,0.007188050642272045,0.006688057553116091,0.006215908866632566,0.005768982303923875,0.005338933031973478,0.004920427147878938,0.0045593567659758675,0.004239639766960442,0.003932113907828389,0.0036579048391874288,0.0033915224019409975,0.003144527852966401,0.002926985918594617,0.0027303015995088233],\"yaxis\":\"y\"},{\"customdata\":[[\"sta_90_1_1_1\",\"l2\"],[\"sta_90_1_1_1\",\"l2\"],[\"sta_90_1_1_1\",\"l2\"],[\"sta_90_1_1_1\",\"l2\"],[\"sta_90_1_1_1\",\"l2\"],[\"sta_90_1_1_1\",\"l2\"],[\"sta_90_1_1_1\",\"l2\"],[\"sta_90_1_1_1\",\"l2\"],[\"sta_90_1_1_1\",\"l2\"],[\"sta_90_1_1_1\",\"l2\"],[\"sta_90_1_1_1\",\"l2\"],[\"sta_90_1_1_1\",\"l2\"],[\"sta_90_1_1_1\",\"l2\"],[\"sta_90_1_1_1\",\"l2\"],[\"sta_90_1_1_1\",\"l2\"],[\"sta_90_1_1_1\",\"l2\"],[\"sta_90_1_1_1\",\"l2\"],[\"sta_90_1_1_1\",\"l2\"],[\"sta_90_1_1_1\",\"l2\"],[\"sta_90_1_1_1\",\"l2\"],[\"sta_90_1_1_1\",\"l2\"],[\"sta_90_1_1_1\",\"l2\"],[\"sta_90_1_1_1\",\"l2\"],[\"sta_90_1_1_1\",\"l2\"],[\"sta_90_1_1_1\",\"l2\"],[\"sta_90_1_1_1\",\"l2\"],[\"sta_90_1_1_1\",\"l2\"],[\"sta_90_1_1_1\",\"l2\"],[\"sta_90_1_1_1\",\"l2\"],[\"sta_90_1_1_1\",\"l2\"],[\"sta_90_1_1_1\",\"l2\"],[\"sta_90_1_1_1\",\"l2\"],[\"sta_90_1_1_1\",\"l2\"],[\"sta_90_1_1_1\",\"l2\"],[\"sta_90_1_1_1\",\"l2\"],[\"sta_90_1_1_1\",\"l2\"],[\"sta_90_1_1_1\",\"l2\"],[\"sta_90_1_1_1\",\"l2\"],[\"sta_90_1_1_1\",\"l2\"],[\"sta_90_1_1_1\",\"l2\"],[\"sta_90_1_1_1\",\"l2\"],[\"sta_90_1_1_1\",\"l2\"],[\"sta_90_1_1_1\",\"l2\"],[\"sta_90_1_1_1\",\"l2\"],[\"sta_90_1_1_1\",\"l2\"],[\"sta_90_1_1_1\",\"l2\"],[\"sta_90_1_1_1\",\"l2\"],[\"sta_90_1_1_1\",\"l2\"],[\"sta_90_1_1_1\",\"l2\"],[\"sta_90_1_1_1\",\"l2\"],[\"sta_90_1_1_1\",\"l2\"],[\"sta_90_1_1_1\",\"l2\"],[\"sta_90_1_1_1\",\"l2\"],[\"sta_90_1_1_1\",\"l2\"],[\"sta_90_1_1_1\",\"l2\"],[\"sta_90_1_1_1\",\"l2\"],[\"sta_90_1_1_1\",\"l2\"],[\"sta_90_1_1_1\",\"l2\"],[\"sta_90_1_1_1\",\"l2\"],[\"sta_90_1_1_1\",\"l2\"]],\"hovertemplate\":\"return (bps)=%{x}<br>probability density=%{y:.2f}<extra></extra>\",\"legendgroup\":\"l2, sta_90_1_1_1\",\"line\":{\"color\":\"#636efa\",\"dash\":\"dot\"},\"mode\":\"lines\",\"name\":\"l2, sta_90_1_1_1\",\"orientation\":\"v\",\"showlegend\":true,\"type\":\"scatter\",\"x\":[-29.5,-28.5,-27.5,-26.5,-25.5,-24.5,-23.5,-22.5,-21.5,-20.5,-19.5,-18.5,-17.5,-16.5,-15.5,-14.5,-13.5,-12.5,-11.5,-10.5,-9.5,-8.5,-7.5,-6.5,-5.5,-4.5,-3.5,-2.5,-1.5,-0.5,0.5,1.5,2.5,3.5,4.5,5.5,6.5,7.5,8.5,9.5,10.5,11.5,12.5,13.5,14.5,15.5,16.5,17.5,18.5,19.5,20.5,21.5,22.5,23.5,24.5,25.5,26.5,27.5,28.5,29.5],\"xaxis\":\"x\",\"y\":[0.00286893257579774,0.00327833754255843,0.0037562250918540103,0.004302420096321062,0.004937824979713344,0.005649527017768154,0.006491948011597495,0.007458647165946763,0.008551488614306567,0.009824680113233617,0.011292558756213086,0.012963351637606441,0.014890145698844517,0.01709315063766578,0.019605099704152675,0.022511929841394114,0.0257809194744652,0.02945789748851288,0.033616522452590857,0.038098144542318975,0.042968884066685586,0.0480507221149165,0.05316195820988654,0.05787980765426988,0.061757088563156926,0.06408676117807897,0.0641230242174641,0.061311899238471114,0.05553338507996668,0.04738119463769198,0.038344891213936846,0.02973099109902722,0.022412636518055182,0.01667910284991491,0.012374094760334447,0.00921475431535909,0.006912537779301827,0.005243184834007688,0.004019363684687821,0.003120131374165617,0.0024414817071666014,0.0019346047416465288,0.0015495424784009683,0.001252269616577357,0.001027507266647254,0.0008435495923935913,0.0007008130077693854,0.0005854313173111021,0.0004909403754490163,0.00041607148172814295,0.0003547263121823416,0.00030300925590535406,0.00026112268229490804,0.0002236804519960972,0.00019577293370561053,0.00017120840219681787,0.0001515630037404831,0.00013516719080535264,0.00011981825033154431,0.00010555509951092882],\"yaxis\":\"y\"},{\"customdata\":[[\"actualRet90s\",\"mbd\"],[\"actualRet90s\",\"mbd\"],[\"actualRet90s\",\"mbd\"],[\"actualRet90s\",\"mbd\"],[\"actualRet90s\",\"mbd\"],[\"actualRet90s\",\"mbd\"],[\"actualRet90s\",\"mbd\"],[\"actualRet90s\",\"mbd\"],[\"actualRet90s\",\"mbd\"],[\"actualRet90s\",\"mbd\"],[\"actualRet90s\",\"mbd\"],[\"actualRet90s\",\"mbd\"],[\"actualRet90s\",\"mbd\"],[\"actualRet90s\",\"mbd\"],[\"actualRet90s\",\"mbd\"],[\"actualRet90s\",\"mbd\"],[\"actualRet90s\",\"mbd\"],[\"actualRet90s\",\"mbd\"],[\"actualRet90s\",\"mbd\"],[\"actualRet90s\",\"mbd\"],[\"actualRet90s\",\"mbd\"],[\"actualRet90s\",\"mbd\"],[\"actualRet90s\",\"mbd\"],[\"actualRet90s\",\"mbd\"],[\"actualRet90s\",\"mbd\"],[\"actualRet90s\",\"mbd\"],[\"actualRet90s\",\"mbd\"],[\"actualRet90s\",\"mbd\"],[\"actualRet90s\",\"mbd\"],[\"actualRet90s\",\"mbd\"],[\"actualRet90s\",\"mbd\"],[\"actualRet90s\",\"mbd\"],[\"actualRet90s\",\"mbd\"],[\"actualRet90s\",\"mbd\"],[\"actualRet90s\",\"mbd\"],[\"actualRet90s\",\"mbd\"],[\"actualRet90s\",\"mbd\"],[\"actualRet90s\",\"mbd\"],[\"actualRet90s\",\"mbd\"],[\"actualRet90s\",\"mbd\"],[\"actualRet90s\",\"mbd\"],[\"actualRet90s\",\"mbd\"],[\"actualRet90s\",\"mbd\"],[\"actualRet90s\",\"mbd\"],[\"actualRet90s\",\"mbd\"],[\"actualRet90s\",\"mbd\"],[\"actualRet90s\",\"mbd\"],[\"actualRet90s\",\"mbd\"],[\"actualRet90s\",\"mbd\"],[\"actualRet90s\",\"mbd\"],[\"actualRet90s\",\"mbd\"],[\"actualRet90s\",\"mbd\"],[\"actualRet90s\",\"mbd\"],[\"actualRet90s\",\"mbd\"],[\"actualRet90s\",\"mbd\"],[\"actualRet90s\",\"mbd\"],[\"actualRet90s\",\"mbd\"],[\"actualRet90s\",\"mbd\"],[\"actualRet90s\",\"mbd\"],[\"actualRet90s\",\"mbd\"]],\"hovertemplate\":\"return (bps)=%{x}<br>probability density=%{y:.2f}<extra></extra>\",\"legendgroup\":\"mbd, actualRet90s\",\"line\":{\"color\":\"#EF553B\",\"dash\":\"solid\"},\"mode\":\"lines\",\"name\":\"mbd, actualRet90s\",\"orientation\":\"v\",\"showlegend\":true,\"type\":\"scatter\",\"x\":[-29.5,-28.5,-27.5,-26.5,-25.5,-24.5,-23.5,-22.5,-21.5,-20.5,-19.5,-18.5,-17.5,-16.5,-15.5,-14.5,-13.5,-12.5,-11.5,-10.5,-9.5,-8.5,-7.5,-6.5,-5.5,-4.5,-3.5,-2.5,-1.5,-0.5,0.5,1.5,2.5,3.5,4.5,5.5,6.5,7.5,8.5,9.5,10.5,11.5,12.5,13.5,14.5,15.5,16.5,17.5,18.5,19.5,20.5,21.5,22.5,23.5,24.5,25.5,26.5,27.5,28.5,29.5],\"xaxis\":\"x\",\"y\":[0.009834690217741611,0.01040824807473222,0.011037647891272286,0.011739329107192626,0.012481319119642795,0.013186905534478408,0.013863068457983905,0.014583478100515818,0.015481537964971127,0.016385891849777318,0.01738875702561286,0.018349825868561414,0.019140131971496794,0.019987010490872897,0.020856506551303684,0.021873614249926527,0.022824735124156944,0.02378089542990905,0.024601828031765405,0.02521817890428052,0.02578451538790415,0.026311876976914048,0.02666338370387681,0.026792380061399446,0.02657207326464649,0.02640453130152595,0.02570815296968869,0.02454084015039576,0.024788827214477876,0.0317591768799543,0.03595207098400145,0.02478041836335524,0.021957793166979225,0.020855036208692636,0.019872595539327055,0.018630370122861773,0.017783536529080348,0.016956244459710494,0.016133588600784156,0.015228835931995565,0.014465664888246512,0.01375999638713914,0.013094698247265417,0.012371763897239919,0.011671477038665555,0.011051143872696146,0.010482460720046733,0.009972025542128494,0.009530128518670885,0.009048613776349747,0.008546615736039685,0.008068784892482254,0.007637688869404714,0.007259433110587687,0.006922192201165019,0.006571468066968834,0.006237587702955575,0.005900790503109987,0.005588427835037223,0.005319190410034804],\"yaxis\":\"y\"},{\"customdata\":[[\"sta_90_1_1_1\",\"mbd\"],[\"sta_90_1_1_1\",\"mbd\"],[\"sta_90_1_1_1\",\"mbd\"],[\"sta_90_1_1_1\",\"mbd\"],[\"sta_90_1_1_1\",\"mbd\"],[\"sta_90_1_1_1\",\"mbd\"],[\"sta_90_1_1_1\",\"mbd\"],[\"sta_90_1_1_1\",\"mbd\"],[\"sta_90_1_1_1\",\"mbd\"],[\"sta_90_1_1_1\",\"mbd\"],[\"sta_90_1_1_1\",\"mbd\"],[\"sta_90_1_1_1\",\"mbd\"],[\"sta_90_1_1_1\",\"mbd\"],[\"sta_90_1_1_1\",\"mbd\"],[\"sta_90_1_1_1\",\"mbd\"],[\"sta_90_1_1_1\",\"mbd\"],[\"sta_90_1_1_1\",\"mbd\"],[\"sta_90_1_1_1\",\"mbd\"],[\"sta_90_1_1_1\",\"mbd\"],[\"sta_90_1_1_1\",\"mbd\"],[\"sta_90_1_1_1\",\"mbd\"],[\"sta_90_1_1_1\",\"mbd\"],[\"sta_90_1_1_1\",\"mbd\"],[\"sta_90_1_1_1\",\"mbd\"],[\"sta_90_1_1_1\",\"mbd\"],[\"sta_90_1_1_1\",\"mbd\"],[\"sta_90_1_1_1\",\"mbd\"],[\"sta_90_1_1_1\",\"mbd\"],[\"sta_90_1_1_1\",\"mbd\"],[\"sta_90_1_1_1\",\"mbd\"],[\"sta_90_1_1_1\",\"mbd\"],[\"sta_90_1_1_1\",\"mbd\"],[\"sta_90_1_1_1\",\"mbd\"],[\"sta_90_1_1_1\",\"mbd\"],[\"sta_90_1_1_1\",\"mbd\"],[\"sta_90_1_1_1\",\"mbd\"],[\"sta_90_1_1_1\",\"mbd\"],[\"sta_90_1_1_1\",\"mbd\"],[\"sta_90_1_1_1\",\"mbd\"],[\"sta_90_1_1_1\",\"mbd\"],[\"sta_90_1_1_1\",\"mbd\"],[\"sta_90_1_1_1\",\"mbd\"],[\"sta_90_1_1_1\",\"mbd\"],[\"sta_90_1_1_1\",\"mbd\"],[\"sta_90_1_1_1\",\"mbd\"],[\"sta_90_1_1_1\",\"mbd\"],[\"sta_90_1_1_1\",\"mbd\"],[\"sta_90_1_1_1\",\"mbd\"],[\"sta_90_1_1_1\",\"mbd\"],[\"sta_90_1_1_1\",\"mbd\"],[\"sta_90_1_1_1\",\"mbd\"],[\"sta_90_1_1_1\",\"mbd\"],[\"sta_90_1_1_1\",\"mbd\"],[\"sta_90_1_1_1\",\"mbd\"],[\"sta_90_1_1_1\",\"mbd\"],[\"sta_90_1_1_1\",\"mbd\"],[\"sta_90_1_1_1\",\"mbd\"],[\"sta_90_1_1_1\",\"mbd\"],[\"sta_90_1_1_1\",\"mbd\"],[\"sta_90_1_1_1\",\"mbd\"]],\"hovertemplate\":\"return (bps)=%{x}<br>probability density=%{y:.2f}<extra></extra>\",\"legendgroup\":\"mbd, sta_90_1_1_1\",\"line\":{\"color\":\"#EF553B\",\"dash\":\"dot\"},\"mode\":\"lines\",\"name\":\"mbd, sta_90_1_1_1\",\"orientation\":\"v\",\"showlegend\":true,\"type\":\"scatter\",\"x\":[-29.5,-28.5,-27.5,-26.5,-25.5,-24.5,-23.5,-22.5,-21.5,-20.5,-19.5,-18.5,-17.5,-16.5,-15.5,-14.5,-13.5,-12.5,-11.5,-10.5,-9.5,-8.5,-7.5,-6.5,-5.5,-4.5,-3.5,-2.5,-1.5,-0.5,0.5,1.5,2.5,3.5,4.5,5.5,6.5,7.5,8.5,9.5,10.5,11.5,12.5,13.5,14.5,15.5,16.5,17.5,18.5,19.5,20.5,21.5,22.5,23.5,24.5,25.5,26.5,27.5,28.5,29.5],\"xaxis\":\"x\",\"y\":[0.004386312074798415,0.004877213590762756,0.005407057649807692,0.00600074102421522,0.00668134242847329,0.007423743355213807,0.008268296191867471,0.00922074226300072,0.010285449155117853,0.011484515615573438,0.012839253699424248,0.014355942077757623,0.01604523337986308,0.017943756797712252,0.020072268774307084,0.02245639585372635,0.025101993626318403,0.0280183023283435,0.031222176375024138,0.034675324835582534,0.03833785323527537,0.042100000582585576,0.04585990126922459,0.04932943094024319,0.05219644393969836,0.05405557837083574,0.054432453680724587,0.05295579230845036,0.0494996929022155,0.04439736297768319,0.0383068353852335,0.032072560164794366,0.026322677558548963,0.021358912098173626,0.0172638775192135,0.01397907993604438,0.011378850776231138,0.009297125752362386,0.007654726748387897,0.006344740921741326,0.005287744633614279,0.0044436977097719954,0.003761577292740206,0.0032000586739922843,0.002738774084096731,0.0023545381888211334,0.0020325503835584777,0.0017765330142081196,0.001551828292121372,0.0013580670836012658,0.0011988778581984458,0.0010567707300222257,0.0009414909985845337,0.0008401767545521963,0.0007498001670943786,0.0006749717967943975,0.0006120907847924061,0.000553105428872007,0.0005023132268608601,0.0004550747331452752],\"yaxis\":\"y\"}],                        {\"font\":{\"family\":\"sans-serif\"},\"height\":500,\"legend\":{\"bgcolor\":\"LightSteelBlue\",\"title\":{\"text\":\"\"},\"tracegroupgap\":0},\"margin\":{\"t\":60},\"template\":{\"data\":{\"bar\":[{\"error_x\":{\"color\":\"#2a3f5f\"},\"error_y\":{\"color\":\"#2a3f5f\"},\"marker\":{\"line\":{\"color\":\"#E5ECF6\",\"width\":0.5},\"pattern\":{\"fillmode\":\"overlay\",\"size\":10,\"solidity\":0.2}},\"type\":\"bar\"}],\"barpolar\":[{\"marker\":{\"line\":{\"color\":\"#E5ECF6\",\"width\":0.5},\"pattern\":{\"fillmode\":\"overlay\",\"size\":10,\"solidity\":0.2}},\"type\":\"barpolar\"}],\"carpet\":[{\"aaxis\":{\"endlinecolor\":\"#2a3f5f\",\"gridcolor\":\"white\",\"linecolor\":\"white\",\"minorgridcolor\":\"white\",\"startlinecolor\":\"#2a3f5f\"},\"baxis\":{\"endlinecolor\":\"#2a3f5f\",\"gridcolor\":\"white\",\"linecolor\":\"white\",\"minorgridcolor\":\"white\",\"startlinecolor\":\"#2a3f5f\"},\"type\":\"carpet\"}],\"choropleth\":[{\"colorbar\":{\"outlinewidth\":0,\"ticks\":\"\"},\"type\":\"choropleth\"}],\"contour\":[{\"colorbar\":{\"outlinewidth\":0,\"ticks\":\"\"},\"colorscale\":[[0.0,\"#0d0887\"],[0.1111111111111111,\"#46039f\"],[0.2222222222222222,\"#7201a8\"],[0.3333333333333333,\"#9c179e\"],[0.4444444444444444,\"#bd3786\"],[0.5555555555555556,\"#d8576b\"],[0.6666666666666666,\"#ed7953\"],[0.7777777777777778,\"#fb9f3a\"],[0.8888888888888888,\"#fdca26\"],[1.0,\"#f0f921\"]],\"type\":\"contour\"}],\"contourcarpet\":[{\"colorbar\":{\"outlinewidth\":0,\"ticks\":\"\"},\"type\":\"contourcarpet\"}],\"heatmap\":[{\"colorbar\":{\"outlinewidth\":0,\"ticks\":\"\"},\"colorscale\":[[0.0,\"#0d0887\"],[0.1111111111111111,\"#46039f\"],[0.2222222222222222,\"#7201a8\"],[0.3333333333333333,\"#9c179e\"],[0.4444444444444444,\"#bd3786\"],[0.5555555555555556,\"#d8576b\"],[0.6666666666666666,\"#ed7953\"],[0.7777777777777778,\"#fb9f3a\"],[0.8888888888888888,\"#fdca26\"],[1.0,\"#f0f921\"]],\"type\":\"heatmap\"}],\"heatmapgl\":[{\"colorbar\":{\"outlinewidth\":0,\"ticks\":\"\"},\"colorscale\":[[0.0,\"#0d0887\"],[0.1111111111111111,\"#46039f\"],[0.2222222222222222,\"#7201a8\"],[0.3333333333333333,\"#9c179e\"],[0.4444444444444444,\"#bd3786\"],[0.5555555555555556,\"#d8576b\"],[0.6666666666666666,\"#ed7953\"],[0.7777777777777778,\"#fb9f3a\"],[0.8888888888888888,\"#fdca26\"],[1.0,\"#f0f921\"]],\"type\":\"heatmapgl\"}],\"histogram\":[{\"marker\":{\"pattern\":{\"fillmode\":\"overlay\",\"size\":10,\"solidity\":0.2}},\"type\":\"histogram\"}],\"histogram2d\":[{\"colorbar\":{\"outlinewidth\":0,\"ticks\":\"\"},\"colorscale\":[[0.0,\"#0d0887\"],[0.1111111111111111,\"#46039f\"],[0.2222222222222222,\"#7201a8\"],[0.3333333333333333,\"#9c179e\"],[0.4444444444444444,\"#bd3786\"],[0.5555555555555556,\"#d8576b\"],[0.6666666666666666,\"#ed7953\"],[0.7777777777777778,\"#fb9f3a\"],[0.8888888888888888,\"#fdca26\"],[1.0,\"#f0f921\"]],\"type\":\"histogram2d\"}],\"histogram2dcontour\":[{\"colorbar\":{\"outlinewidth\":0,\"ticks\":\"\"},\"colorscale\":[[0.0,\"#0d0887\"],[0.1111111111111111,\"#46039f\"],[0.2222222222222222,\"#7201a8\"],[0.3333333333333333,\"#9c179e\"],[0.4444444444444444,\"#bd3786\"],[0.5555555555555556,\"#d8576b\"],[0.6666666666666666,\"#ed7953\"],[0.7777777777777778,\"#fb9f3a\"],[0.8888888888888888,\"#fdca26\"],[1.0,\"#f0f921\"]],\"type\":\"histogram2dcontour\"}],\"mesh3d\":[{\"colorbar\":{\"outlinewidth\":0,\"ticks\":\"\"},\"type\":\"mesh3d\"}],\"parcoords\":[{\"line\":{\"colorbar\":{\"outlinewidth\":0,\"ticks\":\"\"}},\"type\":\"parcoords\"}],\"pie\":[{\"automargin\":true,\"type\":\"pie\"}],\"scatter\":[{\"marker\":{\"colorbar\":{\"outlinewidth\":0,\"ticks\":\"\"}},\"type\":\"scatter\"}],\"scatter3d\":[{\"line\":{\"colorbar\":{\"outlinewidth\":0,\"ticks\":\"\"}},\"marker\":{\"colorbar\":{\"outlinewidth\":0,\"ticks\":\"\"}},\"type\":\"scatter3d\"}],\"scattercarpet\":[{\"marker\":{\"colorbar\":{\"outlinewidth\":0,\"ticks\":\"\"}},\"type\":\"scattercarpet\"}],\"scattergeo\":[{\"marker\":{\"colorbar\":{\"outlinewidth\":0,\"ticks\":\"\"}},\"type\":\"scattergeo\"}],\"scattergl\":[{\"marker\":{\"colorbar\":{\"outlinewidth\":0,\"ticks\":\"\"}},\"type\":\"scattergl\"}],\"scattermapbox\":[{\"marker\":{\"colorbar\":{\"outlinewidth\":0,\"ticks\":\"\"}},\"type\":\"scattermapbox\"}],\"scatterpolar\":[{\"marker\":{\"colorbar\":{\"outlinewidth\":0,\"ticks\":\"\"}},\"type\":\"scatterpolar\"}],\"scatterpolargl\":[{\"marker\":{\"colorbar\":{\"outlinewidth\":0,\"ticks\":\"\"}},\"type\":\"scatterpolargl\"}],\"scatterternary\":[{\"marker\":{\"colorbar\":{\"outlinewidth\":0,\"ticks\":\"\"}},\"type\":\"scatterternary\"}],\"surface\":[{\"colorbar\":{\"outlinewidth\":0,\"ticks\":\"\"},\"colorscale\":[[0.0,\"#0d0887\"],[0.1111111111111111,\"#46039f\"],[0.2222222222222222,\"#7201a8\"],[0.3333333333333333,\"#9c179e\"],[0.4444444444444444,\"#bd3786\"],[0.5555555555555556,\"#d8576b\"],[0.6666666666666666,\"#ed7953\"],[0.7777777777777778,\"#fb9f3a\"],[0.8888888888888888,\"#fdca26\"],[1.0,\"#f0f921\"]],\"type\":\"surface\"}],\"table\":[{\"cells\":{\"fill\":{\"color\":\"#EBF0F8\"},\"line\":{\"color\":\"white\"}},\"header\":{\"fill\":{\"color\":\"#C8D4E3\"},\"line\":{\"color\":\"white\"}},\"type\":\"table\"}]},\"layout\":{\"annotationdefaults\":{\"arrowcolor\":\"#2a3f5f\",\"arrowhead\":0,\"arrowwidth\":1},\"autotypenumbers\":\"strict\",\"coloraxis\":{\"colorbar\":{\"outlinewidth\":0,\"ticks\":\"\"}},\"colorscale\":{\"diverging\":[[0,\"#8e0152\"],[0.1,\"#c51b7d\"],[0.2,\"#de77ae\"],[0.3,\"#f1b6da\"],[0.4,\"#fde0ef\"],[0.5,\"#f7f7f7\"],[0.6,\"#e6f5d0\"],[0.7,\"#b8e186\"],[0.8,\"#7fbc41\"],[0.9,\"#4d9221\"],[1,\"#276419\"]],\"sequential\":[[0.0,\"#0d0887\"],[0.1111111111111111,\"#46039f\"],[0.2222222222222222,\"#7201a8\"],[0.3333333333333333,\"#9c179e\"],[0.4444444444444444,\"#bd3786\"],[0.5555555555555556,\"#d8576b\"],[0.6666666666666666,\"#ed7953\"],[0.7777777777777778,\"#fb9f3a\"],[0.8888888888888888,\"#fdca26\"],[1.0,\"#f0f921\"]],\"sequentialminus\":[[0.0,\"#0d0887\"],[0.1111111111111111,\"#46039f\"],[0.2222222222222222,\"#7201a8\"],[0.3333333333333333,\"#9c179e\"],[0.4444444444444444,\"#bd3786\"],[0.5555555555555556,\"#d8576b\"],[0.6666666666666666,\"#ed7953\"],[0.7777777777777778,\"#fb9f3a\"],[0.8888888888888888,\"#fdca26\"],[1.0,\"#f0f921\"]]},\"colorway\":[\"#636efa\",\"#EF553B\",\"#00cc96\",\"#ab63fa\",\"#FFA15A\",\"#19d3f3\",\"#FF6692\",\"#B6E880\",\"#FF97FF\",\"#FECB52\"],\"font\":{\"color\":\"#2a3f5f\"},\"geo\":{\"bgcolor\":\"white\",\"lakecolor\":\"white\",\"landcolor\":\"#E5ECF6\",\"showlakes\":true,\"showland\":true,\"subunitcolor\":\"white\"},\"hoverlabel\":{\"align\":\"left\"},\"hovermode\":\"closest\",\"mapbox\":{\"style\":\"light\"},\"paper_bgcolor\":\"white\",\"plot_bgcolor\":\"#E5ECF6\",\"polar\":{\"angularaxis\":{\"gridcolor\":\"white\",\"linecolor\":\"white\",\"ticks\":\"\"},\"bgcolor\":\"#E5ECF6\",\"radialaxis\":{\"gridcolor\":\"white\",\"linecolor\":\"white\",\"ticks\":\"\"}},\"scene\":{\"xaxis\":{\"backgroundcolor\":\"#E5ECF6\",\"gridcolor\":\"white\",\"gridwidth\":2,\"linecolor\":\"white\",\"showbackground\":true,\"ticks\":\"\",\"zerolinecolor\":\"white\"},\"yaxis\":{\"backgroundcolor\":\"#E5ECF6\",\"gridcolor\":\"white\",\"gridwidth\":2,\"linecolor\":\"white\",\"showbackground\":true,\"ticks\":\"\",\"zerolinecolor\":\"white\"},\"zaxis\":{\"backgroundcolor\":\"#E5ECF6\",\"gridcolor\":\"white\",\"gridwidth\":2,\"linecolor\":\"white\",\"showbackground\":true,\"ticks\":\"\",\"zerolinecolor\":\"white\"}},\"shapedefaults\":{\"line\":{\"color\":\"#2a3f5f\"}},\"ternary\":{\"aaxis\":{\"gridcolor\":\"white\",\"linecolor\":\"white\",\"ticks\":\"\"},\"baxis\":{\"gridcolor\":\"white\",\"linecolor\":\"white\",\"ticks\":\"\"},\"bgcolor\":\"#E5ECF6\",\"caxis\":{\"gridcolor\":\"white\",\"linecolor\":\"white\",\"ticks\":\"\"}},\"title\":{\"x\":0.05},\"xaxis\":{\"automargin\":true,\"gridcolor\":\"white\",\"linecolor\":\"white\",\"ticks\":\"\",\"title\":{\"standoff\":15},\"zerolinecolor\":\"white\",\"zerolinewidth\":2},\"yaxis\":{\"automargin\":true,\"gridcolor\":\"white\",\"linecolor\":\"white\",\"ticks\":\"\",\"title\":{\"standoff\":15},\"zerolinecolor\":\"white\",\"zerolinewidth\":2}}},\"width\":1200,\"xaxis\":{\"anchor\":\"y\",\"domain\":[0.0,1.0],\"title\":{\"text\":\"return (bps)\"}},\"yaxis\":{\"anchor\":\"x\",\"domain\":[0.0,1.0],\"title\":{\"text\":\"probability density\"}}},                        {\"responsive\": true}                    ).then(function(){\n",
       "                            \n",
       "var gd = document.getElementById('26a18202-45d6-4ec9-895c-a679ef56f52f');\n",
       "var x = new MutationObserver(function (mutations, observer) {{\n",
       "        var display = window.getComputedStyle(gd).display;\n",
       "        if (!display || display === 'none') {{\n",
       "            console.log([gd, 'removed!']);\n",
       "            Plotly.purge(gd);\n",
       "            observer.disconnect();\n",
       "        }}\n",
       "}});\n",
       "\n",
       "// Listen for the removal of the full notebook cells\n",
       "var notebookContainer = gd.closest('#notebook-container');\n",
       "if (notebookContainer) {{\n",
       "    x.observe(notebookContainer, {childList: true});\n",
       "}}\n",
       "\n",
       "// Listen for the clearing of the current output cell\n",
       "var outputEl = gd.closest('.output');\n",
       "if (outputEl) {{\n",
       "    x.observe(outputEl, {childList: true});\n",
       "}}\n",
       "\n",
       "                        })                };                });            </script>        </div>"
      ]
     },
     "metadata": {},
     "output_type": "display_data"
    }
   ],
   "source": [
    "fig = px.line(df_plot, x='index', y='value',line_dash='sta_cat_prefix', color='sta_cat_suffix', height=500, width=1200,\n",
    "                      labels={'index': 'return (bps)', 'value': 'probability density'},\n",
    "                      hover_data={'sta_cat_prefix':False, 'sta_cat_suffix': False, 'value': ':.2f'},\n",
    "                      category_orders={'sta_cat_prefix':['actualRet90s']})\n",
    "fig.update_layout(font_family='sans-serif', legend=dict(title_text=\"\", bgcolor=\"LightSteelBlue\"))"
   ]
  },
  {
   "cell_type": "code",
   "execution_count": 407,
   "id": "2dacb6aa-b0c0-4821-a091-acdd5e7e75bc",
   "metadata": {},
   "outputs": [
    {
     "data": {
      "text/plain": [
       "'1.2.5'"
      ]
     },
     "execution_count": 407,
     "metadata": {},
     "output_type": "execute_result"
    }
   ],
   "source": [
    "pd.__version__"
   ]
  },
  {
   "cell_type": "code",
   "execution_count": 406,
   "id": "10d7a081-4388-4880-a6bb-ffac8e668a91",
   "metadata": {},
   "outputs": [
    {
     "data": {
      "application/vnd.plotly.v1+json": {
       "config": {
        "plotlyServerURL": "https://plot.ly"
       },
       "data": [
        {
         "customdata": [
          [
           "actualRet90s",
           "l2"
          ],
          [
           "actualRet90s",
           "l2"
          ],
          [
           "actualRet90s",
           "l2"
          ],
          [
           "actualRet90s",
           "l2"
          ],
          [
           "actualRet90s",
           "l2"
          ],
          [
           "actualRet90s",
           "l2"
          ],
          [
           "actualRet90s",
           "l2"
          ],
          [
           "actualRet90s",
           "l2"
          ],
          [
           "actualRet90s",
           "l2"
          ],
          [
           "actualRet90s",
           "l2"
          ],
          [
           "actualRet90s",
           "l2"
          ],
          [
           "actualRet90s",
           "l2"
          ],
          [
           "actualRet90s",
           "l2"
          ],
          [
           "actualRet90s",
           "l2"
          ],
          [
           "actualRet90s",
           "l2"
          ],
          [
           "actualRet90s",
           "l2"
          ],
          [
           "actualRet90s",
           "l2"
          ],
          [
           "actualRet90s",
           "l2"
          ],
          [
           "actualRet90s",
           "l2"
          ],
          [
           "actualRet90s",
           "l2"
          ],
          [
           "actualRet90s",
           "l2"
          ],
          [
           "actualRet90s",
           "l2"
          ],
          [
           "actualRet90s",
           "l2"
          ],
          [
           "actualRet90s",
           "l2"
          ],
          [
           "actualRet90s",
           "l2"
          ],
          [
           "actualRet90s",
           "l2"
          ],
          [
           "actualRet90s",
           "l2"
          ],
          [
           "actualRet90s",
           "l2"
          ],
          [
           "actualRet90s",
           "l2"
          ],
          [
           "actualRet90s",
           "l2"
          ],
          [
           "actualRet90s",
           "l2"
          ],
          [
           "actualRet90s",
           "l2"
          ],
          [
           "actualRet90s",
           "l2"
          ],
          [
           "actualRet90s",
           "l2"
          ],
          [
           "actualRet90s",
           "l2"
          ],
          [
           "actualRet90s",
           "l2"
          ],
          [
           "actualRet90s",
           "l2"
          ],
          [
           "actualRet90s",
           "l2"
          ],
          [
           "actualRet90s",
           "l2"
          ],
          [
           "actualRet90s",
           "l2"
          ],
          [
           "actualRet90s",
           "l2"
          ],
          [
           "actualRet90s",
           "l2"
          ],
          [
           "actualRet90s",
           "l2"
          ],
          [
           "actualRet90s",
           "l2"
          ],
          [
           "actualRet90s",
           "l2"
          ],
          [
           "actualRet90s",
           "l2"
          ],
          [
           "actualRet90s",
           "l2"
          ],
          [
           "actualRet90s",
           "l2"
          ],
          [
           "actualRet90s",
           "l2"
          ],
          [
           "actualRet90s",
           "l2"
          ],
          [
           "actualRet90s",
           "l2"
          ],
          [
           "actualRet90s",
           "l2"
          ],
          [
           "actualRet90s",
           "l2"
          ],
          [
           "actualRet90s",
           "l2"
          ],
          [
           "actualRet90s",
           "l2"
          ],
          [
           "actualRet90s",
           "l2"
          ],
          [
           "actualRet90s",
           "l2"
          ],
          [
           "actualRet90s",
           "l2"
          ],
          [
           "actualRet90s",
           "l2"
          ],
          [
           "actualRet90s",
           "l2"
          ]
         ],
         "hovertemplate": "return (bps)=%{x}<br>probability density=%{y:.2f}<extra></extra>",
         "legendgroup": "l2, actualRet90s",
         "line": {
          "color": "#636efa",
          "dash": "solid"
         },
         "mode": "lines",
         "name": "l2, actualRet90s",
         "orientation": "v",
         "showlegend": true,
         "type": "scatter",
         "x": [
          -29.5,
          -28.5,
          -27.5,
          -26.5,
          -25.5,
          -24.5,
          -23.5,
          -22.5,
          -21.5,
          -20.5,
          -19.5,
          -18.5,
          -17.5,
          -16.5,
          -15.5,
          -14.5,
          -13.5,
          -12.5,
          -11.5,
          -10.5,
          -9.5,
          -8.5,
          -7.5,
          -6.5,
          -5.5,
          -4.5,
          -3.5,
          -2.5,
          -1.5,
          -0.5,
          0.5,
          1.5,
          2.5,
          3.5,
          4.5,
          5.5,
          6.5,
          7.5,
          8.5,
          9.5,
          10.5,
          11.5,
          12.5,
          13.5,
          14.5,
          15.5,
          16.5,
          17.5,
          18.5,
          19.5,
          20.5,
          21.5,
          22.5,
          23.5,
          24.5,
          25.5,
          26.5,
          27.5,
          28.5,
          29.5
         ],
         "xaxis": "x",
         "y": [
          0.007885737650225644,
          0.008542182956675656,
          0.00928484182436026,
          0.010183970778360368,
          0.011141040034407874,
          0.012049572560945358,
          0.013020887894342834,
          0.013977474686811224,
          0.015223678111664713,
          0.01656270663568881,
          0.017970477285226043,
          0.019327727743872453,
          0.020537255002202492,
          0.021846536072769873,
          0.02320824485226773,
          0.024753883936792374,
          0.026242628057024372,
          0.02769611213068273,
          0.02912687574356907,
          0.03024080820440395,
          0.031027813516068856,
          0.031801689564224335,
          0.032341762868489714,
          0.03253277377326554,
          0.03233509325623399,
          0.03192337760028995,
          0.030834872756976564,
          0.029316497331927267,
          0.02900872130649493,
          0.03502289338822709,
          0.039731688780578395,
          0.02673087226457781,
          0.02273577452339813,
          0.020628547832783877,
          0.0189804254429956,
          0.0172364089496029,
          0.015926082541280768,
          0.014698918558780865,
          0.013591914811012717,
          0.01248281592047971,
          0.011568569774334004,
          0.01072067577208267,
          0.009925799156469612,
          0.009163725596981,
          0.008428352822792102,
          0.0077785771285978165,
          0.007188050642272045,
          0.006688057553116091,
          0.006215908866632566,
          0.005768982303923875,
          0.005338933031973478,
          0.004920427147878938,
          0.0045593567659758675,
          0.004239639766960442,
          0.003932113907828389,
          0.0036579048391874288,
          0.0033915224019409975,
          0.003144527852966401,
          0.002926985918594617,
          0.0027303015995088233
         ],
         "yaxis": "y"
        },
        {
         "customdata": [
          [
           "sta_90_1_1_1",
           "l2"
          ],
          [
           "sta_90_1_1_1",
           "l2"
          ],
          [
           "sta_90_1_1_1",
           "l2"
          ],
          [
           "sta_90_1_1_1",
           "l2"
          ],
          [
           "sta_90_1_1_1",
           "l2"
          ],
          [
           "sta_90_1_1_1",
           "l2"
          ],
          [
           "sta_90_1_1_1",
           "l2"
          ],
          [
           "sta_90_1_1_1",
           "l2"
          ],
          [
           "sta_90_1_1_1",
           "l2"
          ],
          [
           "sta_90_1_1_1",
           "l2"
          ],
          [
           "sta_90_1_1_1",
           "l2"
          ],
          [
           "sta_90_1_1_1",
           "l2"
          ],
          [
           "sta_90_1_1_1",
           "l2"
          ],
          [
           "sta_90_1_1_1",
           "l2"
          ],
          [
           "sta_90_1_1_1",
           "l2"
          ],
          [
           "sta_90_1_1_1",
           "l2"
          ],
          [
           "sta_90_1_1_1",
           "l2"
          ],
          [
           "sta_90_1_1_1",
           "l2"
          ],
          [
           "sta_90_1_1_1",
           "l2"
          ],
          [
           "sta_90_1_1_1",
           "l2"
          ],
          [
           "sta_90_1_1_1",
           "l2"
          ],
          [
           "sta_90_1_1_1",
           "l2"
          ],
          [
           "sta_90_1_1_1",
           "l2"
          ],
          [
           "sta_90_1_1_1",
           "l2"
          ],
          [
           "sta_90_1_1_1",
           "l2"
          ],
          [
           "sta_90_1_1_1",
           "l2"
          ],
          [
           "sta_90_1_1_1",
           "l2"
          ],
          [
           "sta_90_1_1_1",
           "l2"
          ],
          [
           "sta_90_1_1_1",
           "l2"
          ],
          [
           "sta_90_1_1_1",
           "l2"
          ],
          [
           "sta_90_1_1_1",
           "l2"
          ],
          [
           "sta_90_1_1_1",
           "l2"
          ],
          [
           "sta_90_1_1_1",
           "l2"
          ],
          [
           "sta_90_1_1_1",
           "l2"
          ],
          [
           "sta_90_1_1_1",
           "l2"
          ],
          [
           "sta_90_1_1_1",
           "l2"
          ],
          [
           "sta_90_1_1_1",
           "l2"
          ],
          [
           "sta_90_1_1_1",
           "l2"
          ],
          [
           "sta_90_1_1_1",
           "l2"
          ],
          [
           "sta_90_1_1_1",
           "l2"
          ],
          [
           "sta_90_1_1_1",
           "l2"
          ],
          [
           "sta_90_1_1_1",
           "l2"
          ],
          [
           "sta_90_1_1_1",
           "l2"
          ],
          [
           "sta_90_1_1_1",
           "l2"
          ],
          [
           "sta_90_1_1_1",
           "l2"
          ],
          [
           "sta_90_1_1_1",
           "l2"
          ],
          [
           "sta_90_1_1_1",
           "l2"
          ],
          [
           "sta_90_1_1_1",
           "l2"
          ],
          [
           "sta_90_1_1_1",
           "l2"
          ],
          [
           "sta_90_1_1_1",
           "l2"
          ],
          [
           "sta_90_1_1_1",
           "l2"
          ],
          [
           "sta_90_1_1_1",
           "l2"
          ],
          [
           "sta_90_1_1_1",
           "l2"
          ],
          [
           "sta_90_1_1_1",
           "l2"
          ],
          [
           "sta_90_1_1_1",
           "l2"
          ],
          [
           "sta_90_1_1_1",
           "l2"
          ],
          [
           "sta_90_1_1_1",
           "l2"
          ],
          [
           "sta_90_1_1_1",
           "l2"
          ],
          [
           "sta_90_1_1_1",
           "l2"
          ],
          [
           "sta_90_1_1_1",
           "l2"
          ]
         ],
         "hovertemplate": "return (bps)=%{x}<br>probability density=%{y:.2f}<extra></extra>",
         "legendgroup": "l2, sta_90_1_1_1",
         "line": {
          "color": "#636efa",
          "dash": "dot"
         },
         "mode": "lines",
         "name": "l2, sta_90_1_1_1",
         "orientation": "v",
         "showlegend": true,
         "type": "scatter",
         "x": [
          -29.5,
          -28.5,
          -27.5,
          -26.5,
          -25.5,
          -24.5,
          -23.5,
          -22.5,
          -21.5,
          -20.5,
          -19.5,
          -18.5,
          -17.5,
          -16.5,
          -15.5,
          -14.5,
          -13.5,
          -12.5,
          -11.5,
          -10.5,
          -9.5,
          -8.5,
          -7.5,
          -6.5,
          -5.5,
          -4.5,
          -3.5,
          -2.5,
          -1.5,
          -0.5,
          0.5,
          1.5,
          2.5,
          3.5,
          4.5,
          5.5,
          6.5,
          7.5,
          8.5,
          9.5,
          10.5,
          11.5,
          12.5,
          13.5,
          14.5,
          15.5,
          16.5,
          17.5,
          18.5,
          19.5,
          20.5,
          21.5,
          22.5,
          23.5,
          24.5,
          25.5,
          26.5,
          27.5,
          28.5,
          29.5
         ],
         "xaxis": "x",
         "y": [
          0.00286893257579774,
          0.00327833754255843,
          0.0037562250918540103,
          0.004302420096321062,
          0.004937824979713344,
          0.005649527017768154,
          0.006491948011597495,
          0.007458647165946763,
          0.008551488614306567,
          0.009824680113233617,
          0.011292558756213086,
          0.012963351637606441,
          0.014890145698844517,
          0.01709315063766578,
          0.019605099704152675,
          0.022511929841394114,
          0.0257809194744652,
          0.02945789748851288,
          0.033616522452590857,
          0.038098144542318975,
          0.042968884066685586,
          0.0480507221149165,
          0.05316195820988654,
          0.05787980765426988,
          0.061757088563156926,
          0.06408676117807897,
          0.0641230242174641,
          0.061311899238471114,
          0.05553338507996668,
          0.04738119463769198,
          0.038344891213936846,
          0.02973099109902722,
          0.022412636518055182,
          0.01667910284991491,
          0.012374094760334447,
          0.00921475431535909,
          0.006912537779301827,
          0.005243184834007688,
          0.004019363684687821,
          0.003120131374165617,
          0.0024414817071666014,
          0.0019346047416465288,
          0.0015495424784009683,
          0.001252269616577357,
          0.001027507266647254,
          0.0008435495923935913,
          0.0007008130077693854,
          0.0005854313173111021,
          0.0004909403754490163,
          0.00041607148172814295,
          0.0003547263121823416,
          0.00030300925590535406,
          0.00026112268229490804,
          0.0002236804519960972,
          0.00019577293370561053,
          0.00017120840219681787,
          0.0001515630037404831,
          0.00013516719080535264,
          0.00011981825033154431,
          0.00010555509951092882
         ],
         "yaxis": "y"
        },
        {
         "customdata": [
          [
           "actualRet90s",
           "mbd"
          ],
          [
           "actualRet90s",
           "mbd"
          ],
          [
           "actualRet90s",
           "mbd"
          ],
          [
           "actualRet90s",
           "mbd"
          ],
          [
           "actualRet90s",
           "mbd"
          ],
          [
           "actualRet90s",
           "mbd"
          ],
          [
           "actualRet90s",
           "mbd"
          ],
          [
           "actualRet90s",
           "mbd"
          ],
          [
           "actualRet90s",
           "mbd"
          ],
          [
           "actualRet90s",
           "mbd"
          ],
          [
           "actualRet90s",
           "mbd"
          ],
          [
           "actualRet90s",
           "mbd"
          ],
          [
           "actualRet90s",
           "mbd"
          ],
          [
           "actualRet90s",
           "mbd"
          ],
          [
           "actualRet90s",
           "mbd"
          ],
          [
           "actualRet90s",
           "mbd"
          ],
          [
           "actualRet90s",
           "mbd"
          ],
          [
           "actualRet90s",
           "mbd"
          ],
          [
           "actualRet90s",
           "mbd"
          ],
          [
           "actualRet90s",
           "mbd"
          ],
          [
           "actualRet90s",
           "mbd"
          ],
          [
           "actualRet90s",
           "mbd"
          ],
          [
           "actualRet90s",
           "mbd"
          ],
          [
           "actualRet90s",
           "mbd"
          ],
          [
           "actualRet90s",
           "mbd"
          ],
          [
           "actualRet90s",
           "mbd"
          ],
          [
           "actualRet90s",
           "mbd"
          ],
          [
           "actualRet90s",
           "mbd"
          ],
          [
           "actualRet90s",
           "mbd"
          ],
          [
           "actualRet90s",
           "mbd"
          ],
          [
           "actualRet90s",
           "mbd"
          ],
          [
           "actualRet90s",
           "mbd"
          ],
          [
           "actualRet90s",
           "mbd"
          ],
          [
           "actualRet90s",
           "mbd"
          ],
          [
           "actualRet90s",
           "mbd"
          ],
          [
           "actualRet90s",
           "mbd"
          ],
          [
           "actualRet90s",
           "mbd"
          ],
          [
           "actualRet90s",
           "mbd"
          ],
          [
           "actualRet90s",
           "mbd"
          ],
          [
           "actualRet90s",
           "mbd"
          ],
          [
           "actualRet90s",
           "mbd"
          ],
          [
           "actualRet90s",
           "mbd"
          ],
          [
           "actualRet90s",
           "mbd"
          ],
          [
           "actualRet90s",
           "mbd"
          ],
          [
           "actualRet90s",
           "mbd"
          ],
          [
           "actualRet90s",
           "mbd"
          ],
          [
           "actualRet90s",
           "mbd"
          ],
          [
           "actualRet90s",
           "mbd"
          ],
          [
           "actualRet90s",
           "mbd"
          ],
          [
           "actualRet90s",
           "mbd"
          ],
          [
           "actualRet90s",
           "mbd"
          ],
          [
           "actualRet90s",
           "mbd"
          ],
          [
           "actualRet90s",
           "mbd"
          ],
          [
           "actualRet90s",
           "mbd"
          ],
          [
           "actualRet90s",
           "mbd"
          ],
          [
           "actualRet90s",
           "mbd"
          ],
          [
           "actualRet90s",
           "mbd"
          ],
          [
           "actualRet90s",
           "mbd"
          ],
          [
           "actualRet90s",
           "mbd"
          ],
          [
           "actualRet90s",
           "mbd"
          ]
         ],
         "hovertemplate": "return (bps)=%{x}<br>probability density=%{y:.2f}<extra></extra>",
         "legendgroup": "mbd, actualRet90s",
         "line": {
          "color": "#EF553B",
          "dash": "solid"
         },
         "mode": "lines",
         "name": "mbd, actualRet90s",
         "orientation": "v",
         "showlegend": true,
         "type": "scatter",
         "x": [
          -29.5,
          -28.5,
          -27.5,
          -26.5,
          -25.5,
          -24.5,
          -23.5,
          -22.5,
          -21.5,
          -20.5,
          -19.5,
          -18.5,
          -17.5,
          -16.5,
          -15.5,
          -14.5,
          -13.5,
          -12.5,
          -11.5,
          -10.5,
          -9.5,
          -8.5,
          -7.5,
          -6.5,
          -5.5,
          -4.5,
          -3.5,
          -2.5,
          -1.5,
          -0.5,
          0.5,
          1.5,
          2.5,
          3.5,
          4.5,
          5.5,
          6.5,
          7.5,
          8.5,
          9.5,
          10.5,
          11.5,
          12.5,
          13.5,
          14.5,
          15.5,
          16.5,
          17.5,
          18.5,
          19.5,
          20.5,
          21.5,
          22.5,
          23.5,
          24.5,
          25.5,
          26.5,
          27.5,
          28.5,
          29.5
         ],
         "xaxis": "x",
         "y": [
          0.009834690217741611,
          0.01040824807473222,
          0.011037647891272286,
          0.011739329107192626,
          0.012481319119642795,
          0.013186905534478408,
          0.013863068457983905,
          0.014583478100515818,
          0.015481537964971127,
          0.016385891849777318,
          0.01738875702561286,
          0.018349825868561414,
          0.019140131971496794,
          0.019987010490872897,
          0.020856506551303684,
          0.021873614249926527,
          0.022824735124156944,
          0.02378089542990905,
          0.024601828031765405,
          0.02521817890428052,
          0.02578451538790415,
          0.026311876976914048,
          0.02666338370387681,
          0.026792380061399446,
          0.02657207326464649,
          0.02640453130152595,
          0.02570815296968869,
          0.02454084015039576,
          0.024788827214477876,
          0.0317591768799543,
          0.03595207098400145,
          0.02478041836335524,
          0.021957793166979225,
          0.020855036208692636,
          0.019872595539327055,
          0.018630370122861773,
          0.017783536529080348,
          0.016956244459710494,
          0.016133588600784156,
          0.015228835931995565,
          0.014465664888246512,
          0.01375999638713914,
          0.013094698247265417,
          0.012371763897239919,
          0.011671477038665555,
          0.011051143872696146,
          0.010482460720046733,
          0.009972025542128494,
          0.009530128518670885,
          0.009048613776349747,
          0.008546615736039685,
          0.008068784892482254,
          0.007637688869404714,
          0.007259433110587687,
          0.006922192201165019,
          0.006571468066968834,
          0.006237587702955575,
          0.005900790503109987,
          0.005588427835037223,
          0.005319190410034804
         ],
         "yaxis": "y"
        },
        {
         "customdata": [
          [
           "sta_90_1_1_1",
           "mbd"
          ],
          [
           "sta_90_1_1_1",
           "mbd"
          ],
          [
           "sta_90_1_1_1",
           "mbd"
          ],
          [
           "sta_90_1_1_1",
           "mbd"
          ],
          [
           "sta_90_1_1_1",
           "mbd"
          ],
          [
           "sta_90_1_1_1",
           "mbd"
          ],
          [
           "sta_90_1_1_1",
           "mbd"
          ],
          [
           "sta_90_1_1_1",
           "mbd"
          ],
          [
           "sta_90_1_1_1",
           "mbd"
          ],
          [
           "sta_90_1_1_1",
           "mbd"
          ],
          [
           "sta_90_1_1_1",
           "mbd"
          ],
          [
           "sta_90_1_1_1",
           "mbd"
          ],
          [
           "sta_90_1_1_1",
           "mbd"
          ],
          [
           "sta_90_1_1_1",
           "mbd"
          ],
          [
           "sta_90_1_1_1",
           "mbd"
          ],
          [
           "sta_90_1_1_1",
           "mbd"
          ],
          [
           "sta_90_1_1_1",
           "mbd"
          ],
          [
           "sta_90_1_1_1",
           "mbd"
          ],
          [
           "sta_90_1_1_1",
           "mbd"
          ],
          [
           "sta_90_1_1_1",
           "mbd"
          ],
          [
           "sta_90_1_1_1",
           "mbd"
          ],
          [
           "sta_90_1_1_1",
           "mbd"
          ],
          [
           "sta_90_1_1_1",
           "mbd"
          ],
          [
           "sta_90_1_1_1",
           "mbd"
          ],
          [
           "sta_90_1_1_1",
           "mbd"
          ],
          [
           "sta_90_1_1_1",
           "mbd"
          ],
          [
           "sta_90_1_1_1",
           "mbd"
          ],
          [
           "sta_90_1_1_1",
           "mbd"
          ],
          [
           "sta_90_1_1_1",
           "mbd"
          ],
          [
           "sta_90_1_1_1",
           "mbd"
          ],
          [
           "sta_90_1_1_1",
           "mbd"
          ],
          [
           "sta_90_1_1_1",
           "mbd"
          ],
          [
           "sta_90_1_1_1",
           "mbd"
          ],
          [
           "sta_90_1_1_1",
           "mbd"
          ],
          [
           "sta_90_1_1_1",
           "mbd"
          ],
          [
           "sta_90_1_1_1",
           "mbd"
          ],
          [
           "sta_90_1_1_1",
           "mbd"
          ],
          [
           "sta_90_1_1_1",
           "mbd"
          ],
          [
           "sta_90_1_1_1",
           "mbd"
          ],
          [
           "sta_90_1_1_1",
           "mbd"
          ],
          [
           "sta_90_1_1_1",
           "mbd"
          ],
          [
           "sta_90_1_1_1",
           "mbd"
          ],
          [
           "sta_90_1_1_1",
           "mbd"
          ],
          [
           "sta_90_1_1_1",
           "mbd"
          ],
          [
           "sta_90_1_1_1",
           "mbd"
          ],
          [
           "sta_90_1_1_1",
           "mbd"
          ],
          [
           "sta_90_1_1_1",
           "mbd"
          ],
          [
           "sta_90_1_1_1",
           "mbd"
          ],
          [
           "sta_90_1_1_1",
           "mbd"
          ],
          [
           "sta_90_1_1_1",
           "mbd"
          ],
          [
           "sta_90_1_1_1",
           "mbd"
          ],
          [
           "sta_90_1_1_1",
           "mbd"
          ],
          [
           "sta_90_1_1_1",
           "mbd"
          ],
          [
           "sta_90_1_1_1",
           "mbd"
          ],
          [
           "sta_90_1_1_1",
           "mbd"
          ],
          [
           "sta_90_1_1_1",
           "mbd"
          ],
          [
           "sta_90_1_1_1",
           "mbd"
          ],
          [
           "sta_90_1_1_1",
           "mbd"
          ],
          [
           "sta_90_1_1_1",
           "mbd"
          ],
          [
           "sta_90_1_1_1",
           "mbd"
          ]
         ],
         "hovertemplate": "return (bps)=%{x}<br>probability density=%{y:.2f}<extra></extra>",
         "legendgroup": "mbd, sta_90_1_1_1",
         "line": {
          "color": "#EF553B",
          "dash": "dot"
         },
         "mode": "lines",
         "name": "mbd, sta_90_1_1_1",
         "orientation": "v",
         "showlegend": true,
         "type": "scatter",
         "x": [
          -29.5,
          -28.5,
          -27.5,
          -26.5,
          -25.5,
          -24.5,
          -23.5,
          -22.5,
          -21.5,
          -20.5,
          -19.5,
          -18.5,
          -17.5,
          -16.5,
          -15.5,
          -14.5,
          -13.5,
          -12.5,
          -11.5,
          -10.5,
          -9.5,
          -8.5,
          -7.5,
          -6.5,
          -5.5,
          -4.5,
          -3.5,
          -2.5,
          -1.5,
          -0.5,
          0.5,
          1.5,
          2.5,
          3.5,
          4.5,
          5.5,
          6.5,
          7.5,
          8.5,
          9.5,
          10.5,
          11.5,
          12.5,
          13.5,
          14.5,
          15.5,
          16.5,
          17.5,
          18.5,
          19.5,
          20.5,
          21.5,
          22.5,
          23.5,
          24.5,
          25.5,
          26.5,
          27.5,
          28.5,
          29.5
         ],
         "xaxis": "x",
         "y": [
          0.004386312074798415,
          0.004877213590762756,
          0.005407057649807692,
          0.00600074102421522,
          0.00668134242847329,
          0.007423743355213807,
          0.008268296191867471,
          0.00922074226300072,
          0.010285449155117853,
          0.011484515615573438,
          0.012839253699424248,
          0.014355942077757623,
          0.01604523337986308,
          0.017943756797712252,
          0.020072268774307084,
          0.02245639585372635,
          0.025101993626318403,
          0.0280183023283435,
          0.031222176375024138,
          0.034675324835582534,
          0.03833785323527537,
          0.042100000582585576,
          0.04585990126922459,
          0.04932943094024319,
          0.05219644393969836,
          0.05405557837083574,
          0.054432453680724587,
          0.05295579230845036,
          0.0494996929022155,
          0.04439736297768319,
          0.0383068353852335,
          0.032072560164794366,
          0.026322677558548963,
          0.021358912098173626,
          0.0172638775192135,
          0.01397907993604438,
          0.011378850776231138,
          0.009297125752362386,
          0.007654726748387897,
          0.006344740921741326,
          0.005287744633614279,
          0.0044436977097719954,
          0.003761577292740206,
          0.0032000586739922843,
          0.002738774084096731,
          0.0023545381888211334,
          0.0020325503835584777,
          0.0017765330142081196,
          0.001551828292121372,
          0.0013580670836012658,
          0.0011988778581984458,
          0.0010567707300222257,
          0.0009414909985845337,
          0.0008401767545521963,
          0.0007498001670943786,
          0.0006749717967943975,
          0.0006120907847924061,
          0.000553105428872007,
          0.0005023132268608601,
          0.0004550747331452752
         ],
         "yaxis": "y"
        }
       ],
       "layout": {
        "font": {
         "family": "sans-serif"
        },
        "height": 500,
        "legend": {
         "bgcolor": "LightSteelBlue",
         "title": {
          "text": ""
         },
         "tracegroupgap": 0
        },
        "margin": {
         "t": 60
        },
        "template": {
         "data": {
          "bar": [
           {
            "error_x": {
             "color": "#2a3f5f"
            },
            "error_y": {
             "color": "#2a3f5f"
            },
            "marker": {
             "line": {
              "color": "#E5ECF6",
              "width": 0.5
             },
             "pattern": {
              "fillmode": "overlay",
              "size": 10,
              "solidity": 0.2
             }
            },
            "type": "bar"
           }
          ],
          "barpolar": [
           {
            "marker": {
             "line": {
              "color": "#E5ECF6",
              "width": 0.5
             },
             "pattern": {
              "fillmode": "overlay",
              "size": 10,
              "solidity": 0.2
             }
            },
            "type": "barpolar"
           }
          ],
          "carpet": [
           {
            "aaxis": {
             "endlinecolor": "#2a3f5f",
             "gridcolor": "white",
             "linecolor": "white",
             "minorgridcolor": "white",
             "startlinecolor": "#2a3f5f"
            },
            "baxis": {
             "endlinecolor": "#2a3f5f",
             "gridcolor": "white",
             "linecolor": "white",
             "minorgridcolor": "white",
             "startlinecolor": "#2a3f5f"
            },
            "type": "carpet"
           }
          ],
          "choropleth": [
           {
            "colorbar": {
             "outlinewidth": 0,
             "ticks": ""
            },
            "type": "choropleth"
           }
          ],
          "contour": [
           {
            "colorbar": {
             "outlinewidth": 0,
             "ticks": ""
            },
            "colorscale": [
             [
              0,
              "#0d0887"
             ],
             [
              0.1111111111111111,
              "#46039f"
             ],
             [
              0.2222222222222222,
              "#7201a8"
             ],
             [
              0.3333333333333333,
              "#9c179e"
             ],
             [
              0.4444444444444444,
              "#bd3786"
             ],
             [
              0.5555555555555556,
              "#d8576b"
             ],
             [
              0.6666666666666666,
              "#ed7953"
             ],
             [
              0.7777777777777778,
              "#fb9f3a"
             ],
             [
              0.8888888888888888,
              "#fdca26"
             ],
             [
              1,
              "#f0f921"
             ]
            ],
            "type": "contour"
           }
          ],
          "contourcarpet": [
           {
            "colorbar": {
             "outlinewidth": 0,
             "ticks": ""
            },
            "type": "contourcarpet"
           }
          ],
          "heatmap": [
           {
            "colorbar": {
             "outlinewidth": 0,
             "ticks": ""
            },
            "colorscale": [
             [
              0,
              "#0d0887"
             ],
             [
              0.1111111111111111,
              "#46039f"
             ],
             [
              0.2222222222222222,
              "#7201a8"
             ],
             [
              0.3333333333333333,
              "#9c179e"
             ],
             [
              0.4444444444444444,
              "#bd3786"
             ],
             [
              0.5555555555555556,
              "#d8576b"
             ],
             [
              0.6666666666666666,
              "#ed7953"
             ],
             [
              0.7777777777777778,
              "#fb9f3a"
             ],
             [
              0.8888888888888888,
              "#fdca26"
             ],
             [
              1,
              "#f0f921"
             ]
            ],
            "type": "heatmap"
           }
          ],
          "heatmapgl": [
           {
            "colorbar": {
             "outlinewidth": 0,
             "ticks": ""
            },
            "colorscale": [
             [
              0,
              "#0d0887"
             ],
             [
              0.1111111111111111,
              "#46039f"
             ],
             [
              0.2222222222222222,
              "#7201a8"
             ],
             [
              0.3333333333333333,
              "#9c179e"
             ],
             [
              0.4444444444444444,
              "#bd3786"
             ],
             [
              0.5555555555555556,
              "#d8576b"
             ],
             [
              0.6666666666666666,
              "#ed7953"
             ],
             [
              0.7777777777777778,
              "#fb9f3a"
             ],
             [
              0.8888888888888888,
              "#fdca26"
             ],
             [
              1,
              "#f0f921"
             ]
            ],
            "type": "heatmapgl"
           }
          ],
          "histogram": [
           {
            "marker": {
             "pattern": {
              "fillmode": "overlay",
              "size": 10,
              "solidity": 0.2
             }
            },
            "type": "histogram"
           }
          ],
          "histogram2d": [
           {
            "colorbar": {
             "outlinewidth": 0,
             "ticks": ""
            },
            "colorscale": [
             [
              0,
              "#0d0887"
             ],
             [
              0.1111111111111111,
              "#46039f"
             ],
             [
              0.2222222222222222,
              "#7201a8"
             ],
             [
              0.3333333333333333,
              "#9c179e"
             ],
             [
              0.4444444444444444,
              "#bd3786"
             ],
             [
              0.5555555555555556,
              "#d8576b"
             ],
             [
              0.6666666666666666,
              "#ed7953"
             ],
             [
              0.7777777777777778,
              "#fb9f3a"
             ],
             [
              0.8888888888888888,
              "#fdca26"
             ],
             [
              1,
              "#f0f921"
             ]
            ],
            "type": "histogram2d"
           }
          ],
          "histogram2dcontour": [
           {
            "colorbar": {
             "outlinewidth": 0,
             "ticks": ""
            },
            "colorscale": [
             [
              0,
              "#0d0887"
             ],
             [
              0.1111111111111111,
              "#46039f"
             ],
             [
              0.2222222222222222,
              "#7201a8"
             ],
             [
              0.3333333333333333,
              "#9c179e"
             ],
             [
              0.4444444444444444,
              "#bd3786"
             ],
             [
              0.5555555555555556,
              "#d8576b"
             ],
             [
              0.6666666666666666,
              "#ed7953"
             ],
             [
              0.7777777777777778,
              "#fb9f3a"
             ],
             [
              0.8888888888888888,
              "#fdca26"
             ],
             [
              1,
              "#f0f921"
             ]
            ],
            "type": "histogram2dcontour"
           }
          ],
          "mesh3d": [
           {
            "colorbar": {
             "outlinewidth": 0,
             "ticks": ""
            },
            "type": "mesh3d"
           }
          ],
          "parcoords": [
           {
            "line": {
             "colorbar": {
              "outlinewidth": 0,
              "ticks": ""
             }
            },
            "type": "parcoords"
           }
          ],
          "pie": [
           {
            "automargin": true,
            "type": "pie"
           }
          ],
          "scatter": [
           {
            "marker": {
             "colorbar": {
              "outlinewidth": 0,
              "ticks": ""
             }
            },
            "type": "scatter"
           }
          ],
          "scatter3d": [
           {
            "line": {
             "colorbar": {
              "outlinewidth": 0,
              "ticks": ""
             }
            },
            "marker": {
             "colorbar": {
              "outlinewidth": 0,
              "ticks": ""
             }
            },
            "type": "scatter3d"
           }
          ],
          "scattercarpet": [
           {
            "marker": {
             "colorbar": {
              "outlinewidth": 0,
              "ticks": ""
             }
            },
            "type": "scattercarpet"
           }
          ],
          "scattergeo": [
           {
            "marker": {
             "colorbar": {
              "outlinewidth": 0,
              "ticks": ""
             }
            },
            "type": "scattergeo"
           }
          ],
          "scattergl": [
           {
            "marker": {
             "colorbar": {
              "outlinewidth": 0,
              "ticks": ""
             }
            },
            "type": "scattergl"
           }
          ],
          "scattermapbox": [
           {
            "marker": {
             "colorbar": {
              "outlinewidth": 0,
              "ticks": ""
             }
            },
            "type": "scattermapbox"
           }
          ],
          "scatterpolar": [
           {
            "marker": {
             "colorbar": {
              "outlinewidth": 0,
              "ticks": ""
             }
            },
            "type": "scatterpolar"
           }
          ],
          "scatterpolargl": [
           {
            "marker": {
             "colorbar": {
              "outlinewidth": 0,
              "ticks": ""
             }
            },
            "type": "scatterpolargl"
           }
          ],
          "scatterternary": [
           {
            "marker": {
             "colorbar": {
              "outlinewidth": 0,
              "ticks": ""
             }
            },
            "type": "scatterternary"
           }
          ],
          "surface": [
           {
            "colorbar": {
             "outlinewidth": 0,
             "ticks": ""
            },
            "colorscale": [
             [
              0,
              "#0d0887"
             ],
             [
              0.1111111111111111,
              "#46039f"
             ],
             [
              0.2222222222222222,
              "#7201a8"
             ],
             [
              0.3333333333333333,
              "#9c179e"
             ],
             [
              0.4444444444444444,
              "#bd3786"
             ],
             [
              0.5555555555555556,
              "#d8576b"
             ],
             [
              0.6666666666666666,
              "#ed7953"
             ],
             [
              0.7777777777777778,
              "#fb9f3a"
             ],
             [
              0.8888888888888888,
              "#fdca26"
             ],
             [
              1,
              "#f0f921"
             ]
            ],
            "type": "surface"
           }
          ],
          "table": [
           {
            "cells": {
             "fill": {
              "color": "#EBF0F8"
             },
             "line": {
              "color": "white"
             }
            },
            "header": {
             "fill": {
              "color": "#C8D4E3"
             },
             "line": {
              "color": "white"
             }
            },
            "type": "table"
           }
          ]
         },
         "layout": {
          "annotationdefaults": {
           "arrowcolor": "#2a3f5f",
           "arrowhead": 0,
           "arrowwidth": 1
          },
          "autotypenumbers": "strict",
          "coloraxis": {
           "colorbar": {
            "outlinewidth": 0,
            "ticks": ""
           }
          },
          "colorscale": {
           "diverging": [
            [
             0,
             "#8e0152"
            ],
            [
             0.1,
             "#c51b7d"
            ],
            [
             0.2,
             "#de77ae"
            ],
            [
             0.3,
             "#f1b6da"
            ],
            [
             0.4,
             "#fde0ef"
            ],
            [
             0.5,
             "#f7f7f7"
            ],
            [
             0.6,
             "#e6f5d0"
            ],
            [
             0.7,
             "#b8e186"
            ],
            [
             0.8,
             "#7fbc41"
            ],
            [
             0.9,
             "#4d9221"
            ],
            [
             1,
             "#276419"
            ]
           ],
           "sequential": [
            [
             0,
             "#0d0887"
            ],
            [
             0.1111111111111111,
             "#46039f"
            ],
            [
             0.2222222222222222,
             "#7201a8"
            ],
            [
             0.3333333333333333,
             "#9c179e"
            ],
            [
             0.4444444444444444,
             "#bd3786"
            ],
            [
             0.5555555555555556,
             "#d8576b"
            ],
            [
             0.6666666666666666,
             "#ed7953"
            ],
            [
             0.7777777777777778,
             "#fb9f3a"
            ],
            [
             0.8888888888888888,
             "#fdca26"
            ],
            [
             1,
             "#f0f921"
            ]
           ],
           "sequentialminus": [
            [
             0,
             "#0d0887"
            ],
            [
             0.1111111111111111,
             "#46039f"
            ],
            [
             0.2222222222222222,
             "#7201a8"
            ],
            [
             0.3333333333333333,
             "#9c179e"
            ],
            [
             0.4444444444444444,
             "#bd3786"
            ],
            [
             0.5555555555555556,
             "#d8576b"
            ],
            [
             0.6666666666666666,
             "#ed7953"
            ],
            [
             0.7777777777777778,
             "#fb9f3a"
            ],
            [
             0.8888888888888888,
             "#fdca26"
            ],
            [
             1,
             "#f0f921"
            ]
           ]
          },
          "colorway": [
           "#636efa",
           "#EF553B",
           "#00cc96",
           "#ab63fa",
           "#FFA15A",
           "#19d3f3",
           "#FF6692",
           "#B6E880",
           "#FF97FF",
           "#FECB52"
          ],
          "font": {
           "color": "#2a3f5f"
          },
          "geo": {
           "bgcolor": "white",
           "lakecolor": "white",
           "landcolor": "#E5ECF6",
           "showlakes": true,
           "showland": true,
           "subunitcolor": "white"
          },
          "hoverlabel": {
           "align": "left"
          },
          "hovermode": "closest",
          "mapbox": {
           "style": "light"
          },
          "paper_bgcolor": "white",
          "plot_bgcolor": "#E5ECF6",
          "polar": {
           "angularaxis": {
            "gridcolor": "white",
            "linecolor": "white",
            "ticks": ""
           },
           "bgcolor": "#E5ECF6",
           "radialaxis": {
            "gridcolor": "white",
            "linecolor": "white",
            "ticks": ""
           }
          },
          "scene": {
           "xaxis": {
            "backgroundcolor": "#E5ECF6",
            "gridcolor": "white",
            "gridwidth": 2,
            "linecolor": "white",
            "showbackground": true,
            "ticks": "",
            "zerolinecolor": "white"
           },
           "yaxis": {
            "backgroundcolor": "#E5ECF6",
            "gridcolor": "white",
            "gridwidth": 2,
            "linecolor": "white",
            "showbackground": true,
            "ticks": "",
            "zerolinecolor": "white"
           },
           "zaxis": {
            "backgroundcolor": "#E5ECF6",
            "gridcolor": "white",
            "gridwidth": 2,
            "linecolor": "white",
            "showbackground": true,
            "ticks": "",
            "zerolinecolor": "white"
           }
          },
          "shapedefaults": {
           "line": {
            "color": "#2a3f5f"
           }
          },
          "ternary": {
           "aaxis": {
            "gridcolor": "white",
            "linecolor": "white",
            "ticks": ""
           },
           "baxis": {
            "gridcolor": "white",
            "linecolor": "white",
            "ticks": ""
           },
           "bgcolor": "#E5ECF6",
           "caxis": {
            "gridcolor": "white",
            "linecolor": "white",
            "ticks": ""
           }
          },
          "title": {
           "x": 0.05
          },
          "xaxis": {
           "automargin": true,
           "gridcolor": "white",
           "linecolor": "white",
           "ticks": "",
           "title": {
            "standoff": 15
           },
           "zerolinecolor": "white",
           "zerolinewidth": 2
          },
          "yaxis": {
           "automargin": true,
           "gridcolor": "white",
           "linecolor": "white",
           "ticks": "",
           "title": {
            "standoff": 15
           },
           "zerolinecolor": "white",
           "zerolinewidth": 2
          }
         }
        },
        "width": 1200,
        "xaxis": {
         "anchor": "y",
         "autorange": true,
         "domain": [
          0,
          1
         ],
         "range": [
          -29.5,
          29.5
         ],
         "title": {
          "text": "return (bps)"
         },
         "type": "linear"
        },
        "yaxis": {
         "anchor": "x",
         "autorange": true,
         "domain": [
          0,
          1
         ],
         "range": [
          -0.0034509709625975805,
          0.0676795502795726
         ],
         "title": {
          "text": "probability density"
         },
         "type": "linear"
        }
       }
      },
      "image/png": "[encoded data removed]",
      "text/html": [
       "<div>                            <div id=\"e9f8aa28-af16-4f57-9a78-16657c8e1ec6\" class=\"plotly-graph-div\" style=\"height:500px; width:1200px;\"></div>            <script type=\"text/javascript\">                require([\"plotly\"], function(Plotly) {                    window.PLOTLYENV=window.PLOTLYENV || {};                                    if (document.getElementById(\"e9f8aa28-af16-4f57-9a78-16657c8e1ec6\")) {                    Plotly.newPlot(                        \"e9f8aa28-af16-4f57-9a78-16657c8e1ec6\",                        [{\"customdata\":[[\"actualRet90s\",\"l2\"],[\"actualRet90s\",\"l2\"],[\"actualRet90s\",\"l2\"],[\"actualRet90s\",\"l2\"],[\"actualRet90s\",\"l2\"],[\"actualRet90s\",\"l2\"],[\"actualRet90s\",\"l2\"],[\"actualRet90s\",\"l2\"],[\"actualRet90s\",\"l2\"],[\"actualRet90s\",\"l2\"],[\"actualRet90s\",\"l2\"],[\"actualRet90s\",\"l2\"],[\"actualRet90s\",\"l2\"],[\"actualRet90s\",\"l2\"],[\"actualRet90s\",\"l2\"],[\"actualRet90s\",\"l2\"],[\"actualRet90s\",\"l2\"],[\"actualRet90s\",\"l2\"],[\"actualRet90s\",\"l2\"],[\"actualRet90s\",\"l2\"],[\"actualRet90s\",\"l2\"],[\"actualRet90s\",\"l2\"],[\"actualRet90s\",\"l2\"],[\"actualRet90s\",\"l2\"],[\"actualRet90s\",\"l2\"],[\"actualRet90s\",\"l2\"],[\"actualRet90s\",\"l2\"],[\"actualRet90s\",\"l2\"],[\"actualRet90s\",\"l2\"],[\"actualRet90s\",\"l2\"],[\"actualRet90s\",\"l2\"],[\"actualRet90s\",\"l2\"],[\"actualRet90s\",\"l2\"],[\"actualRet90s\",\"l2\"],[\"actualRet90s\",\"l2\"],[\"actualRet90s\",\"l2\"],[\"actualRet90s\",\"l2\"],[\"actualRet90s\",\"l2\"],[\"actualRet90s\",\"l2\"],[\"actualRet90s\",\"l2\"],[\"actualRet90s\",\"l2\"],[\"actualRet90s\",\"l2\"],[\"actualRet90s\",\"l2\"],[\"actualRet90s\",\"l2\"],[\"actualRet90s\",\"l2\"],[\"actualRet90s\",\"l2\"],[\"actualRet90s\",\"l2\"],[\"actualRet90s\",\"l2\"],[\"actualRet90s\",\"l2\"],[\"actualRet90s\",\"l2\"],[\"actualRet90s\",\"l2\"],[\"actualRet90s\",\"l2\"],[\"actualRet90s\",\"l2\"],[\"actualRet90s\",\"l2\"],[\"actualRet90s\",\"l2\"],[\"actualRet90s\",\"l2\"],[\"actualRet90s\",\"l2\"],[\"actualRet90s\",\"l2\"],[\"actualRet90s\",\"l2\"],[\"actualRet90s\",\"l2\"]],\"hovertemplate\":\"return (bps)=%{x}<br>probability density=%{y:.2f}<extra></extra>\",\"legendgroup\":\"l2, actualRet90s\",\"line\":{\"color\":\"#636efa\",\"dash\":\"solid\"},\"mode\":\"lines\",\"name\":\"l2, actualRet90s\",\"orientation\":\"v\",\"showlegend\":true,\"type\":\"scatter\",\"x\":[-29.5,-28.5,-27.5,-26.5,-25.5,-24.5,-23.5,-22.5,-21.5,-20.5,-19.5,-18.5,-17.5,-16.5,-15.5,-14.5,-13.5,-12.5,-11.5,-10.5,-9.5,-8.5,-7.5,-6.5,-5.5,-4.5,-3.5,-2.5,-1.5,-0.5,0.5,1.5,2.5,3.5,4.5,5.5,6.5,7.5,8.5,9.5,10.5,11.5,12.5,13.5,14.5,15.5,16.5,17.5,18.5,19.5,20.5,21.5,22.5,23.5,24.5,25.5,26.5,27.5,28.5,29.5],\"xaxis\":\"x\",\"y\":[0.007885737650225644,0.008542182956675656,0.00928484182436026,0.010183970778360368,0.011141040034407874,0.012049572560945358,0.013020887894342834,0.013977474686811224,0.015223678111664713,0.01656270663568881,0.017970477285226043,0.019327727743872453,0.020537255002202492,0.021846536072769873,0.02320824485226773,0.024753883936792374,0.026242628057024372,0.02769611213068273,0.02912687574356907,0.03024080820440395,0.031027813516068856,0.031801689564224335,0.032341762868489714,0.03253277377326554,0.03233509325623399,0.03192337760028995,0.030834872756976564,0.029316497331927267,0.02900872130649493,0.03502289338822709,0.039731688780578395,0.02673087226457781,0.02273577452339813,0.020628547832783877,0.0189804254429956,0.0172364089496029,0.015926082541280768,0.014698918558780865,0.013591914811012717,0.01248281592047971,0.011568569774334004,0.01072067577208267,0.009925799156469612,0.009163725596981,0.008428352822792102,0.0077785771285978165,0.007188050642272045,0.006688057553116091,0.006215908866632566,0.005768982303923875,0.005338933031973478,0.004920427147878938,0.0045593567659758675,0.004239639766960442,0.003932113907828389,0.0036579048391874288,0.0033915224019409975,0.003144527852966401,0.002926985918594617,0.0027303015995088233],\"yaxis\":\"y\"},{\"customdata\":[[\"sta_90_1_1_1\",\"l2\"],[\"sta_90_1_1_1\",\"l2\"],[\"sta_90_1_1_1\",\"l2\"],[\"sta_90_1_1_1\",\"l2\"],[\"sta_90_1_1_1\",\"l2\"],[\"sta_90_1_1_1\",\"l2\"],[\"sta_90_1_1_1\",\"l2\"],[\"sta_90_1_1_1\",\"l2\"],[\"sta_90_1_1_1\",\"l2\"],[\"sta_90_1_1_1\",\"l2\"],[\"sta_90_1_1_1\",\"l2\"],[\"sta_90_1_1_1\",\"l2\"],[\"sta_90_1_1_1\",\"l2\"],[\"sta_90_1_1_1\",\"l2\"],[\"sta_90_1_1_1\",\"l2\"],[\"sta_90_1_1_1\",\"l2\"],[\"sta_90_1_1_1\",\"l2\"],[\"sta_90_1_1_1\",\"l2\"],[\"sta_90_1_1_1\",\"l2\"],[\"sta_90_1_1_1\",\"l2\"],[\"sta_90_1_1_1\",\"l2\"],[\"sta_90_1_1_1\",\"l2\"],[\"sta_90_1_1_1\",\"l2\"],[\"sta_90_1_1_1\",\"l2\"],[\"sta_90_1_1_1\",\"l2\"],[\"sta_90_1_1_1\",\"l2\"],[\"sta_90_1_1_1\",\"l2\"],[\"sta_90_1_1_1\",\"l2\"],[\"sta_90_1_1_1\",\"l2\"],[\"sta_90_1_1_1\",\"l2\"],[\"sta_90_1_1_1\",\"l2\"],[\"sta_90_1_1_1\",\"l2\"],[\"sta_90_1_1_1\",\"l2\"],[\"sta_90_1_1_1\",\"l2\"],[\"sta_90_1_1_1\",\"l2\"],[\"sta_90_1_1_1\",\"l2\"],[\"sta_90_1_1_1\",\"l2\"],[\"sta_90_1_1_1\",\"l2\"],[\"sta_90_1_1_1\",\"l2\"],[\"sta_90_1_1_1\",\"l2\"],[\"sta_90_1_1_1\",\"l2\"],[\"sta_90_1_1_1\",\"l2\"],[\"sta_90_1_1_1\",\"l2\"],[\"sta_90_1_1_1\",\"l2\"],[\"sta_90_1_1_1\",\"l2\"],[\"sta_90_1_1_1\",\"l2\"],[\"sta_90_1_1_1\",\"l2\"],[\"sta_90_1_1_1\",\"l2\"],[\"sta_90_1_1_1\",\"l2\"],[\"sta_90_1_1_1\",\"l2\"],[\"sta_90_1_1_1\",\"l2\"],[\"sta_90_1_1_1\",\"l2\"],[\"sta_90_1_1_1\",\"l2\"],[\"sta_90_1_1_1\",\"l2\"],[\"sta_90_1_1_1\",\"l2\"],[\"sta_90_1_1_1\",\"l2\"],[\"sta_90_1_1_1\",\"l2\"],[\"sta_90_1_1_1\",\"l2\"],[\"sta_90_1_1_1\",\"l2\"],[\"sta_90_1_1_1\",\"l2\"]],\"hovertemplate\":\"return (bps)=%{x}<br>probability density=%{y:.2f}<extra></extra>\",\"legendgroup\":\"l2, sta_90_1_1_1\",\"line\":{\"color\":\"#636efa\",\"dash\":\"dot\"},\"mode\":\"lines\",\"name\":\"l2, sta_90_1_1_1\",\"orientation\":\"v\",\"showlegend\":true,\"type\":\"scatter\",\"x\":[-29.5,-28.5,-27.5,-26.5,-25.5,-24.5,-23.5,-22.5,-21.5,-20.5,-19.5,-18.5,-17.5,-16.5,-15.5,-14.5,-13.5,-12.5,-11.5,-10.5,-9.5,-8.5,-7.5,-6.5,-5.5,-4.5,-3.5,-2.5,-1.5,-0.5,0.5,1.5,2.5,3.5,4.5,5.5,6.5,7.5,8.5,9.5,10.5,11.5,12.5,13.5,14.5,15.5,16.5,17.5,18.5,19.5,20.5,21.5,22.5,23.5,24.5,25.5,26.5,27.5,28.5,29.5],\"xaxis\":\"x\",\"y\":[0.00286893257579774,0.00327833754255843,0.0037562250918540103,0.004302420096321062,0.004937824979713344,0.005649527017768154,0.006491948011597495,0.007458647165946763,0.008551488614306567,0.009824680113233617,0.011292558756213086,0.012963351637606441,0.014890145698844517,0.01709315063766578,0.019605099704152675,0.022511929841394114,0.0257809194744652,0.02945789748851288,0.033616522452590857,0.038098144542318975,0.042968884066685586,0.0480507221149165,0.05316195820988654,0.05787980765426988,0.061757088563156926,0.06408676117807897,0.0641230242174641,0.061311899238471114,0.05553338507996668,0.04738119463769198,0.038344891213936846,0.02973099109902722,0.022412636518055182,0.01667910284991491,0.012374094760334447,0.00921475431535909,0.006912537779301827,0.005243184834007688,0.004019363684687821,0.003120131374165617,0.0024414817071666014,0.0019346047416465288,0.0015495424784009683,0.001252269616577357,0.001027507266647254,0.0008435495923935913,0.0007008130077693854,0.0005854313173111021,0.0004909403754490163,0.00041607148172814295,0.0003547263121823416,0.00030300925590535406,0.00026112268229490804,0.0002236804519960972,0.00019577293370561053,0.00017120840219681787,0.0001515630037404831,0.00013516719080535264,0.00011981825033154431,0.00010555509951092882],\"yaxis\":\"y\"},{\"customdata\":[[\"actualRet90s\",\"mbd\"],[\"actualRet90s\",\"mbd\"],[\"actualRet90s\",\"mbd\"],[\"actualRet90s\",\"mbd\"],[\"actualRet90s\",\"mbd\"],[\"actualRet90s\",\"mbd\"],[\"actualRet90s\",\"mbd\"],[\"actualRet90s\",\"mbd\"],[\"actualRet90s\",\"mbd\"],[\"actualRet90s\",\"mbd\"],[\"actualRet90s\",\"mbd\"],[\"actualRet90s\",\"mbd\"],[\"actualRet90s\",\"mbd\"],[\"actualRet90s\",\"mbd\"],[\"actualRet90s\",\"mbd\"],[\"actualRet90s\",\"mbd\"],[\"actualRet90s\",\"mbd\"],[\"actualRet90s\",\"mbd\"],[\"actualRet90s\",\"mbd\"],[\"actualRet90s\",\"mbd\"],[\"actualRet90s\",\"mbd\"],[\"actualRet90s\",\"mbd\"],[\"actualRet90s\",\"mbd\"],[\"actualRet90s\",\"mbd\"],[\"actualRet90s\",\"mbd\"],[\"actualRet90s\",\"mbd\"],[\"actualRet90s\",\"mbd\"],[\"actualRet90s\",\"mbd\"],[\"actualRet90s\",\"mbd\"],[\"actualRet90s\",\"mbd\"],[\"actualRet90s\",\"mbd\"],[\"actualRet90s\",\"mbd\"],[\"actualRet90s\",\"mbd\"],[\"actualRet90s\",\"mbd\"],[\"actualRet90s\",\"mbd\"],[\"actualRet90s\",\"mbd\"],[\"actualRet90s\",\"mbd\"],[\"actualRet90s\",\"mbd\"],[\"actualRet90s\",\"mbd\"],[\"actualRet90s\",\"mbd\"],[\"actualRet90s\",\"mbd\"],[\"actualRet90s\",\"mbd\"],[\"actualRet90s\",\"mbd\"],[\"actualRet90s\",\"mbd\"],[\"actualRet90s\",\"mbd\"],[\"actualRet90s\",\"mbd\"],[\"actualRet90s\",\"mbd\"],[\"actualRet90s\",\"mbd\"],[\"actualRet90s\",\"mbd\"],[\"actualRet90s\",\"mbd\"],[\"actualRet90s\",\"mbd\"],[\"actualRet90s\",\"mbd\"],[\"actualRet90s\",\"mbd\"],[\"actualRet90s\",\"mbd\"],[\"actualRet90s\",\"mbd\"],[\"actualRet90s\",\"mbd\"],[\"actualRet90s\",\"mbd\"],[\"actualRet90s\",\"mbd\"],[\"actualRet90s\",\"mbd\"],[\"actualRet90s\",\"mbd\"]],\"hovertemplate\":\"return (bps)=%{x}<br>probability density=%{y:.2f}<extra></extra>\",\"legendgroup\":\"mbd, actualRet90s\",\"line\":{\"color\":\"#EF553B\",\"dash\":\"solid\"},\"mode\":\"lines\",\"name\":\"mbd, actualRet90s\",\"orientation\":\"v\",\"showlegend\":true,\"type\":\"scatter\",\"x\":[-29.5,-28.5,-27.5,-26.5,-25.5,-24.5,-23.5,-22.5,-21.5,-20.5,-19.5,-18.5,-17.5,-16.5,-15.5,-14.5,-13.5,-12.5,-11.5,-10.5,-9.5,-8.5,-7.5,-6.5,-5.5,-4.5,-3.5,-2.5,-1.5,-0.5,0.5,1.5,2.5,3.5,4.5,5.5,6.5,7.5,8.5,9.5,10.5,11.5,12.5,13.5,14.5,15.5,16.5,17.5,18.5,19.5,20.5,21.5,22.5,23.5,24.5,25.5,26.5,27.5,28.5,29.5],\"xaxis\":\"x\",\"y\":[0.009834690217741611,0.01040824807473222,0.011037647891272286,0.011739329107192626,0.012481319119642795,0.013186905534478408,0.013863068457983905,0.014583478100515818,0.015481537964971127,0.016385891849777318,0.01738875702561286,0.018349825868561414,0.019140131971496794,0.019987010490872897,0.020856506551303684,0.021873614249926527,0.022824735124156944,0.02378089542990905,0.024601828031765405,0.02521817890428052,0.02578451538790415,0.026311876976914048,0.02666338370387681,0.026792380061399446,0.02657207326464649,0.02640453130152595,0.02570815296968869,0.02454084015039576,0.024788827214477876,0.0317591768799543,0.03595207098400145,0.02478041836335524,0.021957793166979225,0.020855036208692636,0.019872595539327055,0.018630370122861773,0.017783536529080348,0.016956244459710494,0.016133588600784156,0.015228835931995565,0.014465664888246512,0.01375999638713914,0.013094698247265417,0.012371763897239919,0.011671477038665555,0.011051143872696146,0.010482460720046733,0.009972025542128494,0.009530128518670885,0.009048613776349747,0.008546615736039685,0.008068784892482254,0.007637688869404714,0.007259433110587687,0.006922192201165019,0.006571468066968834,0.006237587702955575,0.005900790503109987,0.005588427835037223,0.005319190410034804],\"yaxis\":\"y\"},{\"customdata\":[[\"sta_90_1_1_1\",\"mbd\"],[\"sta_90_1_1_1\",\"mbd\"],[\"sta_90_1_1_1\",\"mbd\"],[\"sta_90_1_1_1\",\"mbd\"],[\"sta_90_1_1_1\",\"mbd\"],[\"sta_90_1_1_1\",\"mbd\"],[\"sta_90_1_1_1\",\"mbd\"],[\"sta_90_1_1_1\",\"mbd\"],[\"sta_90_1_1_1\",\"mbd\"],[\"sta_90_1_1_1\",\"mbd\"],[\"sta_90_1_1_1\",\"mbd\"],[\"sta_90_1_1_1\",\"mbd\"],[\"sta_90_1_1_1\",\"mbd\"],[\"sta_90_1_1_1\",\"mbd\"],[\"sta_90_1_1_1\",\"mbd\"],[\"sta_90_1_1_1\",\"mbd\"],[\"sta_90_1_1_1\",\"mbd\"],[\"sta_90_1_1_1\",\"mbd\"],[\"sta_90_1_1_1\",\"mbd\"],[\"sta_90_1_1_1\",\"mbd\"],[\"sta_90_1_1_1\",\"mbd\"],[\"sta_90_1_1_1\",\"mbd\"],[\"sta_90_1_1_1\",\"mbd\"],[\"sta_90_1_1_1\",\"mbd\"],[\"sta_90_1_1_1\",\"mbd\"],[\"sta_90_1_1_1\",\"mbd\"],[\"sta_90_1_1_1\",\"mbd\"],[\"sta_90_1_1_1\",\"mbd\"],[\"sta_90_1_1_1\",\"mbd\"],[\"sta_90_1_1_1\",\"mbd\"],[\"sta_90_1_1_1\",\"mbd\"],[\"sta_90_1_1_1\",\"mbd\"],[\"sta_90_1_1_1\",\"mbd\"],[\"sta_90_1_1_1\",\"mbd\"],[\"sta_90_1_1_1\",\"mbd\"],[\"sta_90_1_1_1\",\"mbd\"],[\"sta_90_1_1_1\",\"mbd\"],[\"sta_90_1_1_1\",\"mbd\"],[\"sta_90_1_1_1\",\"mbd\"],[\"sta_90_1_1_1\",\"mbd\"],[\"sta_90_1_1_1\",\"mbd\"],[\"sta_90_1_1_1\",\"mbd\"],[\"sta_90_1_1_1\",\"mbd\"],[\"sta_90_1_1_1\",\"mbd\"],[\"sta_90_1_1_1\",\"mbd\"],[\"sta_90_1_1_1\",\"mbd\"],[\"sta_90_1_1_1\",\"mbd\"],[\"sta_90_1_1_1\",\"mbd\"],[\"sta_90_1_1_1\",\"mbd\"],[\"sta_90_1_1_1\",\"mbd\"],[\"sta_90_1_1_1\",\"mbd\"],[\"sta_90_1_1_1\",\"mbd\"],[\"sta_90_1_1_1\",\"mbd\"],[\"sta_90_1_1_1\",\"mbd\"],[\"sta_90_1_1_1\",\"mbd\"],[\"sta_90_1_1_1\",\"mbd\"],[\"sta_90_1_1_1\",\"mbd\"],[\"sta_90_1_1_1\",\"mbd\"],[\"sta_90_1_1_1\",\"mbd\"],[\"sta_90_1_1_1\",\"mbd\"]],\"hovertemplate\":\"return (bps)=%{x}<br>probability density=%{y:.2f}<extra></extra>\",\"legendgroup\":\"mbd, sta_90_1_1_1\",\"line\":{\"color\":\"#EF553B\",\"dash\":\"dot\"},\"mode\":\"lines\",\"name\":\"mbd, sta_90_1_1_1\",\"orientation\":\"v\",\"showlegend\":true,\"type\":\"scatter\",\"x\":[-29.5,-28.5,-27.5,-26.5,-25.5,-24.5,-23.5,-22.5,-21.5,-20.5,-19.5,-18.5,-17.5,-16.5,-15.5,-14.5,-13.5,-12.5,-11.5,-10.5,-9.5,-8.5,-7.5,-6.5,-5.5,-4.5,-3.5,-2.5,-1.5,-0.5,0.5,1.5,2.5,3.5,4.5,5.5,6.5,7.5,8.5,9.5,10.5,11.5,12.5,13.5,14.5,15.5,16.5,17.5,18.5,19.5,20.5,21.5,22.5,23.5,24.5,25.5,26.5,27.5,28.5,29.5],\"xaxis\":\"x\",\"y\":[0.004386312074798415,0.004877213590762756,0.005407057649807692,0.00600074102421522,0.00668134242847329,0.007423743355213807,0.008268296191867471,0.00922074226300072,0.010285449155117853,0.011484515615573438,0.012839253699424248,0.014355942077757623,0.01604523337986308,0.017943756797712252,0.020072268774307084,0.02245639585372635,0.025101993626318403,0.0280183023283435,0.031222176375024138,0.034675324835582534,0.03833785323527537,0.042100000582585576,0.04585990126922459,0.04932943094024319,0.05219644393969836,0.05405557837083574,0.054432453680724587,0.05295579230845036,0.0494996929022155,0.04439736297768319,0.0383068353852335,0.032072560164794366,0.026322677558548963,0.021358912098173626,0.0172638775192135,0.01397907993604438,0.011378850776231138,0.009297125752362386,0.007654726748387897,0.006344740921741326,0.005287744633614279,0.0044436977097719954,0.003761577292740206,0.0032000586739922843,0.002738774084096731,0.0023545381888211334,0.0020325503835584777,0.0017765330142081196,0.001551828292121372,0.0013580670836012658,0.0011988778581984458,0.0010567707300222257,0.0009414909985845337,0.0008401767545521963,0.0007498001670943786,0.0006749717967943975,0.0006120907847924061,0.000553105428872007,0.0005023132268608601,0.0004550747331452752],\"yaxis\":\"y\"}],                        {\"font\":{\"family\":\"sans-serif\"},\"height\":500,\"legend\":{\"bgcolor\":\"LightSteelBlue\",\"title\":{\"text\":\"\"},\"tracegroupgap\":0},\"margin\":{\"t\":60},\"template\":{\"data\":{\"bar\":[{\"error_x\":{\"color\":\"#2a3f5f\"},\"error_y\":{\"color\":\"#2a3f5f\"},\"marker\":{\"line\":{\"color\":\"#E5ECF6\",\"width\":0.5},\"pattern\":{\"fillmode\":\"overlay\",\"size\":10,\"solidity\":0.2}},\"type\":\"bar\"}],\"barpolar\":[{\"marker\":{\"line\":{\"color\":\"#E5ECF6\",\"width\":0.5},\"pattern\":{\"fillmode\":\"overlay\",\"size\":10,\"solidity\":0.2}},\"type\":\"barpolar\"}],\"carpet\":[{\"aaxis\":{\"endlinecolor\":\"#2a3f5f\",\"gridcolor\":\"white\",\"linecolor\":\"white\",\"minorgridcolor\":\"white\",\"startlinecolor\":\"#2a3f5f\"},\"baxis\":{\"endlinecolor\":\"#2a3f5f\",\"gridcolor\":\"white\",\"linecolor\":\"white\",\"minorgridcolor\":\"white\",\"startlinecolor\":\"#2a3f5f\"},\"type\":\"carpet\"}],\"choropleth\":[{\"colorbar\":{\"outlinewidth\":0,\"ticks\":\"\"},\"type\":\"choropleth\"}],\"contour\":[{\"colorbar\":{\"outlinewidth\":0,\"ticks\":\"\"},\"colorscale\":[[0.0,\"#0d0887\"],[0.1111111111111111,\"#46039f\"],[0.2222222222222222,\"#7201a8\"],[0.3333333333333333,\"#9c179e\"],[0.4444444444444444,\"#bd3786\"],[0.5555555555555556,\"#d8576b\"],[0.6666666666666666,\"#ed7953\"],[0.7777777777777778,\"#fb9f3a\"],[0.8888888888888888,\"#fdca26\"],[1.0,\"#f0f921\"]],\"type\":\"contour\"}],\"contourcarpet\":[{\"colorbar\":{\"outlinewidth\":0,\"ticks\":\"\"},\"type\":\"contourcarpet\"}],\"heatmap\":[{\"colorbar\":{\"outlinewidth\":0,\"ticks\":\"\"},\"colorscale\":[[0.0,\"#0d0887\"],[0.1111111111111111,\"#46039f\"],[0.2222222222222222,\"#7201a8\"],[0.3333333333333333,\"#9c179e\"],[0.4444444444444444,\"#bd3786\"],[0.5555555555555556,\"#d8576b\"],[0.6666666666666666,\"#ed7953\"],[0.7777777777777778,\"#fb9f3a\"],[0.8888888888888888,\"#fdca26\"],[1.0,\"#f0f921\"]],\"type\":\"heatmap\"}],\"heatmapgl\":[{\"colorbar\":{\"outlinewidth\":0,\"ticks\":\"\"},\"colorscale\":[[0.0,\"#0d0887\"],[0.1111111111111111,\"#46039f\"],[0.2222222222222222,\"#7201a8\"],[0.3333333333333333,\"#9c179e\"],[0.4444444444444444,\"#bd3786\"],[0.5555555555555556,\"#d8576b\"],[0.6666666666666666,\"#ed7953\"],[0.7777777777777778,\"#fb9f3a\"],[0.8888888888888888,\"#fdca26\"],[1.0,\"#f0f921\"]],\"type\":\"heatmapgl\"}],\"histogram\":[{\"marker\":{\"pattern\":{\"fillmode\":\"overlay\",\"size\":10,\"solidity\":0.2}},\"type\":\"histogram\"}],\"histogram2d\":[{\"colorbar\":{\"outlinewidth\":0,\"ticks\":\"\"},\"colorscale\":[[0.0,\"#0d0887\"],[0.1111111111111111,\"#46039f\"],[0.2222222222222222,\"#7201a8\"],[0.3333333333333333,\"#9c179e\"],[0.4444444444444444,\"#bd3786\"],[0.5555555555555556,\"#d8576b\"],[0.6666666666666666,\"#ed7953\"],[0.7777777777777778,\"#fb9f3a\"],[0.8888888888888888,\"#fdca26\"],[1.0,\"#f0f921\"]],\"type\":\"histogram2d\"}],\"histogram2dcontour\":[{\"colorbar\":{\"outlinewidth\":0,\"ticks\":\"\"},\"colorscale\":[[0.0,\"#0d0887\"],[0.1111111111111111,\"#46039f\"],[0.2222222222222222,\"#7201a8\"],[0.3333333333333333,\"#9c179e\"],[0.4444444444444444,\"#bd3786\"],[0.5555555555555556,\"#d8576b\"],[0.6666666666666666,\"#ed7953\"],[0.7777777777777778,\"#fb9f3a\"],[0.8888888888888888,\"#fdca26\"],[1.0,\"#f0f921\"]],\"type\":\"histogram2dcontour\"}],\"mesh3d\":[{\"colorbar\":{\"outlinewidth\":0,\"ticks\":\"\"},\"type\":\"mesh3d\"}],\"parcoords\":[{\"line\":{\"colorbar\":{\"outlinewidth\":0,\"ticks\":\"\"}},\"type\":\"parcoords\"}],\"pie\":[{\"automargin\":true,\"type\":\"pie\"}],\"scatter\":[{\"marker\":{\"colorbar\":{\"outlinewidth\":0,\"ticks\":\"\"}},\"type\":\"scatter\"}],\"scatter3d\":[{\"line\":{\"colorbar\":{\"outlinewidth\":0,\"ticks\":\"\"}},\"marker\":{\"colorbar\":{\"outlinewidth\":0,\"ticks\":\"\"}},\"type\":\"scatter3d\"}],\"scattercarpet\":[{\"marker\":{\"colorbar\":{\"outlinewidth\":0,\"ticks\":\"\"}},\"type\":\"scattercarpet\"}],\"scattergeo\":[{\"marker\":{\"colorbar\":{\"outlinewidth\":0,\"ticks\":\"\"}},\"type\":\"scattergeo\"}],\"scattergl\":[{\"marker\":{\"colorbar\":{\"outlinewidth\":0,\"ticks\":\"\"}},\"type\":\"scattergl\"}],\"scattermapbox\":[{\"marker\":{\"colorbar\":{\"outlinewidth\":0,\"ticks\":\"\"}},\"type\":\"scattermapbox\"}],\"scatterpolar\":[{\"marker\":{\"colorbar\":{\"outlinewidth\":0,\"ticks\":\"\"}},\"type\":\"scatterpolar\"}],\"scatterpolargl\":[{\"marker\":{\"colorbar\":{\"outlinewidth\":0,\"ticks\":\"\"}},\"type\":\"scatterpolargl\"}],\"scatterternary\":[{\"marker\":{\"colorbar\":{\"outlinewidth\":0,\"ticks\":\"\"}},\"type\":\"scatterternary\"}],\"surface\":[{\"colorbar\":{\"outlinewidth\":0,\"ticks\":\"\"},\"colorscale\":[[0.0,\"#0d0887\"],[0.1111111111111111,\"#46039f\"],[0.2222222222222222,\"#7201a8\"],[0.3333333333333333,\"#9c179e\"],[0.4444444444444444,\"#bd3786\"],[0.5555555555555556,\"#d8576b\"],[0.6666666666666666,\"#ed7953\"],[0.7777777777777778,\"#fb9f3a\"],[0.8888888888888888,\"#fdca26\"],[1.0,\"#f0f921\"]],\"type\":\"surface\"}],\"table\":[{\"cells\":{\"fill\":{\"color\":\"#EBF0F8\"},\"line\":{\"color\":\"white\"}},\"header\":{\"fill\":{\"color\":\"#C8D4E3\"},\"line\":{\"color\":\"white\"}},\"type\":\"table\"}]},\"layout\":{\"annotationdefaults\":{\"arrowcolor\":\"#2a3f5f\",\"arrowhead\":0,\"arrowwidth\":1},\"autotypenumbers\":\"strict\",\"coloraxis\":{\"colorbar\":{\"outlinewidth\":0,\"ticks\":\"\"}},\"colorscale\":{\"diverging\":[[0,\"#8e0152\"],[0.1,\"#c51b7d\"],[0.2,\"#de77ae\"],[0.3,\"#f1b6da\"],[0.4,\"#fde0ef\"],[0.5,\"#f7f7f7\"],[0.6,\"#e6f5d0\"],[0.7,\"#b8e186\"],[0.8,\"#7fbc41\"],[0.9,\"#4d9221\"],[1,\"#276419\"]],\"sequential\":[[0.0,\"#0d0887\"],[0.1111111111111111,\"#46039f\"],[0.2222222222222222,\"#7201a8\"],[0.3333333333333333,\"#9c179e\"],[0.4444444444444444,\"#bd3786\"],[0.5555555555555556,\"#d8576b\"],[0.6666666666666666,\"#ed7953\"],[0.7777777777777778,\"#fb9f3a\"],[0.8888888888888888,\"#fdca26\"],[1.0,\"#f0f921\"]],\"sequentialminus\":[[0.0,\"#0d0887\"],[0.1111111111111111,\"#46039f\"],[0.2222222222222222,\"#7201a8\"],[0.3333333333333333,\"#9c179e\"],[0.4444444444444444,\"#bd3786\"],[0.5555555555555556,\"#d8576b\"],[0.6666666666666666,\"#ed7953\"],[0.7777777777777778,\"#fb9f3a\"],[0.8888888888888888,\"#fdca26\"],[1.0,\"#f0f921\"]]},\"colorway\":[\"#636efa\",\"#EF553B\",\"#00cc96\",\"#ab63fa\",\"#FFA15A\",\"#19d3f3\",\"#FF6692\",\"#B6E880\",\"#FF97FF\",\"#FECB52\"],\"font\":{\"color\":\"#2a3f5f\"},\"geo\":{\"bgcolor\":\"white\",\"lakecolor\":\"white\",\"landcolor\":\"#E5ECF6\",\"showlakes\":true,\"showland\":true,\"subunitcolor\":\"white\"},\"hoverlabel\":{\"align\":\"left\"},\"hovermode\":\"closest\",\"mapbox\":{\"style\":\"light\"},\"paper_bgcolor\":\"white\",\"plot_bgcolor\":\"#E5ECF6\",\"polar\":{\"angularaxis\":{\"gridcolor\":\"white\",\"linecolor\":\"white\",\"ticks\":\"\"},\"bgcolor\":\"#E5ECF6\",\"radialaxis\":{\"gridcolor\":\"white\",\"linecolor\":\"white\",\"ticks\":\"\"}},\"scene\":{\"xaxis\":{\"backgroundcolor\":\"#E5ECF6\",\"gridcolor\":\"white\",\"gridwidth\":2,\"linecolor\":\"white\",\"showbackground\":true,\"ticks\":\"\",\"zerolinecolor\":\"white\"},\"yaxis\":{\"backgroundcolor\":\"#E5ECF6\",\"gridcolor\":\"white\",\"gridwidth\":2,\"linecolor\":\"white\",\"showbackground\":true,\"ticks\":\"\",\"zerolinecolor\":\"white\"},\"zaxis\":{\"backgroundcolor\":\"#E5ECF6\",\"gridcolor\":\"white\",\"gridwidth\":2,\"linecolor\":\"white\",\"showbackground\":true,\"ticks\":\"\",\"zerolinecolor\":\"white\"}},\"shapedefaults\":{\"line\":{\"color\":\"#2a3f5f\"}},\"ternary\":{\"aaxis\":{\"gridcolor\":\"white\",\"linecolor\":\"white\",\"ticks\":\"\"},\"baxis\":{\"gridcolor\":\"white\",\"linecolor\":\"white\",\"ticks\":\"\"},\"bgcolor\":\"#E5ECF6\",\"caxis\":{\"gridcolor\":\"white\",\"linecolor\":\"white\",\"ticks\":\"\"}},\"title\":{\"x\":0.05},\"xaxis\":{\"automargin\":true,\"gridcolor\":\"white\",\"linecolor\":\"white\",\"ticks\":\"\",\"title\":{\"standoff\":15},\"zerolinecolor\":\"white\",\"zerolinewidth\":2},\"yaxis\":{\"automargin\":true,\"gridcolor\":\"white\",\"linecolor\":\"white\",\"ticks\":\"\",\"title\":{\"standoff\":15},\"zerolinecolor\":\"white\",\"zerolinewidth\":2}}},\"width\":1200,\"xaxis\":{\"anchor\":\"y\",\"domain\":[0.0,1.0],\"title\":{\"text\":\"return (bps)\"}},\"yaxis\":{\"anchor\":\"x\",\"domain\":[0.0,1.0],\"title\":{\"text\":\"probability density\"}}},                        {\"responsive\": true}                    ).then(function(){\n",
       "                            \n",
       "var gd = document.getElementById('e9f8aa28-af16-4f57-9a78-16657c8e1ec6');\n",
       "var x = new MutationObserver(function (mutations, observer) {{\n",
       "        var display = window.getComputedStyle(gd).display;\n",
       "        if (!display || display === 'none') {{\n",
       "            console.log([gd, 'removed!']);\n",
       "            Plotly.purge(gd);\n",
       "            observer.disconnect();\n",
       "        }}\n",
       "}});\n",
       "\n",
       "// Listen for the removal of the full notebook cells\n",
       "var notebookContainer = gd.closest('#notebook-container');\n",
       "if (notebookContainer) {{\n",
       "    x.observe(notebookContainer, {childList: true});\n",
       "}}\n",
       "\n",
       "// Listen for the clearing of the current output cell\n",
       "var outputEl = gd.closest('.output');\n",
       "if (outputEl) {{\n",
       "    x.observe(outputEl, {childList: true});\n",
       "}}\n",
       "\n",
       "                        })                };                });            </script>        </div>"
      ]
     },
     "metadata": {},
     "output_type": "display_data"
    }
   ],
   "source": [
    "fig.show()"
   ]
  },
  {
   "cell_type": "code",
   "execution_count": null,
   "id": "36ea5c22-4def-4b6a-b218-50569d049679",
   "metadata": {},
   "outputs": [],
   "source": []
  },
  {
   "cell_type": "code",
   "execution_count": null,
   "id": "2e7a4040-dae2-4ebe-8262-e07c1961a8bd",
   "metadata": {},
   "outputs": [],
   "source": []
  },
  {
   "cell_type": "code",
   "execution_count": null,
   "id": "7af43064-de62-4f6d-807c-673439666224",
   "metadata": {},
   "outputs": [],
   "source": []
  },
  {
   "cell_type": "markdown",
   "id": "cfcfce9b-ccce-4b13-b7f7-5a7164d0a82e",
   "metadata": {},
   "source": [
    "### Table 1"
   ]
  },
  {
   "cell_type": "code",
   "execution_count": 408,
   "id": "70bb257b-72c7-4905-99e6-3ae521c61cdd",
   "metadata": {},
   "outputs": [
    {
     "ename": "KeyError",
     "evalue": "\"Columns not found: 'skew', 'mean', 'kurtosis', 'std'\"",
     "output_type": "error",
     "traceback": [
      "\u001b[0;31m---------------------------------------------------------------------------\u001b[0m",
      "\u001b[0;31mKeyError\u001b[0m                                  Traceback (most recent call last)",
      "\u001b[0;32m/tmp/ipykernel_27807/3351112745.py\u001b[0m in \u001b[0;36m<module>\u001b[0;34m\u001b[0m\n\u001b[0;32m----> 1\u001b[0;31m \u001b[0mdf_total\u001b[0m \u001b[0;34m=\u001b[0m \u001b[0mdaily_stat\u001b[0m\u001b[0;34m.\u001b[0m\u001b[0mgroupby\u001b[0m\u001b[0;34m(\u001b[0m\u001b[0;34m[\u001b[0m\u001b[0;34m'sta_cat'\u001b[0m\u001b[0;34m,\u001b[0m\u001b[0;34m'exchange'\u001b[0m\u001b[0;34m,\u001b[0m\u001b[0;34m'side'\u001b[0m\u001b[0;34m]\u001b[0m\u001b[0;34m)\u001b[0m\u001b[0;34m[\u001b[0m\u001b[0;34m[\u001b[0m\u001b[0;34m'mean'\u001b[0m\u001b[0;34m,\u001b[0m\u001b[0;34m'std'\u001b[0m\u001b[0;34m,\u001b[0m\u001b[0;34m'skew'\u001b[0m\u001b[0;34m,\u001b[0m\u001b[0;34m'kurtosis'\u001b[0m\u001b[0;34m]\u001b[0m\u001b[0;34m]\u001b[0m\u001b[0;34m.\u001b[0m\u001b[0mmean\u001b[0m\u001b[0;34m(\u001b[0m\u001b[0;34m)\u001b[0m\u001b[0;34m.\u001b[0m\u001b[0mreset_index\u001b[0m\u001b[0;34m(\u001b[0m\u001b[0;34m)\u001b[0m\u001b[0;34m\u001b[0m\u001b[0;34m\u001b[0m\u001b[0m\n\u001b[0m\u001b[1;32m      2\u001b[0m \u001b[0;32mfor\u001b[0m \u001b[0mcol\u001b[0m \u001b[0;32min\u001b[0m \u001b[0;34m[\u001b[0m\u001b[0;34m'mean'\u001b[0m\u001b[0;34m,\u001b[0m\u001b[0;34m'std'\u001b[0m\u001b[0;34m,\u001b[0m\u001b[0;34m'skew'\u001b[0m\u001b[0;34m,\u001b[0m\u001b[0;34m'kurtosis'\u001b[0m\u001b[0;34m]\u001b[0m\u001b[0;34m:\u001b[0m\u001b[0;34m\u001b[0m\u001b[0;34m\u001b[0m\u001b[0m\n\u001b[1;32m      3\u001b[0m     \u001b[0mdf_total\u001b[0m\u001b[0;34m[\u001b[0m\u001b[0mcol\u001b[0m\u001b[0;34m]\u001b[0m \u001b[0;34m=\u001b[0m \u001b[0mdf_total\u001b[0m\u001b[0;34m[\u001b[0m\u001b[0mcol\u001b[0m\u001b[0;34m]\u001b[0m\u001b[0;34m.\u001b[0m\u001b[0mmap\u001b[0m\u001b[0;34m(\u001b[0m\u001b[0;32mlambda\u001b[0m \u001b[0mx\u001b[0m\u001b[0;34m:\u001b[0m \u001b[0;34m\"{:.2f}\"\u001b[0m\u001b[0;34m.\u001b[0m\u001b[0mformat\u001b[0m\u001b[0;34m(\u001b[0m\u001b[0mx\u001b[0m\u001b[0;34m)\u001b[0m\u001b[0;34m)\u001b[0m\u001b[0;34m\u001b[0m\u001b[0;34m\u001b[0m\u001b[0m\n",
      "\u001b[0;32m~/anaconda3/envs/research/lib/python3.8/site-packages/pandas/core/groupby/generic.py\u001b[0m in \u001b[0;36m__getitem__\u001b[0;34m(self, key)\u001b[0m\n\u001b[1;32m   1540\u001b[0m                 \u001b[0mstacklevel\u001b[0m\u001b[0;34m=\u001b[0m\u001b[0;36m2\u001b[0m\u001b[0;34m,\u001b[0m\u001b[0;34m\u001b[0m\u001b[0;34m\u001b[0m\u001b[0m\n\u001b[1;32m   1541\u001b[0m             )\n\u001b[0;32m-> 1542\u001b[0;31m         \u001b[0;32mreturn\u001b[0m \u001b[0msuper\u001b[0m\u001b[0;34m(\u001b[0m\u001b[0;34m)\u001b[0m\u001b[0;34m.\u001b[0m\u001b[0m__getitem__\u001b[0m\u001b[0;34m(\u001b[0m\u001b[0mkey\u001b[0m\u001b[0;34m)\u001b[0m\u001b[0;34m\u001b[0m\u001b[0;34m\u001b[0m\u001b[0m\n\u001b[0m\u001b[1;32m   1543\u001b[0m \u001b[0;34m\u001b[0m\u001b[0m\n\u001b[1;32m   1544\u001b[0m     \u001b[0;32mdef\u001b[0m \u001b[0m_gotitem\u001b[0m\u001b[0;34m(\u001b[0m\u001b[0mself\u001b[0m\u001b[0;34m,\u001b[0m \u001b[0mkey\u001b[0m\u001b[0;34m,\u001b[0m \u001b[0mndim\u001b[0m\u001b[0;34m:\u001b[0m \u001b[0mint\u001b[0m\u001b[0;34m,\u001b[0m \u001b[0msubset\u001b[0m\u001b[0;34m=\u001b[0m\u001b[0;32mNone\u001b[0m\u001b[0;34m)\u001b[0m\u001b[0;34m:\u001b[0m\u001b[0;34m\u001b[0m\u001b[0;34m\u001b[0m\u001b[0m\n",
      "\u001b[0;32m~/anaconda3/envs/research/lib/python3.8/site-packages/pandas/core/base.py\u001b[0m in \u001b[0;36m__getitem__\u001b[0;34m(self, key)\u001b[0m\n\u001b[1;32m    266\u001b[0m                     \u001b[0mset\u001b[0m\u001b[0;34m(\u001b[0m\u001b[0mkey\u001b[0m\u001b[0;34m)\u001b[0m\u001b[0;34m.\u001b[0m\u001b[0mdifference\u001b[0m\u001b[0;34m(\u001b[0m\u001b[0mself\u001b[0m\u001b[0;34m.\u001b[0m\u001b[0mobj\u001b[0m\u001b[0;34m.\u001b[0m\u001b[0mcolumns\u001b[0m\u001b[0;34m)\u001b[0m  \u001b[0;31m# type: ignore[attr-defined]\u001b[0m\u001b[0;34m\u001b[0m\u001b[0;34m\u001b[0m\u001b[0m\n\u001b[1;32m    267\u001b[0m                 )\n\u001b[0;32m--> 268\u001b[0;31m                 \u001b[0;32mraise\u001b[0m \u001b[0mKeyError\u001b[0m\u001b[0;34m(\u001b[0m\u001b[0;34mf\"Columns not found: {str(bad_keys)[1:-1]}\"\u001b[0m\u001b[0;34m)\u001b[0m\u001b[0;34m\u001b[0m\u001b[0;34m\u001b[0m\u001b[0m\n\u001b[0m\u001b[1;32m    269\u001b[0m             \u001b[0;32mreturn\u001b[0m \u001b[0mself\u001b[0m\u001b[0;34m.\u001b[0m\u001b[0m_gotitem\u001b[0m\u001b[0;34m(\u001b[0m\u001b[0mlist\u001b[0m\u001b[0;34m(\u001b[0m\u001b[0mkey\u001b[0m\u001b[0;34m)\u001b[0m\u001b[0;34m,\u001b[0m \u001b[0mndim\u001b[0m\u001b[0;34m=\u001b[0m\u001b[0;36m2\u001b[0m\u001b[0;34m)\u001b[0m\u001b[0;34m\u001b[0m\u001b[0;34m\u001b[0m\u001b[0m\n\u001b[1;32m    270\u001b[0m \u001b[0;34m\u001b[0m\u001b[0m\n",
      "\u001b[0;31mKeyError\u001b[0m: \"Columns not found: 'skew', 'mean', 'kurtosis', 'std'\""
     ]
    }
   ],
   "source": [
    "df_total = daily_stat.groupby(['sta_cat','exchange','side'])[['mean','std','skew','kurtosis']].mean().reset_index()\n",
    "for col in ['mean','std','skew','kurtosis']:\n",
    "    df_total[col] = df_total[col].map(lambda x: \"{:.2f}\".format(x))"
   ]
  },
  {
   "cell_type": "code",
   "execution_count": 29,
   "id": "59cebf86-41c8-4d4c-ae2c-77782a0319a2",
   "metadata": {},
   "outputs": [
    {
     "data": {
      "application/vnd.plotly.v1+json": {
       "config": {
        "plotlyServerURL": "https://plot.ly"
       },
       "data": [
        {
         "cells": {
          "align": [
           "center",
           "center"
          ],
          "font": {
           "size": 14
          },
          "height": 30,
          "values": [
           [
            "sta_90_1_1_1_l2",
            "sta_90_1_1_1_l2",
            "sta_90_1_1_1_mbd",
            "sta_90_1_1_1_mbd"
           ],
           [
            "SZ",
            "SZ",
            "SZ",
            "SZ"
           ],
           [
            "buy",
            "sell",
            "buy",
            "sell"
           ],
           [
            "-7.11",
            "-7.50",
            "-6.98",
            "-8.16"
           ],
           [
            "7.11",
            "7.19",
            "9.04",
            "9.15"
           ],
           [
            "-0.08",
            "-0.46",
            "-0.09",
            "-0.58"
           ],
           [
            "2.34",
            "2.49",
            "2.54",
            "2.73"
           ]
          ]
         },
         "header": {
          "align": [
           "center",
           "center"
          ],
          "font": {
           "size": 14
          },
          "height": 30,
          "values": [
           "<b>sta_cat</b>",
           "<b>exchange</b>",
           "<b>side</b>",
           "<b>mean</b>",
           "<b>std</b>",
           "<b>skew</b>",
           "<b>kurtosis</b>"
          ]
         },
         "type": "table"
        }
       ],
       "layout": {
        "autosize": false,
        "font": {
         "family": "sans-serif"
        },
        "height": 220,
        "margin": {
         "b": 10,
         "l": 10,
         "r": 10,
         "t": 40
        },
        "template": {
         "data": {
          "bar": [
           {
            "error_x": {
             "color": "#2a3f5f"
            },
            "error_y": {
             "color": "#2a3f5f"
            },
            "marker": {
             "line": {
              "color": "#E5ECF6",
              "width": 0.5
             },
             "pattern": {
              "fillmode": "overlay",
              "size": 10,
              "solidity": 0.2
             }
            },
            "type": "bar"
           }
          ],
          "barpolar": [
           {
            "marker": {
             "line": {
              "color": "#E5ECF6",
              "width": 0.5
             },
             "pattern": {
              "fillmode": "overlay",
              "size": 10,
              "solidity": 0.2
             }
            },
            "type": "barpolar"
           }
          ],
          "carpet": [
           {
            "aaxis": {
             "endlinecolor": "#2a3f5f",
             "gridcolor": "white",
             "linecolor": "white",
             "minorgridcolor": "white",
             "startlinecolor": "#2a3f5f"
            },
            "baxis": {
             "endlinecolor": "#2a3f5f",
             "gridcolor": "white",
             "linecolor": "white",
             "minorgridcolor": "white",
             "startlinecolor": "#2a3f5f"
            },
            "type": "carpet"
           }
          ],
          "choropleth": [
           {
            "colorbar": {
             "outlinewidth": 0,
             "ticks": ""
            },
            "type": "choropleth"
           }
          ],
          "contour": [
           {
            "colorbar": {
             "outlinewidth": 0,
             "ticks": ""
            },
            "colorscale": [
             [
              0,
              "#0d0887"
             ],
             [
              0.1111111111111111,
              "#46039f"
             ],
             [
              0.2222222222222222,
              "#7201a8"
             ],
             [
              0.3333333333333333,
              "#9c179e"
             ],
             [
              0.4444444444444444,
              "#bd3786"
             ],
             [
              0.5555555555555556,
              "#d8576b"
             ],
             [
              0.6666666666666666,
              "#ed7953"
             ],
             [
              0.7777777777777778,
              "#fb9f3a"
             ],
             [
              0.8888888888888888,
              "#fdca26"
             ],
             [
              1,
              "#f0f921"
             ]
            ],
            "type": "contour"
           }
          ],
          "contourcarpet": [
           {
            "colorbar": {
             "outlinewidth": 0,
             "ticks": ""
            },
            "type": "contourcarpet"
           }
          ],
          "heatmap": [
           {
            "colorbar": {
             "outlinewidth": 0,
             "ticks": ""
            },
            "colorscale": [
             [
              0,
              "#0d0887"
             ],
             [
              0.1111111111111111,
              "#46039f"
             ],
             [
              0.2222222222222222,
              "#7201a8"
             ],
             [
              0.3333333333333333,
              "#9c179e"
             ],
             [
              0.4444444444444444,
              "#bd3786"
             ],
             [
              0.5555555555555556,
              "#d8576b"
             ],
             [
              0.6666666666666666,
              "#ed7953"
             ],
             [
              0.7777777777777778,
              "#fb9f3a"
             ],
             [
              0.8888888888888888,
              "#fdca26"
             ],
             [
              1,
              "#f0f921"
             ]
            ],
            "type": "heatmap"
           }
          ],
          "heatmapgl": [
           {
            "colorbar": {
             "outlinewidth": 0,
             "ticks": ""
            },
            "colorscale": [
             [
              0,
              "#0d0887"
             ],
             [
              0.1111111111111111,
              "#46039f"
             ],
             [
              0.2222222222222222,
              "#7201a8"
             ],
             [
              0.3333333333333333,
              "#9c179e"
             ],
             [
              0.4444444444444444,
              "#bd3786"
             ],
             [
              0.5555555555555556,
              "#d8576b"
             ],
             [
              0.6666666666666666,
              "#ed7953"
             ],
             [
              0.7777777777777778,
              "#fb9f3a"
             ],
             [
              0.8888888888888888,
              "#fdca26"
             ],
             [
              1,
              "#f0f921"
             ]
            ],
            "type": "heatmapgl"
           }
          ],
          "histogram": [
           {
            "marker": {
             "pattern": {
              "fillmode": "overlay",
              "size": 10,
              "solidity": 0.2
             }
            },
            "type": "histogram"
           }
          ],
          "histogram2d": [
           {
            "colorbar": {
             "outlinewidth": 0,
             "ticks": ""
            },
            "colorscale": [
             [
              0,
              "#0d0887"
             ],
             [
              0.1111111111111111,
              "#46039f"
             ],
             [
              0.2222222222222222,
              "#7201a8"
             ],
             [
              0.3333333333333333,
              "#9c179e"
             ],
             [
              0.4444444444444444,
              "#bd3786"
             ],
             [
              0.5555555555555556,
              "#d8576b"
             ],
             [
              0.6666666666666666,
              "#ed7953"
             ],
             [
              0.7777777777777778,
              "#fb9f3a"
             ],
             [
              0.8888888888888888,
              "#fdca26"
             ],
             [
              1,
              "#f0f921"
             ]
            ],
            "type": "histogram2d"
           }
          ],
          "histogram2dcontour": [
           {
            "colorbar": {
             "outlinewidth": 0,
             "ticks": ""
            },
            "colorscale": [
             [
              0,
              "#0d0887"
             ],
             [
              0.1111111111111111,
              "#46039f"
             ],
             [
              0.2222222222222222,
              "#7201a8"
             ],
             [
              0.3333333333333333,
              "#9c179e"
             ],
             [
              0.4444444444444444,
              "#bd3786"
             ],
             [
              0.5555555555555556,
              "#d8576b"
             ],
             [
              0.6666666666666666,
              "#ed7953"
             ],
             [
              0.7777777777777778,
              "#fb9f3a"
             ],
             [
              0.8888888888888888,
              "#fdca26"
             ],
             [
              1,
              "#f0f921"
             ]
            ],
            "type": "histogram2dcontour"
           }
          ],
          "mesh3d": [
           {
            "colorbar": {
             "outlinewidth": 0,
             "ticks": ""
            },
            "type": "mesh3d"
           }
          ],
          "parcoords": [
           {
            "line": {
             "colorbar": {
              "outlinewidth": 0,
              "ticks": ""
             }
            },
            "type": "parcoords"
           }
          ],
          "pie": [
           {
            "automargin": true,
            "type": "pie"
           }
          ],
          "scatter": [
           {
            "marker": {
             "colorbar": {
              "outlinewidth": 0,
              "ticks": ""
             }
            },
            "type": "scatter"
           }
          ],
          "scatter3d": [
           {
            "line": {
             "colorbar": {
              "outlinewidth": 0,
              "ticks": ""
             }
            },
            "marker": {
             "colorbar": {
              "outlinewidth": 0,
              "ticks": ""
             }
            },
            "type": "scatter3d"
           }
          ],
          "scattercarpet": [
           {
            "marker": {
             "colorbar": {
              "outlinewidth": 0,
              "ticks": ""
             }
            },
            "type": "scattercarpet"
           }
          ],
          "scattergeo": [
           {
            "marker": {
             "colorbar": {
              "outlinewidth": 0,
              "ticks": ""
             }
            },
            "type": "scattergeo"
           }
          ],
          "scattergl": [
           {
            "marker": {
             "colorbar": {
              "outlinewidth": 0,
              "ticks": ""
             }
            },
            "type": "scattergl"
           }
          ],
          "scattermapbox": [
           {
            "marker": {
             "colorbar": {
              "outlinewidth": 0,
              "ticks": ""
             }
            },
            "type": "scattermapbox"
           }
          ],
          "scatterpolar": [
           {
            "marker": {
             "colorbar": {
              "outlinewidth": 0,
              "ticks": ""
             }
            },
            "type": "scatterpolar"
           }
          ],
          "scatterpolargl": [
           {
            "marker": {
             "colorbar": {
              "outlinewidth": 0,
              "ticks": ""
             }
            },
            "type": "scatterpolargl"
           }
          ],
          "scatterternary": [
           {
            "marker": {
             "colorbar": {
              "outlinewidth": 0,
              "ticks": ""
             }
            },
            "type": "scatterternary"
           }
          ],
          "surface": [
           {
            "colorbar": {
             "outlinewidth": 0,
             "ticks": ""
            },
            "colorscale": [
             [
              0,
              "#0d0887"
             ],
             [
              0.1111111111111111,
              "#46039f"
             ],
             [
              0.2222222222222222,
              "#7201a8"
             ],
             [
              0.3333333333333333,
              "#9c179e"
             ],
             [
              0.4444444444444444,
              "#bd3786"
             ],
             [
              0.5555555555555556,
              "#d8576b"
             ],
             [
              0.6666666666666666,
              "#ed7953"
             ],
             [
              0.7777777777777778,
              "#fb9f3a"
             ],
             [
              0.8888888888888888,
              "#fdca26"
             ],
             [
              1,
              "#f0f921"
             ]
            ],
            "type": "surface"
           }
          ],
          "table": [
           {
            "cells": {
             "fill": {
              "color": "#EBF0F8"
             },
             "line": {
              "color": "white"
             }
            },
            "header": {
             "fill": {
              "color": "#C8D4E3"
             },
             "line": {
              "color": "white"
             }
            },
            "type": "table"
           }
          ]
         },
         "layout": {
          "annotationdefaults": {
           "arrowcolor": "#2a3f5f",
           "arrowhead": 0,
           "arrowwidth": 1
          },
          "autotypenumbers": "strict",
          "coloraxis": {
           "colorbar": {
            "outlinewidth": 0,
            "ticks": ""
           }
          },
          "colorscale": {
           "diverging": [
            [
             0,
             "#8e0152"
            ],
            [
             0.1,
             "#c51b7d"
            ],
            [
             0.2,
             "#de77ae"
            ],
            [
             0.3,
             "#f1b6da"
            ],
            [
             0.4,
             "#fde0ef"
            ],
            [
             0.5,
             "#f7f7f7"
            ],
            [
             0.6,
             "#e6f5d0"
            ],
            [
             0.7,
             "#b8e186"
            ],
            [
             0.8,
             "#7fbc41"
            ],
            [
             0.9,
             "#4d9221"
            ],
            [
             1,
             "#276419"
            ]
           ],
           "sequential": [
            [
             0,
             "#0d0887"
            ],
            [
             0.1111111111111111,
             "#46039f"
            ],
            [
             0.2222222222222222,
             "#7201a8"
            ],
            [
             0.3333333333333333,
             "#9c179e"
            ],
            [
             0.4444444444444444,
             "#bd3786"
            ],
            [
             0.5555555555555556,
             "#d8576b"
            ],
            [
             0.6666666666666666,
             "#ed7953"
            ],
            [
             0.7777777777777778,
             "#fb9f3a"
            ],
            [
             0.8888888888888888,
             "#fdca26"
            ],
            [
             1,
             "#f0f921"
            ]
           ],
           "sequentialminus": [
            [
             0,
             "#0d0887"
            ],
            [
             0.1111111111111111,
             "#46039f"
            ],
            [
             0.2222222222222222,
             "#7201a8"
            ],
            [
             0.3333333333333333,
             "#9c179e"
            ],
            [
             0.4444444444444444,
             "#bd3786"
            ],
            [
             0.5555555555555556,
             "#d8576b"
            ],
            [
             0.6666666666666666,
             "#ed7953"
            ],
            [
             0.7777777777777778,
             "#fb9f3a"
            ],
            [
             0.8888888888888888,
             "#fdca26"
            ],
            [
             1,
             "#f0f921"
            ]
           ]
          },
          "colorway": [
           "#636efa",
           "#EF553B",
           "#00cc96",
           "#ab63fa",
           "#FFA15A",
           "#19d3f3",
           "#FF6692",
           "#B6E880",
           "#FF97FF",
           "#FECB52"
          ],
          "font": {
           "color": "#2a3f5f"
          },
          "geo": {
           "bgcolor": "white",
           "lakecolor": "white",
           "landcolor": "#E5ECF6",
           "showlakes": true,
           "showland": true,
           "subunitcolor": "white"
          },
          "hoverlabel": {
           "align": "left"
          },
          "hovermode": "closest",
          "mapbox": {
           "style": "light"
          },
          "paper_bgcolor": "white",
          "plot_bgcolor": "#E5ECF6",
          "polar": {
           "angularaxis": {
            "gridcolor": "white",
            "linecolor": "white",
            "ticks": ""
           },
           "bgcolor": "#E5ECF6",
           "radialaxis": {
            "gridcolor": "white",
            "linecolor": "white",
            "ticks": ""
           }
          },
          "scene": {
           "xaxis": {
            "backgroundcolor": "#E5ECF6",
            "gridcolor": "white",
            "gridwidth": 2,
            "linecolor": "white",
            "showbackground": true,
            "ticks": "",
            "zerolinecolor": "white"
           },
           "yaxis": {
            "backgroundcolor": "#E5ECF6",
            "gridcolor": "white",
            "gridwidth": 2,
            "linecolor": "white",
            "showbackground": true,
            "ticks": "",
            "zerolinecolor": "white"
           },
           "zaxis": {
            "backgroundcolor": "#E5ECF6",
            "gridcolor": "white",
            "gridwidth": 2,
            "linecolor": "white",
            "showbackground": true,
            "ticks": "",
            "zerolinecolor": "white"
           }
          },
          "shapedefaults": {
           "line": {
            "color": "#2a3f5f"
           }
          },
          "ternary": {
           "aaxis": {
            "gridcolor": "white",
            "linecolor": "white",
            "ticks": ""
           },
           "baxis": {
            "gridcolor": "white",
            "linecolor": "white",
            "ticks": ""
           },
           "bgcolor": "#E5ECF6",
           "caxis": {
            "gridcolor": "white",
            "linecolor": "white",
            "ticks": ""
           }
          },
          "title": {
           "x": 0.05
          },
          "xaxis": {
           "automargin": true,
           "gridcolor": "white",
           "linecolor": "white",
           "ticks": "",
           "title": {
            "standoff": 15
           },
           "zerolinecolor": "white",
           "zerolinewidth": 2
          },
          "yaxis": {
           "automargin": true,
           "gridcolor": "white",
           "linecolor": "white",
           "ticks": "",
           "title": {
            "standoff": 15
           },
           "zerolinecolor": "white",
           "zerolinewidth": 2
          }
         }
        },
        "title": {
         "text": "yHat General Stats",
         "x": 0.5,
         "yanchor": "top"
        },
        "width": 1200
       }
      },
      "image/png": "[encoded data removed]",
      "text/html": [
       "<div>                            <div id=\"4cda06f3-b9c6-4e88-9454-7b7c2ff00a24\" class=\"plotly-graph-div\" style=\"height:220px; width:1200px;\"></div>            <script type=\"text/javascript\">                require([\"plotly\"], function(Plotly) {                    window.PLOTLYENV=window.PLOTLYENV || {};                                    if (document.getElementById(\"4cda06f3-b9c6-4e88-9454-7b7c2ff00a24\")) {                    Plotly.newPlot(                        \"4cda06f3-b9c6-4e88-9454-7b7c2ff00a24\",                        [{\"cells\":{\"align\":[\"center\",\"center\"],\"font\":{\"size\":14},\"height\":30,\"values\":[[\"sta_90_1_1_1_l2\",\"sta_90_1_1_1_l2\",\"sta_90_1_1_1_mbd\",\"sta_90_1_1_1_mbd\"],[\"SZ\",\"SZ\",\"SZ\",\"SZ\"],[\"buy\",\"sell\",\"buy\",\"sell\"],[\"-7.11\",\"-7.50\",\"-6.98\",\"-8.16\"],[\"7.11\",\"7.19\",\"9.04\",\"9.15\"],[\"-0.08\",\"-0.46\",\"-0.09\",\"-0.58\"],[\"2.34\",\"2.49\",\"2.54\",\"2.73\"]]},\"header\":{\"align\":[\"center\",\"center\"],\"font\":{\"size\":14},\"height\":30,\"values\":[\"<b>sta_cat</b>\",\"<b>exchange</b>\",\"<b>side</b>\",\"<b>mean</b>\",\"<b>std</b>\",\"<b>skew</b>\",\"<b>kurtosis</b>\"]},\"type\":\"table\"}],                        {\"autosize\":false,\"font\":{\"family\":\"sans-serif\"},\"height\":220,\"margin\":{\"b\":10,\"l\":10,\"r\":10,\"t\":40},\"template\":{\"data\":{\"bar\":[{\"error_x\":{\"color\":\"#2a3f5f\"},\"error_y\":{\"color\":\"#2a3f5f\"},\"marker\":{\"line\":{\"color\":\"#E5ECF6\",\"width\":0.5},\"pattern\":{\"fillmode\":\"overlay\",\"size\":10,\"solidity\":0.2}},\"type\":\"bar\"}],\"barpolar\":[{\"marker\":{\"line\":{\"color\":\"#E5ECF6\",\"width\":0.5},\"pattern\":{\"fillmode\":\"overlay\",\"size\":10,\"solidity\":0.2}},\"type\":\"barpolar\"}],\"carpet\":[{\"aaxis\":{\"endlinecolor\":\"#2a3f5f\",\"gridcolor\":\"white\",\"linecolor\":\"white\",\"minorgridcolor\":\"white\",\"startlinecolor\":\"#2a3f5f\"},\"baxis\":{\"endlinecolor\":\"#2a3f5f\",\"gridcolor\":\"white\",\"linecolor\":\"white\",\"minorgridcolor\":\"white\",\"startlinecolor\":\"#2a3f5f\"},\"type\":\"carpet\"}],\"choropleth\":[{\"colorbar\":{\"outlinewidth\":0,\"ticks\":\"\"},\"type\":\"choropleth\"}],\"contour\":[{\"colorbar\":{\"outlinewidth\":0,\"ticks\":\"\"},\"colorscale\":[[0.0,\"#0d0887\"],[0.1111111111111111,\"#46039f\"],[0.2222222222222222,\"#7201a8\"],[0.3333333333333333,\"#9c179e\"],[0.4444444444444444,\"#bd3786\"],[0.5555555555555556,\"#d8576b\"],[0.6666666666666666,\"#ed7953\"],[0.7777777777777778,\"#fb9f3a\"],[0.8888888888888888,\"#fdca26\"],[1.0,\"#f0f921\"]],\"type\":\"contour\"}],\"contourcarpet\":[{\"colorbar\":{\"outlinewidth\":0,\"ticks\":\"\"},\"type\":\"contourcarpet\"}],\"heatmap\":[{\"colorbar\":{\"outlinewidth\":0,\"ticks\":\"\"},\"colorscale\":[[0.0,\"#0d0887\"],[0.1111111111111111,\"#46039f\"],[0.2222222222222222,\"#7201a8\"],[0.3333333333333333,\"#9c179e\"],[0.4444444444444444,\"#bd3786\"],[0.5555555555555556,\"#d8576b\"],[0.6666666666666666,\"#ed7953\"],[0.7777777777777778,\"#fb9f3a\"],[0.8888888888888888,\"#fdca26\"],[1.0,\"#f0f921\"]],\"type\":\"heatmap\"}],\"heatmapgl\":[{\"colorbar\":{\"outlinewidth\":0,\"ticks\":\"\"},\"colorscale\":[[0.0,\"#0d0887\"],[0.1111111111111111,\"#46039f\"],[0.2222222222222222,\"#7201a8\"],[0.3333333333333333,\"#9c179e\"],[0.4444444444444444,\"#bd3786\"],[0.5555555555555556,\"#d8576b\"],[0.6666666666666666,\"#ed7953\"],[0.7777777777777778,\"#fb9f3a\"],[0.8888888888888888,\"#fdca26\"],[1.0,\"#f0f921\"]],\"type\":\"heatmapgl\"}],\"histogram\":[{\"marker\":{\"pattern\":{\"fillmode\":\"overlay\",\"size\":10,\"solidity\":0.2}},\"type\":\"histogram\"}],\"histogram2d\":[{\"colorbar\":{\"outlinewidth\":0,\"ticks\":\"\"},\"colorscale\":[[0.0,\"#0d0887\"],[0.1111111111111111,\"#46039f\"],[0.2222222222222222,\"#7201a8\"],[0.3333333333333333,\"#9c179e\"],[0.4444444444444444,\"#bd3786\"],[0.5555555555555556,\"#d8576b\"],[0.6666666666666666,\"#ed7953\"],[0.7777777777777778,\"#fb9f3a\"],[0.8888888888888888,\"#fdca26\"],[1.0,\"#f0f921\"]],\"type\":\"histogram2d\"}],\"histogram2dcontour\":[{\"colorbar\":{\"outlinewidth\":0,\"ticks\":\"\"},\"colorscale\":[[0.0,\"#0d0887\"],[0.1111111111111111,\"#46039f\"],[0.2222222222222222,\"#7201a8\"],[0.3333333333333333,\"#9c179e\"],[0.4444444444444444,\"#bd3786\"],[0.5555555555555556,\"#d8576b\"],[0.6666666666666666,\"#ed7953\"],[0.7777777777777778,\"#fb9f3a\"],[0.8888888888888888,\"#fdca26\"],[1.0,\"#f0f921\"]],\"type\":\"histogram2dcontour\"}],\"mesh3d\":[{\"colorbar\":{\"outlinewidth\":0,\"ticks\":\"\"},\"type\":\"mesh3d\"}],\"parcoords\":[{\"line\":{\"colorbar\":{\"outlinewidth\":0,\"ticks\":\"\"}},\"type\":\"parcoords\"}],\"pie\":[{\"automargin\":true,\"type\":\"pie\"}],\"scatter\":[{\"marker\":{\"colorbar\":{\"outlinewidth\":0,\"ticks\":\"\"}},\"type\":\"scatter\"}],\"scatter3d\":[{\"line\":{\"colorbar\":{\"outlinewidth\":0,\"ticks\":\"\"}},\"marker\":{\"colorbar\":{\"outlinewidth\":0,\"ticks\":\"\"}},\"type\":\"scatter3d\"}],\"scattercarpet\":[{\"marker\":{\"colorbar\":{\"outlinewidth\":0,\"ticks\":\"\"}},\"type\":\"scattercarpet\"}],\"scattergeo\":[{\"marker\":{\"colorbar\":{\"outlinewidth\":0,\"ticks\":\"\"}},\"type\":\"scattergeo\"}],\"scattergl\":[{\"marker\":{\"colorbar\":{\"outlinewidth\":0,\"ticks\":\"\"}},\"type\":\"scattergl\"}],\"scattermapbox\":[{\"marker\":{\"colorbar\":{\"outlinewidth\":0,\"ticks\":\"\"}},\"type\":\"scattermapbox\"}],\"scatterpolar\":[{\"marker\":{\"colorbar\":{\"outlinewidth\":0,\"ticks\":\"\"}},\"type\":\"scatterpolar\"}],\"scatterpolargl\":[{\"marker\":{\"colorbar\":{\"outlinewidth\":0,\"ticks\":\"\"}},\"type\":\"scatterpolargl\"}],\"scatterternary\":[{\"marker\":{\"colorbar\":{\"outlinewidth\":0,\"ticks\":\"\"}},\"type\":\"scatterternary\"}],\"surface\":[{\"colorbar\":{\"outlinewidth\":0,\"ticks\":\"\"},\"colorscale\":[[0.0,\"#0d0887\"],[0.1111111111111111,\"#46039f\"],[0.2222222222222222,\"#7201a8\"],[0.3333333333333333,\"#9c179e\"],[0.4444444444444444,\"#bd3786\"],[0.5555555555555556,\"#d8576b\"],[0.6666666666666666,\"#ed7953\"],[0.7777777777777778,\"#fb9f3a\"],[0.8888888888888888,\"#fdca26\"],[1.0,\"#f0f921\"]],\"type\":\"surface\"}],\"table\":[{\"cells\":{\"fill\":{\"color\":\"#EBF0F8\"},\"line\":{\"color\":\"white\"}},\"header\":{\"fill\":{\"color\":\"#C8D4E3\"},\"line\":{\"color\":\"white\"}},\"type\":\"table\"}]},\"layout\":{\"annotationdefaults\":{\"arrowcolor\":\"#2a3f5f\",\"arrowhead\":0,\"arrowwidth\":1},\"autotypenumbers\":\"strict\",\"coloraxis\":{\"colorbar\":{\"outlinewidth\":0,\"ticks\":\"\"}},\"colorscale\":{\"diverging\":[[0,\"#8e0152\"],[0.1,\"#c51b7d\"],[0.2,\"#de77ae\"],[0.3,\"#f1b6da\"],[0.4,\"#fde0ef\"],[0.5,\"#f7f7f7\"],[0.6,\"#e6f5d0\"],[0.7,\"#b8e186\"],[0.8,\"#7fbc41\"],[0.9,\"#4d9221\"],[1,\"#276419\"]],\"sequential\":[[0.0,\"#0d0887\"],[0.1111111111111111,\"#46039f\"],[0.2222222222222222,\"#7201a8\"],[0.3333333333333333,\"#9c179e\"],[0.4444444444444444,\"#bd3786\"],[0.5555555555555556,\"#d8576b\"],[0.6666666666666666,\"#ed7953\"],[0.7777777777777778,\"#fb9f3a\"],[0.8888888888888888,\"#fdca26\"],[1.0,\"#f0f921\"]],\"sequentialminus\":[[0.0,\"#0d0887\"],[0.1111111111111111,\"#46039f\"],[0.2222222222222222,\"#7201a8\"],[0.3333333333333333,\"#9c179e\"],[0.4444444444444444,\"#bd3786\"],[0.5555555555555556,\"#d8576b\"],[0.6666666666666666,\"#ed7953\"],[0.7777777777777778,\"#fb9f3a\"],[0.8888888888888888,\"#fdca26\"],[1.0,\"#f0f921\"]]},\"colorway\":[\"#636efa\",\"#EF553B\",\"#00cc96\",\"#ab63fa\",\"#FFA15A\",\"#19d3f3\",\"#FF6692\",\"#B6E880\",\"#FF97FF\",\"#FECB52\"],\"font\":{\"color\":\"#2a3f5f\"},\"geo\":{\"bgcolor\":\"white\",\"lakecolor\":\"white\",\"landcolor\":\"#E5ECF6\",\"showlakes\":true,\"showland\":true,\"subunitcolor\":\"white\"},\"hoverlabel\":{\"align\":\"left\"},\"hovermode\":\"closest\",\"mapbox\":{\"style\":\"light\"},\"paper_bgcolor\":\"white\",\"plot_bgcolor\":\"#E5ECF6\",\"polar\":{\"angularaxis\":{\"gridcolor\":\"white\",\"linecolor\":\"white\",\"ticks\":\"\"},\"bgcolor\":\"#E5ECF6\",\"radialaxis\":{\"gridcolor\":\"white\",\"linecolor\":\"white\",\"ticks\":\"\"}},\"scene\":{\"xaxis\":{\"backgroundcolor\":\"#E5ECF6\",\"gridcolor\":\"white\",\"gridwidth\":2,\"linecolor\":\"white\",\"showbackground\":true,\"ticks\":\"\",\"zerolinecolor\":\"white\"},\"yaxis\":{\"backgroundcolor\":\"#E5ECF6\",\"gridcolor\":\"white\",\"gridwidth\":2,\"linecolor\":\"white\",\"showbackground\":true,\"ticks\":\"\",\"zerolinecolor\":\"white\"},\"zaxis\":{\"backgroundcolor\":\"#E5ECF6\",\"gridcolor\":\"white\",\"gridwidth\":2,\"linecolor\":\"white\",\"showbackground\":true,\"ticks\":\"\",\"zerolinecolor\":\"white\"}},\"shapedefaults\":{\"line\":{\"color\":\"#2a3f5f\"}},\"ternary\":{\"aaxis\":{\"gridcolor\":\"white\",\"linecolor\":\"white\",\"ticks\":\"\"},\"baxis\":{\"gridcolor\":\"white\",\"linecolor\":\"white\",\"ticks\":\"\"},\"bgcolor\":\"#E5ECF6\",\"caxis\":{\"gridcolor\":\"white\",\"linecolor\":\"white\",\"ticks\":\"\"}},\"title\":{\"x\":0.05},\"xaxis\":{\"automargin\":true,\"gridcolor\":\"white\",\"linecolor\":\"white\",\"ticks\":\"\",\"title\":{\"standoff\":15},\"zerolinecolor\":\"white\",\"zerolinewidth\":2},\"yaxis\":{\"automargin\":true,\"gridcolor\":\"white\",\"linecolor\":\"white\",\"ticks\":\"\",\"title\":{\"standoff\":15},\"zerolinecolor\":\"white\",\"zerolinewidth\":2}}},\"title\":{\"text\":\"yHat General Stats\",\"x\":0.5,\"yanchor\":\"top\"},\"width\":1200},                        {\"responsive\": true}                    ).then(function(){\n",
       "                            \n",
       "var gd = document.getElementById('4cda06f3-b9c6-4e88-9454-7b7c2ff00a24');\n",
       "var x = new MutationObserver(function (mutations, observer) {{\n",
       "        var display = window.getComputedStyle(gd).display;\n",
       "        if (!display || display === 'none') {{\n",
       "            console.log([gd, 'removed!']);\n",
       "            Plotly.purge(gd);\n",
       "            observer.disconnect();\n",
       "        }}\n",
       "}});\n",
       "\n",
       "// Listen for the removal of the full notebook cells\n",
       "var notebookContainer = gd.closest('#notebook-container');\n",
       "if (notebookContainer) {{\n",
       "    x.observe(notebookContainer, {childList: true});\n",
       "}}\n",
       "\n",
       "// Listen for the clearing of the current output cell\n",
       "var outputEl = gd.closest('.output');\n",
       "if (outputEl) {{\n",
       "    x.observe(outputEl, {childList: true});\n",
       "}}\n",
       "\n",
       "                        })                };                });            </script>        </div>"
      ]
     },
     "metadata": {},
     "output_type": "display_data"
    }
   ],
   "source": [
    "fig = go.Figure(data=[go.Table(header=dict(values=[f'<b>{col}</b>' for col in df_total.columns],align=['center', 'center'],font_size=14,height=30),\n",
    "                      cells=dict(values=[df_total[col] for col in df_total.columns], align=['center', 'center'],\n",
    "                                font_size=14,height=30))])\n",
    "fig.update_layout(font_family='sans-serif', title_text='yHat General Stats', title_x=0.5, title_yanchor='top', width=1200, height=220, autosize=False, margin=dict(t=40, b=10, l=10, r=10))\n",
    "fig.show()"
   ]
  },
  {
   "cell_type": "markdown",
   "id": "30eed50e-bce6-4d7f-8c73-5625327d1333",
   "metadata": {},
   "source": [
    "### Table 2 "
   ]
  },
  {
   "cell_type": "code",
   "execution_count": 81,
   "id": "602bfd84-06ea-46a8-a282-abb95e246356",
   "metadata": {},
   "outputs": [],
   "source": []
  },
  {
   "cell_type": "code",
   "execution_count": null,
   "id": "2abca947-9369-40f5-b7cf-3f29a844eca8",
   "metadata": {},
   "outputs": [],
   "source": []
  },
  {
   "cell_type": "code",
   "execution_count": 375,
   "id": "dcca95ff-df6b-48a5-aa33-4acf2f2a373d",
   "metadata": {},
   "outputs": [],
   "source": [
    "# reports = []\n",
    "# for side in ['all','buy','sell']:\n",
    "#     side = 'buy'\n",
    "#     if side in ['buy','sell']:\n",
    "#         df_total = (daily_stat.groupby(['side','price_group', 'sta_cat'])\n",
    "#                         .apply(lambda x: weighted_average(x['vwActualRetAvg'], weights=x['availNtlSum'])))\n",
    "#         df_total.name = 'vwActualRetAvg'\n",
    "#         df_total = df_total.reset_index()\n",
    "\n",
    "#         df_side = df_total[df_total.side == side]\n",
    "#         df_group_number = df_daily.groupby(['date','price_group'])['skey'].nunique().reset_index().groupby(['price_group'])['skey'].mean()\n",
    "#         df_side = df_side.merge(df_group_number.reset_index(), on = 'price_group')\n",
    "#         df_side['skey'] = df_side['skey'].map(lambda x:'('+str(int(x))+' stocks)')\n",
    "#         df_side['price_group'] = df_side['price_group'] + df_side['skey']\n",
    "#         x_axis = 'price_group'\n",
    "#     else :\n",
    "#         df_side = self.daily_stat.groupby(['side','sta_cat']).apply(lambda x: weighted_average(x['vwActualRetAvg'], weights=x['availNtlSum']))\n",
    "#         df_side.name = 'vwActualRetAvg'\n",
    "#         df_side = df_side.reset_index()\n",
    "#         x_axis = 'side'\n",
    "#     # df_side = df_side.pivot(index = x_axis, columns = 'sta_cat', values = 'vwActualRetAvg').reset_index() \n",
    "#     if side in ['buy','sell']:   \n",
    "#         df_side['price_start'] = df_side['price_group'].map(lambda x:int(x.split('-')[0]))\n",
    "#         df_side = df_side.sort_values('price_start').reset_index(drop = True)\n",
    "#         df_side.drop(columns = ['price_start'], inplace = True)\n",
    "#     fig = px.bar(df_side, x='price_group', y='vwActualRetAvg', color='sta_cat', text='vwActualRetAvg', barmode='group', height=500, width=1400,\n",
    "#                  labels={'price_group': 'price group', 'vwActualRetAvg': 'return (bps)'},\n",
    "#                  hover_data={'sta_cat':False, 'vwActualRetAvg': ':.2f'})\n",
    "#     fig.update_traces(texttemplate='%{text:.3s} bps', textposition='outside')\n",
    "#     fig.update_layout(title=dict(text=side+' side - '+'actualRet90s', x=0.5, yanchor='top',font_size=18),\n",
    "#                       legend=dict(title_text=\"\", bgcolor=\"LightSteelBlue\"))\n",
    "#     reports.append(io.to_html(fig, full_html=False, include_plotlyjs='cdn'))"
   ]
  },
  {
   "cell_type": "code",
   "execution_count": 160,
   "id": "6ea61afa-c134-4034-bd74-a96522c202c0",
   "metadata": {},
   "outputs": [],
   "source": [
    "df_stats = daily_stat.groupby(['date','exchange','side','sta_cat'])[['datetime']].first()\n",
    "df_stats['vwActualRetAvg'] = (daily_stat.groupby(['date','exchange','side','sta_cat'])\n",
    "                                             .apply(lambda x: weighted_average(x['vwActualRetAvg'], weights=x['availNtlSum'])))\n",
    "df_stats = df_stats.reset_index()\n",
    "for side in ['buy','sell']:\n",
    "    for ex in ['SH','SZ']:\n",
    "        df_hist = (df_stats.loc[(df_stats.side == side) & (df_stats.exchange == ex), ['datetime','sta_cat'] + ['vwActualRetAvg']].reset_index())\n",
    "        if len(df_hist) == 0:\n",
    "            continue\n",
    "        \n",
    "        fig = px.line(df_hist, x='datetime', y='vwActualRetAvg', color='sta_cat', height=500, width=1200,\n",
    "                      labels={'datetime': '', 'vwActualRetAvg': 'return (bps)'})\n",
    "        fig.update_layout(title=dict(text=side+' side - '+ex+' - yHatAvg', x=0.5, yanchor='top',font_size=18),\n",
    "                                  legend=dict(title_text=\"\", yanchor=\"top\", y=0.99, xanchor=\"left\", x=0.835, bgcolor='rgba(0,75,154,0.4)'))"
   ]
  },
  {
   "cell_type": "code",
   "execution_count": 184,
   "id": "cfb30358-cfde-4512-85c0-00ac4cb4211f",
   "metadata": {},
   "outputs": [],
   "source": [
    "df_total = daily_stat.groupby(['sta_cat','exchange','side'])[['countOppo']].mean()\n",
    "        \n",
    "for col in ['yHatHurdle', 'yHatAvg', 'vwActualRetAvg']:\n",
    "    df_total[col] = daily_stat.groupby(['sta_cat','exchange', 'side']).apply(lambda x: weighted_average(x[col], weights=x['availNtlSum']))\n",
    "df_total['availNtl'] = daily_stat.groupby(['sta_cat', 'exchange', 'side']).apply(lambda x: weighted_average(x['availNtlAvg'], weights=x['countOppo']))\n",
    "\n",
    "df_total.reset_index(inplace=True)\n",
    "\n",
    "df_total['base_ret'] = np.where(df_total['sta_cat'] == 'sta_90_1_1_1_l2', df_total['vwActualRetAvg'], np.nan)\n",
    "df_total['base_ret'] = df_total.groupby(['exchange', 'side'])['base_ret'].ffill()\n",
    "df_total['base_ret'] = df_total.groupby(['exchange', 'side'])['base_ret'].bfill()\n",
    "\n",
    "df_total['improvement(%)'] = (df_total['vwActualRetAvg']/df_total['base_ret'] - 1) * 100\n",
    "\n",
    "for col in ['yHatAvg', 'yHatHurdle','vwActualRetAvg','improvement(%)','availNtl', 'countOppo']:\n",
    "    df_total[col] = df_total[col].map(lambda x: \"{:.2f}\".format(x))\n",
    "\n",
    "df_total = df_total.drop(\"base_ret\", axis=1)"
   ]
  },
  {
   "cell_type": "code",
   "execution_count": 197,
   "id": "99d66f6d-e38f-4ed0-a063-d3c0b2e32ee5",
   "metadata": {},
   "outputs": [],
   "source": [
    "px.defaults.font_family"
   ]
  },
  {
   "cell_type": "code",
   "execution_count": null,
   "id": "a54dfa26-5cb1-49a3-a54a-0c4edf52561b",
   "metadata": {},
   "outputs": [],
   "source": []
  },
  {
   "cell_type": "code",
   "execution_count": 185,
   "id": "f0a0da85-8272-4915-81ef-ff22f389bac7",
   "metadata": {},
   "outputs": [
    {
     "data": {
      "text/html": [
       "<div>\n",
       "<style scoped>\n",
       "    .dataframe tbody tr th:only-of-type {\n",
       "        vertical-align: middle;\n",
       "    }\n",
       "\n",
       "    .dataframe tbody tr th {\n",
       "        vertical-align: top;\n",
       "    }\n",
       "\n",
       "    .dataframe thead th {\n",
       "        text-align: right;\n",
       "    }\n",
       "</style>\n",
       "<table border=\"1\" class=\"dataframe\">\n",
       "  <thead>\n",
       "    <tr style=\"text-align: right;\">\n",
       "      <th></th>\n",
       "      <th>sta_cat</th>\n",
       "      <th>exchange</th>\n",
       "      <th>side</th>\n",
       "      <th>countOppo</th>\n",
       "      <th>yHatHurdle</th>\n",
       "      <th>yHatAvg</th>\n",
       "      <th>vwActualRetAvg</th>\n",
       "      <th>availNtl</th>\n",
       "      <th>improvement(%)</th>\n",
       "    </tr>\n",
       "  </thead>\n",
       "  <tbody>\n",
       "    <tr>\n",
       "      <th>0</th>\n",
       "      <td>sta_90_1_1_1_l2</td>\n",
       "      <td>SZ</td>\n",
       "      <td>buy</td>\n",
       "      <td>239.49</td>\n",
       "      <td>2.87</td>\n",
       "      <td>8.05</td>\n",
       "      <td>5.74</td>\n",
       "      <td>250118.09</td>\n",
       "      <td>0.00</td>\n",
       "    </tr>\n",
       "    <tr>\n",
       "      <th>1</th>\n",
       "      <td>sta_90_1_1_1_l2</td>\n",
       "      <td>SZ</td>\n",
       "      <td>sell</td>\n",
       "      <td>239.50</td>\n",
       "      <td>1.80</td>\n",
       "      <td>6.05</td>\n",
       "      <td>2.12</td>\n",
       "      <td>230267.33</td>\n",
       "      <td>0.00</td>\n",
       "    </tr>\n",
       "    <tr>\n",
       "      <th>2</th>\n",
       "      <td>sta_90_1_1_1_mbd</td>\n",
       "      <td>SZ</td>\n",
       "      <td>buy</td>\n",
       "      <td>239.07</td>\n",
       "      <td>8.64</td>\n",
       "      <td>13.61</td>\n",
       "      <td>10.88</td>\n",
       "      <td>235996.12</td>\n",
       "      <td>89.46</td>\n",
       "    </tr>\n",
       "    <tr>\n",
       "      <th>3</th>\n",
       "      <td>sta_90_1_1_1_mbd</td>\n",
       "      <td>SZ</td>\n",
       "      <td>sell</td>\n",
       "      <td>239.10</td>\n",
       "      <td>5.94</td>\n",
       "      <td>9.94</td>\n",
       "      <td>4.81</td>\n",
       "      <td>198464.91</td>\n",
       "      <td>127.49</td>\n",
       "    </tr>\n",
       "  </tbody>\n",
       "</table>\n",
       "</div>"
      ],
      "text/plain": [
       "            sta_cat exchange  side countOppo yHatHurdle yHatAvg  \\\n",
       "0   sta_90_1_1_1_l2       SZ   buy    239.49       2.87    8.05   \n",
       "1   sta_90_1_1_1_l2       SZ  sell    239.50       1.80    6.05   \n",
       "2  sta_90_1_1_1_mbd       SZ   buy    239.07       8.64   13.61   \n",
       "3  sta_90_1_1_1_mbd       SZ  sell    239.10       5.94    9.94   \n",
       "\n",
       "  vwActualRetAvg   availNtl improvement(%)  \n",
       "0           5.74  250118.09           0.00  \n",
       "1           2.12  230267.33           0.00  \n",
       "2          10.88  235996.12          89.46  \n",
       "3           4.81  198464.91         127.49  "
      ]
     },
     "execution_count": 185,
     "metadata": {},
     "output_type": "execute_result"
    }
   ],
   "source": [
    "df_total"
   ]
  },
  {
   "cell_type": "code",
   "execution_count": 186,
   "id": "418308bb-dfbd-45ef-8c9b-f4ee4e23e68c",
   "metadata": {},
   "outputs": [
    {
     "data": {
      "application/vnd.plotly.v1+json": {
       "config": {
        "plotlyServerURL": "https://plot.ly"
       },
       "data": [
        {
         "cells": {
          "align": [
           "center",
           "center"
          ],
          "font": {
           "size": 14
          },
          "height": 30,
          "values": [
           [
            "sta_90_1_1_1_l2",
            "sta_90_1_1_1_l2",
            "sta_90_1_1_1_mbd",
            "sta_90_1_1_1_mbd"
           ],
           [
            "SZ",
            "SZ",
            "SZ",
            "SZ"
           ],
           [
            "buy",
            "sell",
            "buy",
            "sell"
           ],
           [
            "239.49",
            "239.50",
            "239.07",
            "239.10"
           ],
           [
            "2.87",
            "1.80",
            "8.64",
            "5.94"
           ],
           [
            "8.05",
            "6.05",
            "13.61",
            "9.94"
           ],
           [
            "5.74",
            "2.12",
            "10.88",
            "4.81"
           ],
           [
            "250118.09",
            "230267.33",
            "235996.12",
            "198464.91"
           ],
           [
            "0.00",
            "0.00",
            "89.46",
            "127.49"
           ]
          ]
         },
         "header": {
          "align": [
           "center",
           "center"
          ],
          "font": {
           "size": 14
          },
          "height": 30,
          "values": [
           "<b>sta_cat</b>",
           "<b>exchange</b>",
           "<b>side</b>",
           "<b>countOppo</b>",
           "<b>yHatHurdle</b>",
           "<b>yHatAvg</b>",
           "<b>vwActualRetAvg</b>",
           "<b>availNtl</b>",
           "<b>improvement(%)</b>"
          ]
         },
         "type": "table"
        }
       ],
       "layout": {
        "autosize": false,
        "font": {
         "family": "sans-serif"
        },
        "height": 220,
        "margin": {
         "b": 10,
         "l": 10,
         "r": 10,
         "t": 40
        },
        "template": {
         "data": {
          "bar": [
           {
            "error_x": {
             "color": "#2a3f5f"
            },
            "error_y": {
             "color": "#2a3f5f"
            },
            "marker": {
             "line": {
              "color": "#E5ECF6",
              "width": 0.5
             },
             "pattern": {
              "fillmode": "overlay",
              "size": 10,
              "solidity": 0.2
             }
            },
            "type": "bar"
           }
          ],
          "barpolar": [
           {
            "marker": {
             "line": {
              "color": "#E5ECF6",
              "width": 0.5
             },
             "pattern": {
              "fillmode": "overlay",
              "size": 10,
              "solidity": 0.2
             }
            },
            "type": "barpolar"
           }
          ],
          "carpet": [
           {
            "aaxis": {
             "endlinecolor": "#2a3f5f",
             "gridcolor": "white",
             "linecolor": "white",
             "minorgridcolor": "white",
             "startlinecolor": "#2a3f5f"
            },
            "baxis": {
             "endlinecolor": "#2a3f5f",
             "gridcolor": "white",
             "linecolor": "white",
             "minorgridcolor": "white",
             "startlinecolor": "#2a3f5f"
            },
            "type": "carpet"
           }
          ],
          "choropleth": [
           {
            "colorbar": {
             "outlinewidth": 0,
             "ticks": ""
            },
            "type": "choropleth"
           }
          ],
          "contour": [
           {
            "colorbar": {
             "outlinewidth": 0,
             "ticks": ""
            },
            "colorscale": [
             [
              0,
              "#0d0887"
             ],
             [
              0.1111111111111111,
              "#46039f"
             ],
             [
              0.2222222222222222,
              "#7201a8"
             ],
             [
              0.3333333333333333,
              "#9c179e"
             ],
             [
              0.4444444444444444,
              "#bd3786"
             ],
             [
              0.5555555555555556,
              "#d8576b"
             ],
             [
              0.6666666666666666,
              "#ed7953"
             ],
             [
              0.7777777777777778,
              "#fb9f3a"
             ],
             [
              0.8888888888888888,
              "#fdca26"
             ],
             [
              1,
              "#f0f921"
             ]
            ],
            "type": "contour"
           }
          ],
          "contourcarpet": [
           {
            "colorbar": {
             "outlinewidth": 0,
             "ticks": ""
            },
            "type": "contourcarpet"
           }
          ],
          "heatmap": [
           {
            "colorbar": {
             "outlinewidth": 0,
             "ticks": ""
            },
            "colorscale": [
             [
              0,
              "#0d0887"
             ],
             [
              0.1111111111111111,
              "#46039f"
             ],
             [
              0.2222222222222222,
              "#7201a8"
             ],
             [
              0.3333333333333333,
              "#9c179e"
             ],
             [
              0.4444444444444444,
              "#bd3786"
             ],
             [
              0.5555555555555556,
              "#d8576b"
             ],
             [
              0.6666666666666666,
              "#ed7953"
             ],
             [
              0.7777777777777778,
              "#fb9f3a"
             ],
             [
              0.8888888888888888,
              "#fdca26"
             ],
             [
              1,
              "#f0f921"
             ]
            ],
            "type": "heatmap"
           }
          ],
          "heatmapgl": [
           {
            "colorbar": {
             "outlinewidth": 0,
             "ticks": ""
            },
            "colorscale": [
             [
              0,
              "#0d0887"
             ],
             [
              0.1111111111111111,
              "#46039f"
             ],
             [
              0.2222222222222222,
              "#7201a8"
             ],
             [
              0.3333333333333333,
              "#9c179e"
             ],
             [
              0.4444444444444444,
              "#bd3786"
             ],
             [
              0.5555555555555556,
              "#d8576b"
             ],
             [
              0.6666666666666666,
              "#ed7953"
             ],
             [
              0.7777777777777778,
              "#fb9f3a"
             ],
             [
              0.8888888888888888,
              "#fdca26"
             ],
             [
              1,
              "#f0f921"
             ]
            ],
            "type": "heatmapgl"
           }
          ],
          "histogram": [
           {
            "marker": {
             "pattern": {
              "fillmode": "overlay",
              "size": 10,
              "solidity": 0.2
             }
            },
            "type": "histogram"
           }
          ],
          "histogram2d": [
           {
            "colorbar": {
             "outlinewidth": 0,
             "ticks": ""
            },
            "colorscale": [
             [
              0,
              "#0d0887"
             ],
             [
              0.1111111111111111,
              "#46039f"
             ],
             [
              0.2222222222222222,
              "#7201a8"
             ],
             [
              0.3333333333333333,
              "#9c179e"
             ],
             [
              0.4444444444444444,
              "#bd3786"
             ],
             [
              0.5555555555555556,
              "#d8576b"
             ],
             [
              0.6666666666666666,
              "#ed7953"
             ],
             [
              0.7777777777777778,
              "#fb9f3a"
             ],
             [
              0.8888888888888888,
              "#fdca26"
             ],
             [
              1,
              "#f0f921"
             ]
            ],
            "type": "histogram2d"
           }
          ],
          "histogram2dcontour": [
           {
            "colorbar": {
             "outlinewidth": 0,
             "ticks": ""
            },
            "colorscale": [
             [
              0,
              "#0d0887"
             ],
             [
              0.1111111111111111,
              "#46039f"
             ],
             [
              0.2222222222222222,
              "#7201a8"
             ],
             [
              0.3333333333333333,
              "#9c179e"
             ],
             [
              0.4444444444444444,
              "#bd3786"
             ],
             [
              0.5555555555555556,
              "#d8576b"
             ],
             [
              0.6666666666666666,
              "#ed7953"
             ],
             [
              0.7777777777777778,
              "#fb9f3a"
             ],
             [
              0.8888888888888888,
              "#fdca26"
             ],
             [
              1,
              "#f0f921"
             ]
            ],
            "type": "histogram2dcontour"
           }
          ],
          "mesh3d": [
           {
            "colorbar": {
             "outlinewidth": 0,
             "ticks": ""
            },
            "type": "mesh3d"
           }
          ],
          "parcoords": [
           {
            "line": {
             "colorbar": {
              "outlinewidth": 0,
              "ticks": ""
             }
            },
            "type": "parcoords"
           }
          ],
          "pie": [
           {
            "automargin": true,
            "type": "pie"
           }
          ],
          "scatter": [
           {
            "marker": {
             "colorbar": {
              "outlinewidth": 0,
              "ticks": ""
             }
            },
            "type": "scatter"
           }
          ],
          "scatter3d": [
           {
            "line": {
             "colorbar": {
              "outlinewidth": 0,
              "ticks": ""
             }
            },
            "marker": {
             "colorbar": {
              "outlinewidth": 0,
              "ticks": ""
             }
            },
            "type": "scatter3d"
           }
          ],
          "scattercarpet": [
           {
            "marker": {
             "colorbar": {
              "outlinewidth": 0,
              "ticks": ""
             }
            },
            "type": "scattercarpet"
           }
          ],
          "scattergeo": [
           {
            "marker": {
             "colorbar": {
              "outlinewidth": 0,
              "ticks": ""
             }
            },
            "type": "scattergeo"
           }
          ],
          "scattergl": [
           {
            "marker": {
             "colorbar": {
              "outlinewidth": 0,
              "ticks": ""
             }
            },
            "type": "scattergl"
           }
          ],
          "scattermapbox": [
           {
            "marker": {
             "colorbar": {
              "outlinewidth": 0,
              "ticks": ""
             }
            },
            "type": "scattermapbox"
           }
          ],
          "scatterpolar": [
           {
            "marker": {
             "colorbar": {
              "outlinewidth": 0,
              "ticks": ""
             }
            },
            "type": "scatterpolar"
           }
          ],
          "scatterpolargl": [
           {
            "marker": {
             "colorbar": {
              "outlinewidth": 0,
              "ticks": ""
             }
            },
            "type": "scatterpolargl"
           }
          ],
          "scatterternary": [
           {
            "marker": {
             "colorbar": {
              "outlinewidth": 0,
              "ticks": ""
             }
            },
            "type": "scatterternary"
           }
          ],
          "surface": [
           {
            "colorbar": {
             "outlinewidth": 0,
             "ticks": ""
            },
            "colorscale": [
             [
              0,
              "#0d0887"
             ],
             [
              0.1111111111111111,
              "#46039f"
             ],
             [
              0.2222222222222222,
              "#7201a8"
             ],
             [
              0.3333333333333333,
              "#9c179e"
             ],
             [
              0.4444444444444444,
              "#bd3786"
             ],
             [
              0.5555555555555556,
              "#d8576b"
             ],
             [
              0.6666666666666666,
              "#ed7953"
             ],
             [
              0.7777777777777778,
              "#fb9f3a"
             ],
             [
              0.8888888888888888,
              "#fdca26"
             ],
             [
              1,
              "#f0f921"
             ]
            ],
            "type": "surface"
           }
          ],
          "table": [
           {
            "cells": {
             "fill": {
              "color": "#EBF0F8"
             },
             "line": {
              "color": "white"
             }
            },
            "header": {
             "fill": {
              "color": "#C8D4E3"
             },
             "line": {
              "color": "white"
             }
            },
            "type": "table"
           }
          ]
         },
         "layout": {
          "annotationdefaults": {
           "arrowcolor": "#2a3f5f",
           "arrowhead": 0,
           "arrowwidth": 1
          },
          "autotypenumbers": "strict",
          "coloraxis": {
           "colorbar": {
            "outlinewidth": 0,
            "ticks": ""
           }
          },
          "colorscale": {
           "diverging": [
            [
             0,
             "#8e0152"
            ],
            [
             0.1,
             "#c51b7d"
            ],
            [
             0.2,
             "#de77ae"
            ],
            [
             0.3,
             "#f1b6da"
            ],
            [
             0.4,
             "#fde0ef"
            ],
            [
             0.5,
             "#f7f7f7"
            ],
            [
             0.6,
             "#e6f5d0"
            ],
            [
             0.7,
             "#b8e186"
            ],
            [
             0.8,
             "#7fbc41"
            ],
            [
             0.9,
             "#4d9221"
            ],
            [
             1,
             "#276419"
            ]
           ],
           "sequential": [
            [
             0,
             "#0d0887"
            ],
            [
             0.1111111111111111,
             "#46039f"
            ],
            [
             0.2222222222222222,
             "#7201a8"
            ],
            [
             0.3333333333333333,
             "#9c179e"
            ],
            [
             0.4444444444444444,
             "#bd3786"
            ],
            [
             0.5555555555555556,
             "#d8576b"
            ],
            [
             0.6666666666666666,
             "#ed7953"
            ],
            [
             0.7777777777777778,
             "#fb9f3a"
            ],
            [
             0.8888888888888888,
             "#fdca26"
            ],
            [
             1,
             "#f0f921"
            ]
           ],
           "sequentialminus": [
            [
             0,
             "#0d0887"
            ],
            [
             0.1111111111111111,
             "#46039f"
            ],
            [
             0.2222222222222222,
             "#7201a8"
            ],
            [
             0.3333333333333333,
             "#9c179e"
            ],
            [
             0.4444444444444444,
             "#bd3786"
            ],
            [
             0.5555555555555556,
             "#d8576b"
            ],
            [
             0.6666666666666666,
             "#ed7953"
            ],
            [
             0.7777777777777778,
             "#fb9f3a"
            ],
            [
             0.8888888888888888,
             "#fdca26"
            ],
            [
             1,
             "#f0f921"
            ]
           ]
          },
          "colorway": [
           "#636efa",
           "#EF553B",
           "#00cc96",
           "#ab63fa",
           "#FFA15A",
           "#19d3f3",
           "#FF6692",
           "#B6E880",
           "#FF97FF",
           "#FECB52"
          ],
          "font": {
           "color": "#2a3f5f"
          },
          "geo": {
           "bgcolor": "white",
           "lakecolor": "white",
           "landcolor": "#E5ECF6",
           "showlakes": true,
           "showland": true,
           "subunitcolor": "white"
          },
          "hoverlabel": {
           "align": "left"
          },
          "hovermode": "closest",
          "mapbox": {
           "style": "light"
          },
          "paper_bgcolor": "white",
          "plot_bgcolor": "#E5ECF6",
          "polar": {
           "angularaxis": {
            "gridcolor": "white",
            "linecolor": "white",
            "ticks": ""
           },
           "bgcolor": "#E5ECF6",
           "radialaxis": {
            "gridcolor": "white",
            "linecolor": "white",
            "ticks": ""
           }
          },
          "scene": {
           "xaxis": {
            "backgroundcolor": "#E5ECF6",
            "gridcolor": "white",
            "gridwidth": 2,
            "linecolor": "white",
            "showbackground": true,
            "ticks": "",
            "zerolinecolor": "white"
           },
           "yaxis": {
            "backgroundcolor": "#E5ECF6",
            "gridcolor": "white",
            "gridwidth": 2,
            "linecolor": "white",
            "showbackground": true,
            "ticks": "",
            "zerolinecolor": "white"
           },
           "zaxis": {
            "backgroundcolor": "#E5ECF6",
            "gridcolor": "white",
            "gridwidth": 2,
            "linecolor": "white",
            "showbackground": true,
            "ticks": "",
            "zerolinecolor": "white"
           }
          },
          "shapedefaults": {
           "line": {
            "color": "#2a3f5f"
           }
          },
          "ternary": {
           "aaxis": {
            "gridcolor": "white",
            "linecolor": "white",
            "ticks": ""
           },
           "baxis": {
            "gridcolor": "white",
            "linecolor": "white",
            "ticks": ""
           },
           "bgcolor": "#E5ECF6",
           "caxis": {
            "gridcolor": "white",
            "linecolor": "white",
            "ticks": ""
           }
          },
          "title": {
           "x": 0.05
          },
          "xaxis": {
           "automargin": true,
           "gridcolor": "white",
           "linecolor": "white",
           "ticks": "",
           "title": {
            "standoff": 15
           },
           "zerolinecolor": "white",
           "zerolinewidth": 2
          },
          "yaxis": {
           "automargin": true,
           "gridcolor": "white",
           "linecolor": "white",
           "ticks": "",
           "title": {
            "standoff": 15
           },
           "zerolinecolor": "white",
           "zerolinewidth": 2
          }
         }
        },
        "title": {
         "text": "yHat General Stats",
         "x": 0.5,
         "yanchor": "top"
        },
        "width": 1200
       }
      },
      "image/png": "[encoded data removed]",
      "text/html": [
       "<div>                            <div id=\"2fb9962a-cf4b-4faa-be59-d78074a86fcd\" class=\"plotly-graph-div\" style=\"height:220px; width:1200px;\"></div>            <script type=\"text/javascript\">                require([\"plotly\"], function(Plotly) {                    window.PLOTLYENV=window.PLOTLYENV || {};                                    if (document.getElementById(\"2fb9962a-cf4b-4faa-be59-d78074a86fcd\")) {                    Plotly.newPlot(                        \"2fb9962a-cf4b-4faa-be59-d78074a86fcd\",                        [{\"cells\":{\"align\":[\"center\",\"center\"],\"font\":{\"size\":14},\"height\":30,\"values\":[[\"sta_90_1_1_1_l2\",\"sta_90_1_1_1_l2\",\"sta_90_1_1_1_mbd\",\"sta_90_1_1_1_mbd\"],[\"SZ\",\"SZ\",\"SZ\",\"SZ\"],[\"buy\",\"sell\",\"buy\",\"sell\"],[\"239.49\",\"239.50\",\"239.07\",\"239.10\"],[\"2.87\",\"1.80\",\"8.64\",\"5.94\"],[\"8.05\",\"6.05\",\"13.61\",\"9.94\"],[\"5.74\",\"2.12\",\"10.88\",\"4.81\"],[\"250118.09\",\"230267.33\",\"235996.12\",\"198464.91\"],[\"0.00\",\"0.00\",\"89.46\",\"127.49\"]]},\"header\":{\"align\":[\"center\",\"center\"],\"font\":{\"size\":14},\"height\":30,\"values\":[\"<b>sta_cat</b>\",\"<b>exchange</b>\",\"<b>side</b>\",\"<b>countOppo</b>\",\"<b>yHatHurdle</b>\",\"<b>yHatAvg</b>\",\"<b>vwActualRetAvg</b>\",\"<b>availNtl</b>\",\"<b>improvement(%)</b>\"]},\"type\":\"table\"}],                        {\"autosize\":false,\"font\":{\"family\":\"sans-serif\"},\"height\":220,\"margin\":{\"b\":10,\"l\":10,\"r\":10,\"t\":40},\"template\":{\"data\":{\"bar\":[{\"error_x\":{\"color\":\"#2a3f5f\"},\"error_y\":{\"color\":\"#2a3f5f\"},\"marker\":{\"line\":{\"color\":\"#E5ECF6\",\"width\":0.5},\"pattern\":{\"fillmode\":\"overlay\",\"size\":10,\"solidity\":0.2}},\"type\":\"bar\"}],\"barpolar\":[{\"marker\":{\"line\":{\"color\":\"#E5ECF6\",\"width\":0.5},\"pattern\":{\"fillmode\":\"overlay\",\"size\":10,\"solidity\":0.2}},\"type\":\"barpolar\"}],\"carpet\":[{\"aaxis\":{\"endlinecolor\":\"#2a3f5f\",\"gridcolor\":\"white\",\"linecolor\":\"white\",\"minorgridcolor\":\"white\",\"startlinecolor\":\"#2a3f5f\"},\"baxis\":{\"endlinecolor\":\"#2a3f5f\",\"gridcolor\":\"white\",\"linecolor\":\"white\",\"minorgridcolor\":\"white\",\"startlinecolor\":\"#2a3f5f\"},\"type\":\"carpet\"}],\"choropleth\":[{\"colorbar\":{\"outlinewidth\":0,\"ticks\":\"\"},\"type\":\"choropleth\"}],\"contour\":[{\"colorbar\":{\"outlinewidth\":0,\"ticks\":\"\"},\"colorscale\":[[0.0,\"#0d0887\"],[0.1111111111111111,\"#46039f\"],[0.2222222222222222,\"#7201a8\"],[0.3333333333333333,\"#9c179e\"],[0.4444444444444444,\"#bd3786\"],[0.5555555555555556,\"#d8576b\"],[0.6666666666666666,\"#ed7953\"],[0.7777777777777778,\"#fb9f3a\"],[0.8888888888888888,\"#fdca26\"],[1.0,\"#f0f921\"]],\"type\":\"contour\"}],\"contourcarpet\":[{\"colorbar\":{\"outlinewidth\":0,\"ticks\":\"\"},\"type\":\"contourcarpet\"}],\"heatmap\":[{\"colorbar\":{\"outlinewidth\":0,\"ticks\":\"\"},\"colorscale\":[[0.0,\"#0d0887\"],[0.1111111111111111,\"#46039f\"],[0.2222222222222222,\"#7201a8\"],[0.3333333333333333,\"#9c179e\"],[0.4444444444444444,\"#bd3786\"],[0.5555555555555556,\"#d8576b\"],[0.6666666666666666,\"#ed7953\"],[0.7777777777777778,\"#fb9f3a\"],[0.8888888888888888,\"#fdca26\"],[1.0,\"#f0f921\"]],\"type\":\"heatmap\"}],\"heatmapgl\":[{\"colorbar\":{\"outlinewidth\":0,\"ticks\":\"\"},\"colorscale\":[[0.0,\"#0d0887\"],[0.1111111111111111,\"#46039f\"],[0.2222222222222222,\"#7201a8\"],[0.3333333333333333,\"#9c179e\"],[0.4444444444444444,\"#bd3786\"],[0.5555555555555556,\"#d8576b\"],[0.6666666666666666,\"#ed7953\"],[0.7777777777777778,\"#fb9f3a\"],[0.8888888888888888,\"#fdca26\"],[1.0,\"#f0f921\"]],\"type\":\"heatmapgl\"}],\"histogram\":[{\"marker\":{\"pattern\":{\"fillmode\":\"overlay\",\"size\":10,\"solidity\":0.2}},\"type\":\"histogram\"}],\"histogram2d\":[{\"colorbar\":{\"outlinewidth\":0,\"ticks\":\"\"},\"colorscale\":[[0.0,\"#0d0887\"],[0.1111111111111111,\"#46039f\"],[0.2222222222222222,\"#7201a8\"],[0.3333333333333333,\"#9c179e\"],[0.4444444444444444,\"#bd3786\"],[0.5555555555555556,\"#d8576b\"],[0.6666666666666666,\"#ed7953\"],[0.7777777777777778,\"#fb9f3a\"],[0.8888888888888888,\"#fdca26\"],[1.0,\"#f0f921\"]],\"type\":\"histogram2d\"}],\"histogram2dcontour\":[{\"colorbar\":{\"outlinewidth\":0,\"ticks\":\"\"},\"colorscale\":[[0.0,\"#0d0887\"],[0.1111111111111111,\"#46039f\"],[0.2222222222222222,\"#7201a8\"],[0.3333333333333333,\"#9c179e\"],[0.4444444444444444,\"#bd3786\"],[0.5555555555555556,\"#d8576b\"],[0.6666666666666666,\"#ed7953\"],[0.7777777777777778,\"#fb9f3a\"],[0.8888888888888888,\"#fdca26\"],[1.0,\"#f0f921\"]],\"type\":\"histogram2dcontour\"}],\"mesh3d\":[{\"colorbar\":{\"outlinewidth\":0,\"ticks\":\"\"},\"type\":\"mesh3d\"}],\"parcoords\":[{\"line\":{\"colorbar\":{\"outlinewidth\":0,\"ticks\":\"\"}},\"type\":\"parcoords\"}],\"pie\":[{\"automargin\":true,\"type\":\"pie\"}],\"scatter\":[{\"marker\":{\"colorbar\":{\"outlinewidth\":0,\"ticks\":\"\"}},\"type\":\"scatter\"}],\"scatter3d\":[{\"line\":{\"colorbar\":{\"outlinewidth\":0,\"ticks\":\"\"}},\"marker\":{\"colorbar\":{\"outlinewidth\":0,\"ticks\":\"\"}},\"type\":\"scatter3d\"}],\"scattercarpet\":[{\"marker\":{\"colorbar\":{\"outlinewidth\":0,\"ticks\":\"\"}},\"type\":\"scattercarpet\"}],\"scattergeo\":[{\"marker\":{\"colorbar\":{\"outlinewidth\":0,\"ticks\":\"\"}},\"type\":\"scattergeo\"}],\"scattergl\":[{\"marker\":{\"colorbar\":{\"outlinewidth\":0,\"ticks\":\"\"}},\"type\":\"scattergl\"}],\"scattermapbox\":[{\"marker\":{\"colorbar\":{\"outlinewidth\":0,\"ticks\":\"\"}},\"type\":\"scattermapbox\"}],\"scatterpolar\":[{\"marker\":{\"colorbar\":{\"outlinewidth\":0,\"ticks\":\"\"}},\"type\":\"scatterpolar\"}],\"scatterpolargl\":[{\"marker\":{\"colorbar\":{\"outlinewidth\":0,\"ticks\":\"\"}},\"type\":\"scatterpolargl\"}],\"scatterternary\":[{\"marker\":{\"colorbar\":{\"outlinewidth\":0,\"ticks\":\"\"}},\"type\":\"scatterternary\"}],\"surface\":[{\"colorbar\":{\"outlinewidth\":0,\"ticks\":\"\"},\"colorscale\":[[0.0,\"#0d0887\"],[0.1111111111111111,\"#46039f\"],[0.2222222222222222,\"#7201a8\"],[0.3333333333333333,\"#9c179e\"],[0.4444444444444444,\"#bd3786\"],[0.5555555555555556,\"#d8576b\"],[0.6666666666666666,\"#ed7953\"],[0.7777777777777778,\"#fb9f3a\"],[0.8888888888888888,\"#fdca26\"],[1.0,\"#f0f921\"]],\"type\":\"surface\"}],\"table\":[{\"cells\":{\"fill\":{\"color\":\"#EBF0F8\"},\"line\":{\"color\":\"white\"}},\"header\":{\"fill\":{\"color\":\"#C8D4E3\"},\"line\":{\"color\":\"white\"}},\"type\":\"table\"}]},\"layout\":{\"annotationdefaults\":{\"arrowcolor\":\"#2a3f5f\",\"arrowhead\":0,\"arrowwidth\":1},\"autotypenumbers\":\"strict\",\"coloraxis\":{\"colorbar\":{\"outlinewidth\":0,\"ticks\":\"\"}},\"colorscale\":{\"diverging\":[[0,\"#8e0152\"],[0.1,\"#c51b7d\"],[0.2,\"#de77ae\"],[0.3,\"#f1b6da\"],[0.4,\"#fde0ef\"],[0.5,\"#f7f7f7\"],[0.6,\"#e6f5d0\"],[0.7,\"#b8e186\"],[0.8,\"#7fbc41\"],[0.9,\"#4d9221\"],[1,\"#276419\"]],\"sequential\":[[0.0,\"#0d0887\"],[0.1111111111111111,\"#46039f\"],[0.2222222222222222,\"#7201a8\"],[0.3333333333333333,\"#9c179e\"],[0.4444444444444444,\"#bd3786\"],[0.5555555555555556,\"#d8576b\"],[0.6666666666666666,\"#ed7953\"],[0.7777777777777778,\"#fb9f3a\"],[0.8888888888888888,\"#fdca26\"],[1.0,\"#f0f921\"]],\"sequentialminus\":[[0.0,\"#0d0887\"],[0.1111111111111111,\"#46039f\"],[0.2222222222222222,\"#7201a8\"],[0.3333333333333333,\"#9c179e\"],[0.4444444444444444,\"#bd3786\"],[0.5555555555555556,\"#d8576b\"],[0.6666666666666666,\"#ed7953\"],[0.7777777777777778,\"#fb9f3a\"],[0.8888888888888888,\"#fdca26\"],[1.0,\"#f0f921\"]]},\"colorway\":[\"#636efa\",\"#EF553B\",\"#00cc96\",\"#ab63fa\",\"#FFA15A\",\"#19d3f3\",\"#FF6692\",\"#B6E880\",\"#FF97FF\",\"#FECB52\"],\"font\":{\"color\":\"#2a3f5f\"},\"geo\":{\"bgcolor\":\"white\",\"lakecolor\":\"white\",\"landcolor\":\"#E5ECF6\",\"showlakes\":true,\"showland\":true,\"subunitcolor\":\"white\"},\"hoverlabel\":{\"align\":\"left\"},\"hovermode\":\"closest\",\"mapbox\":{\"style\":\"light\"},\"paper_bgcolor\":\"white\",\"plot_bgcolor\":\"#E5ECF6\",\"polar\":{\"angularaxis\":{\"gridcolor\":\"white\",\"linecolor\":\"white\",\"ticks\":\"\"},\"bgcolor\":\"#E5ECF6\",\"radialaxis\":{\"gridcolor\":\"white\",\"linecolor\":\"white\",\"ticks\":\"\"}},\"scene\":{\"xaxis\":{\"backgroundcolor\":\"#E5ECF6\",\"gridcolor\":\"white\",\"gridwidth\":2,\"linecolor\":\"white\",\"showbackground\":true,\"ticks\":\"\",\"zerolinecolor\":\"white\"},\"yaxis\":{\"backgroundcolor\":\"#E5ECF6\",\"gridcolor\":\"white\",\"gridwidth\":2,\"linecolor\":\"white\",\"showbackground\":true,\"ticks\":\"\",\"zerolinecolor\":\"white\"},\"zaxis\":{\"backgroundcolor\":\"#E5ECF6\",\"gridcolor\":\"white\",\"gridwidth\":2,\"linecolor\":\"white\",\"showbackground\":true,\"ticks\":\"\",\"zerolinecolor\":\"white\"}},\"shapedefaults\":{\"line\":{\"color\":\"#2a3f5f\"}},\"ternary\":{\"aaxis\":{\"gridcolor\":\"white\",\"linecolor\":\"white\",\"ticks\":\"\"},\"baxis\":{\"gridcolor\":\"white\",\"linecolor\":\"white\",\"ticks\":\"\"},\"bgcolor\":\"#E5ECF6\",\"caxis\":{\"gridcolor\":\"white\",\"linecolor\":\"white\",\"ticks\":\"\"}},\"title\":{\"x\":0.05},\"xaxis\":{\"automargin\":true,\"gridcolor\":\"white\",\"linecolor\":\"white\",\"ticks\":\"\",\"title\":{\"standoff\":15},\"zerolinecolor\":\"white\",\"zerolinewidth\":2},\"yaxis\":{\"automargin\":true,\"gridcolor\":\"white\",\"linecolor\":\"white\",\"ticks\":\"\",\"title\":{\"standoff\":15},\"zerolinecolor\":\"white\",\"zerolinewidth\":2}}},\"title\":{\"text\":\"yHat General Stats\",\"x\":0.5,\"yanchor\":\"top\"},\"width\":1200},                        {\"responsive\": true}                    ).then(function(){\n",
       "                            \n",
       "var gd = document.getElementById('2fb9962a-cf4b-4faa-be59-d78074a86fcd');\n",
       "var x = new MutationObserver(function (mutations, observer) {{\n",
       "        var display = window.getComputedStyle(gd).display;\n",
       "        if (!display || display === 'none') {{\n",
       "            console.log([gd, 'removed!']);\n",
       "            Plotly.purge(gd);\n",
       "            observer.disconnect();\n",
       "        }}\n",
       "}});\n",
       "\n",
       "// Listen for the removal of the full notebook cells\n",
       "var notebookContainer = gd.closest('#notebook-container');\n",
       "if (notebookContainer) {{\n",
       "    x.observe(notebookContainer, {childList: true});\n",
       "}}\n",
       "\n",
       "// Listen for the clearing of the current output cell\n",
       "var outputEl = gd.closest('.output');\n",
       "if (outputEl) {{\n",
       "    x.observe(outputEl, {childList: true});\n",
       "}}\n",
       "\n",
       "                        })                };                });            </script>        </div>"
      ]
     },
     "metadata": {},
     "output_type": "display_data"
    }
   ],
   "source": [
    "fig = go.Figure(data=[go.Table(header=dict(values=[f'<b>{col}</b>' for col in df_total.columns],align=['center', 'center'],font_size=14,height=30),\n",
    "                      cells=dict(values=[df_total[col] for col in df_total.columns], align=['center', 'center'],\n",
    "                                font_size=14,height=30))])\n",
    "fig.update_layout(font_family='sans-serif', title_text='yHat General Stats', title_x=0.5, title_yanchor='top', width=1200, height=220, autosize=False, margin=dict(t=40, b=10, l=10, r=10))\n",
    "fig.show()"
   ]
  },
  {
   "cell_type": "code",
   "execution_count": 196,
   "id": "0a7d4d03-b2aa-4237-84a4-b061b73e74a6",
   "metadata": {},
   "outputs": [
    {
     "data": {
      "application/vnd.plotly.v1+json": {
       "config": {
        "plotlyServerURL": "https://plot.ly"
       },
       "data": [
        {
         "alignmentgroup": "True",
         "customdata": [
          [
           "sta_90_1_1_1_l2"
          ],
          [
           "sta_90_1_1_1_l2"
          ],
          [
           "sta_90_1_1_1_l2"
          ],
          [
           "sta_90_1_1_1_l2"
          ],
          [
           "sta_90_1_1_1_l2"
          ],
          [
           "sta_90_1_1_1_l2"
          ]
         ],
         "hovertemplate": "price group=%{x}<br>return (bps)=%{text:.2f}<extra></extra>",
         "legendgroup": "sta_90_1_1_1_l2",
         "marker": {
          "color": "#636efa",
          "pattern": {
           "shape": ""
          }
         },
         "name": "sta_90_1_1_1_l2",
         "offsetgroup": "sta_90_1_1_1_l2",
         "orientation": "v",
         "showlegend": true,
         "text": [
          "1.5976150035858154",
          "5.70235013961792",
          "8.3779935836792",
          "9.088603019714355",
          "7.690280914306641",
          "7.7812886238098145"
         ],
         "textposition": "outside",
         "texttemplate": "%{text:.3s} bps",
         "type": "bar",
         "x": [
          "0-5(59 stocks)",
          "5-10(86 stocks)",
          "10-20(73 stocks)",
          "20-50(61 stocks)",
          "50-100(17 stocks)",
          "100-(5 stocks)"
         ],
         "xaxis": "x",
         "y": [
          1.5976150035858154,
          5.70235013961792,
          8.3779935836792,
          9.088603019714355,
          7.690280914306641,
          7.7812886238098145
         ],
         "yaxis": "y"
        },
        {
         "alignmentgroup": "True",
         "customdata": [
          [
           "sta_90_1_1_1_mbd"
          ],
          [
           "sta_90_1_1_1_mbd"
          ],
          [
           "sta_90_1_1_1_mbd"
          ],
          [
           "sta_90_1_1_1_mbd"
          ],
          [
           "sta_90_1_1_1_mbd"
          ],
          [
           "sta_90_1_1_1_mbd"
          ]
         ],
         "hovertemplate": "price group=%{x}<br>return (bps)=%{text:.2f}<extra></extra>",
         "legendgroup": "sta_90_1_1_1_mbd",
         "marker": {
          "color": "#EF553B",
          "pattern": {
           "shape": ""
          }
         },
         "name": "sta_90_1_1_1_mbd",
         "offsetgroup": "sta_90_1_1_1_mbd",
         "orientation": "v",
         "showlegend": true,
         "text": [
          "8.059778213500977",
          "10.304004669189453",
          "12.8331880569458",
          "13.217373847961426",
          "10.614280700683594",
          "10.64268970489502"
         ],
         "textposition": "outside",
         "texttemplate": "%{text:.3s} bps",
         "type": "bar",
         "x": [
          "0-5(59 stocks)",
          "5-10(86 stocks)",
          "10-20(73 stocks)",
          "20-50(61 stocks)",
          "50-100(17 stocks)",
          "100-(5 stocks)"
         ],
         "xaxis": "x",
         "y": [
          8.059778213500977,
          10.304004669189453,
          12.8331880569458,
          13.217373847961426,
          10.614280700683594,
          10.64268970489502
         ],
         "yaxis": "y"
        }
       ],
       "layout": {
        "barmode": "group",
        "height": 500,
        "legend": {
         "bgcolor": "LightSteelBlue",
         "title": {
          "text": ""
         },
         "tracegroupgap": 0
        },
        "margin": {
         "t": 60
        },
        "template": {
         "data": {
          "bar": [
           {
            "error_x": {
             "color": "#2a3f5f"
            },
            "error_y": {
             "color": "#2a3f5f"
            },
            "marker": {
             "line": {
              "color": "#E5ECF6",
              "width": 0.5
             },
             "pattern": {
              "fillmode": "overlay",
              "size": 10,
              "solidity": 0.2
             }
            },
            "type": "bar"
           }
          ],
          "barpolar": [
           {
            "marker": {
             "line": {
              "color": "#E5ECF6",
              "width": 0.5
             },
             "pattern": {
              "fillmode": "overlay",
              "size": 10,
              "solidity": 0.2
             }
            },
            "type": "barpolar"
           }
          ],
          "carpet": [
           {
            "aaxis": {
             "endlinecolor": "#2a3f5f",
             "gridcolor": "white",
             "linecolor": "white",
             "minorgridcolor": "white",
             "startlinecolor": "#2a3f5f"
            },
            "baxis": {
             "endlinecolor": "#2a3f5f",
             "gridcolor": "white",
             "linecolor": "white",
             "minorgridcolor": "white",
             "startlinecolor": "#2a3f5f"
            },
            "type": "carpet"
           }
          ],
          "choropleth": [
           {
            "colorbar": {
             "outlinewidth": 0,
             "ticks": ""
            },
            "type": "choropleth"
           }
          ],
          "contour": [
           {
            "colorbar": {
             "outlinewidth": 0,
             "ticks": ""
            },
            "colorscale": [
             [
              0,
              "#0d0887"
             ],
             [
              0.1111111111111111,
              "#46039f"
             ],
             [
              0.2222222222222222,
              "#7201a8"
             ],
             [
              0.3333333333333333,
              "#9c179e"
             ],
             [
              0.4444444444444444,
              "#bd3786"
             ],
             [
              0.5555555555555556,
              "#d8576b"
             ],
             [
              0.6666666666666666,
              "#ed7953"
             ],
             [
              0.7777777777777778,
              "#fb9f3a"
             ],
             [
              0.8888888888888888,
              "#fdca26"
             ],
             [
              1,
              "#f0f921"
             ]
            ],
            "type": "contour"
           }
          ],
          "contourcarpet": [
           {
            "colorbar": {
             "outlinewidth": 0,
             "ticks": ""
            },
            "type": "contourcarpet"
           }
          ],
          "heatmap": [
           {
            "colorbar": {
             "outlinewidth": 0,
             "ticks": ""
            },
            "colorscale": [
             [
              0,
              "#0d0887"
             ],
             [
              0.1111111111111111,
              "#46039f"
             ],
             [
              0.2222222222222222,
              "#7201a8"
             ],
             [
              0.3333333333333333,
              "#9c179e"
             ],
             [
              0.4444444444444444,
              "#bd3786"
             ],
             [
              0.5555555555555556,
              "#d8576b"
             ],
             [
              0.6666666666666666,
              "#ed7953"
             ],
             [
              0.7777777777777778,
              "#fb9f3a"
             ],
             [
              0.8888888888888888,
              "#fdca26"
             ],
             [
              1,
              "#f0f921"
             ]
            ],
            "type": "heatmap"
           }
          ],
          "heatmapgl": [
           {
            "colorbar": {
             "outlinewidth": 0,
             "ticks": ""
            },
            "colorscale": [
             [
              0,
              "#0d0887"
             ],
             [
              0.1111111111111111,
              "#46039f"
             ],
             [
              0.2222222222222222,
              "#7201a8"
             ],
             [
              0.3333333333333333,
              "#9c179e"
             ],
             [
              0.4444444444444444,
              "#bd3786"
             ],
             [
              0.5555555555555556,
              "#d8576b"
             ],
             [
              0.6666666666666666,
              "#ed7953"
             ],
             [
              0.7777777777777778,
              "#fb9f3a"
             ],
             [
              0.8888888888888888,
              "#fdca26"
             ],
             [
              1,
              "#f0f921"
             ]
            ],
            "type": "heatmapgl"
           }
          ],
          "histogram": [
           {
            "marker": {
             "pattern": {
              "fillmode": "overlay",
              "size": 10,
              "solidity": 0.2
             }
            },
            "type": "histogram"
           }
          ],
          "histogram2d": [
           {
            "colorbar": {
             "outlinewidth": 0,
             "ticks": ""
            },
            "colorscale": [
             [
              0,
              "#0d0887"
             ],
             [
              0.1111111111111111,
              "#46039f"
             ],
             [
              0.2222222222222222,
              "#7201a8"
             ],
             [
              0.3333333333333333,
              "#9c179e"
             ],
             [
              0.4444444444444444,
              "#bd3786"
             ],
             [
              0.5555555555555556,
              "#d8576b"
             ],
             [
              0.6666666666666666,
              "#ed7953"
             ],
             [
              0.7777777777777778,
              "#fb9f3a"
             ],
             [
              0.8888888888888888,
              "#fdca26"
             ],
             [
              1,
              "#f0f921"
             ]
            ],
            "type": "histogram2d"
           }
          ],
          "histogram2dcontour": [
           {
            "colorbar": {
             "outlinewidth": 0,
             "ticks": ""
            },
            "colorscale": [
             [
              0,
              "#0d0887"
             ],
             [
              0.1111111111111111,
              "#46039f"
             ],
             [
              0.2222222222222222,
              "#7201a8"
             ],
             [
              0.3333333333333333,
              "#9c179e"
             ],
             [
              0.4444444444444444,
              "#bd3786"
             ],
             [
              0.5555555555555556,
              "#d8576b"
             ],
             [
              0.6666666666666666,
              "#ed7953"
             ],
             [
              0.7777777777777778,
              "#fb9f3a"
             ],
             [
              0.8888888888888888,
              "#fdca26"
             ],
             [
              1,
              "#f0f921"
             ]
            ],
            "type": "histogram2dcontour"
           }
          ],
          "mesh3d": [
           {
            "colorbar": {
             "outlinewidth": 0,
             "ticks": ""
            },
            "type": "mesh3d"
           }
          ],
          "parcoords": [
           {
            "line": {
             "colorbar": {
              "outlinewidth": 0,
              "ticks": ""
             }
            },
            "type": "parcoords"
           }
          ],
          "pie": [
           {
            "automargin": true,
            "type": "pie"
           }
          ],
          "scatter": [
           {
            "marker": {
             "colorbar": {
              "outlinewidth": 0,
              "ticks": ""
             }
            },
            "type": "scatter"
           }
          ],
          "scatter3d": [
           {
            "line": {
             "colorbar": {
              "outlinewidth": 0,
              "ticks": ""
             }
            },
            "marker": {
             "colorbar": {
              "outlinewidth": 0,
              "ticks": ""
             }
            },
            "type": "scatter3d"
           }
          ],
          "scattercarpet": [
           {
            "marker": {
             "colorbar": {
              "outlinewidth": 0,
              "ticks": ""
             }
            },
            "type": "scattercarpet"
           }
          ],
          "scattergeo": [
           {
            "marker": {
             "colorbar": {
              "outlinewidth": 0,
              "ticks": ""
             }
            },
            "type": "scattergeo"
           }
          ],
          "scattergl": [
           {
            "marker": {
             "colorbar": {
              "outlinewidth": 0,
              "ticks": ""
             }
            },
            "type": "scattergl"
           }
          ],
          "scattermapbox": [
           {
            "marker": {
             "colorbar": {
              "outlinewidth": 0,
              "ticks": ""
             }
            },
            "type": "scattermapbox"
           }
          ],
          "scatterpolar": [
           {
            "marker": {
             "colorbar": {
              "outlinewidth": 0,
              "ticks": ""
             }
            },
            "type": "scatterpolar"
           }
          ],
          "scatterpolargl": [
           {
            "marker": {
             "colorbar": {
              "outlinewidth": 0,
              "ticks": ""
             }
            },
            "type": "scatterpolargl"
           }
          ],
          "scatterternary": [
           {
            "marker": {
             "colorbar": {
              "outlinewidth": 0,
              "ticks": ""
             }
            },
            "type": "scatterternary"
           }
          ],
          "surface": [
           {
            "colorbar": {
             "outlinewidth": 0,
             "ticks": ""
            },
            "colorscale": [
             [
              0,
              "#0d0887"
             ],
             [
              0.1111111111111111,
              "#46039f"
             ],
             [
              0.2222222222222222,
              "#7201a8"
             ],
             [
              0.3333333333333333,
              "#9c179e"
             ],
             [
              0.4444444444444444,
              "#bd3786"
             ],
             [
              0.5555555555555556,
              "#d8576b"
             ],
             [
              0.6666666666666666,
              "#ed7953"
             ],
             [
              0.7777777777777778,
              "#fb9f3a"
             ],
             [
              0.8888888888888888,
              "#fdca26"
             ],
             [
              1,
              "#f0f921"
             ]
            ],
            "type": "surface"
           }
          ],
          "table": [
           {
            "cells": {
             "fill": {
              "color": "#EBF0F8"
             },
             "line": {
              "color": "white"
             }
            },
            "header": {
             "fill": {
              "color": "#C8D4E3"
             },
             "line": {
              "color": "white"
             }
            },
            "type": "table"
           }
          ]
         },
         "layout": {
          "annotationdefaults": {
           "arrowcolor": "#2a3f5f",
           "arrowhead": 0,
           "arrowwidth": 1
          },
          "autotypenumbers": "strict",
          "coloraxis": {
           "colorbar": {
            "outlinewidth": 0,
            "ticks": ""
           }
          },
          "colorscale": {
           "diverging": [
            [
             0,
             "#8e0152"
            ],
            [
             0.1,
             "#c51b7d"
            ],
            [
             0.2,
             "#de77ae"
            ],
            [
             0.3,
             "#f1b6da"
            ],
            [
             0.4,
             "#fde0ef"
            ],
            [
             0.5,
             "#f7f7f7"
            ],
            [
             0.6,
             "#e6f5d0"
            ],
            [
             0.7,
             "#b8e186"
            ],
            [
             0.8,
             "#7fbc41"
            ],
            [
             0.9,
             "#4d9221"
            ],
            [
             1,
             "#276419"
            ]
           ],
           "sequential": [
            [
             0,
             "#0d0887"
            ],
            [
             0.1111111111111111,
             "#46039f"
            ],
            [
             0.2222222222222222,
             "#7201a8"
            ],
            [
             0.3333333333333333,
             "#9c179e"
            ],
            [
             0.4444444444444444,
             "#bd3786"
            ],
            [
             0.5555555555555556,
             "#d8576b"
            ],
            [
             0.6666666666666666,
             "#ed7953"
            ],
            [
             0.7777777777777778,
             "#fb9f3a"
            ],
            [
             0.8888888888888888,
             "#fdca26"
            ],
            [
             1,
             "#f0f921"
            ]
           ],
           "sequentialminus": [
            [
             0,
             "#0d0887"
            ],
            [
             0.1111111111111111,
             "#46039f"
            ],
            [
             0.2222222222222222,
             "#7201a8"
            ],
            [
             0.3333333333333333,
             "#9c179e"
            ],
            [
             0.4444444444444444,
             "#bd3786"
            ],
            [
             0.5555555555555556,
             "#d8576b"
            ],
            [
             0.6666666666666666,
             "#ed7953"
            ],
            [
             0.7777777777777778,
             "#fb9f3a"
            ],
            [
             0.8888888888888888,
             "#fdca26"
            ],
            [
             1,
             "#f0f921"
            ]
           ]
          },
          "colorway": [
           "#636efa",
           "#EF553B",
           "#00cc96",
           "#ab63fa",
           "#FFA15A",
           "#19d3f3",
           "#FF6692",
           "#B6E880",
           "#FF97FF",
           "#FECB52"
          ],
          "font": {
           "color": "#2a3f5f"
          },
          "geo": {
           "bgcolor": "white",
           "lakecolor": "white",
           "landcolor": "#E5ECF6",
           "showlakes": true,
           "showland": true,
           "subunitcolor": "white"
          },
          "hoverlabel": {
           "align": "left"
          },
          "hovermode": "closest",
          "mapbox": {
           "style": "light"
          },
          "paper_bgcolor": "white",
          "plot_bgcolor": "#E5ECF6",
          "polar": {
           "angularaxis": {
            "gridcolor": "white",
            "linecolor": "white",
            "ticks": ""
           },
           "bgcolor": "#E5ECF6",
           "radialaxis": {
            "gridcolor": "white",
            "linecolor": "white",
            "ticks": ""
           }
          },
          "scene": {
           "xaxis": {
            "backgroundcolor": "#E5ECF6",
            "gridcolor": "white",
            "gridwidth": 2,
            "linecolor": "white",
            "showbackground": true,
            "ticks": "",
            "zerolinecolor": "white"
           },
           "yaxis": {
            "backgroundcolor": "#E5ECF6",
            "gridcolor": "white",
            "gridwidth": 2,
            "linecolor": "white",
            "showbackground": true,
            "ticks": "",
            "zerolinecolor": "white"
           },
           "zaxis": {
            "backgroundcolor": "#E5ECF6",
            "gridcolor": "white",
            "gridwidth": 2,
            "linecolor": "white",
            "showbackground": true,
            "ticks": "",
            "zerolinecolor": "white"
           }
          },
          "shapedefaults": {
           "line": {
            "color": "#2a3f5f"
           }
          },
          "ternary": {
           "aaxis": {
            "gridcolor": "white",
            "linecolor": "white",
            "ticks": ""
           },
           "baxis": {
            "gridcolor": "white",
            "linecolor": "white",
            "ticks": ""
           },
           "bgcolor": "#E5ECF6",
           "caxis": {
            "gridcolor": "white",
            "linecolor": "white",
            "ticks": ""
           }
          },
          "title": {
           "x": 0.05
          },
          "xaxis": {
           "automargin": true,
           "gridcolor": "white",
           "linecolor": "white",
           "ticks": "",
           "title": {
            "standoff": 15
           },
           "zerolinecolor": "white",
           "zerolinewidth": 2
          },
          "yaxis": {
           "automargin": true,
           "gridcolor": "white",
           "linecolor": "white",
           "ticks": "",
           "title": {
            "standoff": 15
           },
           "zerolinecolor": "white",
           "zerolinewidth": 2
          }
         }
        },
        "title": {
         "font": {
          "size": 18
         },
         "text": "buy side - actualRet90s",
         "x": 0.5,
         "yanchor": "top"
        },
        "width": 1400,
        "xaxis": {
         "anchor": "y",
         "autorange": true,
         "domain": [
          0,
          1
         ],
         "range": [
          -0.5,
          5.5
         ],
         "title": {
          "text": "price group"
         },
         "type": "category"
        },
        "yaxis": {
         "anchor": "x",
         "autorange": true,
         "domain": [
          0,
          1
         ],
         "range": [
          0,
          13.91302510311729
         ],
         "title": {
          "text": "return (bps)"
         },
         "type": "linear"
        }
       }
      },
      "image/png": "[encoded data removed]",
      "text/html": [
       "<div>                            <div id=\"8cf5d71b-e532-4974-be42-53414b48282d\" class=\"plotly-graph-div\" style=\"height:500px; width:1400px;\"></div>            <script type=\"text/javascript\">                require([\"plotly\"], function(Plotly) {                    window.PLOTLYENV=window.PLOTLYENV || {};                                    if (document.getElementById(\"8cf5d71b-e532-4974-be42-53414b48282d\")) {                    Plotly.newPlot(                        \"8cf5d71b-e532-4974-be42-53414b48282d\",                        [{\"alignmentgroup\":\"True\",\"customdata\":[[\"sta_90_1_1_1_l2\"],[\"sta_90_1_1_1_l2\"],[\"sta_90_1_1_1_l2\"],[\"sta_90_1_1_1_l2\"],[\"sta_90_1_1_1_l2\"],[\"sta_90_1_1_1_l2\"]],\"hovertemplate\":\"price group=%{x}<br>return (bps)=%{text:.2f}<extra></extra>\",\"legendgroup\":\"sta_90_1_1_1_l2\",\"marker\":{\"color\":\"#636efa\",\"pattern\":{\"shape\":\"\"}},\"name\":\"sta_90_1_1_1_l2\",\"offsetgroup\":\"sta_90_1_1_1_l2\",\"orientation\":\"v\",\"showlegend\":true,\"text\":[\"1.5976150035858154\",\"5.70235013961792\",\"8.3779935836792\",\"9.088603019714355\",\"7.690280914306641\",\"7.7812886238098145\"],\"textposition\":\"outside\",\"texttemplate\":\"%{text:.3s} bps\",\"type\":\"bar\",\"x\":[\"0-5(59 stocks)\",\"5-10(86 stocks)\",\"10-20(73 stocks)\",\"20-50(61 stocks)\",\"50-100(17 stocks)\",\"100-(5 stocks)\"],\"xaxis\":\"x\",\"y\":[1.5976150035858154,5.70235013961792,8.3779935836792,9.088603019714355,7.690280914306641,7.7812886238098145],\"yaxis\":\"y\"},{\"alignmentgroup\":\"True\",\"customdata\":[[\"sta_90_1_1_1_mbd\"],[\"sta_90_1_1_1_mbd\"],[\"sta_90_1_1_1_mbd\"],[\"sta_90_1_1_1_mbd\"],[\"sta_90_1_1_1_mbd\"],[\"sta_90_1_1_1_mbd\"]],\"hovertemplate\":\"price group=%{x}<br>return (bps)=%{text:.2f}<extra></extra>\",\"legendgroup\":\"sta_90_1_1_1_mbd\",\"marker\":{\"color\":\"#EF553B\",\"pattern\":{\"shape\":\"\"}},\"name\":\"sta_90_1_1_1_mbd\",\"offsetgroup\":\"sta_90_1_1_1_mbd\",\"orientation\":\"v\",\"showlegend\":true,\"text\":[\"8.059778213500977\",\"10.304004669189453\",\"12.8331880569458\",\"13.217373847961426\",\"10.614280700683594\",\"10.64268970489502\"],\"textposition\":\"outside\",\"texttemplate\":\"%{text:.3s} bps\",\"type\":\"bar\",\"x\":[\"0-5(59 stocks)\",\"5-10(86 stocks)\",\"10-20(73 stocks)\",\"20-50(61 stocks)\",\"50-100(17 stocks)\",\"100-(5 stocks)\"],\"xaxis\":\"x\",\"y\":[8.059778213500977,10.304004669189453,12.8331880569458,13.217373847961426,10.614280700683594,10.64268970489502],\"yaxis\":\"y\"}],                        {\"barmode\":\"group\",\"height\":500,\"legend\":{\"bgcolor\":\"LightSteelBlue\",\"title\":{\"text\":\"\"},\"tracegroupgap\":0},\"margin\":{\"t\":60},\"template\":{\"data\":{\"bar\":[{\"error_x\":{\"color\":\"#2a3f5f\"},\"error_y\":{\"color\":\"#2a3f5f\"},\"marker\":{\"line\":{\"color\":\"#E5ECF6\",\"width\":0.5},\"pattern\":{\"fillmode\":\"overlay\",\"size\":10,\"solidity\":0.2}},\"type\":\"bar\"}],\"barpolar\":[{\"marker\":{\"line\":{\"color\":\"#E5ECF6\",\"width\":0.5},\"pattern\":{\"fillmode\":\"overlay\",\"size\":10,\"solidity\":0.2}},\"type\":\"barpolar\"}],\"carpet\":[{\"aaxis\":{\"endlinecolor\":\"#2a3f5f\",\"gridcolor\":\"white\",\"linecolor\":\"white\",\"minorgridcolor\":\"white\",\"startlinecolor\":\"#2a3f5f\"},\"baxis\":{\"endlinecolor\":\"#2a3f5f\",\"gridcolor\":\"white\",\"linecolor\":\"white\",\"minorgridcolor\":\"white\",\"startlinecolor\":\"#2a3f5f\"},\"type\":\"carpet\"}],\"choropleth\":[{\"colorbar\":{\"outlinewidth\":0,\"ticks\":\"\"},\"type\":\"choropleth\"}],\"contour\":[{\"colorbar\":{\"outlinewidth\":0,\"ticks\":\"\"},\"colorscale\":[[0.0,\"#0d0887\"],[0.1111111111111111,\"#46039f\"],[0.2222222222222222,\"#7201a8\"],[0.3333333333333333,\"#9c179e\"],[0.4444444444444444,\"#bd3786\"],[0.5555555555555556,\"#d8576b\"],[0.6666666666666666,\"#ed7953\"],[0.7777777777777778,\"#fb9f3a\"],[0.8888888888888888,\"#fdca26\"],[1.0,\"#f0f921\"]],\"type\":\"contour\"}],\"contourcarpet\":[{\"colorbar\":{\"outlinewidth\":0,\"ticks\":\"\"},\"type\":\"contourcarpet\"}],\"heatmap\":[{\"colorbar\":{\"outlinewidth\":0,\"ticks\":\"\"},\"colorscale\":[[0.0,\"#0d0887\"],[0.1111111111111111,\"#46039f\"],[0.2222222222222222,\"#7201a8\"],[0.3333333333333333,\"#9c179e\"],[0.4444444444444444,\"#bd3786\"],[0.5555555555555556,\"#d8576b\"],[0.6666666666666666,\"#ed7953\"],[0.7777777777777778,\"#fb9f3a\"],[0.8888888888888888,\"#fdca26\"],[1.0,\"#f0f921\"]],\"type\":\"heatmap\"}],\"heatmapgl\":[{\"colorbar\":{\"outlinewidth\":0,\"ticks\":\"\"},\"colorscale\":[[0.0,\"#0d0887\"],[0.1111111111111111,\"#46039f\"],[0.2222222222222222,\"#7201a8\"],[0.3333333333333333,\"#9c179e\"],[0.4444444444444444,\"#bd3786\"],[0.5555555555555556,\"#d8576b\"],[0.6666666666666666,\"#ed7953\"],[0.7777777777777778,\"#fb9f3a\"],[0.8888888888888888,\"#fdca26\"],[1.0,\"#f0f921\"]],\"type\":\"heatmapgl\"}],\"histogram\":[{\"marker\":{\"pattern\":{\"fillmode\":\"overlay\",\"size\":10,\"solidity\":0.2}},\"type\":\"histogram\"}],\"histogram2d\":[{\"colorbar\":{\"outlinewidth\":0,\"ticks\":\"\"},\"colorscale\":[[0.0,\"#0d0887\"],[0.1111111111111111,\"#46039f\"],[0.2222222222222222,\"#7201a8\"],[0.3333333333333333,\"#9c179e\"],[0.4444444444444444,\"#bd3786\"],[0.5555555555555556,\"#d8576b\"],[0.6666666666666666,\"#ed7953\"],[0.7777777777777778,\"#fb9f3a\"],[0.8888888888888888,\"#fdca26\"],[1.0,\"#f0f921\"]],\"type\":\"histogram2d\"}],\"histogram2dcontour\":[{\"colorbar\":{\"outlinewidth\":0,\"ticks\":\"\"},\"colorscale\":[[0.0,\"#0d0887\"],[0.1111111111111111,\"#46039f\"],[0.2222222222222222,\"#7201a8\"],[0.3333333333333333,\"#9c179e\"],[0.4444444444444444,\"#bd3786\"],[0.5555555555555556,\"#d8576b\"],[0.6666666666666666,\"#ed7953\"],[0.7777777777777778,\"#fb9f3a\"],[0.8888888888888888,\"#fdca26\"],[1.0,\"#f0f921\"]],\"type\":\"histogram2dcontour\"}],\"mesh3d\":[{\"colorbar\":{\"outlinewidth\":0,\"ticks\":\"\"},\"type\":\"mesh3d\"}],\"parcoords\":[{\"line\":{\"colorbar\":{\"outlinewidth\":0,\"ticks\":\"\"}},\"type\":\"parcoords\"}],\"pie\":[{\"automargin\":true,\"type\":\"pie\"}],\"scatter\":[{\"marker\":{\"colorbar\":{\"outlinewidth\":0,\"ticks\":\"\"}},\"type\":\"scatter\"}],\"scatter3d\":[{\"line\":{\"colorbar\":{\"outlinewidth\":0,\"ticks\":\"\"}},\"marker\":{\"colorbar\":{\"outlinewidth\":0,\"ticks\":\"\"}},\"type\":\"scatter3d\"}],\"scattercarpet\":[{\"marker\":{\"colorbar\":{\"outlinewidth\":0,\"ticks\":\"\"}},\"type\":\"scattercarpet\"}],\"scattergeo\":[{\"marker\":{\"colorbar\":{\"outlinewidth\":0,\"ticks\":\"\"}},\"type\":\"scattergeo\"}],\"scattergl\":[{\"marker\":{\"colorbar\":{\"outlinewidth\":0,\"ticks\":\"\"}},\"type\":\"scattergl\"}],\"scattermapbox\":[{\"marker\":{\"colorbar\":{\"outlinewidth\":0,\"ticks\":\"\"}},\"type\":\"scattermapbox\"}],\"scatterpolar\":[{\"marker\":{\"colorbar\":{\"outlinewidth\":0,\"ticks\":\"\"}},\"type\":\"scatterpolar\"}],\"scatterpolargl\":[{\"marker\":{\"colorbar\":{\"outlinewidth\":0,\"ticks\":\"\"}},\"type\":\"scatterpolargl\"}],\"scatterternary\":[{\"marker\":{\"colorbar\":{\"outlinewidth\":0,\"ticks\":\"\"}},\"type\":\"scatterternary\"}],\"surface\":[{\"colorbar\":{\"outlinewidth\":0,\"ticks\":\"\"},\"colorscale\":[[0.0,\"#0d0887\"],[0.1111111111111111,\"#46039f\"],[0.2222222222222222,\"#7201a8\"],[0.3333333333333333,\"#9c179e\"],[0.4444444444444444,\"#bd3786\"],[0.5555555555555556,\"#d8576b\"],[0.6666666666666666,\"#ed7953\"],[0.7777777777777778,\"#fb9f3a\"],[0.8888888888888888,\"#fdca26\"],[1.0,\"#f0f921\"]],\"type\":\"surface\"}],\"table\":[{\"cells\":{\"fill\":{\"color\":\"#EBF0F8\"},\"line\":{\"color\":\"white\"}},\"header\":{\"fill\":{\"color\":\"#C8D4E3\"},\"line\":{\"color\":\"white\"}},\"type\":\"table\"}]},\"layout\":{\"annotationdefaults\":{\"arrowcolor\":\"#2a3f5f\",\"arrowhead\":0,\"arrowwidth\":1},\"autotypenumbers\":\"strict\",\"coloraxis\":{\"colorbar\":{\"outlinewidth\":0,\"ticks\":\"\"}},\"colorscale\":{\"diverging\":[[0,\"#8e0152\"],[0.1,\"#c51b7d\"],[0.2,\"#de77ae\"],[0.3,\"#f1b6da\"],[0.4,\"#fde0ef\"],[0.5,\"#f7f7f7\"],[0.6,\"#e6f5d0\"],[0.7,\"#b8e186\"],[0.8,\"#7fbc41\"],[0.9,\"#4d9221\"],[1,\"#276419\"]],\"sequential\":[[0.0,\"#0d0887\"],[0.1111111111111111,\"#46039f\"],[0.2222222222222222,\"#7201a8\"],[0.3333333333333333,\"#9c179e\"],[0.4444444444444444,\"#bd3786\"],[0.5555555555555556,\"#d8576b\"],[0.6666666666666666,\"#ed7953\"],[0.7777777777777778,\"#fb9f3a\"],[0.8888888888888888,\"#fdca26\"],[1.0,\"#f0f921\"]],\"sequentialminus\":[[0.0,\"#0d0887\"],[0.1111111111111111,\"#46039f\"],[0.2222222222222222,\"#7201a8\"],[0.3333333333333333,\"#9c179e\"],[0.4444444444444444,\"#bd3786\"],[0.5555555555555556,\"#d8576b\"],[0.6666666666666666,\"#ed7953\"],[0.7777777777777778,\"#fb9f3a\"],[0.8888888888888888,\"#fdca26\"],[1.0,\"#f0f921\"]]},\"colorway\":[\"#636efa\",\"#EF553B\",\"#00cc96\",\"#ab63fa\",\"#FFA15A\",\"#19d3f3\",\"#FF6692\",\"#B6E880\",\"#FF97FF\",\"#FECB52\"],\"font\":{\"color\":\"#2a3f5f\"},\"geo\":{\"bgcolor\":\"white\",\"lakecolor\":\"white\",\"landcolor\":\"#E5ECF6\",\"showlakes\":true,\"showland\":true,\"subunitcolor\":\"white\"},\"hoverlabel\":{\"align\":\"left\"},\"hovermode\":\"closest\",\"mapbox\":{\"style\":\"light\"},\"paper_bgcolor\":\"white\",\"plot_bgcolor\":\"#E5ECF6\",\"polar\":{\"angularaxis\":{\"gridcolor\":\"white\",\"linecolor\":\"white\",\"ticks\":\"\"},\"bgcolor\":\"#E5ECF6\",\"radialaxis\":{\"gridcolor\":\"white\",\"linecolor\":\"white\",\"ticks\":\"\"}},\"scene\":{\"xaxis\":{\"backgroundcolor\":\"#E5ECF6\",\"gridcolor\":\"white\",\"gridwidth\":2,\"linecolor\":\"white\",\"showbackground\":true,\"ticks\":\"\",\"zerolinecolor\":\"white\"},\"yaxis\":{\"backgroundcolor\":\"#E5ECF6\",\"gridcolor\":\"white\",\"gridwidth\":2,\"linecolor\":\"white\",\"showbackground\":true,\"ticks\":\"\",\"zerolinecolor\":\"white\"},\"zaxis\":{\"backgroundcolor\":\"#E5ECF6\",\"gridcolor\":\"white\",\"gridwidth\":2,\"linecolor\":\"white\",\"showbackground\":true,\"ticks\":\"\",\"zerolinecolor\":\"white\"}},\"shapedefaults\":{\"line\":{\"color\":\"#2a3f5f\"}},\"ternary\":{\"aaxis\":{\"gridcolor\":\"white\",\"linecolor\":\"white\",\"ticks\":\"\"},\"baxis\":{\"gridcolor\":\"white\",\"linecolor\":\"white\",\"ticks\":\"\"},\"bgcolor\":\"#E5ECF6\",\"caxis\":{\"gridcolor\":\"white\",\"linecolor\":\"white\",\"ticks\":\"\"}},\"title\":{\"x\":0.05},\"xaxis\":{\"automargin\":true,\"gridcolor\":\"white\",\"linecolor\":\"white\",\"ticks\":\"\",\"title\":{\"standoff\":15},\"zerolinecolor\":\"white\",\"zerolinewidth\":2},\"yaxis\":{\"automargin\":true,\"gridcolor\":\"white\",\"linecolor\":\"white\",\"ticks\":\"\",\"title\":{\"standoff\":15},\"zerolinecolor\":\"white\",\"zerolinewidth\":2}}},\"title\":{\"font\":{\"size\":18},\"text\":\"buy side - actualRet90s\",\"x\":0.5,\"yanchor\":\"top\"},\"width\":1400,\"xaxis\":{\"anchor\":\"y\",\"domain\":[0.0,1.0],\"title\":{\"text\":\"price group\"}},\"yaxis\":{\"anchor\":\"x\",\"domain\":[0.0,1.0],\"title\":{\"text\":\"return (bps)\"}}},                        {\"responsive\": true}                    ).then(function(){\n",
       "                            \n",
       "var gd = document.getElementById('8cf5d71b-e532-4974-be42-53414b48282d');\n",
       "var x = new MutationObserver(function (mutations, observer) {{\n",
       "        var display = window.getComputedStyle(gd).display;\n",
       "        if (!display || display === 'none') {{\n",
       "            console.log([gd, 'removed!']);\n",
       "            Plotly.purge(gd);\n",
       "            observer.disconnect();\n",
       "        }}\n",
       "}});\n",
       "\n",
       "// Listen for the removal of the full notebook cells\n",
       "var notebookContainer = gd.closest('#notebook-container');\n",
       "if (notebookContainer) {{\n",
       "    x.observe(notebookContainer, {childList: true});\n",
       "}}\n",
       "\n",
       "// Listen for the clearing of the current output cell\n",
       "var outputEl = gd.closest('.output');\n",
       "if (outputEl) {{\n",
       "    x.observe(outputEl, {childList: true});\n",
       "}}\n",
       "\n",
       "                        })                };                });            </script>        </div>"
      ]
     },
     "metadata": {},
     "output_type": "display_data"
    }
   ],
   "source": [
    "fig.show()"
   ]
  },
  {
   "cell_type": "code",
   "execution_count": 131,
   "id": "5da28e8b-b1bb-4aec-83f9-dde606b883ab",
   "metadata": {},
   "outputs": [],
   "source": [
    "with open('fig1.html', 'w') as f:\n",
    "    f.write('''<html>\\n<head><meta charset=\"utf-8\" /></head>\\n<body>\\n    <div>                        <script type=\"text/javascript\">window.PlotlyConfig = {MathJaxConfig: \\'local\\'};</script>\\n        <script src=\"https://cdn.plot.ly/plotly-2.2.0.min.js\"></script>                <div id=\"fac4c580-d205-4968-bc44-6692931f69fd\" class=\"plotly-graph-div\" style=\"height:500px; width:1200px;\">''')\n",
    "    f.write('\\n\\n'.join(reports))\n",
    "    f.write('''\\n</body>\\n</html>''')"
   ]
  },
  {
   "cell_type": "code",
   "execution_count": null,
   "id": "56028103-f4de-4062-8fda-49d6cb3bb9cf",
   "metadata": {},
   "outputs": [],
   "source": []
  },
  {
   "cell_type": "code",
   "execution_count": 193,
   "id": "a691325c-a2b3-4d12-baa9-a757aeab1778",
   "metadata": {},
   "outputs": [
    {
     "data": {
      "text/plain": [
       "'<html>\\n<head><meta charset=\"utf-8\" /></head>\\n<body>\\n    <div>                        <script type=\"text/javascript\">window.PlotlyConfig = {MathJaxConfig: \\'local\\'};</script>\\n        <script src=\"https://cdn.plot.ly/plotly-2.2.0.min.js\"></script>                <div id=\"a74a4a2e-4c01-461e-a4df-fd69fb46b200\" class=\"plotly-graph-div\" style=\"height:500px; width:1400px;\"></div>            <script type=\"text/javascript\">                                    window.PLOTLYENV=window.PLOTLYENV || {};                                    if (document.getElementById(\"a74a4a2e-4c01-461e-a4df-fd69fb46b200\")) {                    Plotly.newPlot(                        \"a74a4a2e-4c01-461e-a4df-fd69fb46b200\",                        [{\"alignmentgroup\":\"True\",\"hovertemplate\":\"sta_cat=sta_90_1_1_1_l2<br>price group=%{x}<br>return (bps)=%{text}<extra></extra>\",\"legendgroup\":\"sta_90_1_1_1_l2\",\"marker\":{\"color\":\"#636efa\",\"pattern\":{\"shape\":\"\"}},\"name\":\"sta_90_1_1_1_l2\",\"offsetgroup\":\"sta_90_1_1_1_l2\",\"orientation\":\"v\",\"showlegend\":true,\"text\":[\"1.5976150035858154\",\"5.70235013961792\",\"8.3779935836792\",\"9.088603019714355\",\"7.690280914306641\",\"7.7812886238098145\"],\"textposition\":\"outside\",\"texttemplate\":\"%{text:.3s} bps\",\"type\":\"bar\",\"x\":[\"0-5(59 stocks)\",\"5-10(86 stocks)\",\"10-20(73 stocks)\",\"20-50(61 stocks)\",\"50-100(17 stocks)\",\"100-(5 stocks)\"],\"xaxis\":\"x\",\"y\":[1.5976150035858154,5.70235013961792,8.3779935836792,9.088603019714355,7.690280914306641,7.7812886238098145],\"yaxis\":\"y\"},{\"alignmentgroup\":\"True\",\"hovertemplate\":\"sta_cat=sta_90_1_1_1_mbd<br>price group=%{x}<br>return (bps)=%{text}<extra></extra>\",\"legendgroup\":\"sta_90_1_1_1_mbd\",\"marker\":{\"color\":\"#EF553B\",\"pattern\":{\"shape\":\"\"}},\"name\":\"sta_90_1_1_1_mbd\",\"offsetgroup\":\"sta_90_1_1_1_mbd\",\"orientation\":\"v\",\"showlegend\":true,\"text\":[\"8.059778213500977\",\"10.304004669189453\",\"12.8331880569458\",\"13.217373847961426\",\"10.614280700683594\",\"10.64268970489502\"],\"textposition\":\"outside\",\"texttemplate\":\"%{text:.3s} bps\",\"type\":\"bar\",\"x\":[\"0-5(59 stocks)\",\"5-10(86 stocks)\",\"10-20(73 stocks)\",\"20-50(61 stocks)\",\"50-100(17 stocks)\",\"100-(5 stocks)\"],\"xaxis\":\"x\",\"y\":[8.059778213500977,10.304004669189453,12.8331880569458,13.217373847961426,10.614280700683594,10.64268970489502],\"yaxis\":\"y\"}],                        {\"barmode\":\"group\",\"height\":500,\"legend\":{\"bgcolor\":\"LightSteelBlue\",\"title\":{\"text\":\"\"},\"tracegroupgap\":0},\"margin\":{\"t\":60},\"template\":{\"data\":{\"bar\":[{\"error_x\":{\"color\":\"#2a3f5f\"},\"error_y\":{\"color\":\"#2a3f5f\"},\"marker\":{\"line\":{\"color\":\"#E5ECF6\",\"width\":0.5},\"pattern\":{\"fillmode\":\"overlay\",\"size\":10,\"solidity\":0.2}},\"type\":\"bar\"}],\"barpolar\":[{\"marker\":{\"line\":{\"color\":\"#E5ECF6\",\"width\":0.5},\"pattern\":{\"fillmode\":\"overlay\",\"size\":10,\"solidity\":0.2}},\"type\":\"barpolar\"}],\"carpet\":[{\"aaxis\":{\"endlinecolor\":\"#2a3f5f\",\"gridcolor\":\"white\",\"linecolor\":\"white\",\"minorgridcolor\":\"white\",\"startlinecolor\":\"#2a3f5f\"},\"baxis\":{\"endlinecolor\":\"#2a3f5f\",\"gridcolor\":\"white\",\"linecolor\":\"white\",\"minorgridcolor\":\"white\",\"startlinecolor\":\"#2a3f5f\"},\"type\":\"carpet\"}],\"choropleth\":[{\"colorbar\":{\"outlinewidth\":0,\"ticks\":\"\"},\"type\":\"choropleth\"}],\"contour\":[{\"colorbar\":{\"outlinewidth\":0,\"ticks\":\"\"},\"colorscale\":[[0.0,\"#0d0887\"],[0.1111111111111111,\"#46039f\"],[0.2222222222222222,\"#7201a8\"],[0.3333333333333333,\"#9c179e\"],[0.4444444444444444,\"#bd3786\"],[0.5555555555555556,\"#d8576b\"],[0.6666666666666666,\"#ed7953\"],[0.7777777777777778,\"#fb9f3a\"],[0.8888888888888888,\"#fdca26\"],[1.0,\"#f0f921\"]],\"type\":\"contour\"}],\"contourcarpet\":[{\"colorbar\":{\"outlinewidth\":0,\"ticks\":\"\"},\"type\":\"contourcarpet\"}],\"heatmap\":[{\"colorbar\":{\"outlinewidth\":0,\"ticks\":\"\"},\"colorscale\":[[0.0,\"#0d0887\"],[0.1111111111111111,\"#46039f\"],[0.2222222222222222,\"#7201a8\"],[0.3333333333333333,\"#9c179e\"],[0.4444444444444444,\"#bd3786\"],[0.5555555555555556,\"#d8576b\"],[0.6666666666666666,\"#ed7953\"],[0.7777777777777778,\"#fb9f3a\"],[0.8888888888888888,\"#fdca26\"],[1.0,\"#f0f921\"]],\"type\":\"heatmap\"}],\"heatmapgl\":[{\"colorbar\":{\"outlinewidth\":0,\"ticks\":\"\"},\"colorscale\":[[0.0,\"#0d0887\"],[0.1111111111111111,\"#46039f\"],[0.2222222222222222,\"#7201a8\"],[0.3333333333333333,\"#9c179e\"],[0.4444444444444444,\"#bd3786\"],[0.5555555555555556,\"#d8576b\"],[0.6666666666666666,\"#ed7953\"],[0.7777777777777778,\"#fb9f3a\"],[0.8888888888888888,\"#fdca26\"],[1.0,\"#f0f921\"]],\"type\":\"heatmapgl\"}],\"histogram\":[{\"marker\":{\"pattern\":{\"fillmode\":\"overlay\",\"size\":10,\"solidity\":0.2}},\"type\":\"histogram\"}],\"histogram2d\":[{\"colorbar\":{\"outlinewidth\":0,\"ticks\":\"\"},\"colorscale\":[[0.0,\"#0d0887\"],[0.1111111111111111,\"#46039f\"],[0.2222222222222222,\"#7201a8\"],[0.3333333333333333,\"#9c179e\"],[0.4444444444444444,\"#bd3786\"],[0.5555555555555556,\"#d8576b\"],[0.6666666666666666,\"#ed7953\"],[0.7777777777777778,\"#fb9f3a\"],[0.8888888888888888,\"#fdca26\"],[1.0,\"#f0f921\"]],\"type\":\"histogram2d\"}],\"histogram2dcontour\":[{\"colorbar\":{\"outlinewidth\":0,\"ticks\":\"\"},\"colorscale\":[[0.0,\"#0d0887\"],[0.1111111111111111,\"#46039f\"],[0.2222222222222222,\"#7201a8\"],[0.3333333333333333,\"#9c179e\"],[0.4444444444444444,\"#bd3786\"],[0.5555555555555556,\"#d8576b\"],[0.6666666666666666,\"#ed7953\"],[0.7777777777777778,\"#fb9f3a\"],[0.8888888888888888,\"#fdca26\"],[1.0,\"#f0f921\"]],\"type\":\"histogram2dcontour\"}],\"mesh3d\":[{\"colorbar\":{\"outlinewidth\":0,\"ticks\":\"\"},\"type\":\"mesh3d\"}],\"parcoords\":[{\"line\":{\"colorbar\":{\"outlinewidth\":0,\"ticks\":\"\"}},\"type\":\"parcoords\"}],\"pie\":[{\"automargin\":true,\"type\":\"pie\"}],\"scatter\":[{\"marker\":{\"colorbar\":{\"outlinewidth\":0,\"ticks\":\"\"}},\"type\":\"scatter\"}],\"scatter3d\":[{\"line\":{\"colorbar\":{\"outlinewidth\":0,\"ticks\":\"\"}},\"marker\":{\"colorbar\":{\"outlinewidth\":0,\"ticks\":\"\"}},\"type\":\"scatter3d\"}],\"scattercarpet\":[{\"marker\":{\"colorbar\":{\"outlinewidth\":0,\"ticks\":\"\"}},\"type\":\"scattercarpet\"}],\"scattergeo\":[{\"marker\":{\"colorbar\":{\"outlinewidth\":0,\"ticks\":\"\"}},\"type\":\"scattergeo\"}],\"scattergl\":[{\"marker\":{\"colorbar\":{\"outlinewidth\":0,\"ticks\":\"\"}},\"type\":\"scattergl\"}],\"scattermapbox\":[{\"marker\":{\"colorbar\":{\"outlinewidth\":0,\"ticks\":\"\"}},\"type\":\"scattermapbox\"}],\"scatterpolar\":[{\"marker\":{\"colorbar\":{\"outlinewidth\":0,\"ticks\":\"\"}},\"type\":\"scatterpolar\"}],\"scatterpolargl\":[{\"marker\":{\"colorbar\":{\"outlinewidth\":0,\"ticks\":\"\"}},\"type\":\"scatterpolargl\"}],\"scatterternary\":[{\"marker\":{\"colorbar\":{\"outlinewidth\":0,\"ticks\":\"\"}},\"type\":\"scatterternary\"}],\"surface\":[{\"colorbar\":{\"outlinewidth\":0,\"ticks\":\"\"},\"colorscale\":[[0.0,\"#0d0887\"],[0.1111111111111111,\"#46039f\"],[0.2222222222222222,\"#7201a8\"],[0.3333333333333333,\"#9c179e\"],[0.4444444444444444,\"#bd3786\"],[0.5555555555555556,\"#d8576b\"],[0.6666666666666666,\"#ed7953\"],[0.7777777777777778,\"#fb9f3a\"],[0.8888888888888888,\"#fdca26\"],[1.0,\"#f0f921\"]],\"type\":\"surface\"}],\"table\":[{\"cells\":{\"fill\":{\"color\":\"#EBF0F8\"},\"line\":{\"color\":\"white\"}},\"header\":{\"fill\":{\"color\":\"#C8D4E3\"},\"line\":{\"color\":\"white\"}},\"type\":\"table\"}]},\"layout\":{\"annotationdefaults\":{\"arrowcolor\":\"#2a3f5f\",\"arrowhead\":0,\"arrowwidth\":1},\"autotypenumbers\":\"strict\",\"coloraxis\":{\"colorbar\":{\"outlinewidth\":0,\"ticks\":\"\"}},\"colorscale\":{\"diverging\":[[0,\"#8e0152\"],[0.1,\"#c51b7d\"],[0.2,\"#de77ae\"],[0.3,\"#f1b6da\"],[0.4,\"#fde0ef\"],[0.5,\"#f7f7f7\"],[0.6,\"#e6f5d0\"],[0.7,\"#b8e186\"],[0.8,\"#7fbc41\"],[0.9,\"#4d9221\"],[1,\"#276419\"]],\"sequential\":[[0.0,\"#0d0887\"],[0.1111111111111111,\"#46039f\"],[0.2222222222222222,\"#7201a8\"],[0.3333333333333333,\"#9c179e\"],[0.4444444444444444,\"#bd3786\"],[0.5555555555555556,\"#d8576b\"],[0.6666666666666666,\"#ed7953\"],[0.7777777777777778,\"#fb9f3a\"],[0.8888888888888888,\"#fdca26\"],[1.0,\"#f0f921\"]],\"sequentialminus\":[[0.0,\"#0d0887\"],[0.1111111111111111,\"#46039f\"],[0.2222222222222222,\"#7201a8\"],[0.3333333333333333,\"#9c179e\"],[0.4444444444444444,\"#bd3786\"],[0.5555555555555556,\"#d8576b\"],[0.6666666666666666,\"#ed7953\"],[0.7777777777777778,\"#fb9f3a\"],[0.8888888888888888,\"#fdca26\"],[1.0,\"#f0f921\"]]},\"colorway\":[\"#636efa\",\"#EF553B\",\"#00cc96\",\"#ab63fa\",\"#FFA15A\",\"#19d3f3\",\"#FF6692\",\"#B6E880\",\"#FF97FF\",\"#FECB52\"],\"font\":{\"color\":\"#2a3f5f\"},\"geo\":{\"bgcolor\":\"white\",\"lakecolor\":\"white\",\"landcolor\":\"#E5ECF6\",\"showlakes\":true,\"showland\":true,\"subunitcolor\":\"white\"},\"hoverlabel\":{\"align\":\"left\"},\"hovermode\":\"closest\",\"mapbox\":{\"style\":\"light\"},\"paper_bgcolor\":\"white\",\"plot_bgcolor\":\"#E5ECF6\",\"polar\":{\"angularaxis\":{\"gridcolor\":\"white\",\"linecolor\":\"white\",\"ticks\":\"\"},\"bgcolor\":\"#E5ECF6\",\"radialaxis\":{\"gridcolor\":\"white\",\"linecolor\":\"white\",\"ticks\":\"\"}},\"scene\":{\"xaxis\":{\"backgroundcolor\":\"#E5ECF6\",\"gridcolor\":\"white\",\"gridwidth\":2,\"linecolor\":\"white\",\"showbackground\":true,\"ticks\":\"\",\"zerolinecolor\":\"white\"},\"yaxis\":{\"backgroundcolor\":\"#E5ECF6\",\"gridcolor\":\"white\",\"gridwidth\":2,\"linecolor\":\"white\",\"showbackground\":true,\"ticks\":\"\",\"zerolinecolor\":\"white\"},\"zaxis\":{\"backgroundcolor\":\"#E5ECF6\",\"gridcolor\":\"white\",\"gridwidth\":2,\"linecolor\":\"white\",\"showbackground\":true,\"ticks\":\"\",\"zerolinecolor\":\"white\"}},\"shapedefaults\":{\"line\":{\"color\":\"#2a3f5f\"}},\"ternary\":{\"aaxis\":{\"gridcolor\":\"white\",\"linecolor\":\"white\",\"ticks\":\"\"},\"baxis\":{\"gridcolor\":\"white\",\"linecolor\":\"white\",\"ticks\":\"\"},\"bgcolor\":\"#E5ECF6\",\"caxis\":{\"gridcolor\":\"white\",\"linecolor\":\"white\",\"ticks\":\"\"}},\"title\":{\"x\":0.05},\"xaxis\":{\"automargin\":true,\"gridcolor\":\"white\",\"linecolor\":\"white\",\"ticks\":\"\",\"title\":{\"standoff\":15},\"zerolinecolor\":\"white\",\"zerolinewidth\":2},\"yaxis\":{\"automargin\":true,\"gridcolor\":\"white\",\"linecolor\":\"white\",\"ticks\":\"\",\"title\":{\"standoff\":15},\"zerolinecolor\":\"white\",\"zerolinewidth\":2}}},\"title\":{\"font\":{\"size\":18},\"text\":\"buy side - actualRet90s\",\"x\":0.5,\"yanchor\":\"top\"},\"width\":1400,\"xaxis\":{\"anchor\":\"y\",\"domain\":[0.0,1.0],\"title\":{\"text\":\"price group\"}},\"yaxis\":{\"anchor\":\"x\",\"domain\":[0.0,1.0],\"title\":{\"text\":\"return (bps)\"}}},                        {\"responsive\": true}                    )                };                            </script>        </div>\\n</body>\\n</html>'"
      ]
     },
     "execution_count": 193,
     "metadata": {},
     "output_type": "execute_result"
    }
   ],
   "source": [
    "io.to_html(fig, full_html=True, include_plotlyjs='cdn')"
   ]
  },
  {
   "cell_type": "code",
   "execution_count": 192,
   "id": "e263cca4-defe-46ff-8714-7074b40a6a41",
   "metadata": {},
   "outputs": [
    {
     "data": {
      "text/plain": [
       "'<div>                        <script type=\"text/javascript\">window.PlotlyConfig = {MathJaxConfig: \\'local\\'};</script>\\n        <script src=\"https://cdn.plot.ly/plotly-2.2.0.min.js\"></script>                <div id=\"b0b92671-a441-49b6-a9e0-30ef95709b46\" class=\"plotly-graph-div\" style=\"height:500px; width:1400px;\"></div>            <script type=\"text/javascript\">                                    window.PLOTLYENV=window.PLOTLYENV || {};                                    if (document.getElementById(\"b0b92671-a441-49b6-a9e0-30ef95709b46\")) {                    Plotly.newPlot(                        \"b0b92671-a441-49b6-a9e0-30ef95709b46\",                        [{\"alignmentgroup\":\"True\",\"hovertemplate\":\"sta_cat=sta_90_1_1_1_l2<br>price group=%{x}<br>return (bps)=%{text}<extra></extra>\",\"legendgroup\":\"sta_90_1_1_1_l2\",\"marker\":{\"color\":\"#636efa\",\"pattern\":{\"shape\":\"\"}},\"name\":\"sta_90_1_1_1_l2\",\"offsetgroup\":\"sta_90_1_1_1_l2\",\"orientation\":\"v\",\"showlegend\":true,\"text\":[\"1.5976150035858154\",\"5.70235013961792\",\"8.3779935836792\",\"9.088603019714355\",\"7.690280914306641\",\"7.7812886238098145\"],\"textposition\":\"outside\",\"texttemplate\":\"%{text:.3s} bps\",\"type\":\"bar\",\"x\":[\"0-5(59 stocks)\",\"5-10(86 stocks)\",\"10-20(73 stocks)\",\"20-50(61 stocks)\",\"50-100(17 stocks)\",\"100-(5 stocks)\"],\"xaxis\":\"x\",\"y\":[1.5976150035858154,5.70235013961792,8.3779935836792,9.088603019714355,7.690280914306641,7.7812886238098145],\"yaxis\":\"y\"},{\"alignmentgroup\":\"True\",\"hovertemplate\":\"sta_cat=sta_90_1_1_1_mbd<br>price group=%{x}<br>return (bps)=%{text}<extra></extra>\",\"legendgroup\":\"sta_90_1_1_1_mbd\",\"marker\":{\"color\":\"#EF553B\",\"pattern\":{\"shape\":\"\"}},\"name\":\"sta_90_1_1_1_mbd\",\"offsetgroup\":\"sta_90_1_1_1_mbd\",\"orientation\":\"v\",\"showlegend\":true,\"text\":[\"8.059778213500977\",\"10.304004669189453\",\"12.8331880569458\",\"13.217373847961426\",\"10.614280700683594\",\"10.64268970489502\"],\"textposition\":\"outside\",\"texttemplate\":\"%{text:.3s} bps\",\"type\":\"bar\",\"x\":[\"0-5(59 stocks)\",\"5-10(86 stocks)\",\"10-20(73 stocks)\",\"20-50(61 stocks)\",\"50-100(17 stocks)\",\"100-(5 stocks)\"],\"xaxis\":\"x\",\"y\":[8.059778213500977,10.304004669189453,12.8331880569458,13.217373847961426,10.614280700683594,10.64268970489502],\"yaxis\":\"y\"}],                        {\"barmode\":\"group\",\"height\":500,\"legend\":{\"bgcolor\":\"LightSteelBlue\",\"title\":{\"text\":\"\"},\"tracegroupgap\":0},\"margin\":{\"t\":60},\"template\":{\"data\":{\"bar\":[{\"error_x\":{\"color\":\"#2a3f5f\"},\"error_y\":{\"color\":\"#2a3f5f\"},\"marker\":{\"line\":{\"color\":\"#E5ECF6\",\"width\":0.5},\"pattern\":{\"fillmode\":\"overlay\",\"size\":10,\"solidity\":0.2}},\"type\":\"bar\"}],\"barpolar\":[{\"marker\":{\"line\":{\"color\":\"#E5ECF6\",\"width\":0.5},\"pattern\":{\"fillmode\":\"overlay\",\"size\":10,\"solidity\":0.2}},\"type\":\"barpolar\"}],\"carpet\":[{\"aaxis\":{\"endlinecolor\":\"#2a3f5f\",\"gridcolor\":\"white\",\"linecolor\":\"white\",\"minorgridcolor\":\"white\",\"startlinecolor\":\"#2a3f5f\"},\"baxis\":{\"endlinecolor\":\"#2a3f5f\",\"gridcolor\":\"white\",\"linecolor\":\"white\",\"minorgridcolor\":\"white\",\"startlinecolor\":\"#2a3f5f\"},\"type\":\"carpet\"}],\"choropleth\":[{\"colorbar\":{\"outlinewidth\":0,\"ticks\":\"\"},\"type\":\"choropleth\"}],\"contour\":[{\"colorbar\":{\"outlinewidth\":0,\"ticks\":\"\"},\"colorscale\":[[0.0,\"#0d0887\"],[0.1111111111111111,\"#46039f\"],[0.2222222222222222,\"#7201a8\"],[0.3333333333333333,\"#9c179e\"],[0.4444444444444444,\"#bd3786\"],[0.5555555555555556,\"#d8576b\"],[0.6666666666666666,\"#ed7953\"],[0.7777777777777778,\"#fb9f3a\"],[0.8888888888888888,\"#fdca26\"],[1.0,\"#f0f921\"]],\"type\":\"contour\"}],\"contourcarpet\":[{\"colorbar\":{\"outlinewidth\":0,\"ticks\":\"\"},\"type\":\"contourcarpet\"}],\"heatmap\":[{\"colorbar\":{\"outlinewidth\":0,\"ticks\":\"\"},\"colorscale\":[[0.0,\"#0d0887\"],[0.1111111111111111,\"#46039f\"],[0.2222222222222222,\"#7201a8\"],[0.3333333333333333,\"#9c179e\"],[0.4444444444444444,\"#bd3786\"],[0.5555555555555556,\"#d8576b\"],[0.6666666666666666,\"#ed7953\"],[0.7777777777777778,\"#fb9f3a\"],[0.8888888888888888,\"#fdca26\"],[1.0,\"#f0f921\"]],\"type\":\"heatmap\"}],\"heatmapgl\":[{\"colorbar\":{\"outlinewidth\":0,\"ticks\":\"\"},\"colorscale\":[[0.0,\"#0d0887\"],[0.1111111111111111,\"#46039f\"],[0.2222222222222222,\"#7201a8\"],[0.3333333333333333,\"#9c179e\"],[0.4444444444444444,\"#bd3786\"],[0.5555555555555556,\"#d8576b\"],[0.6666666666666666,\"#ed7953\"],[0.7777777777777778,\"#fb9f3a\"],[0.8888888888888888,\"#fdca26\"],[1.0,\"#f0f921\"]],\"type\":\"heatmapgl\"}],\"histogram\":[{\"marker\":{\"pattern\":{\"fillmode\":\"overlay\",\"size\":10,\"solidity\":0.2}},\"type\":\"histogram\"}],\"histogram2d\":[{\"colorbar\":{\"outlinewidth\":0,\"ticks\":\"\"},\"colorscale\":[[0.0,\"#0d0887\"],[0.1111111111111111,\"#46039f\"],[0.2222222222222222,\"#7201a8\"],[0.3333333333333333,\"#9c179e\"],[0.4444444444444444,\"#bd3786\"],[0.5555555555555556,\"#d8576b\"],[0.6666666666666666,\"#ed7953\"],[0.7777777777777778,\"#fb9f3a\"],[0.8888888888888888,\"#fdca26\"],[1.0,\"#f0f921\"]],\"type\":\"histogram2d\"}],\"histogram2dcontour\":[{\"colorbar\":{\"outlinewidth\":0,\"ticks\":\"\"},\"colorscale\":[[0.0,\"#0d0887\"],[0.1111111111111111,\"#46039f\"],[0.2222222222222222,\"#7201a8\"],[0.3333333333333333,\"#9c179e\"],[0.4444444444444444,\"#bd3786\"],[0.5555555555555556,\"#d8576b\"],[0.6666666666666666,\"#ed7953\"],[0.7777777777777778,\"#fb9f3a\"],[0.8888888888888888,\"#fdca26\"],[1.0,\"#f0f921\"]],\"type\":\"histogram2dcontour\"}],\"mesh3d\":[{\"colorbar\":{\"outlinewidth\":0,\"ticks\":\"\"},\"type\":\"mesh3d\"}],\"parcoords\":[{\"line\":{\"colorbar\":{\"outlinewidth\":0,\"ticks\":\"\"}},\"type\":\"parcoords\"}],\"pie\":[{\"automargin\":true,\"type\":\"pie\"}],\"scatter\":[{\"marker\":{\"colorbar\":{\"outlinewidth\":0,\"ticks\":\"\"}},\"type\":\"scatter\"}],\"scatter3d\":[{\"line\":{\"colorbar\":{\"outlinewidth\":0,\"ticks\":\"\"}},\"marker\":{\"colorbar\":{\"outlinewidth\":0,\"ticks\":\"\"}},\"type\":\"scatter3d\"}],\"scattercarpet\":[{\"marker\":{\"colorbar\":{\"outlinewidth\":0,\"ticks\":\"\"}},\"type\":\"scattercarpet\"}],\"scattergeo\":[{\"marker\":{\"colorbar\":{\"outlinewidth\":0,\"ticks\":\"\"}},\"type\":\"scattergeo\"}],\"scattergl\":[{\"marker\":{\"colorbar\":{\"outlinewidth\":0,\"ticks\":\"\"}},\"type\":\"scattergl\"}],\"scattermapbox\":[{\"marker\":{\"colorbar\":{\"outlinewidth\":0,\"ticks\":\"\"}},\"type\":\"scattermapbox\"}],\"scatterpolar\":[{\"marker\":{\"colorbar\":{\"outlinewidth\":0,\"ticks\":\"\"}},\"type\":\"scatterpolar\"}],\"scatterpolargl\":[{\"marker\":{\"colorbar\":{\"outlinewidth\":0,\"ticks\":\"\"}},\"type\":\"scatterpolargl\"}],\"scatterternary\":[{\"marker\":{\"colorbar\":{\"outlinewidth\":0,\"ticks\":\"\"}},\"type\":\"scatterternary\"}],\"surface\":[{\"colorbar\":{\"outlinewidth\":0,\"ticks\":\"\"},\"colorscale\":[[0.0,\"#0d0887\"],[0.1111111111111111,\"#46039f\"],[0.2222222222222222,\"#7201a8\"],[0.3333333333333333,\"#9c179e\"],[0.4444444444444444,\"#bd3786\"],[0.5555555555555556,\"#d8576b\"],[0.6666666666666666,\"#ed7953\"],[0.7777777777777778,\"#fb9f3a\"],[0.8888888888888888,\"#fdca26\"],[1.0,\"#f0f921\"]],\"type\":\"surface\"}],\"table\":[{\"cells\":{\"fill\":{\"color\":\"#EBF0F8\"},\"line\":{\"color\":\"white\"}},\"header\":{\"fill\":{\"color\":\"#C8D4E3\"},\"line\":{\"color\":\"white\"}},\"type\":\"table\"}]},\"layout\":{\"annotationdefaults\":{\"arrowcolor\":\"#2a3f5f\",\"arrowhead\":0,\"arrowwidth\":1},\"autotypenumbers\":\"strict\",\"coloraxis\":{\"colorbar\":{\"outlinewidth\":0,\"ticks\":\"\"}},\"colorscale\":{\"diverging\":[[0,\"#8e0152\"],[0.1,\"#c51b7d\"],[0.2,\"#de77ae\"],[0.3,\"#f1b6da\"],[0.4,\"#fde0ef\"],[0.5,\"#f7f7f7\"],[0.6,\"#e6f5d0\"],[0.7,\"#b8e186\"],[0.8,\"#7fbc41\"],[0.9,\"#4d9221\"],[1,\"#276419\"]],\"sequential\":[[0.0,\"#0d0887\"],[0.1111111111111111,\"#46039f\"],[0.2222222222222222,\"#7201a8\"],[0.3333333333333333,\"#9c179e\"],[0.4444444444444444,\"#bd3786\"],[0.5555555555555556,\"#d8576b\"],[0.6666666666666666,\"#ed7953\"],[0.7777777777777778,\"#fb9f3a\"],[0.8888888888888888,\"#fdca26\"],[1.0,\"#f0f921\"]],\"sequentialminus\":[[0.0,\"#0d0887\"],[0.1111111111111111,\"#46039f\"],[0.2222222222222222,\"#7201a8\"],[0.3333333333333333,\"#9c179e\"],[0.4444444444444444,\"#bd3786\"],[0.5555555555555556,\"#d8576b\"],[0.6666666666666666,\"#ed7953\"],[0.7777777777777778,\"#fb9f3a\"],[0.8888888888888888,\"#fdca26\"],[1.0,\"#f0f921\"]]},\"colorway\":[\"#636efa\",\"#EF553B\",\"#00cc96\",\"#ab63fa\",\"#FFA15A\",\"#19d3f3\",\"#FF6692\",\"#B6E880\",\"#FF97FF\",\"#FECB52\"],\"font\":{\"color\":\"#2a3f5f\"},\"geo\":{\"bgcolor\":\"white\",\"lakecolor\":\"white\",\"landcolor\":\"#E5ECF6\",\"showlakes\":true,\"showland\":true,\"subunitcolor\":\"white\"},\"hoverlabel\":{\"align\":\"left\"},\"hovermode\":\"closest\",\"mapbox\":{\"style\":\"light\"},\"paper_bgcolor\":\"white\",\"plot_bgcolor\":\"#E5ECF6\",\"polar\":{\"angularaxis\":{\"gridcolor\":\"white\",\"linecolor\":\"white\",\"ticks\":\"\"},\"bgcolor\":\"#E5ECF6\",\"radialaxis\":{\"gridcolor\":\"white\",\"linecolor\":\"white\",\"ticks\":\"\"}},\"scene\":{\"xaxis\":{\"backgroundcolor\":\"#E5ECF6\",\"gridcolor\":\"white\",\"gridwidth\":2,\"linecolor\":\"white\",\"showbackground\":true,\"ticks\":\"\",\"zerolinecolor\":\"white\"},\"yaxis\":{\"backgroundcolor\":\"#E5ECF6\",\"gridcolor\":\"white\",\"gridwidth\":2,\"linecolor\":\"white\",\"showbackground\":true,\"ticks\":\"\",\"zerolinecolor\":\"white\"},\"zaxis\":{\"backgroundcolor\":\"#E5ECF6\",\"gridcolor\":\"white\",\"gridwidth\":2,\"linecolor\":\"white\",\"showbackground\":true,\"ticks\":\"\",\"zerolinecolor\":\"white\"}},\"shapedefaults\":{\"line\":{\"color\":\"#2a3f5f\"}},\"ternary\":{\"aaxis\":{\"gridcolor\":\"white\",\"linecolor\":\"white\",\"ticks\":\"\"},\"baxis\":{\"gridcolor\":\"white\",\"linecolor\":\"white\",\"ticks\":\"\"},\"bgcolor\":\"#E5ECF6\",\"caxis\":{\"gridcolor\":\"white\",\"linecolor\":\"white\",\"ticks\":\"\"}},\"title\":{\"x\":0.05},\"xaxis\":{\"automargin\":true,\"gridcolor\":\"white\",\"linecolor\":\"white\",\"ticks\":\"\",\"title\":{\"standoff\":15},\"zerolinecolor\":\"white\",\"zerolinewidth\":2},\"yaxis\":{\"automargin\":true,\"gridcolor\":\"white\",\"linecolor\":\"white\",\"ticks\":\"\",\"title\":{\"standoff\":15},\"zerolinecolor\":\"white\",\"zerolinewidth\":2}}},\"title\":{\"font\":{\"size\":18},\"text\":\"buy side - actualRet90s\",\"x\":0.5,\"yanchor\":\"top\"},\"width\":1400,\"xaxis\":{\"anchor\":\"y\",\"domain\":[0.0,1.0],\"title\":{\"text\":\"price group\"}},\"yaxis\":{\"anchor\":\"x\",\"domain\":[0.0,1.0],\"title\":{\"text\":\"return (bps)\"}}},                        {\"responsive\": true}                    )                };                            </script>        </div>'"
      ]
     },
     "execution_count": 192,
     "metadata": {},
     "output_type": "execute_result"
    }
   ],
   "source": [
    "io.to_html(fig, full_html=False, include_plotlyjs='cdn')"
   ]
  },
  {
   "cell_type": "code",
   "execution_count": 79,
   "id": "d6b69168-7147-4fc5-a3f9-f5ef7118848a",
   "metadata": {},
   "outputs": [
    {
     "data": {
      "application/vnd.plotly.v1+json": {
       "config": {
        "plotlyServerURL": "https://plot.ly"
       },
       "data": [
        {
         "alignmentgroup": "True",
         "hovertemplate": "sta_cat=sta_90_1_1_1_l2<br>price group=%{x}<br>return (bps)=%{text}<extra></extra>",
         "legendgroup": "sta_90_1_1_1_l2",
         "marker": {
          "color": "#636efa",
          "pattern": {
           "shape": ""
          }
         },
         "name": "sta_90_1_1_1_l2",
         "offsetgroup": "sta_90_1_1_1_l2",
         "orientation": "v",
         "showlegend": true,
         "text": [
          "1.5976150035858154",
          "5.70235013961792",
          "8.3779935836792",
          "9.088603019714355",
          "7.690280914306641",
          "7.7812886238098145"
         ],
         "textposition": "outside",
         "texttemplate": "%{text:.3s} bps",
         "type": "bar",
         "x": [
          "0-5(59 stocks)",
          "5-10(86 stocks)",
          "10-20(73 stocks)",
          "20-50(61 stocks)",
          "50-100(17 stocks)",
          "100-(5 stocks)"
         ],
         "xaxis": "x",
         "y": [
          1.5976150035858154,
          5.70235013961792,
          8.3779935836792,
          9.088603019714355,
          7.690280914306641,
          7.7812886238098145
         ],
         "yaxis": "y"
        },
        {
         "alignmentgroup": "True",
         "hovertemplate": "sta_cat=sta_90_1_1_1_mbd<br>price group=%{x}<br>return (bps)=%{text}<extra></extra>",
         "legendgroup": "sta_90_1_1_1_mbd",
         "marker": {
          "color": "#EF553B",
          "pattern": {
           "shape": ""
          }
         },
         "name": "sta_90_1_1_1_mbd",
         "offsetgroup": "sta_90_1_1_1_mbd",
         "orientation": "v",
         "showlegend": true,
         "text": [
          "8.059778213500977",
          "10.304004669189453",
          "12.8331880569458",
          "13.217373847961426",
          "10.614280700683594",
          "10.64268970489502"
         ],
         "textposition": "outside",
         "texttemplate": "%{text:.3s} bps",
         "type": "bar",
         "x": [
          "0-5(59 stocks)",
          "5-10(86 stocks)",
          "10-20(73 stocks)",
          "20-50(61 stocks)",
          "50-100(17 stocks)",
          "100-(5 stocks)"
         ],
         "xaxis": "x",
         "y": [
          8.059778213500977,
          10.304004669189453,
          12.8331880569458,
          13.217373847961426,
          10.614280700683594,
          10.64268970489502
         ],
         "yaxis": "y"
        }
       ],
       "layout": {
        "barmode": "group",
        "height": 500,
        "legend": {
         "bgcolor": "LightSteelBlue",
         "title": {
          "text": ""
         },
         "tracegroupgap": 0,
         "x": 0,
         "xanchor": "left",
         "y": 1,
         "yanchor": "top"
        },
        "margin": {
         "t": 60
        },
        "template": {
         "data": {
          "bar": [
           {
            "error_x": {
             "color": "#2a3f5f"
            },
            "error_y": {
             "color": "#2a3f5f"
            },
            "marker": {
             "line": {
              "color": "#E5ECF6",
              "width": 0.5
             },
             "pattern": {
              "fillmode": "overlay",
              "size": 10,
              "solidity": 0.2
             }
            },
            "type": "bar"
           }
          ],
          "barpolar": [
           {
            "marker": {
             "line": {
              "color": "#E5ECF6",
              "width": 0.5
             },
             "pattern": {
              "fillmode": "overlay",
              "size": 10,
              "solidity": 0.2
             }
            },
            "type": "barpolar"
           }
          ],
          "carpet": [
           {
            "aaxis": {
             "endlinecolor": "#2a3f5f",
             "gridcolor": "white",
             "linecolor": "white",
             "minorgridcolor": "white",
             "startlinecolor": "#2a3f5f"
            },
            "baxis": {
             "endlinecolor": "#2a3f5f",
             "gridcolor": "white",
             "linecolor": "white",
             "minorgridcolor": "white",
             "startlinecolor": "#2a3f5f"
            },
            "type": "carpet"
           }
          ],
          "choropleth": [
           {
            "colorbar": {
             "outlinewidth": 0,
             "ticks": ""
            },
            "type": "choropleth"
           }
          ],
          "contour": [
           {
            "colorbar": {
             "outlinewidth": 0,
             "ticks": ""
            },
            "colorscale": [
             [
              0,
              "#0d0887"
             ],
             [
              0.1111111111111111,
              "#46039f"
             ],
             [
              0.2222222222222222,
              "#7201a8"
             ],
             [
              0.3333333333333333,
              "#9c179e"
             ],
             [
              0.4444444444444444,
              "#bd3786"
             ],
             [
              0.5555555555555556,
              "#d8576b"
             ],
             [
              0.6666666666666666,
              "#ed7953"
             ],
             [
              0.7777777777777778,
              "#fb9f3a"
             ],
             [
              0.8888888888888888,
              "#fdca26"
             ],
             [
              1,
              "#f0f921"
             ]
            ],
            "type": "contour"
           }
          ],
          "contourcarpet": [
           {
            "colorbar": {
             "outlinewidth": 0,
             "ticks": ""
            },
            "type": "contourcarpet"
           }
          ],
          "heatmap": [
           {
            "colorbar": {
             "outlinewidth": 0,
             "ticks": ""
            },
            "colorscale": [
             [
              0,
              "#0d0887"
             ],
             [
              0.1111111111111111,
              "#46039f"
             ],
             [
              0.2222222222222222,
              "#7201a8"
             ],
             [
              0.3333333333333333,
              "#9c179e"
             ],
             [
              0.4444444444444444,
              "#bd3786"
             ],
             [
              0.5555555555555556,
              "#d8576b"
             ],
             [
              0.6666666666666666,
              "#ed7953"
             ],
             [
              0.7777777777777778,
              "#fb9f3a"
             ],
             [
              0.8888888888888888,
              "#fdca26"
             ],
             [
              1,
              "#f0f921"
             ]
            ],
            "type": "heatmap"
           }
          ],
          "heatmapgl": [
           {
            "colorbar": {
             "outlinewidth": 0,
             "ticks": ""
            },
            "colorscale": [
             [
              0,
              "#0d0887"
             ],
             [
              0.1111111111111111,
              "#46039f"
             ],
             [
              0.2222222222222222,
              "#7201a8"
             ],
             [
              0.3333333333333333,
              "#9c179e"
             ],
             [
              0.4444444444444444,
              "#bd3786"
             ],
             [
              0.5555555555555556,
              "#d8576b"
             ],
             [
              0.6666666666666666,
              "#ed7953"
             ],
             [
              0.7777777777777778,
              "#fb9f3a"
             ],
             [
              0.8888888888888888,
              "#fdca26"
             ],
             [
              1,
              "#f0f921"
             ]
            ],
            "type": "heatmapgl"
           }
          ],
          "histogram": [
           {
            "marker": {
             "pattern": {
              "fillmode": "overlay",
              "size": 10,
              "solidity": 0.2
             }
            },
            "type": "histogram"
           }
          ],
          "histogram2d": [
           {
            "colorbar": {
             "outlinewidth": 0,
             "ticks": ""
            },
            "colorscale": [
             [
              0,
              "#0d0887"
             ],
             [
              0.1111111111111111,
              "#46039f"
             ],
             [
              0.2222222222222222,
              "#7201a8"
             ],
             [
              0.3333333333333333,
              "#9c179e"
             ],
             [
              0.4444444444444444,
              "#bd3786"
             ],
             [
              0.5555555555555556,
              "#d8576b"
             ],
             [
              0.6666666666666666,
              "#ed7953"
             ],
             [
              0.7777777777777778,
              "#fb9f3a"
             ],
             [
              0.8888888888888888,
              "#fdca26"
             ],
             [
              1,
              "#f0f921"
             ]
            ],
            "type": "histogram2d"
           }
          ],
          "histogram2dcontour": [
           {
            "colorbar": {
             "outlinewidth": 0,
             "ticks": ""
            },
            "colorscale": [
             [
              0,
              "#0d0887"
             ],
             [
              0.1111111111111111,
              "#46039f"
             ],
             [
              0.2222222222222222,
              "#7201a8"
             ],
             [
              0.3333333333333333,
              "#9c179e"
             ],
             [
              0.4444444444444444,
              "#bd3786"
             ],
             [
              0.5555555555555556,
              "#d8576b"
             ],
             [
              0.6666666666666666,
              "#ed7953"
             ],
             [
              0.7777777777777778,
              "#fb9f3a"
             ],
             [
              0.8888888888888888,
              "#fdca26"
             ],
             [
              1,
              "#f0f921"
             ]
            ],
            "type": "histogram2dcontour"
           }
          ],
          "mesh3d": [
           {
            "colorbar": {
             "outlinewidth": 0,
             "ticks": ""
            },
            "type": "mesh3d"
           }
          ],
          "parcoords": [
           {
            "line": {
             "colorbar": {
              "outlinewidth": 0,
              "ticks": ""
             }
            },
            "type": "parcoords"
           }
          ],
          "pie": [
           {
            "automargin": true,
            "type": "pie"
           }
          ],
          "scatter": [
           {
            "marker": {
             "colorbar": {
              "outlinewidth": 0,
              "ticks": ""
             }
            },
            "type": "scatter"
           }
          ],
          "scatter3d": [
           {
            "line": {
             "colorbar": {
              "outlinewidth": 0,
              "ticks": ""
             }
            },
            "marker": {
             "colorbar": {
              "outlinewidth": 0,
              "ticks": ""
             }
            },
            "type": "scatter3d"
           }
          ],
          "scattercarpet": [
           {
            "marker": {
             "colorbar": {
              "outlinewidth": 0,
              "ticks": ""
             }
            },
            "type": "scattercarpet"
           }
          ],
          "scattergeo": [
           {
            "marker": {
             "colorbar": {
              "outlinewidth": 0,
              "ticks": ""
             }
            },
            "type": "scattergeo"
           }
          ],
          "scattergl": [
           {
            "marker": {
             "colorbar": {
              "outlinewidth": 0,
              "ticks": ""
             }
            },
            "type": "scattergl"
           }
          ],
          "scattermapbox": [
           {
            "marker": {
             "colorbar": {
              "outlinewidth": 0,
              "ticks": ""
             }
            },
            "type": "scattermapbox"
           }
          ],
          "scatterpolar": [
           {
            "marker": {
             "colorbar": {
              "outlinewidth": 0,
              "ticks": ""
             }
            },
            "type": "scatterpolar"
           }
          ],
          "scatterpolargl": [
           {
            "marker": {
             "colorbar": {
              "outlinewidth": 0,
              "ticks": ""
             }
            },
            "type": "scatterpolargl"
           }
          ],
          "scatterternary": [
           {
            "marker": {
             "colorbar": {
              "outlinewidth": 0,
              "ticks": ""
             }
            },
            "type": "scatterternary"
           }
          ],
          "surface": [
           {
            "colorbar": {
             "outlinewidth": 0,
             "ticks": ""
            },
            "colorscale": [
             [
              0,
              "#0d0887"
             ],
             [
              0.1111111111111111,
              "#46039f"
             ],
             [
              0.2222222222222222,
              "#7201a8"
             ],
             [
              0.3333333333333333,
              "#9c179e"
             ],
             [
              0.4444444444444444,
              "#bd3786"
             ],
             [
              0.5555555555555556,
              "#d8576b"
             ],
             [
              0.6666666666666666,
              "#ed7953"
             ],
             [
              0.7777777777777778,
              "#fb9f3a"
             ],
             [
              0.8888888888888888,
              "#fdca26"
             ],
             [
              1,
              "#f0f921"
             ]
            ],
            "type": "surface"
           }
          ],
          "table": [
           {
            "cells": {
             "fill": {
              "color": "#EBF0F8"
             },
             "line": {
              "color": "white"
             }
            },
            "header": {
             "fill": {
              "color": "#C8D4E3"
             },
             "line": {
              "color": "white"
             }
            },
            "type": "table"
           }
          ]
         },
         "layout": {
          "annotationdefaults": {
           "arrowcolor": "#2a3f5f",
           "arrowhead": 0,
           "arrowwidth": 1
          },
          "autotypenumbers": "strict",
          "coloraxis": {
           "colorbar": {
            "outlinewidth": 0,
            "ticks": ""
           }
          },
          "colorscale": {
           "diverging": [
            [
             0,
             "#8e0152"
            ],
            [
             0.1,
             "#c51b7d"
            ],
            [
             0.2,
             "#de77ae"
            ],
            [
             0.3,
             "#f1b6da"
            ],
            [
             0.4,
             "#fde0ef"
            ],
            [
             0.5,
             "#f7f7f7"
            ],
            [
             0.6,
             "#e6f5d0"
            ],
            [
             0.7,
             "#b8e186"
            ],
            [
             0.8,
             "#7fbc41"
            ],
            [
             0.9,
             "#4d9221"
            ],
            [
             1,
             "#276419"
            ]
           ],
           "sequential": [
            [
             0,
             "#0d0887"
            ],
            [
             0.1111111111111111,
             "#46039f"
            ],
            [
             0.2222222222222222,
             "#7201a8"
            ],
            [
             0.3333333333333333,
             "#9c179e"
            ],
            [
             0.4444444444444444,
             "#bd3786"
            ],
            [
             0.5555555555555556,
             "#d8576b"
            ],
            [
             0.6666666666666666,
             "#ed7953"
            ],
            [
             0.7777777777777778,
             "#fb9f3a"
            ],
            [
             0.8888888888888888,
             "#fdca26"
            ],
            [
             1,
             "#f0f921"
            ]
           ],
           "sequentialminus": [
            [
             0,
             "#0d0887"
            ],
            [
             0.1111111111111111,
             "#46039f"
            ],
            [
             0.2222222222222222,
             "#7201a8"
            ],
            [
             0.3333333333333333,
             "#9c179e"
            ],
            [
             0.4444444444444444,
             "#bd3786"
            ],
            [
             0.5555555555555556,
             "#d8576b"
            ],
            [
             0.6666666666666666,
             "#ed7953"
            ],
            [
             0.7777777777777778,
             "#fb9f3a"
            ],
            [
             0.8888888888888888,
             "#fdca26"
            ],
            [
             1,
             "#f0f921"
            ]
           ]
          },
          "colorway": [
           "#636efa",
           "#EF553B",
           "#00cc96",
           "#ab63fa",
           "#FFA15A",
           "#19d3f3",
           "#FF6692",
           "#B6E880",
           "#FF97FF",
           "#FECB52"
          ],
          "font": {
           "color": "#2a3f5f"
          },
          "geo": {
           "bgcolor": "white",
           "lakecolor": "white",
           "landcolor": "#E5ECF6",
           "showlakes": true,
           "showland": true,
           "subunitcolor": "white"
          },
          "hoverlabel": {
           "align": "left"
          },
          "hovermode": "closest",
          "mapbox": {
           "style": "light"
          },
          "paper_bgcolor": "white",
          "plot_bgcolor": "#E5ECF6",
          "polar": {
           "angularaxis": {
            "gridcolor": "white",
            "linecolor": "white",
            "ticks": ""
           },
           "bgcolor": "#E5ECF6",
           "radialaxis": {
            "gridcolor": "white",
            "linecolor": "white",
            "ticks": ""
           }
          },
          "scene": {
           "xaxis": {
            "backgroundcolor": "#E5ECF6",
            "gridcolor": "white",
            "gridwidth": 2,
            "linecolor": "white",
            "showbackground": true,
            "ticks": "",
            "zerolinecolor": "white"
           },
           "yaxis": {
            "backgroundcolor": "#E5ECF6",
            "gridcolor": "white",
            "gridwidth": 2,
            "linecolor": "white",
            "showbackground": true,
            "ticks": "",
            "zerolinecolor": "white"
           },
           "zaxis": {
            "backgroundcolor": "#E5ECF6",
            "gridcolor": "white",
            "gridwidth": 2,
            "linecolor": "white",
            "showbackground": true,
            "ticks": "",
            "zerolinecolor": "white"
           }
          },
          "shapedefaults": {
           "line": {
            "color": "#2a3f5f"
           }
          },
          "ternary": {
           "aaxis": {
            "gridcolor": "white",
            "linecolor": "white",
            "ticks": ""
           },
           "baxis": {
            "gridcolor": "white",
            "linecolor": "white",
            "ticks": ""
           },
           "bgcolor": "#E5ECF6",
           "caxis": {
            "gridcolor": "white",
            "linecolor": "white",
            "ticks": ""
           }
          },
          "title": {
           "x": 0.05
          },
          "xaxis": {
           "automargin": true,
           "gridcolor": "white",
           "linecolor": "white",
           "ticks": "",
           "title": {
            "standoff": 15
           },
           "zerolinecolor": "white",
           "zerolinewidth": 2
          },
          "yaxis": {
           "automargin": true,
           "gridcolor": "white",
           "linecolor": "white",
           "ticks": "",
           "title": {
            "standoff": 15
           },
           "zerolinecolor": "white",
           "zerolinewidth": 2
          }
         }
        },
        "width": 1200,
        "xaxis": {
         "anchor": "y",
         "autorange": true,
         "domain": [
          0,
          1
         ],
         "range": [
          -0.5,
          5.5
         ],
         "title": {
          "text": "price group"
         },
         "type": "category"
        },
        "yaxis": {
         "anchor": "x",
         "autorange": true,
         "domain": [
          0,
          1
         ],
         "range": [
          0,
          13.91302510311729
         ],
         "title": {
          "text": "return (bps)"
         },
         "type": "linear"
        }
       }
      },
      "image/png": "[encoded data removed]",
      "text/html": [
       "<div>                            <div id=\"ca9577fe-3d1f-455e-a909-722328b2e433\" class=\"plotly-graph-div\" style=\"height:500px; width:1200px;\"></div>            <script type=\"text/javascript\">                require([\"plotly\"], function(Plotly) {                    window.PLOTLYENV=window.PLOTLYENV || {};                                    if (document.getElementById(\"ca9577fe-3d1f-455e-a909-722328b2e433\")) {                    Plotly.newPlot(                        \"ca9577fe-3d1f-455e-a909-722328b2e433\",                        [{\"alignmentgroup\":\"True\",\"hovertemplate\":\"sta_cat=sta_90_1_1_1_l2<br>price group=%{x}<br>return (bps)=%{text}<extra></extra>\",\"legendgroup\":\"sta_90_1_1_1_l2\",\"marker\":{\"color\":\"#636efa\",\"pattern\":{\"shape\":\"\"}},\"name\":\"sta_90_1_1_1_l2\",\"offsetgroup\":\"sta_90_1_1_1_l2\",\"orientation\":\"v\",\"showlegend\":true,\"text\":[\"1.5976150035858154\",\"5.70235013961792\",\"8.3779935836792\",\"9.088603019714355\",\"7.690280914306641\",\"7.7812886238098145\"],\"textposition\":\"outside\",\"texttemplate\":\"%{text:.3s} bps\",\"type\":\"bar\",\"x\":[\"0-5(59 stocks)\",\"5-10(86 stocks)\",\"10-20(73 stocks)\",\"20-50(61 stocks)\",\"50-100(17 stocks)\",\"100-(5 stocks)\"],\"xaxis\":\"x\",\"y\":[1.5976150035858154,5.70235013961792,8.3779935836792,9.088603019714355,7.690280914306641,7.7812886238098145],\"yaxis\":\"y\"},{\"alignmentgroup\":\"True\",\"hovertemplate\":\"sta_cat=sta_90_1_1_1_mbd<br>price group=%{x}<br>return (bps)=%{text}<extra></extra>\",\"legendgroup\":\"sta_90_1_1_1_mbd\",\"marker\":{\"color\":\"#EF553B\",\"pattern\":{\"shape\":\"\"}},\"name\":\"sta_90_1_1_1_mbd\",\"offsetgroup\":\"sta_90_1_1_1_mbd\",\"orientation\":\"v\",\"showlegend\":true,\"text\":[\"8.059778213500977\",\"10.304004669189453\",\"12.8331880569458\",\"13.217373847961426\",\"10.614280700683594\",\"10.64268970489502\"],\"textposition\":\"outside\",\"texttemplate\":\"%{text:.3s} bps\",\"type\":\"bar\",\"x\":[\"0-5(59 stocks)\",\"5-10(86 stocks)\",\"10-20(73 stocks)\",\"20-50(61 stocks)\",\"50-100(17 stocks)\",\"100-(5 stocks)\"],\"xaxis\":\"x\",\"y\":[8.059778213500977,10.304004669189453,12.8331880569458,13.217373847961426,10.614280700683594,10.64268970489502],\"yaxis\":\"y\"}],                        {\"barmode\":\"group\",\"height\":500,\"legend\":{\"bgcolor\":\"LightSteelBlue\",\"title\":{\"text\":\"\"},\"tracegroupgap\":0,\"x\":0,\"xanchor\":\"left\",\"y\":1,\"yanchor\":\"top\"},\"margin\":{\"t\":60},\"template\":{\"data\":{\"bar\":[{\"error_x\":{\"color\":\"#2a3f5f\"},\"error_y\":{\"color\":\"#2a3f5f\"},\"marker\":{\"line\":{\"color\":\"#E5ECF6\",\"width\":0.5},\"pattern\":{\"fillmode\":\"overlay\",\"size\":10,\"solidity\":0.2}},\"type\":\"bar\"}],\"barpolar\":[{\"marker\":{\"line\":{\"color\":\"#E5ECF6\",\"width\":0.5},\"pattern\":{\"fillmode\":\"overlay\",\"size\":10,\"solidity\":0.2}},\"type\":\"barpolar\"}],\"carpet\":[{\"aaxis\":{\"endlinecolor\":\"#2a3f5f\",\"gridcolor\":\"white\",\"linecolor\":\"white\",\"minorgridcolor\":\"white\",\"startlinecolor\":\"#2a3f5f\"},\"baxis\":{\"endlinecolor\":\"#2a3f5f\",\"gridcolor\":\"white\",\"linecolor\":\"white\",\"minorgridcolor\":\"white\",\"startlinecolor\":\"#2a3f5f\"},\"type\":\"carpet\"}],\"choropleth\":[{\"colorbar\":{\"outlinewidth\":0,\"ticks\":\"\"},\"type\":\"choropleth\"}],\"contour\":[{\"colorbar\":{\"outlinewidth\":0,\"ticks\":\"\"},\"colorscale\":[[0.0,\"#0d0887\"],[0.1111111111111111,\"#46039f\"],[0.2222222222222222,\"#7201a8\"],[0.3333333333333333,\"#9c179e\"],[0.4444444444444444,\"#bd3786\"],[0.5555555555555556,\"#d8576b\"],[0.6666666666666666,\"#ed7953\"],[0.7777777777777778,\"#fb9f3a\"],[0.8888888888888888,\"#fdca26\"],[1.0,\"#f0f921\"]],\"type\":\"contour\"}],\"contourcarpet\":[{\"colorbar\":{\"outlinewidth\":0,\"ticks\":\"\"},\"type\":\"contourcarpet\"}],\"heatmap\":[{\"colorbar\":{\"outlinewidth\":0,\"ticks\":\"\"},\"colorscale\":[[0.0,\"#0d0887\"],[0.1111111111111111,\"#46039f\"],[0.2222222222222222,\"#7201a8\"],[0.3333333333333333,\"#9c179e\"],[0.4444444444444444,\"#bd3786\"],[0.5555555555555556,\"#d8576b\"],[0.6666666666666666,\"#ed7953\"],[0.7777777777777778,\"#fb9f3a\"],[0.8888888888888888,\"#fdca26\"],[1.0,\"#f0f921\"]],\"type\":\"heatmap\"}],\"heatmapgl\":[{\"colorbar\":{\"outlinewidth\":0,\"ticks\":\"\"},\"colorscale\":[[0.0,\"#0d0887\"],[0.1111111111111111,\"#46039f\"],[0.2222222222222222,\"#7201a8\"],[0.3333333333333333,\"#9c179e\"],[0.4444444444444444,\"#bd3786\"],[0.5555555555555556,\"#d8576b\"],[0.6666666666666666,\"#ed7953\"],[0.7777777777777778,\"#fb9f3a\"],[0.8888888888888888,\"#fdca26\"],[1.0,\"#f0f921\"]],\"type\":\"heatmapgl\"}],\"histogram\":[{\"marker\":{\"pattern\":{\"fillmode\":\"overlay\",\"size\":10,\"solidity\":0.2}},\"type\":\"histogram\"}],\"histogram2d\":[{\"colorbar\":{\"outlinewidth\":0,\"ticks\":\"\"},\"colorscale\":[[0.0,\"#0d0887\"],[0.1111111111111111,\"#46039f\"],[0.2222222222222222,\"#7201a8\"],[0.3333333333333333,\"#9c179e\"],[0.4444444444444444,\"#bd3786\"],[0.5555555555555556,\"#d8576b\"],[0.6666666666666666,\"#ed7953\"],[0.7777777777777778,\"#fb9f3a\"],[0.8888888888888888,\"#fdca26\"],[1.0,\"#f0f921\"]],\"type\":\"histogram2d\"}],\"histogram2dcontour\":[{\"colorbar\":{\"outlinewidth\":0,\"ticks\":\"\"},\"colorscale\":[[0.0,\"#0d0887\"],[0.1111111111111111,\"#46039f\"],[0.2222222222222222,\"#7201a8\"],[0.3333333333333333,\"#9c179e\"],[0.4444444444444444,\"#bd3786\"],[0.5555555555555556,\"#d8576b\"],[0.6666666666666666,\"#ed7953\"],[0.7777777777777778,\"#fb9f3a\"],[0.8888888888888888,\"#fdca26\"],[1.0,\"#f0f921\"]],\"type\":\"histogram2dcontour\"}],\"mesh3d\":[{\"colorbar\":{\"outlinewidth\":0,\"ticks\":\"\"},\"type\":\"mesh3d\"}],\"parcoords\":[{\"line\":{\"colorbar\":{\"outlinewidth\":0,\"ticks\":\"\"}},\"type\":\"parcoords\"}],\"pie\":[{\"automargin\":true,\"type\":\"pie\"}],\"scatter\":[{\"marker\":{\"colorbar\":{\"outlinewidth\":0,\"ticks\":\"\"}},\"type\":\"scatter\"}],\"scatter3d\":[{\"line\":{\"colorbar\":{\"outlinewidth\":0,\"ticks\":\"\"}},\"marker\":{\"colorbar\":{\"outlinewidth\":0,\"ticks\":\"\"}},\"type\":\"scatter3d\"}],\"scattercarpet\":[{\"marker\":{\"colorbar\":{\"outlinewidth\":0,\"ticks\":\"\"}},\"type\":\"scattercarpet\"}],\"scattergeo\":[{\"marker\":{\"colorbar\":{\"outlinewidth\":0,\"ticks\":\"\"}},\"type\":\"scattergeo\"}],\"scattergl\":[{\"marker\":{\"colorbar\":{\"outlinewidth\":0,\"ticks\":\"\"}},\"type\":\"scattergl\"}],\"scattermapbox\":[{\"marker\":{\"colorbar\":{\"outlinewidth\":0,\"ticks\":\"\"}},\"type\":\"scattermapbox\"}],\"scatterpolar\":[{\"marker\":{\"colorbar\":{\"outlinewidth\":0,\"ticks\":\"\"}},\"type\":\"scatterpolar\"}],\"scatterpolargl\":[{\"marker\":{\"colorbar\":{\"outlinewidth\":0,\"ticks\":\"\"}},\"type\":\"scatterpolargl\"}],\"scatterternary\":[{\"marker\":{\"colorbar\":{\"outlinewidth\":0,\"ticks\":\"\"}},\"type\":\"scatterternary\"}],\"surface\":[{\"colorbar\":{\"outlinewidth\":0,\"ticks\":\"\"},\"colorscale\":[[0.0,\"#0d0887\"],[0.1111111111111111,\"#46039f\"],[0.2222222222222222,\"#7201a8\"],[0.3333333333333333,\"#9c179e\"],[0.4444444444444444,\"#bd3786\"],[0.5555555555555556,\"#d8576b\"],[0.6666666666666666,\"#ed7953\"],[0.7777777777777778,\"#fb9f3a\"],[0.8888888888888888,\"#fdca26\"],[1.0,\"#f0f921\"]],\"type\":\"surface\"}],\"table\":[{\"cells\":{\"fill\":{\"color\":\"#EBF0F8\"},\"line\":{\"color\":\"white\"}},\"header\":{\"fill\":{\"color\":\"#C8D4E3\"},\"line\":{\"color\":\"white\"}},\"type\":\"table\"}]},\"layout\":{\"annotationdefaults\":{\"arrowcolor\":\"#2a3f5f\",\"arrowhead\":0,\"arrowwidth\":1},\"autotypenumbers\":\"strict\",\"coloraxis\":{\"colorbar\":{\"outlinewidth\":0,\"ticks\":\"\"}},\"colorscale\":{\"diverging\":[[0,\"#8e0152\"],[0.1,\"#c51b7d\"],[0.2,\"#de77ae\"],[0.3,\"#f1b6da\"],[0.4,\"#fde0ef\"],[0.5,\"#f7f7f7\"],[0.6,\"#e6f5d0\"],[0.7,\"#b8e186\"],[0.8,\"#7fbc41\"],[0.9,\"#4d9221\"],[1,\"#276419\"]],\"sequential\":[[0.0,\"#0d0887\"],[0.1111111111111111,\"#46039f\"],[0.2222222222222222,\"#7201a8\"],[0.3333333333333333,\"#9c179e\"],[0.4444444444444444,\"#bd3786\"],[0.5555555555555556,\"#d8576b\"],[0.6666666666666666,\"#ed7953\"],[0.7777777777777778,\"#fb9f3a\"],[0.8888888888888888,\"#fdca26\"],[1.0,\"#f0f921\"]],\"sequentialminus\":[[0.0,\"#0d0887\"],[0.1111111111111111,\"#46039f\"],[0.2222222222222222,\"#7201a8\"],[0.3333333333333333,\"#9c179e\"],[0.4444444444444444,\"#bd3786\"],[0.5555555555555556,\"#d8576b\"],[0.6666666666666666,\"#ed7953\"],[0.7777777777777778,\"#fb9f3a\"],[0.8888888888888888,\"#fdca26\"],[1.0,\"#f0f921\"]]},\"colorway\":[\"#636efa\",\"#EF553B\",\"#00cc96\",\"#ab63fa\",\"#FFA15A\",\"#19d3f3\",\"#FF6692\",\"#B6E880\",\"#FF97FF\",\"#FECB52\"],\"font\":{\"color\":\"#2a3f5f\"},\"geo\":{\"bgcolor\":\"white\",\"lakecolor\":\"white\",\"landcolor\":\"#E5ECF6\",\"showlakes\":true,\"showland\":true,\"subunitcolor\":\"white\"},\"hoverlabel\":{\"align\":\"left\"},\"hovermode\":\"closest\",\"mapbox\":{\"style\":\"light\"},\"paper_bgcolor\":\"white\",\"plot_bgcolor\":\"#E5ECF6\",\"polar\":{\"angularaxis\":{\"gridcolor\":\"white\",\"linecolor\":\"white\",\"ticks\":\"\"},\"bgcolor\":\"#E5ECF6\",\"radialaxis\":{\"gridcolor\":\"white\",\"linecolor\":\"white\",\"ticks\":\"\"}},\"scene\":{\"xaxis\":{\"backgroundcolor\":\"#E5ECF6\",\"gridcolor\":\"white\",\"gridwidth\":2,\"linecolor\":\"white\",\"showbackground\":true,\"ticks\":\"\",\"zerolinecolor\":\"white\"},\"yaxis\":{\"backgroundcolor\":\"#E5ECF6\",\"gridcolor\":\"white\",\"gridwidth\":2,\"linecolor\":\"white\",\"showbackground\":true,\"ticks\":\"\",\"zerolinecolor\":\"white\"},\"zaxis\":{\"backgroundcolor\":\"#E5ECF6\",\"gridcolor\":\"white\",\"gridwidth\":2,\"linecolor\":\"white\",\"showbackground\":true,\"ticks\":\"\",\"zerolinecolor\":\"white\"}},\"shapedefaults\":{\"line\":{\"color\":\"#2a3f5f\"}},\"ternary\":{\"aaxis\":{\"gridcolor\":\"white\",\"linecolor\":\"white\",\"ticks\":\"\"},\"baxis\":{\"gridcolor\":\"white\",\"linecolor\":\"white\",\"ticks\":\"\"},\"bgcolor\":\"#E5ECF6\",\"caxis\":{\"gridcolor\":\"white\",\"linecolor\":\"white\",\"ticks\":\"\"}},\"title\":{\"x\":0.05},\"xaxis\":{\"automargin\":true,\"gridcolor\":\"white\",\"linecolor\":\"white\",\"ticks\":\"\",\"title\":{\"standoff\":15},\"zerolinecolor\":\"white\",\"zerolinewidth\":2},\"yaxis\":{\"automargin\":true,\"gridcolor\":\"white\",\"linecolor\":\"white\",\"ticks\":\"\",\"title\":{\"standoff\":15},\"zerolinecolor\":\"white\",\"zerolinewidth\":2}}},\"width\":1200,\"xaxis\":{\"anchor\":\"y\",\"domain\":[0.0,1.0],\"title\":{\"text\":\"price group\"}},\"yaxis\":{\"anchor\":\"x\",\"domain\":[0.0,1.0],\"title\":{\"text\":\"return (bps)\"}}},                        {\"responsive\": true}                    ).then(function(){\n",
       "                            \n",
       "var gd = document.getElementById('ca9577fe-3d1f-455e-a909-722328b2e433');\n",
       "var x = new MutationObserver(function (mutations, observer) {{\n",
       "        var display = window.getComputedStyle(gd).display;\n",
       "        if (!display || display === 'none') {{\n",
       "            console.log([gd, 'removed!']);\n",
       "            Plotly.purge(gd);\n",
       "            observer.disconnect();\n",
       "        }}\n",
       "}});\n",
       "\n",
       "// Listen for the removal of the full notebook cells\n",
       "var notebookContainer = gd.closest('#notebook-container');\n",
       "if (notebookContainer) {{\n",
       "    x.observe(notebookContainer, {childList: true});\n",
       "}}\n",
       "\n",
       "// Listen for the clearing of the current output cell\n",
       "var outputEl = gd.closest('.output');\n",
       "if (outputEl) {{\n",
       "    x.observe(outputEl, {childList: true});\n",
       "}}\n",
       "\n",
       "                        })                };                });            </script>        </div>"
      ]
     },
     "metadata": {},
     "output_type": "display_data"
    }
   ],
   "source": [
    "fig = px.bar(df_side, x='price_group', y='vwActualRetAvg', color='sta_cat', text='vwActualRetAvg', barmode='group', height=500, width=1200,\n",
    "             labels={'price_group': 'price group', 'vwActualRetAvg': 'return (bps)'})\n",
    "fig.update_traces(texttemplate='%{text:.3s} bps', textposition='outside')\n",
    "fig.update_layout(legend=dict(title_text=\"\", yanchor=\"top\", y=1, xanchor=\"left\", x=0, bgcolor=\"LightSteelBlue\",\n",
    "                  ))\n",
    "fig.show()"
   ]
  },
  {
   "cell_type": "code",
   "execution_count": 421,
   "id": "f2461841-023f-4f1c-a5be-d9f8827f293e",
   "metadata": {},
   "outputs": [],
   "source": [
    "tmp = pd.read_pickle('/home/marlowe/Marlowe/HPC/sta_eval/sta_eval_v1/IC/sta_90_1_1_1_mbd/sta_top240/daily/df_top240_20200203.pkl')"
   ]
  },
  {
   "cell_type": "code",
   "execution_count": 422,
   "id": "921a47a4-4634-44b8-96c7-79e6c879d2e6",
   "metadata": {},
   "outputs": [
    {
     "data": {
      "text/html": [
       "<div>\n",
       "<style scoped>\n",
       "    .dataframe tbody tr th:only-of-type {\n",
       "        vertical-align: middle;\n",
       "    }\n",
       "\n",
       "    .dataframe tbody tr th {\n",
       "        vertical-align: top;\n",
       "    }\n",
       "\n",
       "    .dataframe thead tr th {\n",
       "        text-align: left;\n",
       "    }\n",
       "\n",
       "    .dataframe thead tr:last-of-type th {\n",
       "        text-align: right;\n",
       "    }\n",
       "</style>\n",
       "<table border=\"1\" class=\"dataframe\">\n",
       "  <thead>\n",
       "    <tr>\n",
       "      <th></th>\n",
       "      <th></th>\n",
       "      <th colspan=\"8\" halign=\"left\">count_x</th>\n",
       "      <th colspan=\"8\" halign=\"left\">countOppo</th>\n",
       "    </tr>\n",
       "    <tr>\n",
       "      <th></th>\n",
       "      <th></th>\n",
       "      <th>count</th>\n",
       "      <th>mean</th>\n",
       "      <th>std</th>\n",
       "      <th>min</th>\n",
       "      <th>25%</th>\n",
       "      <th>50%</th>\n",
       "      <th>75%</th>\n",
       "      <th>max</th>\n",
       "      <th>count</th>\n",
       "      <th>mean</th>\n",
       "      <th>std</th>\n",
       "      <th>min</th>\n",
       "      <th>25%</th>\n",
       "      <th>50%</th>\n",
       "      <th>75%</th>\n",
       "      <th>max</th>\n",
       "    </tr>\n",
       "    <tr>\n",
       "      <th>sta_cat</th>\n",
       "      <th>side</th>\n",
       "      <th></th>\n",
       "      <th></th>\n",
       "      <th></th>\n",
       "      <th></th>\n",
       "      <th></th>\n",
       "      <th></th>\n",
       "      <th></th>\n",
       "      <th></th>\n",
       "      <th></th>\n",
       "      <th></th>\n",
       "      <th></th>\n",
       "      <th></th>\n",
       "      <th></th>\n",
       "      <th></th>\n",
       "      <th></th>\n",
       "      <th></th>\n",
       "    </tr>\n",
       "  </thead>\n",
       "  <tbody>\n",
       "    <tr>\n",
       "      <th rowspan=\"2\" valign=\"top\">actualRet90s_l2</th>\n",
       "      <th>buy</th>\n",
       "      <td>250.0</td>\n",
       "      <td>849.280</td>\n",
       "      <td>1592.497196</td>\n",
       "      <td>0.0</td>\n",
       "      <td>0.00</td>\n",
       "      <td>0.0</td>\n",
       "      <td>617.25</td>\n",
       "      <td>4680.0</td>\n",
       "      <td>0.0</td>\n",
       "      <td>NaN</td>\n",
       "      <td>NaN</td>\n",
       "      <td>NaN</td>\n",
       "      <td>NaN</td>\n",
       "      <td>NaN</td>\n",
       "      <td>NaN</td>\n",
       "      <td>NaN</td>\n",
       "    </tr>\n",
       "    <tr>\n",
       "      <th>sell</th>\n",
       "      <td>250.0</td>\n",
       "      <td>849.280</td>\n",
       "      <td>1592.497196</td>\n",
       "      <td>0.0</td>\n",
       "      <td>0.00</td>\n",
       "      <td>0.0</td>\n",
       "      <td>617.25</td>\n",
       "      <td>4680.0</td>\n",
       "      <td>0.0</td>\n",
       "      <td>NaN</td>\n",
       "      <td>NaN</td>\n",
       "      <td>NaN</td>\n",
       "      <td>NaN</td>\n",
       "      <td>NaN</td>\n",
       "      <td>NaN</td>\n",
       "      <td>NaN</td>\n",
       "    </tr>\n",
       "    <tr>\n",
       "      <th rowspan=\"2\" valign=\"top\">actualRet90s_mbd</th>\n",
       "      <th>buy</th>\n",
       "      <td>250.0</td>\n",
       "      <td>8360.856</td>\n",
       "      <td>18511.188336</td>\n",
       "      <td>0.0</td>\n",
       "      <td>0.00</td>\n",
       "      <td>0.0</td>\n",
       "      <td>4455.00</td>\n",
       "      <td>101253.0</td>\n",
       "      <td>0.0</td>\n",
       "      <td>NaN</td>\n",
       "      <td>NaN</td>\n",
       "      <td>NaN</td>\n",
       "      <td>NaN</td>\n",
       "      <td>NaN</td>\n",
       "      <td>NaN</td>\n",
       "      <td>NaN</td>\n",
       "    </tr>\n",
       "    <tr>\n",
       "      <th>sell</th>\n",
       "      <td>250.0</td>\n",
       "      <td>8360.856</td>\n",
       "      <td>18511.188336</td>\n",
       "      <td>0.0</td>\n",
       "      <td>0.00</td>\n",
       "      <td>0.0</td>\n",
       "      <td>4455.00</td>\n",
       "      <td>101253.0</td>\n",
       "      <td>0.0</td>\n",
       "      <td>NaN</td>\n",
       "      <td>NaN</td>\n",
       "      <td>NaN</td>\n",
       "      <td>NaN</td>\n",
       "      <td>NaN</td>\n",
       "      <td>NaN</td>\n",
       "      <td>NaN</td>\n",
       "    </tr>\n",
       "    <tr>\n",
       "      <th rowspan=\"2\" valign=\"top\">sta_90_1_1_1_l2</th>\n",
       "      <th>buy</th>\n",
       "      <td>250.0</td>\n",
       "      <td>1890.812</td>\n",
       "      <td>1783.054439</td>\n",
       "      <td>0.0</td>\n",
       "      <td>24.00</td>\n",
       "      <td>1676.0</td>\n",
       "      <td>3458.50</td>\n",
       "      <td>4740.0</td>\n",
       "      <td>79.0</td>\n",
       "      <td>174.784810</td>\n",
       "      <td>63.389450</td>\n",
       "      <td>51.0</td>\n",
       "      <td>114.5</td>\n",
       "      <td>189.0</td>\n",
       "      <td>237.0</td>\n",
       "      <td>242.0</td>\n",
       "    </tr>\n",
       "    <tr>\n",
       "      <th>sell</th>\n",
       "      <td>250.0</td>\n",
       "      <td>1848.108</td>\n",
       "      <td>1780.832356</td>\n",
       "      <td>0.0</td>\n",
       "      <td>20.00</td>\n",
       "      <td>1560.0</td>\n",
       "      <td>3345.00</td>\n",
       "      <td>4740.0</td>\n",
       "      <td>79.0</td>\n",
       "      <td>174.759494</td>\n",
       "      <td>63.462934</td>\n",
       "      <td>51.0</td>\n",
       "      <td>114.0</td>\n",
       "      <td>189.0</td>\n",
       "      <td>237.0</td>\n",
       "      <td>242.0</td>\n",
       "    </tr>\n",
       "    <tr>\n",
       "      <th rowspan=\"2\" valign=\"top\">sta_90_1_1_1_mbd</th>\n",
       "      <th>buy</th>\n",
       "      <td>250.0</td>\n",
       "      <td>14006.316</td>\n",
       "      <td>21139.552128</td>\n",
       "      <td>0.0</td>\n",
       "      <td>468.25</td>\n",
       "      <td>5051.5</td>\n",
       "      <td>17229.00</td>\n",
       "      <td>105398.0</td>\n",
       "      <td>85.0</td>\n",
       "      <td>188.470588</td>\n",
       "      <td>52.480515</td>\n",
       "      <td>26.0</td>\n",
       "      <td>160.0</td>\n",
       "      <td>198.0</td>\n",
       "      <td>236.0</td>\n",
       "      <td>242.0</td>\n",
       "    </tr>\n",
       "    <tr>\n",
       "      <th>sell</th>\n",
       "      <td>250.0</td>\n",
       "      <td>13922.772</td>\n",
       "      <td>21167.287848</td>\n",
       "      <td>0.0</td>\n",
       "      <td>466.25</td>\n",
       "      <td>4885.5</td>\n",
       "      <td>15974.25</td>\n",
       "      <td>105398.0</td>\n",
       "      <td>85.0</td>\n",
       "      <td>188.505882</td>\n",
       "      <td>52.515672</td>\n",
       "      <td>26.0</td>\n",
       "      <td>160.0</td>\n",
       "      <td>198.0</td>\n",
       "      <td>236.0</td>\n",
       "      <td>242.0</td>\n",
       "    </tr>\n",
       "  </tbody>\n",
       "</table>\n",
       "</div>"
      ],
      "text/plain": [
       "                      count_x                                                \\\n",
       "                        count       mean           std  min     25%     50%   \n",
       "sta_cat          side                                                         \n",
       "actualRet90s_l2  buy    250.0    849.280   1592.497196  0.0    0.00     0.0   \n",
       "                 sell   250.0    849.280   1592.497196  0.0    0.00     0.0   \n",
       "actualRet90s_mbd buy    250.0   8360.856  18511.188336  0.0    0.00     0.0   \n",
       "                 sell   250.0   8360.856  18511.188336  0.0    0.00     0.0   \n",
       "sta_90_1_1_1_l2  buy    250.0   1890.812   1783.054439  0.0   24.00  1676.0   \n",
       "                 sell   250.0   1848.108   1780.832356  0.0   20.00  1560.0   \n",
       "sta_90_1_1_1_mbd buy    250.0  14006.316  21139.552128  0.0  468.25  5051.5   \n",
       "                 sell   250.0  13922.772  21167.287848  0.0  466.25  4885.5   \n",
       "\n",
       "                                          countOppo                         \\\n",
       "                            75%       max     count        mean        std   \n",
       "sta_cat          side                                                        \n",
       "actualRet90s_l2  buy     617.25    4680.0       0.0         NaN        NaN   \n",
       "                 sell    617.25    4680.0       0.0         NaN        NaN   \n",
       "actualRet90s_mbd buy    4455.00  101253.0       0.0         NaN        NaN   \n",
       "                 sell   4455.00  101253.0       0.0         NaN        NaN   \n",
       "sta_90_1_1_1_l2  buy    3458.50    4740.0      79.0  174.784810  63.389450   \n",
       "                 sell   3345.00    4740.0      79.0  174.759494  63.462934   \n",
       "sta_90_1_1_1_mbd buy   17229.00  105398.0      85.0  188.470588  52.480515   \n",
       "                 sell  15974.25  105398.0      85.0  188.505882  52.515672   \n",
       "\n",
       "                                                         \n",
       "                        min    25%    50%    75%    max  \n",
       "sta_cat          side                                    \n",
       "actualRet90s_l2  buy    NaN    NaN    NaN    NaN    NaN  \n",
       "                 sell   NaN    NaN    NaN    NaN    NaN  \n",
       "actualRet90s_mbd buy    NaN    NaN    NaN    NaN    NaN  \n",
       "                 sell   NaN    NaN    NaN    NaN    NaN  \n",
       "sta_90_1_1_1_l2  buy   51.0  114.5  189.0  237.0  242.0  \n",
       "                 sell  51.0  114.0  189.0  237.0  242.0  \n",
       "sta_90_1_1_1_mbd buy   26.0  160.0  198.0  236.0  242.0  \n",
       "                 sell  26.0  160.0  198.0  236.0  242.0  "
      ]
     },
     "execution_count": 422,
     "metadata": {},
     "output_type": "execute_result"
    }
   ],
   "source": [
    "tmp.groupby(['sta_cat', 'side'])[['count_x', 'countOppo']].describe()"
   ]
  },
  {
   "cell_type": "code",
   "execution_count": 424,
   "id": "161b8313-5ef8-4e3b-8839-c90fdc088fd7",
   "metadata": {},
   "outputs": [
    {
     "data": {
      "text/html": [
       "<div>\n",
       "<style scoped>\n",
       "    .dataframe tbody tr th:only-of-type {\n",
       "        vertical-align: middle;\n",
       "    }\n",
       "\n",
       "    .dataframe tbody tr th {\n",
       "        vertical-align: top;\n",
       "    }\n",
       "\n",
       "    .dataframe thead th {\n",
       "        text-align: right;\n",
       "    }\n",
       "</style>\n",
       "<table border=\"1\" class=\"dataframe\">\n",
       "  <thead>\n",
       "    <tr style=\"text-align: right;\">\n",
       "      <th></th>\n",
       "      <th>skey</th>\n",
       "      <th>exchange</th>\n",
       "      <th>date</th>\n",
       "      <th>sta_cat</th>\n",
       "      <th>count_x</th>\n",
       "      <th>hist_x</th>\n",
       "      <th>sum_x</th>\n",
       "      <th>sum_x2</th>\n",
       "      <th>sum_x3</th>\n",
       "      <th>sum_x4</th>\n",
       "      <th>side</th>\n",
       "      <th>yHatAvg</th>\n",
       "      <th>countOppo</th>\n",
       "      <th>availNtlAvg</th>\n",
       "      <th>availNtlSum</th>\n",
       "      <th>yHatHurdle</th>\n",
       "      <th>actualRetAvg</th>\n",
       "      <th>vwActualRetAvg</th>\n",
       "    </tr>\n",
       "  </thead>\n",
       "  <tbody>\n",
       "    <tr>\n",
       "      <th>0</th>\n",
       "      <td>2000006</td>\n",
       "      <td>SZ</td>\n",
       "      <td>20200203</td>\n",
       "      <td>actualRet90s_l2</td>\n",
       "      <td>0</td>\n",
       "      <td>{-29.5: 0, -28.5: 0, 2.5: 0, 3.5: 0, 4.5: 0, 5...</td>\n",
       "      <td>0.000000</td>\n",
       "      <td>0.000000</td>\n",
       "      <td>0.000000</td>\n",
       "      <td>0.000000e+00</td>\n",
       "      <td>buy</td>\n",
       "      <td>NaN</td>\n",
       "      <td>NaN</td>\n",
       "      <td>NaN</td>\n",
       "      <td>NaN</td>\n",
       "      <td>NaN</td>\n",
       "      <td>NaN</td>\n",
       "      <td>NaN</td>\n",
       "    </tr>\n",
       "    <tr>\n",
       "      <th>1</th>\n",
       "      <td>2000006</td>\n",
       "      <td>SZ</td>\n",
       "      <td>20200203</td>\n",
       "      <td>sta_90_1_1_1_l2</td>\n",
       "      <td>20</td>\n",
       "      <td>{-29.5: 0, -28.5: 0, 2.5: 0, 3.5: 0, 4.5: 0, 5...</td>\n",
       "      <td>-0.146167</td>\n",
       "      <td>0.001068</td>\n",
       "      <td>-0.000008</td>\n",
       "      <td>5.705960e-08</td>\n",
       "      <td>buy</td>\n",
       "      <td>NaN</td>\n",
       "      <td>NaN</td>\n",
       "      <td>NaN</td>\n",
       "      <td>NaN</td>\n",
       "      <td>NaN</td>\n",
       "      <td>NaN</td>\n",
       "      <td>NaN</td>\n",
       "    </tr>\n",
       "    <tr>\n",
       "      <th>2</th>\n",
       "      <td>2000008</td>\n",
       "      <td>SZ</td>\n",
       "      <td>20200203</td>\n",
       "      <td>actualRet90s_l2</td>\n",
       "      <td>0</td>\n",
       "      <td>{-29.5: 0, -28.5: 0, 2.5: 0, 3.5: 0, 4.5: 0, 5...</td>\n",
       "      <td>0.000000</td>\n",
       "      <td>0.000000</td>\n",
       "      <td>0.000000</td>\n",
       "      <td>0.000000e+00</td>\n",
       "      <td>buy</td>\n",
       "      <td>NaN</td>\n",
       "      <td>NaN</td>\n",
       "      <td>NaN</td>\n",
       "      <td>NaN</td>\n",
       "      <td>NaN</td>\n",
       "      <td>NaN</td>\n",
       "      <td>NaN</td>\n",
       "    </tr>\n",
       "    <tr>\n",
       "      <th>3</th>\n",
       "      <td>2000008</td>\n",
       "      <td>SZ</td>\n",
       "      <td>20200203</td>\n",
       "      <td>sta_90_1_1_1_l2</td>\n",
       "      <td>20</td>\n",
       "      <td>{-29.5: 0, -28.5: 0, 2.5: 0, 3.5: 0, 4.5: 0, 5...</td>\n",
       "      <td>-0.239583</td>\n",
       "      <td>0.002872</td>\n",
       "      <td>-0.000034</td>\n",
       "      <td>4.138217e-07</td>\n",
       "      <td>buy</td>\n",
       "      <td>NaN</td>\n",
       "      <td>NaN</td>\n",
       "      <td>NaN</td>\n",
       "      <td>NaN</td>\n",
       "      <td>NaN</td>\n",
       "      <td>NaN</td>\n",
       "      <td>NaN</td>\n",
       "    </tr>\n",
       "    <tr>\n",
       "      <th>4</th>\n",
       "      <td>2000009</td>\n",
       "      <td>SZ</td>\n",
       "      <td>20200203</td>\n",
       "      <td>actualRet90s_l2</td>\n",
       "      <td>104</td>\n",
       "      <td>{-22.5: 4, -18.5: 4, -21.5: 3, -13.5: 3, -29.5...</td>\n",
       "      <td>-0.484848</td>\n",
       "      <td>0.002863</td>\n",
       "      <td>-0.000019</td>\n",
       "      <td>1.396372e-07</td>\n",
       "      <td>buy</td>\n",
       "      <td>NaN</td>\n",
       "      <td>NaN</td>\n",
       "      <td>NaN</td>\n",
       "      <td>NaN</td>\n",
       "      <td>NaN</td>\n",
       "      <td>NaN</td>\n",
       "      <td>NaN</td>\n",
       "    </tr>\n",
       "    <tr>\n",
       "      <th>...</th>\n",
       "      <td>...</td>\n",
       "      <td>...</td>\n",
       "      <td>...</td>\n",
       "      <td>...</td>\n",
       "      <td>...</td>\n",
       "      <td>...</td>\n",
       "      <td>...</td>\n",
       "      <td>...</td>\n",
       "      <td>...</td>\n",
       "      <td>...</td>\n",
       "      <td>...</td>\n",
       "      <td>...</td>\n",
       "      <td>...</td>\n",
       "      <td>...</td>\n",
       "      <td>...</td>\n",
       "      <td>...</td>\n",
       "      <td>...</td>\n",
       "      <td>...</td>\n",
       "    </tr>\n",
       "    <tr>\n",
       "      <th>1995</th>\n",
       "      <td>2300418</td>\n",
       "      <td>SZ</td>\n",
       "      <td>20200203</td>\n",
       "      <td>sta_90_1_1_1_mbd</td>\n",
       "      <td>105398</td>\n",
       "      <td>{-4.5: 4039, -5.5: 3870, -3.5: 3767, -6.5: 376...</td>\n",
       "      <td>-88.721505</td>\n",
       "      <td>0.401895</td>\n",
       "      <td>-0.001250</td>\n",
       "      <td>8.311710e-06</td>\n",
       "      <td>sell</td>\n",
       "      <td>0.002974</td>\n",
       "      <td>238.0</td>\n",
       "      <td>255727.761723</td>\n",
       "      <td>60863207.29</td>\n",
       "      <td>0.002192</td>\n",
       "      <td>-0.008385</td>\n",
       "      <td>-0.008594</td>\n",
       "    </tr>\n",
       "    <tr>\n",
       "      <th>1996</th>\n",
       "      <td>2300459</td>\n",
       "      <td>SZ</td>\n",
       "      <td>20200203</td>\n",
       "      <td>actualRet90s_mbd</td>\n",
       "      <td>8963</td>\n",
       "      <td>{8.5: 456, -12.5: 209, 10.5: 180, 9.5: 174, 11...</td>\n",
       "      <td>-8.138531</td>\n",
       "      <td>0.084779</td>\n",
       "      <td>-0.000233</td>\n",
       "      <td>2.435244e-06</td>\n",
       "      <td>sell</td>\n",
       "      <td>NaN</td>\n",
       "      <td>NaN</td>\n",
       "      <td>NaN</td>\n",
       "      <td>NaN</td>\n",
       "      <td>NaN</td>\n",
       "      <td>NaN</td>\n",
       "      <td>NaN</td>\n",
       "    </tr>\n",
       "    <tr>\n",
       "      <th>1997</th>\n",
       "      <td>2300459</td>\n",
       "      <td>SZ</td>\n",
       "      <td>20200203</td>\n",
       "      <td>sta_90_1_1_1_mbd</td>\n",
       "      <td>30932</td>\n",
       "      <td>{-5.5: 688, -12.5: 604, -10.5: 583, -9.5: 557,...</td>\n",
       "      <td>-64.014470</td>\n",
       "      <td>0.616747</td>\n",
       "      <td>-0.005798</td>\n",
       "      <td>8.020520e-05</td>\n",
       "      <td>sell</td>\n",
       "      <td>0.000967</td>\n",
       "      <td>119.0</td>\n",
       "      <td>172458.487983</td>\n",
       "      <td>20522560.07</td>\n",
       "      <td>0.000410</td>\n",
       "      <td>0.001610</td>\n",
       "      <td>0.002061</td>\n",
       "    </tr>\n",
       "    <tr>\n",
       "      <th>1998</th>\n",
       "      <td>2300529</td>\n",
       "      <td>SZ</td>\n",
       "      <td>20200203</td>\n",
       "      <td>actualRet90s_mbd</td>\n",
       "      <td>13758</td>\n",
       "      <td>{-3.5: 290, 1.5: 280, 0.5: 275, -2.5: 271, -0....</td>\n",
       "      <td>-20.924280</td>\n",
       "      <td>0.375993</td>\n",
       "      <td>-0.002624</td>\n",
       "      <td>6.322709e-05</td>\n",
       "      <td>sell</td>\n",
       "      <td>NaN</td>\n",
       "      <td>NaN</td>\n",
       "      <td>NaN</td>\n",
       "      <td>NaN</td>\n",
       "      <td>NaN</td>\n",
       "      <td>NaN</td>\n",
       "      <td>NaN</td>\n",
       "    </tr>\n",
       "    <tr>\n",
       "      <th>1999</th>\n",
       "      <td>2300529</td>\n",
       "      <td>SZ</td>\n",
       "      <td>20200203</td>\n",
       "      <td>sta_90_1_1_1_mbd</td>\n",
       "      <td>15987</td>\n",
       "      <td>{-3.5: 719, -2.5: 695, -4.5: 641, -5.5: 638, -...</td>\n",
       "      <td>-17.756788</td>\n",
       "      <td>0.062517</td>\n",
       "      <td>-0.000256</td>\n",
       "      <td>1.557434e-06</td>\n",
       "      <td>sell</td>\n",
       "      <td>0.000905</td>\n",
       "      <td>237.0</td>\n",
       "      <td>149425.155696</td>\n",
       "      <td>35413761.90</td>\n",
       "      <td>0.000339</td>\n",
       "      <td>0.000472</td>\n",
       "      <td>0.001508</td>\n",
       "    </tr>\n",
       "  </tbody>\n",
       "</table>\n",
       "<p>2000 rows × 18 columns</p>\n",
       "</div>"
      ],
      "text/plain": [
       "         skey exchange      date           sta_cat  count_x  \\\n",
       "0     2000006       SZ  20200203   actualRet90s_l2        0   \n",
       "1     2000006       SZ  20200203   sta_90_1_1_1_l2       20   \n",
       "2     2000008       SZ  20200203   actualRet90s_l2        0   \n",
       "3     2000008       SZ  20200203   sta_90_1_1_1_l2       20   \n",
       "4     2000009       SZ  20200203   actualRet90s_l2      104   \n",
       "...       ...      ...       ...               ...      ...   \n",
       "1995  2300418       SZ  20200203  sta_90_1_1_1_mbd   105398   \n",
       "1996  2300459       SZ  20200203  actualRet90s_mbd     8963   \n",
       "1997  2300459       SZ  20200203  sta_90_1_1_1_mbd    30932   \n",
       "1998  2300529       SZ  20200203  actualRet90s_mbd    13758   \n",
       "1999  2300529       SZ  20200203  sta_90_1_1_1_mbd    15987   \n",
       "\n",
       "                                                 hist_x      sum_x    sum_x2  \\\n",
       "0     {-29.5: 0, -28.5: 0, 2.5: 0, 3.5: 0, 4.5: 0, 5...   0.000000  0.000000   \n",
       "1     {-29.5: 0, -28.5: 0, 2.5: 0, 3.5: 0, 4.5: 0, 5...  -0.146167  0.001068   \n",
       "2     {-29.5: 0, -28.5: 0, 2.5: 0, 3.5: 0, 4.5: 0, 5...   0.000000  0.000000   \n",
       "3     {-29.5: 0, -28.5: 0, 2.5: 0, 3.5: 0, 4.5: 0, 5...  -0.239583  0.002872   \n",
       "4     {-22.5: 4, -18.5: 4, -21.5: 3, -13.5: 3, -29.5...  -0.484848  0.002863   \n",
       "...                                                 ...        ...       ...   \n",
       "1995  {-4.5: 4039, -5.5: 3870, -3.5: 3767, -6.5: 376... -88.721505  0.401895   \n",
       "1996  {8.5: 456, -12.5: 209, 10.5: 180, 9.5: 174, 11...  -8.138531  0.084779   \n",
       "1997  {-5.5: 688, -12.5: 604, -10.5: 583, -9.5: 557,... -64.014470  0.616747   \n",
       "1998  {-3.5: 290, 1.5: 280, 0.5: 275, -2.5: 271, -0.... -20.924280  0.375993   \n",
       "1999  {-3.5: 719, -2.5: 695, -4.5: 641, -5.5: 638, -... -17.756788  0.062517   \n",
       "\n",
       "        sum_x3        sum_x4  side   yHatAvg  countOppo    availNtlAvg  \\\n",
       "0     0.000000  0.000000e+00   buy       NaN        NaN            NaN   \n",
       "1    -0.000008  5.705960e-08   buy       NaN        NaN            NaN   \n",
       "2     0.000000  0.000000e+00   buy       NaN        NaN            NaN   \n",
       "3    -0.000034  4.138217e-07   buy       NaN        NaN            NaN   \n",
       "4    -0.000019  1.396372e-07   buy       NaN        NaN            NaN   \n",
       "...        ...           ...   ...       ...        ...            ...   \n",
       "1995 -0.001250  8.311710e-06  sell  0.002974      238.0  255727.761723   \n",
       "1996 -0.000233  2.435244e-06  sell       NaN        NaN            NaN   \n",
       "1997 -0.005798  8.020520e-05  sell  0.000967      119.0  172458.487983   \n",
       "1998 -0.002624  6.322709e-05  sell       NaN        NaN            NaN   \n",
       "1999 -0.000256  1.557434e-06  sell  0.000905      237.0  149425.155696   \n",
       "\n",
       "      availNtlSum  yHatHurdle  actualRetAvg  vwActualRetAvg  \n",
       "0             NaN         NaN           NaN             NaN  \n",
       "1             NaN         NaN           NaN             NaN  \n",
       "2             NaN         NaN           NaN             NaN  \n",
       "3             NaN         NaN           NaN             NaN  \n",
       "4             NaN         NaN           NaN             NaN  \n",
       "...           ...         ...           ...             ...  \n",
       "1995  60863207.29    0.002192     -0.008385       -0.008594  \n",
       "1996          NaN         NaN           NaN             NaN  \n",
       "1997  20522560.07    0.000410      0.001610        0.002061  \n",
       "1998          NaN         NaN           NaN             NaN  \n",
       "1999  35413761.90    0.000339      0.000472        0.001508  \n",
       "\n",
       "[2000 rows x 18 columns]"
      ]
     },
     "execution_count": 424,
     "metadata": {},
     "output_type": "execute_result"
    }
   ],
   "source": [
    "tmp"
   ]
  },
  {
   "cell_type": "code",
   "execution_count": 426,
   "id": "5053a757-fcf6-48ab-bf9a-921527249c12",
   "metadata": {},
   "outputs": [
    {
     "data": {
      "text/html": [
       "<div>\n",
       "<style scoped>\n",
       "    .dataframe tbody tr th:only-of-type {\n",
       "        vertical-align: middle;\n",
       "    }\n",
       "\n",
       "    .dataframe tbody tr th {\n",
       "        vertical-align: top;\n",
       "    }\n",
       "\n",
       "    .dataframe thead th {\n",
       "        text-align: right;\n",
       "    }\n",
       "</style>\n",
       "<table border=\"1\" class=\"dataframe\">\n",
       "  <thead>\n",
       "    <tr style=\"text-align: right;\">\n",
       "      <th></th>\n",
       "      <th>time</th>\n",
       "      <th>bid1p</th>\n",
       "      <th>bid1q</th>\n",
       "      <th>ask1p</th>\n",
       "      <th>ask1q</th>\n",
       "    </tr>\n",
       "  </thead>\n",
       "  <tbody>\n",
       "    <tr>\n",
       "      <th>13291</th>\n",
       "      <td>83057000000</td>\n",
       "      <td>0.0</td>\n",
       "      <td>0</td>\n",
       "      <td>0.00</td>\n",
       "      <td>0</td>\n",
       "    </tr>\n",
       "    <tr>\n",
       "      <th>13292</th>\n",
       "      <td>83157000000</td>\n",
       "      <td>0.0</td>\n",
       "      <td>0</td>\n",
       "      <td>0.00</td>\n",
       "      <td>0</td>\n",
       "    </tr>\n",
       "    <tr>\n",
       "      <th>13293</th>\n",
       "      <td>83257000000</td>\n",
       "      <td>0.0</td>\n",
       "      <td>0</td>\n",
       "      <td>0.00</td>\n",
       "      <td>0</td>\n",
       "    </tr>\n",
       "    <tr>\n",
       "      <th>13294</th>\n",
       "      <td>83357000000</td>\n",
       "      <td>0.0</td>\n",
       "      <td>0</td>\n",
       "      <td>0.00</td>\n",
       "      <td>0</td>\n",
       "    </tr>\n",
       "    <tr>\n",
       "      <th>13295</th>\n",
       "      <td>83457000000</td>\n",
       "      <td>0.0</td>\n",
       "      <td>0</td>\n",
       "      <td>0.00</td>\n",
       "      <td>0</td>\n",
       "    </tr>\n",
       "    <tr>\n",
       "      <th>...</th>\n",
       "      <td>...</td>\n",
       "      <td>...</td>\n",
       "      <td>...</td>\n",
       "      <td>...</td>\n",
       "      <td>...</td>\n",
       "    </tr>\n",
       "    <tr>\n",
       "      <th>15219</th>\n",
       "      <td>161700000000</td>\n",
       "      <td>0.0</td>\n",
       "      <td>0</td>\n",
       "      <td>4.57</td>\n",
       "      <td>6642099</td>\n",
       "    </tr>\n",
       "    <tr>\n",
       "      <th>15220</th>\n",
       "      <td>161800000000</td>\n",
       "      <td>0.0</td>\n",
       "      <td>0</td>\n",
       "      <td>4.57</td>\n",
       "      <td>6642099</td>\n",
       "    </tr>\n",
       "    <tr>\n",
       "      <th>15221</th>\n",
       "      <td>161900000000</td>\n",
       "      <td>0.0</td>\n",
       "      <td>0</td>\n",
       "      <td>4.57</td>\n",
       "      <td>6642099</td>\n",
       "    </tr>\n",
       "    <tr>\n",
       "      <th>15222</th>\n",
       "      <td>162000000000</td>\n",
       "      <td>0.0</td>\n",
       "      <td>0</td>\n",
       "      <td>4.57</td>\n",
       "      <td>6642099</td>\n",
       "    </tr>\n",
       "    <tr>\n",
       "      <th>15223</th>\n",
       "      <td>162100000000</td>\n",
       "      <td>0.0</td>\n",
       "      <td>0</td>\n",
       "      <td>4.57</td>\n",
       "      <td>6642099</td>\n",
       "    </tr>\n",
       "  </tbody>\n",
       "</table>\n",
       "<p>1933 rows × 5 columns</p>\n",
       "</div>"
      ],
      "text/plain": [
       "               time  bid1p  bid1q  ask1p    ask1q\n",
       "13291   83057000000    0.0      0   0.00        0\n",
       "13292   83157000000    0.0      0   0.00        0\n",
       "13293   83257000000    0.0      0   0.00        0\n",
       "13294   83357000000    0.0      0   0.00        0\n",
       "13295   83457000000    0.0      0   0.00        0\n",
       "...             ...    ...    ...    ...      ...\n",
       "15219  161700000000    0.0      0   4.57  6642099\n",
       "15220  161800000000    0.0      0   4.57  6642099\n",
       "15221  161900000000    0.0      0   4.57  6642099\n",
       "15222  162000000000    0.0      0   4.57  6642099\n",
       "15223  162100000000    0.0      0   4.57  6642099\n",
       "\n",
       "[1933 rows x 5 columns]"
      ]
     },
     "execution_count": 426,
     "metadata": {},
     "output_type": "execute_result"
    }
   ],
   "source": [
    "a.Read_Stock_Tick('com_md_eq_cn', 'md_snapshot_l2', 20200203, 20200203, stock_list=[2000006])[['time', 'bid1p', 'bid1q', 'ask1p', 'ask1q']]"
   ]
  },
  {
   "cell_type": "code",
   "execution_count": 430,
   "id": "1e938724-5eb3-4b6b-b5f6-fee5c814d588",
   "metadata": {},
   "outputs": [],
   "source": [
    "dates = a.list_dir('/com_md_eq_cn/mdbar1d_jq', 'com_md_eq_cn', 'mdbar1d_jq')\n",
    "dates = [int(path.split(\"/\")[-1].split(\".\")[0]) for path in dates]"
   ]
  },
  {
   "cell_type": "code",
   "execution_count": 449,
   "id": "eccb1763-26a6-4e7c-b8a3-04ddebc2ca7c",
   "metadata": {},
   "outputs": [],
   "source": [
    "tmp = pd.read_pickle('/home/marlowe/Marlowe/HPC/sta_eval/sta_eval_v2/IC/sta_90_1_1_1_mbd/sta_top5p/daily/df_top5p_20200102.pkl')"
   ]
  },
  {
   "cell_type": "code",
   "execution_count": null,
   "id": "be171c73-9ebb-4782-9236-3db5ce79f6e4",
   "metadata": {},
   "outputs": [],
   "source": []
  },
  {
   "cell_type": "code",
   "execution_count": 452,
   "id": "b5e2de08-b580-4e05-8b0a-dd9857a1035e",
   "metadata": {},
   "outputs": [
    {
     "data": {
      "text/plain": [
       "'/data/home/marlowe/Marlowe/eva'"
      ]
     },
     "execution_count": 452,
     "metadata": {},
     "output_type": "execute_result"
    }
   ],
   "source": [
    "os.getcwd()"
   ]
  },
  {
   "cell_type": "code",
   "execution_count": 450,
   "id": "0fe0342d-c25b-49e7-8c6b-38bae7df3fbf",
   "metadata": {},
   "outputs": [
    {
     "data": {
      "text/html": [
       "<div>\n",
       "<style scoped>\n",
       "    .dataframe tbody tr th:only-of-type {\n",
       "        vertical-align: middle;\n",
       "    }\n",
       "\n",
       "    .dataframe tbody tr th {\n",
       "        vertical-align: top;\n",
       "    }\n",
       "\n",
       "    .dataframe thead tr th {\n",
       "        text-align: left;\n",
       "    }\n",
       "\n",
       "    .dataframe thead tr:last-of-type th {\n",
       "        text-align: right;\n",
       "    }\n",
       "</style>\n",
       "<table border=\"1\" class=\"dataframe\">\n",
       "  <thead>\n",
       "    <tr>\n",
       "      <th></th>\n",
       "      <th></th>\n",
       "      <th colspan=\"8\" halign=\"left\">count_x</th>\n",
       "      <th colspan=\"5\" halign=\"left\">countOppo</th>\n",
       "      <th colspan=\"8\" halign=\"left\">topPercent</th>\n",
       "    </tr>\n",
       "    <tr>\n",
       "      <th></th>\n",
       "      <th></th>\n",
       "      <th>count</th>\n",
       "      <th>mean</th>\n",
       "      <th>std</th>\n",
       "      <th>min</th>\n",
       "      <th>25%</th>\n",
       "      <th>50%</th>\n",
       "      <th>75%</th>\n",
       "      <th>max</th>\n",
       "      <th>count</th>\n",
       "      <th>mean</th>\n",
       "      <th>...</th>\n",
       "      <th>75%</th>\n",
       "      <th>max</th>\n",
       "      <th>count</th>\n",
       "      <th>mean</th>\n",
       "      <th>std</th>\n",
       "      <th>min</th>\n",
       "      <th>25%</th>\n",
       "      <th>50%</th>\n",
       "      <th>75%</th>\n",
       "      <th>max</th>\n",
       "    </tr>\n",
       "    <tr>\n",
       "      <th>sta_cat</th>\n",
       "      <th>side</th>\n",
       "      <th></th>\n",
       "      <th></th>\n",
       "      <th></th>\n",
       "      <th></th>\n",
       "      <th></th>\n",
       "      <th></th>\n",
       "      <th></th>\n",
       "      <th></th>\n",
       "      <th></th>\n",
       "      <th></th>\n",
       "      <th></th>\n",
       "      <th></th>\n",
       "      <th></th>\n",
       "      <th></th>\n",
       "      <th></th>\n",
       "      <th></th>\n",
       "      <th></th>\n",
       "      <th></th>\n",
       "      <th></th>\n",
       "      <th></th>\n",
       "      <th></th>\n",
       "    </tr>\n",
       "  </thead>\n",
       "  <tbody>\n",
       "    <tr>\n",
       "      <th rowspan=\"2\" valign=\"top\">actualRet90s_l2</th>\n",
       "      <th>buy</th>\n",
       "      <td>250.0</td>\n",
       "      <td>4249.692</td>\n",
       "      <td>615.720153</td>\n",
       "      <td>0.0</td>\n",
       "      <td>4117.00</td>\n",
       "      <td>4470.0</td>\n",
       "      <td>4616.50</td>\n",
       "      <td>4680.0</td>\n",
       "      <td>0.0</td>\n",
       "      <td>NaN</td>\n",
       "      <td>...</td>\n",
       "      <td>NaN</td>\n",
       "      <td>NaN</td>\n",
       "      <td>0.0</td>\n",
       "      <td>NaN</td>\n",
       "      <td>NaN</td>\n",
       "      <td>NaN</td>\n",
       "      <td>NaN</td>\n",
       "      <td>NaN</td>\n",
       "      <td>NaN</td>\n",
       "      <td>NaN</td>\n",
       "    </tr>\n",
       "    <tr>\n",
       "      <th>sell</th>\n",
       "      <td>250.0</td>\n",
       "      <td>4249.692</td>\n",
       "      <td>615.720153</td>\n",
       "      <td>0.0</td>\n",
       "      <td>4117.00</td>\n",
       "      <td>4470.0</td>\n",
       "      <td>4616.50</td>\n",
       "      <td>4680.0</td>\n",
       "      <td>0.0</td>\n",
       "      <td>NaN</td>\n",
       "      <td>...</td>\n",
       "      <td>NaN</td>\n",
       "      <td>NaN</td>\n",
       "      <td>0.0</td>\n",
       "      <td>NaN</td>\n",
       "      <td>NaN</td>\n",
       "      <td>NaN</td>\n",
       "      <td>NaN</td>\n",
       "      <td>NaN</td>\n",
       "      <td>NaN</td>\n",
       "      <td>NaN</td>\n",
       "    </tr>\n",
       "    <tr>\n",
       "      <th rowspan=\"2\" valign=\"top\">actualRet90s_mbd</th>\n",
       "      <th>buy</th>\n",
       "      <td>250.0</td>\n",
       "      <td>31412.924</td>\n",
       "      <td>24184.895329</td>\n",
       "      <td>0.0</td>\n",
       "      <td>16341.50</td>\n",
       "      <td>24978.5</td>\n",
       "      <td>38025.75</td>\n",
       "      <td>207191.0</td>\n",
       "      <td>0.0</td>\n",
       "      <td>NaN</td>\n",
       "      <td>...</td>\n",
       "      <td>NaN</td>\n",
       "      <td>NaN</td>\n",
       "      <td>0.0</td>\n",
       "      <td>NaN</td>\n",
       "      <td>NaN</td>\n",
       "      <td>NaN</td>\n",
       "      <td>NaN</td>\n",
       "      <td>NaN</td>\n",
       "      <td>NaN</td>\n",
       "      <td>NaN</td>\n",
       "    </tr>\n",
       "    <tr>\n",
       "      <th>sell</th>\n",
       "      <td>250.0</td>\n",
       "      <td>31412.924</td>\n",
       "      <td>24184.895329</td>\n",
       "      <td>0.0</td>\n",
       "      <td>16341.50</td>\n",
       "      <td>24978.5</td>\n",
       "      <td>38025.75</td>\n",
       "      <td>207191.0</td>\n",
       "      <td>0.0</td>\n",
       "      <td>NaN</td>\n",
       "      <td>...</td>\n",
       "      <td>NaN</td>\n",
       "      <td>NaN</td>\n",
       "      <td>0.0</td>\n",
       "      <td>NaN</td>\n",
       "      <td>NaN</td>\n",
       "      <td>NaN</td>\n",
       "      <td>NaN</td>\n",
       "      <td>NaN</td>\n",
       "      <td>NaN</td>\n",
       "      <td>NaN</td>\n",
       "    </tr>\n",
       "    <tr>\n",
       "      <th rowspan=\"2\" valign=\"top\">sta_90_1_1_1_l2</th>\n",
       "      <th>buy</th>\n",
       "      <td>250.0</td>\n",
       "      <td>4333.336</td>\n",
       "      <td>571.987663</td>\n",
       "      <td>18.0</td>\n",
       "      <td>4192.25</td>\n",
       "      <td>4540.0</td>\n",
       "      <td>4686.25</td>\n",
       "      <td>4740.0</td>\n",
       "      <td>157.0</td>\n",
       "      <td>94.605096</td>\n",
       "      <td>...</td>\n",
       "      <td>112.00</td>\n",
       "      <td>211.0</td>\n",
       "      <td>157.0</td>\n",
       "      <td>0.0209</td>\n",
       "      <td>0.007586</td>\n",
       "      <td>0.010932</td>\n",
       "      <td>0.015046</td>\n",
       "      <td>0.019255</td>\n",
       "      <td>0.023900</td>\n",
       "      <td>0.047840</td>\n",
       "    </tr>\n",
       "    <tr>\n",
       "      <th>sell</th>\n",
       "      <td>250.0</td>\n",
       "      <td>4322.088</td>\n",
       "      <td>592.738346</td>\n",
       "      <td>18.0</td>\n",
       "      <td>4189.50</td>\n",
       "      <td>4535.0</td>\n",
       "      <td>4686.25</td>\n",
       "      <td>4740.0</td>\n",
       "      <td>157.0</td>\n",
       "      <td>94.605096</td>\n",
       "      <td>...</td>\n",
       "      <td>112.00</td>\n",
       "      <td>211.0</td>\n",
       "      <td>157.0</td>\n",
       "      <td>0.0209</td>\n",
       "      <td>0.007586</td>\n",
       "      <td>0.010932</td>\n",
       "      <td>0.015046</td>\n",
       "      <td>0.019255</td>\n",
       "      <td>0.023900</td>\n",
       "      <td>0.047840</td>\n",
       "    </tr>\n",
       "    <tr>\n",
       "      <th rowspan=\"2\" valign=\"top\">sta_90_1_1_1_mbd</th>\n",
       "      <th>buy</th>\n",
       "      <td>250.0</td>\n",
       "      <td>32336.496</td>\n",
       "      <td>25576.067435</td>\n",
       "      <td>835.0</td>\n",
       "      <td>16549.25</td>\n",
       "      <td>25492.0</td>\n",
       "      <td>38884.25</td>\n",
       "      <td>212682.0</td>\n",
       "      <td>176.0</td>\n",
       "      <td>128.505682</td>\n",
       "      <td>...</td>\n",
       "      <td>157.75</td>\n",
       "      <td>456.0</td>\n",
       "      <td>176.0</td>\n",
       "      <td>0.0034</td>\n",
       "      <td>0.000729</td>\n",
       "      <td>0.001363</td>\n",
       "      <td>0.002834</td>\n",
       "      <td>0.003430</td>\n",
       "      <td>0.003893</td>\n",
       "      <td>0.005691</td>\n",
       "    </tr>\n",
       "    <tr>\n",
       "      <th>sell</th>\n",
       "      <td>250.0</td>\n",
       "      <td>32231.712</td>\n",
       "      <td>25494.766896</td>\n",
       "      <td>835.0</td>\n",
       "      <td>16549.25</td>\n",
       "      <td>25492.0</td>\n",
       "      <td>38597.50</td>\n",
       "      <td>212682.0</td>\n",
       "      <td>176.0</td>\n",
       "      <td>128.505682</td>\n",
       "      <td>...</td>\n",
       "      <td>157.75</td>\n",
       "      <td>456.0</td>\n",
       "      <td>176.0</td>\n",
       "      <td>0.0034</td>\n",
       "      <td>0.000729</td>\n",
       "      <td>0.001363</td>\n",
       "      <td>0.002834</td>\n",
       "      <td>0.003430</td>\n",
       "      <td>0.003893</td>\n",
       "      <td>0.005691</td>\n",
       "    </tr>\n",
       "  </tbody>\n",
       "</table>\n",
       "<p>8 rows × 24 columns</p>\n",
       "</div>"
      ],
      "text/plain": [
       "                      count_x                                            \\\n",
       "                        count       mean           std    min       25%   \n",
       "sta_cat          side                                                     \n",
       "actualRet90s_l2  buy    250.0   4249.692    615.720153    0.0   4117.00   \n",
       "                 sell   250.0   4249.692    615.720153    0.0   4117.00   \n",
       "actualRet90s_mbd buy    250.0  31412.924  24184.895329    0.0  16341.50   \n",
       "                 sell   250.0  31412.924  24184.895329    0.0  16341.50   \n",
       "sta_90_1_1_1_l2  buy    250.0   4333.336    571.987663   18.0   4192.25   \n",
       "                 sell   250.0   4322.088    592.738346   18.0   4189.50   \n",
       "sta_90_1_1_1_mbd buy    250.0  32336.496  25576.067435  835.0  16549.25   \n",
       "                 sell   250.0  32231.712  25494.766896  835.0  16549.25   \n",
       "\n",
       "                                                   countOppo              ...  \\\n",
       "                           50%       75%       max     count        mean  ...   \n",
       "sta_cat          side                                                     ...   \n",
       "actualRet90s_l2  buy    4470.0   4616.50    4680.0       0.0         NaN  ...   \n",
       "                 sell   4470.0   4616.50    4680.0       0.0         NaN  ...   \n",
       "actualRet90s_mbd buy   24978.5  38025.75  207191.0       0.0         NaN  ...   \n",
       "                 sell  24978.5  38025.75  207191.0       0.0         NaN  ...   \n",
       "sta_90_1_1_1_l2  buy    4540.0   4686.25    4740.0     157.0   94.605096  ...   \n",
       "                 sell   4535.0   4686.25    4740.0     157.0   94.605096  ...   \n",
       "sta_90_1_1_1_mbd buy   25492.0  38884.25  212682.0     176.0  128.505682  ...   \n",
       "                 sell  25492.0  38597.50  212682.0     176.0  128.505682  ...   \n",
       "\n",
       "                                     topPercent                              \\\n",
       "                          75%    max      count    mean       std       min   \n",
       "sta_cat          side                                                         \n",
       "actualRet90s_l2  buy      NaN    NaN        0.0     NaN       NaN       NaN   \n",
       "                 sell     NaN    NaN        0.0     NaN       NaN       NaN   \n",
       "actualRet90s_mbd buy      NaN    NaN        0.0     NaN       NaN       NaN   \n",
       "                 sell     NaN    NaN        0.0     NaN       NaN       NaN   \n",
       "sta_90_1_1_1_l2  buy   112.00  211.0      157.0  0.0209  0.007586  0.010932   \n",
       "                 sell  112.00  211.0      157.0  0.0209  0.007586  0.010932   \n",
       "sta_90_1_1_1_mbd buy   157.75  456.0      176.0  0.0034  0.000729  0.001363   \n",
       "                 sell  157.75  456.0      176.0  0.0034  0.000729  0.001363   \n",
       "\n",
       "                                                               \n",
       "                            25%       50%       75%       max  \n",
       "sta_cat          side                                          \n",
       "actualRet90s_l2  buy        NaN       NaN       NaN       NaN  \n",
       "                 sell       NaN       NaN       NaN       NaN  \n",
       "actualRet90s_mbd buy        NaN       NaN       NaN       NaN  \n",
       "                 sell       NaN       NaN       NaN       NaN  \n",
       "sta_90_1_1_1_l2  buy   0.015046  0.019255  0.023900  0.047840  \n",
       "                 sell  0.015046  0.019255  0.023900  0.047840  \n",
       "sta_90_1_1_1_mbd buy   0.002834  0.003430  0.003893  0.005691  \n",
       "                 sell  0.002834  0.003430  0.003893  0.005691  \n",
       "\n",
       "[8 rows x 24 columns]"
      ]
     },
     "execution_count": 450,
     "metadata": {},
     "output_type": "execute_result"
    }
   ],
   "source": [
    "tmp.groupby(['sta_cat', 'side'])[['count_x', 'countOppo', 'topPercent']].describe()"
   ]
  },
  {
   "cell_type": "code",
   "execution_count": 437,
   "id": "6ba05038-b2e5-45ce-a402-638e08d1df14",
   "metadata": {},
   "outputs": [],
   "source": [
    "paths = a.list_dir('/com_md_eq_cn/mdbar1d_jq', 'com_md_eq_cn', 'mdbar1d_jq')\n",
    "dates = []\n",
    "for path in paths:\n",
    "    date = path.split(\"/\")[-1].split(\".\")[0]\n",
    "    if (date >= '20200102') and (date <='20200131'):\n",
    "        dates.append(int(date))"
   ]
  },
  {
   "cell_type": "code",
   "execution_count": 443,
   "id": "690c1e79-b095-4b64-b671-03c4ea620e58",
   "metadata": {},
   "outputs": [
    {
     "data": {
      "text/plain": [
       "6261.035"
      ]
     },
     "execution_count": 443,
     "metadata": {},
     "output_type": "execute_result"
    }
   ],
   "source": [
    "tmp['count_x'].agg('mean')"
   ]
  },
  {
   "cell_type": "code",
   "execution_count": 444,
   "id": "fa11f94d-89b7-4652-9e66-fbf6fe6f99ea",
   "metadata": {},
   "outputs": [
    {
     "data": {
      "text/plain": [
       "0.01"
      ]
     },
     "execution_count": 444,
     "metadata": {},
     "output_type": "execute_result"
    }
   ],
   "source": [
    "1 / 100"
   ]
  },
  {
   "cell_type": "code",
   "execution_count": 174,
   "id": "9709a527-505d-43a4-8d2e-bcb42669492f",
   "metadata": {},
   "outputs": [],
   "source": [
    "tmp = pd.read_pickle(\"/home/marlowe/Marlowe/sta_eval/sta_eval_v1/IC/sta_90_1_1_1_mbd/sta_top5bps/daily/df_top5bps_20200102.pkl\")"
   ]
  },
  {
   "cell_type": "code",
   "execution_count": 175,
   "id": "1317cb3b-5c5c-4537-b179-c5e21403d30f",
   "metadata": {},
   "outputs": [
    {
     "data": {
      "text/plain": [
       "560"
      ]
     },
     "execution_count": 175,
     "metadata": {},
     "output_type": "execute_result"
    }
   ],
   "source": [
    "tmp.countOppo.count()"
   ]
  },
  {
   "cell_type": "code",
   "execution_count": 176,
   "id": "ff9b5150-c8c9-4d09-a053-190b6591c11e",
   "metadata": {},
   "outputs": [
    {
     "data": {
      "text/plain": [
       "sta_cat           side\n",
       "actualRet90s_l2   buy       0\n",
       "                  sell      0\n",
       "actualRet90s_mbd  buy       0\n",
       "                  sell      0\n",
       "sta_90_1_1_1_l2   buy     146\n",
       "                  sell    110\n",
       "sta_90_1_1_1_mbd  buy     163\n",
       "                  sell    141\n",
       "Name: countOppo, dtype: int64"
      ]
     },
     "execution_count": 176,
     "metadata": {},
     "output_type": "execute_result"
    }
   ],
   "source": [
    "tmp.groupby(['sta_cat', 'side']).countOppo.count()"
   ]
  },
  {
   "cell_type": "code",
   "execution_count": 177,
   "id": "9439929f-690d-4e4c-8e9e-941c619d79b2",
   "metadata": {},
   "outputs": [
    {
     "data": {
      "text/plain": [
       "sta_cat           side\n",
       "actualRet90s_l2   buy     250\n",
       "                  sell    250\n",
       "actualRet90s_mbd  buy     250\n",
       "                  sell    250\n",
       "sta_90_1_1_1_l2   buy     250\n",
       "                  sell    250\n",
       "sta_90_1_1_1_mbd  buy     250\n",
       "                  sell    250\n",
       "Name: skey, dtype: int64"
      ]
     },
     "execution_count": 177,
     "metadata": {},
     "output_type": "execute_result"
    }
   ],
   "source": [
    "tmp.groupby(['sta_cat', 'side']).skey.count()"
   ]
  },
  {
   "cell_type": "code",
   "execution_count": 178,
   "id": "d1f2fb95-432b-44e8-a7db-4cb6be786a3a",
   "metadata": {},
   "outputs": [
    {
     "data": {
      "text/plain": [
       "sta_cat\n",
       "actualRet90s_l2          NaN\n",
       "actualRet90s_mbd         NaN\n",
       "sta_90_1_1_1_l2     0.000499\n",
       "sta_90_1_1_1_mbd    0.000500\n",
       "Name: vwActualRetAvg, dtype: float64"
      ]
     },
     "execution_count": 178,
     "metadata": {},
     "output_type": "execute_result"
    }
   ],
   "source": [
    "tmp.groupby('sta_cat').vwActualRetAvg.mean()"
   ]
  },
  {
   "cell_type": "code",
   "execution_count": 179,
   "id": "f6511407-6f7d-4aef-ac77-87f0e34adbfb",
   "metadata": {},
   "outputs": [
    {
     "data": {
      "text/plain": [
       "sta_cat           side\n",
       "actualRet90s_l2   buy             NaN\n",
       "                  sell            NaN\n",
       "actualRet90s_mbd  buy             NaN\n",
       "                  sell            NaN\n",
       "sta_90_1_1_1_l2   buy      601.705479\n",
       "                  sell     313.818182\n",
       "sta_90_1_1_1_mbd  buy     1114.926380\n",
       "                  sell     594.021277\n",
       "Name: countOppo, dtype: float64"
      ]
     },
     "execution_count": 179,
     "metadata": {},
     "output_type": "execute_result"
    }
   ],
   "source": [
    "tmp.groupby(['sta_cat', 'side']).countOppo.mean()"
   ]
  },
  {
   "cell_type": "code",
   "execution_count": 173,
   "id": "2556e846-83cd-4158-b034-b5858d052097",
   "metadata": {},
   "outputs": [
    {
     "data": {
      "text/plain": [
       "sta_cat           side\n",
       "actualRet90s_l2   buy          NaN\n",
       "                  sell         NaN\n",
       "actualRet90s_mbd  buy          NaN\n",
       "                  sell         NaN\n",
       "sta_90_1_1_1_l2   buy     0.126811\n",
       "                  sell    0.068507\n",
       "sta_90_1_1_1_mbd  buy     0.023047\n",
       "                  sell    0.016378\n",
       "Name: topPercent, dtype: float64"
      ]
     },
     "execution_count": 173,
     "metadata": {},
     "output_type": "execute_result"
    }
   ],
   "source": [
    "tmp.groupby(['sta_cat', 'side']).topPercent.mean()"
   ]
  }
 ],
 "metadata": {
  "kernelspec": {
   "display_name": "research 3.8",
   "language": "python",
   "name": "research"
  },
  "language_info": {
   "codemirror_mode": {
    "name": "ipython",
    "version": 3
   },
   "file_extension": ".py",
   "mimetype": "text/x-python",
   "name": "python",
   "nbconvert_exporter": "python",
   "pygments_lexer": "ipython3",
   "version": "3.8.10"
  }
 },
 "nbformat": 4,
 "nbformat_minor": 5
}
